{
 "cells": [
  {
   "cell_type": "markdown",
   "metadata": {},
   "source": [
    "### KNN - Predicting Electricity Use for UES-Seacoast Service Territory with 10 Years of ISO & UES Data\n",
    "##### NO WEATHER DATA USED!!!"
   ]
  },
  {
   "cell_type": "code",
   "execution_count": 1,
   "metadata": {},
   "outputs": [],
   "source": [
    "import pandas as pd\n",
    "import numpy as np\n",
    "\n",
    "from sklearn.model_selection import train_test_split\n",
    "from sklearn.model_selection import GridSearchCV\n",
    "from sklearn.preprocessing import StandardScaler\n",
    "from sklearn.neighbors import KNeighborsRegressor\n",
    "from sklearn.metrics import mean_squared_error\n",
    "from sklearn.metrics import mean_absolute_error\n",
    "from math import sqrt"
   ]
  },
  {
   "cell_type": "markdown",
   "metadata": {},
   "source": [
    "### Predict UES load - 1 Day Ahead"
   ]
  },
  {
   "cell_type": "code",
   "execution_count": 2,
   "metadata": {},
   "outputs": [],
   "source": [
    "# Read in data\n",
    "data = pd.read_csv(\"ISO.aggregate - 1 day SHIFTED.csv\")"
   ]
  },
  {
   "cell_type": "code",
   "execution_count": 3,
   "metadata": {},
   "outputs": [
    {
     "data": {
      "text/html": [
       "<div>\n",
       "<style scoped>\n",
       "    .dataframe tbody tr th:only-of-type {\n",
       "        vertical-align: middle;\n",
       "    }\n",
       "\n",
       "    .dataframe tbody tr th {\n",
       "        vertical-align: top;\n",
       "    }\n",
       "\n",
       "    .dataframe thead th {\n",
       "        text-align: right;\n",
       "    }\n",
       "</style>\n",
       "<table border=\"1\" class=\"dataframe\">\n",
       "  <thead>\n",
       "    <tr style=\"text-align: right;\">\n",
       "      <th></th>\n",
       "      <th>Month</th>\n",
       "      <th>Day</th>\n",
       "      <th>Year</th>\n",
       "      <th>TI</th>\n",
       "      <th>ISO.tot.dmd</th>\n",
       "      <th>LMP.DA.NH</th>\n",
       "      <th>LMP.RT.NH</th>\n",
       "      <th>UES.Cap</th>\n",
       "      <th>UES.Sea</th>\n",
       "      <th>UES.Sea.NEXT.DAY.LOAD</th>\n",
       "      <th>NH.RT.MWh</th>\n",
       "      <th>ME.RT.MWh</th>\n",
       "      <th>VT.RT.MWh</th>\n",
       "      <th>CT.RT.MWh</th>\n",
       "      <th>RI.RT.MWh</th>\n",
       "      <th>MA.SE.RT.MWh</th>\n",
       "      <th>MA.WC.RT.MWh</th>\n",
       "      <th>MA.NE.RT.MWh</th>\n",
       "      <th>Wk.Day</th>\n",
       "    </tr>\n",
       "  </thead>\n",
       "  <tbody>\n",
       "    <tr>\n",
       "      <th>0</th>\n",
       "      <td>1</td>\n",
       "      <td>1</td>\n",
       "      <td>2010</td>\n",
       "      <td>1</td>\n",
       "      <td>13797.0</td>\n",
       "      <td>63.04</td>\n",
       "      <td>63.33</td>\n",
       "      <td>30.142</td>\n",
       "      <td>67.858</td>\n",
       "      <td>61.904</td>\n",
       "      <td>1168.0</td>\n",
       "      <td>1119.7</td>\n",
       "      <td>640.4</td>\n",
       "      <td>3206.8</td>\n",
       "      <td>825.4</td>\n",
       "      <td>1498.2</td>\n",
       "      <td>1774.3</td>\n",
       "      <td>2688.9</td>\n",
       "      <td>Fri</td>\n",
       "    </tr>\n",
       "    <tr>\n",
       "      <th>1</th>\n",
       "      <td>1</td>\n",
       "      <td>1</td>\n",
       "      <td>2010</td>\n",
       "      <td>2</td>\n",
       "      <td>13560.0</td>\n",
       "      <td>57.61</td>\n",
       "      <td>69.74</td>\n",
       "      <td>27.370</td>\n",
       "      <td>63.276</td>\n",
       "      <td>58.754</td>\n",
       "      <td>1091.8</td>\n",
       "      <td>1077.1</td>\n",
       "      <td>605.4</td>\n",
       "      <td>3031.6</td>\n",
       "      <td>781.9</td>\n",
       "      <td>1404.3</td>\n",
       "      <td>1676.8</td>\n",
       "      <td>2569.0</td>\n",
       "      <td>Fri</td>\n",
       "    </tr>\n",
       "    <tr>\n",
       "      <th>2</th>\n",
       "      <td>1</td>\n",
       "      <td>1</td>\n",
       "      <td>2010</td>\n",
       "      <td>3</td>\n",
       "      <td>13121.0</td>\n",
       "      <td>53.74</td>\n",
       "      <td>55.39</td>\n",
       "      <td>25.573</td>\n",
       "      <td>59.899</td>\n",
       "      <td>57.320</td>\n",
       "      <td>1046.4</td>\n",
       "      <td>1045.1</td>\n",
       "      <td>578.9</td>\n",
       "      <td>2902.9</td>\n",
       "      <td>749.7</td>\n",
       "      <td>1340.0</td>\n",
       "      <td>1621.8</td>\n",
       "      <td>2483.2</td>\n",
       "      <td>Fri</td>\n",
       "    </tr>\n",
       "    <tr>\n",
       "      <th>3</th>\n",
       "      <td>1</td>\n",
       "      <td>1</td>\n",
       "      <td>2010</td>\n",
       "      <td>4</td>\n",
       "      <td>13134.0</td>\n",
       "      <td>42.09</td>\n",
       "      <td>60.49</td>\n",
       "      <td>24.728</td>\n",
       "      <td>58.275</td>\n",
       "      <td>57.068</td>\n",
       "      <td>1021.5</td>\n",
       "      <td>1030.5</td>\n",
       "      <td>556.9</td>\n",
       "      <td>2827.7</td>\n",
       "      <td>729.7</td>\n",
       "      <td>1306.1</td>\n",
       "      <td>1588.5</td>\n",
       "      <td>2428.1</td>\n",
       "      <td>Fri</td>\n",
       "    </tr>\n",
       "    <tr>\n",
       "      <th>4</th>\n",
       "      <td>1</td>\n",
       "      <td>1</td>\n",
       "      <td>2010</td>\n",
       "      <td>5</td>\n",
       "      <td>13144.0</td>\n",
       "      <td>47.95</td>\n",
       "      <td>53.43</td>\n",
       "      <td>24.974</td>\n",
       "      <td>58.516</td>\n",
       "      <td>57.858</td>\n",
       "      <td>1018.0</td>\n",
       "      <td>1047.4</td>\n",
       "      <td>553.7</td>\n",
       "      <td>2820.7</td>\n",
       "      <td>730.0</td>\n",
       "      <td>1308.1</td>\n",
       "      <td>1586.7</td>\n",
       "      <td>2432.2</td>\n",
       "      <td>Fri</td>\n",
       "    </tr>\n",
       "  </tbody>\n",
       "</table>\n",
       "</div>"
      ],
      "text/plain": [
       "   Month  Day  Year  TI  ISO.tot.dmd  LMP.DA.NH  LMP.RT.NH  UES.Cap  UES.Sea  \\\n",
       "0      1    1  2010   1      13797.0      63.04      63.33   30.142   67.858   \n",
       "1      1    1  2010   2      13560.0      57.61      69.74   27.370   63.276   \n",
       "2      1    1  2010   3      13121.0      53.74      55.39   25.573   59.899   \n",
       "3      1    1  2010   4      13134.0      42.09      60.49   24.728   58.275   \n",
       "4      1    1  2010   5      13144.0      47.95      53.43   24.974   58.516   \n",
       "\n",
       "   UES.Sea.NEXT.DAY.LOAD  NH.RT.MWh  ME.RT.MWh  VT.RT.MWh  CT.RT.MWh  \\\n",
       "0                 61.904     1168.0     1119.7      640.4     3206.8   \n",
       "1                 58.754     1091.8     1077.1      605.4     3031.6   \n",
       "2                 57.320     1046.4     1045.1      578.9     2902.9   \n",
       "3                 57.068     1021.5     1030.5      556.9     2827.7   \n",
       "4                 57.858     1018.0     1047.4      553.7     2820.7   \n",
       "\n",
       "   RI.RT.MWh  MA.SE.RT.MWh  MA.WC.RT.MWh  MA.NE.RT.MWh Wk.Day  \n",
       "0      825.4        1498.2        1774.3        2688.9    Fri  \n",
       "1      781.9        1404.3        1676.8        2569.0    Fri  \n",
       "2      749.7        1340.0        1621.8        2483.2    Fri  \n",
       "3      729.7        1306.1        1588.5        2428.1    Fri  \n",
       "4      730.0        1308.1        1586.7        2432.2    Fri  "
      ]
     },
     "execution_count": 3,
     "metadata": {},
     "output_type": "execute_result"
    }
   ],
   "source": [
    "# See first few rows of data\n",
    "data.head()"
   ]
  },
  {
   "cell_type": "code",
   "execution_count": 4,
   "metadata": {},
   "outputs": [
    {
     "data": {
      "text/plain": [
       "Month                      int64\n",
       "Day                        int64\n",
       "Year                       int64\n",
       "TI                         int64\n",
       "ISO.tot.dmd              float64\n",
       "LMP.DA.NH                float64\n",
       "LMP.RT.NH                float64\n",
       "UES.Cap                  float64\n",
       "UES.Sea                  float64\n",
       "UES.Sea.NEXT.DAY.LOAD    float64\n",
       "NH.RT.MWh                float64\n",
       "ME.RT.MWh                float64\n",
       "VT.RT.MWh                float64\n",
       "CT.RT.MWh                float64\n",
       "RI.RT.MWh                float64\n",
       "MA.SE.RT.MWh             float64\n",
       "MA.WC.RT.MWh             float64\n",
       "MA.NE.RT.MWh             float64\n",
       "Wk.Day                    object\n",
       "dtype: object"
      ]
     },
     "execution_count": 4,
     "metadata": {},
     "output_type": "execute_result"
    }
   ],
   "source": [
    "# Check dataframe data types\n",
    "data.dtypes"
   ]
  },
  {
   "cell_type": "code",
   "execution_count": 5,
   "metadata": {},
   "outputs": [
    {
     "data": {
      "text/html": [
       "<div>\n",
       "<style scoped>\n",
       "    .dataframe tbody tr th:only-of-type {\n",
       "        vertical-align: middle;\n",
       "    }\n",
       "\n",
       "    .dataframe tbody tr th {\n",
       "        vertical-align: top;\n",
       "    }\n",
       "\n",
       "    .dataframe thead th {\n",
       "        text-align: right;\n",
       "    }\n",
       "</style>\n",
       "<table border=\"1\" class=\"dataframe\">\n",
       "  <thead>\n",
       "    <tr style=\"text-align: right;\">\n",
       "      <th></th>\n",
       "      <th>Month</th>\n",
       "      <th>Day</th>\n",
       "      <th>Year</th>\n",
       "      <th>TI</th>\n",
       "      <th>ISO.tot.dmd</th>\n",
       "      <th>LMP.DA.NH</th>\n",
       "      <th>LMP.RT.NH</th>\n",
       "      <th>UES.Cap</th>\n",
       "      <th>UES.Sea</th>\n",
       "      <th>UES.Sea.NEXT.DAY.LOAD</th>\n",
       "      <th>NH.RT.MWh</th>\n",
       "      <th>ME.RT.MWh</th>\n",
       "      <th>VT.RT.MWh</th>\n",
       "      <th>CT.RT.MWh</th>\n",
       "      <th>RI.RT.MWh</th>\n",
       "      <th>MA.SE.RT.MWh</th>\n",
       "      <th>MA.WC.RT.MWh</th>\n",
       "      <th>MA.NE.RT.MWh</th>\n",
       "    </tr>\n",
       "  </thead>\n",
       "  <tbody>\n",
       "    <tr>\n",
       "      <th>count</th>\n",
       "      <td>78864.000000</td>\n",
       "      <td>78864.000000</td>\n",
       "      <td>78864.000000</td>\n",
       "      <td>78864.00000</td>\n",
       "      <td>78864.000000</td>\n",
       "      <td>78864.000000</td>\n",
       "      <td>78864.000000</td>\n",
       "      <td>78864.000000</td>\n",
       "      <td>78864.000000</td>\n",
       "      <td>78864.000000</td>\n",
       "      <td>78864.000000</td>\n",
       "      <td>78864.000000</td>\n",
       "      <td>78864.000000</td>\n",
       "      <td>78864.000000</td>\n",
       "      <td>78864.000000</td>\n",
       "      <td>78864.000000</td>\n",
       "      <td>78864.000000</td>\n",
       "      <td>78864.000000</td>\n",
       "    </tr>\n",
       "    <tr>\n",
       "      <th>mean</th>\n",
       "      <td>6.522520</td>\n",
       "      <td>15.723182</td>\n",
       "      <td>2013.998783</td>\n",
       "      <td>12.50000</td>\n",
       "      <td>14580.600875</td>\n",
       "      <td>44.318309</td>\n",
       "      <td>43.562332</td>\n",
       "      <td>49.924784</td>\n",
       "      <td>76.881439</td>\n",
       "      <td>76.881482</td>\n",
       "      <td>1319.449053</td>\n",
       "      <td>1306.260874</td>\n",
       "      <td>644.164399</td>\n",
       "      <td>3482.634094</td>\n",
       "      <td>928.737496</td>\n",
       "      <td>1689.311137</td>\n",
       "      <td>1962.395218</td>\n",
       "      <td>2885.571864</td>\n",
       "    </tr>\n",
       "    <tr>\n",
       "      <th>std</th>\n",
       "      <td>3.447958</td>\n",
       "      <td>8.797753</td>\n",
       "      <td>2.581141</td>\n",
       "      <td>6.92223</td>\n",
       "      <td>2701.434331</td>\n",
       "      <td>34.645532</td>\n",
       "      <td>41.976925</td>\n",
       "      <td>16.058602</td>\n",
       "      <td>18.113627</td>\n",
       "      <td>18.113338</td>\n",
       "      <td>265.309210</td>\n",
       "      <td>205.406096</td>\n",
       "      <td>107.807006</td>\n",
       "      <td>771.813292</td>\n",
       "      <td>206.087265</td>\n",
       "      <td>389.960098</td>\n",
       "      <td>378.896406</td>\n",
       "      <td>570.384539</td>\n",
       "    </tr>\n",
       "    <tr>\n",
       "      <th>min</th>\n",
       "      <td>1.000000</td>\n",
       "      <td>1.000000</td>\n",
       "      <td>2010.000000</td>\n",
       "      <td>1.00000</td>\n",
       "      <td>8665.000000</td>\n",
       "      <td>-5.000000</td>\n",
       "      <td>-155.110000</td>\n",
       "      <td>5.395000</td>\n",
       "      <td>6.912000</td>\n",
       "      <td>6.912000</td>\n",
       "      <td>523.200000</td>\n",
       "      <td>681.800000</td>\n",
       "      <td>302.300000</td>\n",
       "      <td>1367.400000</td>\n",
       "      <td>371.800000</td>\n",
       "      <td>708.700000</td>\n",
       "      <td>736.900000</td>\n",
       "      <td>1729.700000</td>\n",
       "    </tr>\n",
       "    <tr>\n",
       "      <th>25%</th>\n",
       "      <td>4.000000</td>\n",
       "      <td>8.000000</td>\n",
       "      <td>2012.000000</td>\n",
       "      <td>6.75000</td>\n",
       "      <td>12636.022500</td>\n",
       "      <td>26.567500</td>\n",
       "      <td>24.197500</td>\n",
       "      <td>37.744000</td>\n",
       "      <td>64.281750</td>\n",
       "      <td>64.283500</td>\n",
       "      <td>1121.200000</td>\n",
       "      <td>1143.500000</td>\n",
       "      <td>558.900000</td>\n",
       "      <td>2937.975000</td>\n",
       "      <td>784.100000</td>\n",
       "      <td>1413.275000</td>\n",
       "      <td>1683.000000</td>\n",
       "      <td>2473.475000</td>\n",
       "    </tr>\n",
       "    <tr>\n",
       "      <th>50%</th>\n",
       "      <td>7.000000</td>\n",
       "      <td>16.000000</td>\n",
       "      <td>2014.000000</td>\n",
       "      <td>12.50000</td>\n",
       "      <td>14396.130000</td>\n",
       "      <td>36.180000</td>\n",
       "      <td>34.460000</td>\n",
       "      <td>49.499000</td>\n",
       "      <td>76.038000</td>\n",
       "      <td>76.038000</td>\n",
       "      <td>1333.100000</td>\n",
       "      <td>1329.600000</td>\n",
       "      <td>648.800000</td>\n",
       "      <td>3444.300000</td>\n",
       "      <td>916.600000</td>\n",
       "      <td>1659.400000</td>\n",
       "      <td>1951.600000</td>\n",
       "      <td>2869.400000</td>\n",
       "    </tr>\n",
       "    <tr>\n",
       "      <th>75%</th>\n",
       "      <td>10.000000</td>\n",
       "      <td>23.000000</td>\n",
       "      <td>2016.000000</td>\n",
       "      <td>18.25000</td>\n",
       "      <td>16121.000000</td>\n",
       "      <td>48.680000</td>\n",
       "      <td>47.760000</td>\n",
       "      <td>60.214000</td>\n",
       "      <td>86.302250</td>\n",
       "      <td>86.300250</td>\n",
       "      <td>1485.400000</td>\n",
       "      <td>1450.125000</td>\n",
       "      <td>721.500000</td>\n",
       "      <td>3915.500000</td>\n",
       "      <td>1032.300000</td>\n",
       "      <td>1887.400000</td>\n",
       "      <td>2199.025000</td>\n",
       "      <td>3210.900000</td>\n",
       "    </tr>\n",
       "    <tr>\n",
       "      <th>max</th>\n",
       "      <td>12.000000</td>\n",
       "      <td>31.000000</td>\n",
       "      <td>2018.000000</td>\n",
       "      <td>24.00000</td>\n",
       "      <td>27762.000000</td>\n",
       "      <td>785.000000</td>\n",
       "      <td>2493.150000</td>\n",
       "      <td>118.547000</td>\n",
       "      <td>168.430000</td>\n",
       "      <td>168.430000</td>\n",
       "      <td>2433.300000</td>\n",
       "      <td>2034.100000</td>\n",
       "      <td>1002.500000</td>\n",
       "      <td>7218.800000</td>\n",
       "      <td>4314.300000</td>\n",
       "      <td>3644.700000</td>\n",
       "      <td>3652.300000</td>\n",
       "      <td>5657.900000</td>\n",
       "    </tr>\n",
       "  </tbody>\n",
       "</table>\n",
       "</div>"
      ],
      "text/plain": [
       "              Month           Day          Year           TI   ISO.tot.dmd  \\\n",
       "count  78864.000000  78864.000000  78864.000000  78864.00000  78864.000000   \n",
       "mean       6.522520     15.723182   2013.998783     12.50000  14580.600875   \n",
       "std        3.447958      8.797753      2.581141      6.92223   2701.434331   \n",
       "min        1.000000      1.000000   2010.000000      1.00000   8665.000000   \n",
       "25%        4.000000      8.000000   2012.000000      6.75000  12636.022500   \n",
       "50%        7.000000     16.000000   2014.000000     12.50000  14396.130000   \n",
       "75%       10.000000     23.000000   2016.000000     18.25000  16121.000000   \n",
       "max       12.000000     31.000000   2018.000000     24.00000  27762.000000   \n",
       "\n",
       "          LMP.DA.NH     LMP.RT.NH       UES.Cap       UES.Sea  \\\n",
       "count  78864.000000  78864.000000  78864.000000  78864.000000   \n",
       "mean      44.318309     43.562332     49.924784     76.881439   \n",
       "std       34.645532     41.976925     16.058602     18.113627   \n",
       "min       -5.000000   -155.110000      5.395000      6.912000   \n",
       "25%       26.567500     24.197500     37.744000     64.281750   \n",
       "50%       36.180000     34.460000     49.499000     76.038000   \n",
       "75%       48.680000     47.760000     60.214000     86.302250   \n",
       "max      785.000000   2493.150000    118.547000    168.430000   \n",
       "\n",
       "       UES.Sea.NEXT.DAY.LOAD     NH.RT.MWh     ME.RT.MWh     VT.RT.MWh  \\\n",
       "count           78864.000000  78864.000000  78864.000000  78864.000000   \n",
       "mean               76.881482   1319.449053   1306.260874    644.164399   \n",
       "std                18.113338    265.309210    205.406096    107.807006   \n",
       "min                 6.912000    523.200000    681.800000    302.300000   \n",
       "25%                64.283500   1121.200000   1143.500000    558.900000   \n",
       "50%                76.038000   1333.100000   1329.600000    648.800000   \n",
       "75%                86.300250   1485.400000   1450.125000    721.500000   \n",
       "max               168.430000   2433.300000   2034.100000   1002.500000   \n",
       "\n",
       "          CT.RT.MWh     RI.RT.MWh  MA.SE.RT.MWh  MA.WC.RT.MWh  MA.NE.RT.MWh  \n",
       "count  78864.000000  78864.000000  78864.000000  78864.000000  78864.000000  \n",
       "mean    3482.634094    928.737496   1689.311137   1962.395218   2885.571864  \n",
       "std      771.813292    206.087265    389.960098    378.896406    570.384539  \n",
       "min     1367.400000    371.800000    708.700000    736.900000   1729.700000  \n",
       "25%     2937.975000    784.100000   1413.275000   1683.000000   2473.475000  \n",
       "50%     3444.300000    916.600000   1659.400000   1951.600000   2869.400000  \n",
       "75%     3915.500000   1032.300000   1887.400000   2199.025000   3210.900000  \n",
       "max     7218.800000   4314.300000   3644.700000   3652.300000   5657.900000  "
      ]
     },
     "execution_count": 5,
     "metadata": {},
     "output_type": "execute_result"
    }
   ],
   "source": [
    "# Summary Stats\n",
    "data.describe()"
   ]
  },
  {
   "cell_type": "code",
   "execution_count": 6,
   "metadata": {},
   "outputs": [
    {
     "data": {
      "text/plain": [
       "(78864, 19)"
      ]
     },
     "execution_count": 6,
     "metadata": {},
     "output_type": "execute_result"
    }
   ],
   "source": [
    "# Shape of dataframe\n",
    "data.shape"
   ]
  },
  {
   "cell_type": "code",
   "execution_count": 7,
   "metadata": {},
   "outputs": [
    {
     "data": {
      "text/plain": [
       "Month                      int64\n",
       "Day                        int64\n",
       "Year                       int64\n",
       "TI                         int64\n",
       "ISO.tot.dmd              float64\n",
       "LMP.DA.NH                float64\n",
       "LMP.RT.NH                float64\n",
       "UES.Cap                  float64\n",
       "UES.Sea                  float64\n",
       "UES.Sea.NEXT.DAY.LOAD    float64\n",
       "NH.RT.MWh                float64\n",
       "ME.RT.MWh                float64\n",
       "VT.RT.MWh                float64\n",
       "CT.RT.MWh                float64\n",
       "RI.RT.MWh                float64\n",
       "MA.SE.RT.MWh             float64\n",
       "MA.WC.RT.MWh             float64\n",
       "MA.NE.RT.MWh             float64\n",
       "Wk.Day_Fri                 uint8\n",
       "Wk.Day_Mon                 uint8\n",
       "Wk.Day_Sat                 uint8\n",
       "Wk.Day_Sun                 uint8\n",
       "Wk.Day_Thu                 uint8\n",
       "Wk.Day_Tue                 uint8\n",
       "Wk.Day_Wed                 uint8\n",
       "dtype: object"
      ]
     },
     "execution_count": 7,
     "metadata": {},
     "output_type": "execute_result"
    }
   ],
   "source": [
    "# One-hot encoding\n",
    "data = pd.get_dummies(data)\n",
    "\n",
    "# Check dataframe data types\n",
    "data.dtypes"
   ]
  },
  {
   "cell_type": "code",
   "execution_count": 8,
   "metadata": {},
   "outputs": [],
   "source": [
    "# Split data into target variable and predictor variables\n",
    "\n",
    "# Target is the value we want to predict (in this case, MW of UES-Seacoast Load Region)\n",
    "target = np.array(data['UES.Sea.NEXT.DAY.LOAD'])\n",
    "\n",
    "# Remove the target from the predictors\n",
    "# axis 1 refers to the columns\n",
    "predictors = data.drop('UES.Sea.NEXT.DAY.LOAD', axis = 1)\n",
    "\n",
    "# Saving predictor names for later use\n",
    "predictor_list = list(predictors.columns)\n",
    "\n",
    "# Convert to numpy array\n",
    "predictors = np.array(predictors)"
   ]
  },
  {
   "cell_type": "code",
   "execution_count": 9,
   "metadata": {},
   "outputs": [],
   "source": [
    "# Split the data into training and testing sets using sklearn\n",
    "train_predictors, test_predictors, train_target, test_target = train_test_split(predictors, target, test_size = 0.25, random_state = 77)\n"
   ]
  },
  {
   "cell_type": "code",
   "execution_count": 10,
   "metadata": {},
   "outputs": [
    {
     "name": "stdout",
     "output_type": "stream",
     "text": [
      "Training Predictors Shape: (59148, 24)\n",
      "Training Target Shape: (59148,)\n",
      "Testing Predictors Shape: (19716, 24)\n",
      "Testing Target Shape: (19716,)\n"
     ]
    }
   ],
   "source": [
    "# Check shape of train and test data\n",
    "print('Training Predictors Shape:', train_predictors.shape)\n",
    "print('Training Target Shape:', train_target.shape)\n",
    "print('Testing Predictors Shape:', test_predictors.shape)\n",
    "print('Testing Target Shape:', test_target.shape)"
   ]
  },
  {
   "cell_type": "code",
   "execution_count": 11,
   "metadata": {},
   "outputs": [
    {
     "data": {
      "text/plain": [
       "KNeighborsRegressor(algorithm='auto', leaf_size=30, metric='minkowski',\n",
       "          metric_params=None, n_jobs=None, n_neighbors=5, p=2,\n",
       "          weights='uniform')"
      ]
     },
     "execution_count": 11,
     "metadata": {},
     "output_type": "execute_result"
    }
   ],
   "source": [
    "# Create scaler\n",
    "scaler = StandardScaler()\n",
    "\n",
    "# Scale training predictors\n",
    "train_pred_scaled = scaler.fit_transform(train_predictors)\n",
    "\n",
    "# Scale test predictors\n",
    "test_pred_scaled = scaler.transform(test_predictors)\n",
    "\n",
    "# Create KNN model\n",
    "model = KNeighborsRegressor()\n",
    "\n",
    "# Train model with scaled training data and target values\n",
    "model.fit(train_pred_scaled, train_target)"
   ]
  },
  {
   "cell_type": "code",
   "execution_count": 12,
   "metadata": {},
   "outputs": [],
   "source": [
    "# Calculate errors for training data using mean squared error (MSE) and mean absolute error (MAE)\n",
    "mse = mean_squared_error(train_target, model.predict(train_pred_scaled))\n",
    "mae = mean_absolute_error(train_target, model.predict(train_pred_scaled))"
   ]
  },
  {
   "cell_type": "code",
   "execution_count": 13,
   "metadata": {},
   "outputs": [
    {
     "name": "stdout",
     "output_type": "stream",
     "text": [
      "mse =  13.020136968452693  & mae =  2.2959167545817274  & rmse =  3.60834268999671\n"
     ]
    }
   ],
   "source": [
    "# Display training MSE, MAE, & RMSE\n",
    "print(\"mse = \",mse,\" & mae = \",mae,\" & rmse = \", sqrt(mse))"
   ]
  },
  {
   "cell_type": "code",
   "execution_count": 14,
   "metadata": {},
   "outputs": [
    {
     "name": "stdout",
     "output_type": "stream",
     "text": [
      "mse =  22.186856271746805  & mae =  3.054505498072631  & rmse =  4.710292588762062\n"
     ]
    }
   ],
   "source": [
    "# Calculate and display MSE, MAE, & RMSE on test data\n",
    "test_mse = mean_squared_error(test_target, model.predict(test_pred_scaled))\n",
    "test_mae = mean_absolute_error(test_target, model.predict(test_pred_scaled))\n",
    "print(\"mse = \",test_mse,\" & mae = \",test_mae,\" & rmse = \", sqrt(test_mse))"
   ]
  },
  {
   "cell_type": "code",
   "execution_count": 15,
   "metadata": {},
   "outputs": [
    {
     "name": "stdout",
     "output_type": "stream",
     "text": [
      "Target Variable Max Value: 166.65 MW\n",
      "Max Absolute Error: 42.61 MW\n",
      "Mean Target Variable Value: 77.05 MW\n",
      "Mean Absolute Error: 3.05 MW\n",
      "Accuracy: 96.09 %.\n"
     ]
    }
   ],
   "source": [
    "# Use predict method on the test data\n",
    "predictions = model.predict(test_pred_scaled)\n",
    "\n",
    "# Calculate max and mean test_target value\n",
    "test_target_max_1 = max(test_target)\n",
    "test_target_mean_1 = np.mean(test_target)\n",
    "\n",
    "# Calculate the absolute errors, calculate max and mean absolute error\n",
    "errors = abs(predictions - test_target)\n",
    "max_absolute_error_1 = max(errors)\n",
    "mean_absolute_error_1 = np.mean(errors)\n",
    "\n",
    "# Calculate mean absolute percentage error (MAPE), and Accuracy\n",
    "mape_1 = 100 * (errors / test_target)\n",
    "accuracy_1 = 100 - np.mean(mape_1)\n",
    "\n",
    "# Print out some statistics, including accuracy\n",
    "print('Target Variable Max Value:', round(test_target_max_1, 2), 'MW')\n",
    "print('Max Absolute Error:', round(max_absolute_error_1, 2), 'MW')\n",
    "print('Mean Target Variable Value:', round(test_target_mean_1, 2), 'MW')\n",
    "print('Mean Absolute Error:', round(mean_absolute_error_1, 2), 'MW')\n",
    "print('Accuracy:', round(accuracy_1, 2), '%.')"
   ]
  },
  {
   "cell_type": "code",
   "execution_count": 16,
   "metadata": {},
   "outputs": [
    {
     "name": "stdout",
     "output_type": "stream",
     "text": [
      "Fitting 3 folds for each of 16 candidates, totalling 48 fits\n"
     ]
    },
    {
     "name": "stderr",
     "output_type": "stream",
     "text": [
      "[Parallel(n_jobs=-1)]: Using backend LokyBackend with 4 concurrent workers.\n",
      "[Parallel(n_jobs=-1)]: Done  48 out of  48 | elapsed: 21.5min finished\n"
     ]
    }
   ],
   "source": [
    "# Grid search for KNN to see if performance can be improved\n",
    "grid_params = {\n",
    "    'n_neighbors': [3,5,11,19],\n",
    "    'weights': ['uniform', 'distance'],\n",
    "    'metric': ['euclidean', 'manhattan']\n",
    "}\n",
    "\n",
    "gs = GridSearchCV(\n",
    "     KNeighborsRegressor(),\n",
    "     grid_params,\n",
    "     verbose = 1,\n",
    "     cv = 3,\n",
    "     n_jobs = -1\n",
    ")\n",
    "\n",
    "gs_knn = gs.fit(train_pred_scaled, train_target)"
   ]
  },
  {
   "cell_type": "code",
   "execution_count": 17,
   "metadata": {},
   "outputs": [
    {
     "data": {
      "text/plain": [
       "0.9335710132767716"
      ]
     },
     "execution_count": 17,
     "metadata": {},
     "output_type": "execute_result"
    }
   ],
   "source": [
    "gs_knn.best_score_"
   ]
  },
  {
   "cell_type": "code",
   "execution_count": 18,
   "metadata": {},
   "outputs": [
    {
     "data": {
      "text/plain": [
       "KNeighborsRegressor(algorithm='auto', leaf_size=30, metric='manhattan',\n",
       "          metric_params=None, n_jobs=None, n_neighbors=3, p=2,\n",
       "          weights='distance')"
      ]
     },
     "execution_count": 18,
     "metadata": {},
     "output_type": "execute_result"
    }
   ],
   "source": [
    "gs_knn.best_estimator_"
   ]
  },
  {
   "cell_type": "code",
   "execution_count": 19,
   "metadata": {},
   "outputs": [
    {
     "data": {
      "text/plain": [
       "{'metric': 'manhattan', 'n_neighbors': 3, 'weights': 'distance'}"
      ]
     },
     "execution_count": 19,
     "metadata": {},
     "output_type": "execute_result"
    }
   ],
   "source": [
    "gs_knn.best_params_"
   ]
  },
  {
   "cell_type": "code",
   "execution_count": 20,
   "metadata": {},
   "outputs": [
    {
     "name": "stdout",
     "output_type": "stream",
     "text": [
      "Target Variable Max Value: 166.65 MW\n",
      "Max Absolute Error: 41.26 MW\n",
      "Mean Target Variable Value: 77.05 MW\n",
      "Mean Absolute Error: 2.49 MW\n",
      "Accuracy: 96.79 %.\n"
     ]
    }
   ],
   "source": [
    "# See if the grid search improved the accuracy of KNN\n",
    "best_grid = gs_knn.best_estimator_\n",
    "\n",
    "# Use predict method on the test data\n",
    "predictions = best_grid.predict(test_pred_scaled)\n",
    "\n",
    "# Calculate max and mean test_target value\n",
    "test_target_max_GS_1 = max(test_target)\n",
    "test_target_mean_GS_1 = np.mean(test_target)\n",
    "\n",
    "# Calculate the absolute errors\n",
    "errors = abs(predictions - test_target)\n",
    "max_absolute_error_GS_1 = max(errors)\n",
    "mean_absolute_error_GS_1 = np.mean(errors)\n",
    "\n",
    "# Calculate mean absolute percentage error (MAPE), and Accuracy\n",
    "mape_GS_1 = 100 * (errors / test_target)\n",
    "accuracy_GS_1 = 100 - np.mean(mape_GS_1)\n",
    "\n",
    "# Print out some statistics, including accuracy\n",
    "print('Target Variable Max Value:', round(test_target_max_GS_1, 2), 'MW')\n",
    "print('Max Absolute Error:', round(max_absolute_error_GS_1, 2), 'MW')\n",
    "print('Mean Target Variable Value:', round(test_target_mean_GS_1, 2), 'MW')\n",
    "print('Mean Absolute Error:', round(mean_absolute_error_GS_1, 2), 'MW')\n",
    "print('Accuracy:', round(accuracy_GS_1, 2), '%.')"
   ]
  },
  {
   "cell_type": "markdown",
   "metadata": {},
   "source": [
    "### Predict UES load - 2 Days Ahead"
   ]
  },
  {
   "cell_type": "code",
   "execution_count": 21,
   "metadata": {},
   "outputs": [],
   "source": [
    "# Read in data\n",
    "data = pd.read_csv(\"ISO.aggregate - 2 day SHIFTED.csv\")"
   ]
  },
  {
   "cell_type": "code",
   "execution_count": 22,
   "metadata": {},
   "outputs": [
    {
     "data": {
      "text/html": [
       "<div>\n",
       "<style scoped>\n",
       "    .dataframe tbody tr th:only-of-type {\n",
       "        vertical-align: middle;\n",
       "    }\n",
       "\n",
       "    .dataframe tbody tr th {\n",
       "        vertical-align: top;\n",
       "    }\n",
       "\n",
       "    .dataframe thead th {\n",
       "        text-align: right;\n",
       "    }\n",
       "</style>\n",
       "<table border=\"1\" class=\"dataframe\">\n",
       "  <thead>\n",
       "    <tr style=\"text-align: right;\">\n",
       "      <th></th>\n",
       "      <th>Month</th>\n",
       "      <th>Day</th>\n",
       "      <th>Year</th>\n",
       "      <th>TI</th>\n",
       "      <th>ISO.tot.dmd</th>\n",
       "      <th>LMP.DA.NH</th>\n",
       "      <th>LMP.RT.NH</th>\n",
       "      <th>UES.Cap</th>\n",
       "      <th>UES.Sea</th>\n",
       "      <th>UES.Sea.2.DAYS.AHEAD</th>\n",
       "      <th>NH.RT.MWh</th>\n",
       "      <th>ME.RT.MWh</th>\n",
       "      <th>VT.RT.MWh</th>\n",
       "      <th>CT.RT.MWh</th>\n",
       "      <th>RI.RT.MWh</th>\n",
       "      <th>MA.SE.RT.MWh</th>\n",
       "      <th>MA.WC.RT.MWh</th>\n",
       "      <th>MA.NE.RT.MWh</th>\n",
       "      <th>Wk.Day</th>\n",
       "    </tr>\n",
       "  </thead>\n",
       "  <tbody>\n",
       "    <tr>\n",
       "      <th>0</th>\n",
       "      <td>1</td>\n",
       "      <td>1</td>\n",
       "      <td>2010</td>\n",
       "      <td>1</td>\n",
       "      <td>13797.0</td>\n",
       "      <td>63.04</td>\n",
       "      <td>63.33</td>\n",
       "      <td>30.142</td>\n",
       "      <td>67.858</td>\n",
       "      <td>67.512</td>\n",
       "      <td>1168.0</td>\n",
       "      <td>1119.7</td>\n",
       "      <td>640.4</td>\n",
       "      <td>3206.8</td>\n",
       "      <td>825.4</td>\n",
       "      <td>1498.2</td>\n",
       "      <td>1774.3</td>\n",
       "      <td>2688.9</td>\n",
       "      <td>Fri</td>\n",
       "    </tr>\n",
       "    <tr>\n",
       "      <th>1</th>\n",
       "      <td>1</td>\n",
       "      <td>1</td>\n",
       "      <td>2010</td>\n",
       "      <td>2</td>\n",
       "      <td>13560.0</td>\n",
       "      <td>57.61</td>\n",
       "      <td>69.74</td>\n",
       "      <td>27.370</td>\n",
       "      <td>63.276</td>\n",
       "      <td>64.690</td>\n",
       "      <td>1091.8</td>\n",
       "      <td>1077.1</td>\n",
       "      <td>605.4</td>\n",
       "      <td>3031.6</td>\n",
       "      <td>781.9</td>\n",
       "      <td>1404.3</td>\n",
       "      <td>1676.8</td>\n",
       "      <td>2569.0</td>\n",
       "      <td>Fri</td>\n",
       "    </tr>\n",
       "    <tr>\n",
       "      <th>2</th>\n",
       "      <td>1</td>\n",
       "      <td>1</td>\n",
       "      <td>2010</td>\n",
       "      <td>3</td>\n",
       "      <td>13121.0</td>\n",
       "      <td>53.74</td>\n",
       "      <td>55.39</td>\n",
       "      <td>25.573</td>\n",
       "      <td>59.899</td>\n",
       "      <td>63.511</td>\n",
       "      <td>1046.4</td>\n",
       "      <td>1045.1</td>\n",
       "      <td>578.9</td>\n",
       "      <td>2902.9</td>\n",
       "      <td>749.7</td>\n",
       "      <td>1340.0</td>\n",
       "      <td>1621.8</td>\n",
       "      <td>2483.2</td>\n",
       "      <td>Fri</td>\n",
       "    </tr>\n",
       "    <tr>\n",
       "      <th>3</th>\n",
       "      <td>1</td>\n",
       "      <td>1</td>\n",
       "      <td>2010</td>\n",
       "      <td>4</td>\n",
       "      <td>13134.0</td>\n",
       "      <td>42.09</td>\n",
       "      <td>60.49</td>\n",
       "      <td>24.728</td>\n",
       "      <td>58.275</td>\n",
       "      <td>63.021</td>\n",
       "      <td>1021.5</td>\n",
       "      <td>1030.5</td>\n",
       "      <td>556.9</td>\n",
       "      <td>2827.7</td>\n",
       "      <td>729.7</td>\n",
       "      <td>1306.1</td>\n",
       "      <td>1588.5</td>\n",
       "      <td>2428.1</td>\n",
       "      <td>Fri</td>\n",
       "    </tr>\n",
       "    <tr>\n",
       "      <th>4</th>\n",
       "      <td>1</td>\n",
       "      <td>1</td>\n",
       "      <td>2010</td>\n",
       "      <td>5</td>\n",
       "      <td>13144.0</td>\n",
       "      <td>47.95</td>\n",
       "      <td>53.43</td>\n",
       "      <td>24.974</td>\n",
       "      <td>58.516</td>\n",
       "      <td>63.480</td>\n",
       "      <td>1018.0</td>\n",
       "      <td>1047.4</td>\n",
       "      <td>553.7</td>\n",
       "      <td>2820.7</td>\n",
       "      <td>730.0</td>\n",
       "      <td>1308.1</td>\n",
       "      <td>1586.7</td>\n",
       "      <td>2432.2</td>\n",
       "      <td>Fri</td>\n",
       "    </tr>\n",
       "  </tbody>\n",
       "</table>\n",
       "</div>"
      ],
      "text/plain": [
       "   Month  Day  Year  TI  ISO.tot.dmd  LMP.DA.NH  LMP.RT.NH  UES.Cap  UES.Sea  \\\n",
       "0      1    1  2010   1      13797.0      63.04      63.33   30.142   67.858   \n",
       "1      1    1  2010   2      13560.0      57.61      69.74   27.370   63.276   \n",
       "2      1    1  2010   3      13121.0      53.74      55.39   25.573   59.899   \n",
       "3      1    1  2010   4      13134.0      42.09      60.49   24.728   58.275   \n",
       "4      1    1  2010   5      13144.0      47.95      53.43   24.974   58.516   \n",
       "\n",
       "   UES.Sea.2.DAYS.AHEAD  NH.RT.MWh  ME.RT.MWh  VT.RT.MWh  CT.RT.MWh  \\\n",
       "0                67.512     1168.0     1119.7      640.4     3206.8   \n",
       "1                64.690     1091.8     1077.1      605.4     3031.6   \n",
       "2                63.511     1046.4     1045.1      578.9     2902.9   \n",
       "3                63.021     1021.5     1030.5      556.9     2827.7   \n",
       "4                63.480     1018.0     1047.4      553.7     2820.7   \n",
       "\n",
       "   RI.RT.MWh  MA.SE.RT.MWh  MA.WC.RT.MWh  MA.NE.RT.MWh Wk.Day  \n",
       "0      825.4        1498.2        1774.3        2688.9    Fri  \n",
       "1      781.9        1404.3        1676.8        2569.0    Fri  \n",
       "2      749.7        1340.0        1621.8        2483.2    Fri  \n",
       "3      729.7        1306.1        1588.5        2428.1    Fri  \n",
       "4      730.0        1308.1        1586.7        2432.2    Fri  "
      ]
     },
     "execution_count": 22,
     "metadata": {},
     "output_type": "execute_result"
    }
   ],
   "source": [
    "# See first few rows of data\n",
    "data.head()"
   ]
  },
  {
   "cell_type": "code",
   "execution_count": 23,
   "metadata": {},
   "outputs": [
    {
     "data": {
      "text/plain": [
       "Month                     int64\n",
       "Day                       int64\n",
       "Year                      int64\n",
       "TI                        int64\n",
       "ISO.tot.dmd             float64\n",
       "LMP.DA.NH               float64\n",
       "LMP.RT.NH               float64\n",
       "UES.Cap                 float64\n",
       "UES.Sea                 float64\n",
       "UES.Sea.2.DAYS.AHEAD    float64\n",
       "NH.RT.MWh               float64\n",
       "ME.RT.MWh               float64\n",
       "VT.RT.MWh               float64\n",
       "CT.RT.MWh               float64\n",
       "RI.RT.MWh               float64\n",
       "MA.SE.RT.MWh            float64\n",
       "MA.WC.RT.MWh            float64\n",
       "MA.NE.RT.MWh            float64\n",
       "Wk.Day                   object\n",
       "dtype: object"
      ]
     },
     "execution_count": 23,
     "metadata": {},
     "output_type": "execute_result"
    }
   ],
   "source": [
    "# Check dataframe data types\n",
    "data.dtypes"
   ]
  },
  {
   "cell_type": "code",
   "execution_count": 24,
   "metadata": {},
   "outputs": [
    {
     "data": {
      "text/html": [
       "<div>\n",
       "<style scoped>\n",
       "    .dataframe tbody tr th:only-of-type {\n",
       "        vertical-align: middle;\n",
       "    }\n",
       "\n",
       "    .dataframe tbody tr th {\n",
       "        vertical-align: top;\n",
       "    }\n",
       "\n",
       "    .dataframe thead th {\n",
       "        text-align: right;\n",
       "    }\n",
       "</style>\n",
       "<table border=\"1\" class=\"dataframe\">\n",
       "  <thead>\n",
       "    <tr style=\"text-align: right;\">\n",
       "      <th></th>\n",
       "      <th>Month</th>\n",
       "      <th>Day</th>\n",
       "      <th>Year</th>\n",
       "      <th>TI</th>\n",
       "      <th>ISO.tot.dmd</th>\n",
       "      <th>LMP.DA.NH</th>\n",
       "      <th>LMP.RT.NH</th>\n",
       "      <th>UES.Cap</th>\n",
       "      <th>UES.Sea</th>\n",
       "      <th>UES.Sea.2.DAYS.AHEAD</th>\n",
       "      <th>NH.RT.MWh</th>\n",
       "      <th>ME.RT.MWh</th>\n",
       "      <th>VT.RT.MWh</th>\n",
       "      <th>CT.RT.MWh</th>\n",
       "      <th>RI.RT.MWh</th>\n",
       "      <th>MA.SE.RT.MWh</th>\n",
       "      <th>MA.WC.RT.MWh</th>\n",
       "      <th>MA.NE.RT.MWh</th>\n",
       "    </tr>\n",
       "  </thead>\n",
       "  <tbody>\n",
       "    <tr>\n",
       "      <th>count</th>\n",
       "      <td>78840.000000</td>\n",
       "      <td>78840.000000</td>\n",
       "      <td>78840.000000</td>\n",
       "      <td>78840.00000</td>\n",
       "      <td>78840.000000</td>\n",
       "      <td>78840.000000</td>\n",
       "      <td>78840.000000</td>\n",
       "      <td>78840.000000</td>\n",
       "      <td>78840.000000</td>\n",
       "      <td>78840.000000</td>\n",
       "      <td>78840.000000</td>\n",
       "      <td>78840.000000</td>\n",
       "      <td>78840.000000</td>\n",
       "      <td>78840.000000</td>\n",
       "      <td>78840.000000</td>\n",
       "      <td>78840.000000</td>\n",
       "      <td>78840.000000</td>\n",
       "      <td>78840.000000</td>\n",
       "    </tr>\n",
       "    <tr>\n",
       "      <th>mean</th>\n",
       "      <td>6.520852</td>\n",
       "      <td>15.718836</td>\n",
       "      <td>2013.997565</td>\n",
       "      <td>12.50000</td>\n",
       "      <td>14581.031134</td>\n",
       "      <td>44.322627</td>\n",
       "      <td>43.568269</td>\n",
       "      <td>49.929284</td>\n",
       "      <td>76.881728</td>\n",
       "      <td>76.880756</td>\n",
       "      <td>1319.456216</td>\n",
       "      <td>1306.235604</td>\n",
       "      <td>644.156854</td>\n",
       "      <td>3482.736310</td>\n",
       "      <td>928.771856</td>\n",
       "      <td>1689.358879</td>\n",
       "      <td>1962.457955</td>\n",
       "      <td>2885.665101</td>\n",
       "    </tr>\n",
       "    <tr>\n",
       "      <th>std</th>\n",
       "      <td>3.447158</td>\n",
       "      <td>8.795564</td>\n",
       "      <td>2.580589</td>\n",
       "      <td>6.92223</td>\n",
       "      <td>2701.598371</td>\n",
       "      <td>34.649625</td>\n",
       "      <td>41.981423</td>\n",
       "      <td>16.058460</td>\n",
       "      <td>18.115293</td>\n",
       "      <td>18.114217</td>\n",
       "      <td>265.333515</td>\n",
       "      <td>205.410929</td>\n",
       "      <td>107.814199</td>\n",
       "      <td>771.876639</td>\n",
       "      <td>206.101595</td>\n",
       "      <td>389.990328</td>\n",
       "      <td>378.921986</td>\n",
       "      <td>570.428117</td>\n",
       "    </tr>\n",
       "    <tr>\n",
       "      <th>min</th>\n",
       "      <td>1.000000</td>\n",
       "      <td>1.000000</td>\n",
       "      <td>2010.000000</td>\n",
       "      <td>1.00000</td>\n",
       "      <td>8665.000000</td>\n",
       "      <td>-5.000000</td>\n",
       "      <td>-155.110000</td>\n",
       "      <td>5.395000</td>\n",
       "      <td>6.912000</td>\n",
       "      <td>6.912000</td>\n",
       "      <td>523.200000</td>\n",
       "      <td>681.800000</td>\n",
       "      <td>302.300000</td>\n",
       "      <td>1367.400000</td>\n",
       "      <td>371.800000</td>\n",
       "      <td>708.700000</td>\n",
       "      <td>736.900000</td>\n",
       "      <td>1729.700000</td>\n",
       "    </tr>\n",
       "    <tr>\n",
       "      <th>25%</th>\n",
       "      <td>4.000000</td>\n",
       "      <td>8.000000</td>\n",
       "      <td>2012.000000</td>\n",
       "      <td>6.75000</td>\n",
       "      <td>12636.630000</td>\n",
       "      <td>26.570000</td>\n",
       "      <td>24.200000</td>\n",
       "      <td>37.746000</td>\n",
       "      <td>64.281750</td>\n",
       "      <td>64.283500</td>\n",
       "      <td>1121.200000</td>\n",
       "      <td>1143.400000</td>\n",
       "      <td>558.900000</td>\n",
       "      <td>2938.000000</td>\n",
       "      <td>784.100000</td>\n",
       "      <td>1413.300000</td>\n",
       "      <td>1683.100000</td>\n",
       "      <td>2473.500000</td>\n",
       "    </tr>\n",
       "    <tr>\n",
       "      <th>50%</th>\n",
       "      <td>7.000000</td>\n",
       "      <td>16.000000</td>\n",
       "      <td>2014.000000</td>\n",
       "      <td>12.50000</td>\n",
       "      <td>14397.000000</td>\n",
       "      <td>36.180000</td>\n",
       "      <td>34.470000</td>\n",
       "      <td>49.502000</td>\n",
       "      <td>76.038000</td>\n",
       "      <td>76.038000</td>\n",
       "      <td>1333.050000</td>\n",
       "      <td>1329.600000</td>\n",
       "      <td>648.800000</td>\n",
       "      <td>3444.450000</td>\n",
       "      <td>916.600000</td>\n",
       "      <td>1659.400000</td>\n",
       "      <td>1951.700000</td>\n",
       "      <td>2869.500000</td>\n",
       "    </tr>\n",
       "    <tr>\n",
       "      <th>75%</th>\n",
       "      <td>10.000000</td>\n",
       "      <td>23.000000</td>\n",
       "      <td>2016.000000</td>\n",
       "      <td>18.25000</td>\n",
       "      <td>16122.000000</td>\n",
       "      <td>48.680000</td>\n",
       "      <td>47.760000</td>\n",
       "      <td>60.218000</td>\n",
       "      <td>86.303000</td>\n",
       "      <td>86.295250</td>\n",
       "      <td>1485.400000</td>\n",
       "      <td>1450.100000</td>\n",
       "      <td>721.500000</td>\n",
       "      <td>3915.700000</td>\n",
       "      <td>1032.300000</td>\n",
       "      <td>1887.400000</td>\n",
       "      <td>2199.125000</td>\n",
       "      <td>3211.100000</td>\n",
       "    </tr>\n",
       "    <tr>\n",
       "      <th>max</th>\n",
       "      <td>12.000000</td>\n",
       "      <td>31.000000</td>\n",
       "      <td>2018.000000</td>\n",
       "      <td>24.00000</td>\n",
       "      <td>27762.000000</td>\n",
       "      <td>785.000000</td>\n",
       "      <td>2493.150000</td>\n",
       "      <td>118.547000</td>\n",
       "      <td>168.430000</td>\n",
       "      <td>168.430000</td>\n",
       "      <td>2433.300000</td>\n",
       "      <td>2034.100000</td>\n",
       "      <td>1002.500000</td>\n",
       "      <td>7218.800000</td>\n",
       "      <td>4314.300000</td>\n",
       "      <td>3644.700000</td>\n",
       "      <td>3652.300000</td>\n",
       "      <td>5657.900000</td>\n",
       "    </tr>\n",
       "  </tbody>\n",
       "</table>\n",
       "</div>"
      ],
      "text/plain": [
       "              Month           Day          Year           TI   ISO.tot.dmd  \\\n",
       "count  78840.000000  78840.000000  78840.000000  78840.00000  78840.000000   \n",
       "mean       6.520852     15.718836   2013.997565     12.50000  14581.031134   \n",
       "std        3.447158      8.795564      2.580589      6.92223   2701.598371   \n",
       "min        1.000000      1.000000   2010.000000      1.00000   8665.000000   \n",
       "25%        4.000000      8.000000   2012.000000      6.75000  12636.630000   \n",
       "50%        7.000000     16.000000   2014.000000     12.50000  14397.000000   \n",
       "75%       10.000000     23.000000   2016.000000     18.25000  16122.000000   \n",
       "max       12.000000     31.000000   2018.000000     24.00000  27762.000000   \n",
       "\n",
       "          LMP.DA.NH     LMP.RT.NH       UES.Cap       UES.Sea  \\\n",
       "count  78840.000000  78840.000000  78840.000000  78840.000000   \n",
       "mean      44.322627     43.568269     49.929284     76.881728   \n",
       "std       34.649625     41.981423     16.058460     18.115293   \n",
       "min       -5.000000   -155.110000      5.395000      6.912000   \n",
       "25%       26.570000     24.200000     37.746000     64.281750   \n",
       "50%       36.180000     34.470000     49.502000     76.038000   \n",
       "75%       48.680000     47.760000     60.218000     86.303000   \n",
       "max      785.000000   2493.150000    118.547000    168.430000   \n",
       "\n",
       "       UES.Sea.2.DAYS.AHEAD     NH.RT.MWh     ME.RT.MWh     VT.RT.MWh  \\\n",
       "count          78840.000000  78840.000000  78840.000000  78840.000000   \n",
       "mean              76.880756   1319.456216   1306.235604    644.156854   \n",
       "std               18.114217    265.333515    205.410929    107.814199   \n",
       "min                6.912000    523.200000    681.800000    302.300000   \n",
       "25%               64.283500   1121.200000   1143.400000    558.900000   \n",
       "50%               76.038000   1333.050000   1329.600000    648.800000   \n",
       "75%               86.295250   1485.400000   1450.100000    721.500000   \n",
       "max              168.430000   2433.300000   2034.100000   1002.500000   \n",
       "\n",
       "          CT.RT.MWh     RI.RT.MWh  MA.SE.RT.MWh  MA.WC.RT.MWh  MA.NE.RT.MWh  \n",
       "count  78840.000000  78840.000000  78840.000000  78840.000000  78840.000000  \n",
       "mean    3482.736310    928.771856   1689.358879   1962.457955   2885.665101  \n",
       "std      771.876639    206.101595    389.990328    378.921986    570.428117  \n",
       "min     1367.400000    371.800000    708.700000    736.900000   1729.700000  \n",
       "25%     2938.000000    784.100000   1413.300000   1683.100000   2473.500000  \n",
       "50%     3444.450000    916.600000   1659.400000   1951.700000   2869.500000  \n",
       "75%     3915.700000   1032.300000   1887.400000   2199.125000   3211.100000  \n",
       "max     7218.800000   4314.300000   3644.700000   3652.300000   5657.900000  "
      ]
     },
     "execution_count": 24,
     "metadata": {},
     "output_type": "execute_result"
    }
   ],
   "source": [
    "# Summary Stats\n",
    "data.describe()"
   ]
  },
  {
   "cell_type": "code",
   "execution_count": 25,
   "metadata": {},
   "outputs": [
    {
     "data": {
      "text/plain": [
       "(78840, 19)"
      ]
     },
     "execution_count": 25,
     "metadata": {},
     "output_type": "execute_result"
    }
   ],
   "source": [
    "# Shape of dataframe\n",
    "data.shape"
   ]
  },
  {
   "cell_type": "code",
   "execution_count": 26,
   "metadata": {},
   "outputs": [
    {
     "data": {
      "text/plain": [
       "Month                     int64\n",
       "Day                       int64\n",
       "Year                      int64\n",
       "TI                        int64\n",
       "ISO.tot.dmd             float64\n",
       "LMP.DA.NH               float64\n",
       "LMP.RT.NH               float64\n",
       "UES.Cap                 float64\n",
       "UES.Sea                 float64\n",
       "UES.Sea.2.DAYS.AHEAD    float64\n",
       "NH.RT.MWh               float64\n",
       "ME.RT.MWh               float64\n",
       "VT.RT.MWh               float64\n",
       "CT.RT.MWh               float64\n",
       "RI.RT.MWh               float64\n",
       "MA.SE.RT.MWh            float64\n",
       "MA.WC.RT.MWh            float64\n",
       "MA.NE.RT.MWh            float64\n",
       "Wk.Day_Fri                uint8\n",
       "Wk.Day_Mon                uint8\n",
       "Wk.Day_Sat                uint8\n",
       "Wk.Day_Sun                uint8\n",
       "Wk.Day_Thu                uint8\n",
       "Wk.Day_Tue                uint8\n",
       "Wk.Day_Wed                uint8\n",
       "dtype: object"
      ]
     },
     "execution_count": 26,
     "metadata": {},
     "output_type": "execute_result"
    }
   ],
   "source": [
    "# One-hot encoding\n",
    "data = pd.get_dummies(data)\n",
    "\n",
    "# Check dataframe data types\n",
    "data.dtypes"
   ]
  },
  {
   "cell_type": "code",
   "execution_count": 27,
   "metadata": {},
   "outputs": [],
   "source": [
    "# Split data into target variable and predictor variables\n",
    "\n",
    "# Target is the value we want to predict (in this case, MW of UES-Seacoast Load Region)\n",
    "target = np.array(data['UES.Sea.2.DAYS.AHEAD'])\n",
    "\n",
    "# Remove the target from the predictors\n",
    "# axis 1 refers to the columns\n",
    "predictors = data.drop('UES.Sea.2.DAYS.AHEAD', axis = 1)\n",
    "\n",
    "# Saving predictor names for later use\n",
    "predictor_list = list(predictors.columns)\n",
    "\n",
    "# Convert to numpy array\n",
    "predictors = np.array(predictors)"
   ]
  },
  {
   "cell_type": "code",
   "execution_count": 28,
   "metadata": {},
   "outputs": [],
   "source": [
    "# Split the data into training and testing sets using sklearn\n",
    "train_predictors, test_predictors, train_target, test_target = train_test_split(predictors, target, test_size = 0.25, random_state = 77)\n"
   ]
  },
  {
   "cell_type": "code",
   "execution_count": 29,
   "metadata": {},
   "outputs": [
    {
     "name": "stdout",
     "output_type": "stream",
     "text": [
      "Training Predictors Shape: (59130, 24)\n",
      "Training Target Shape: (59130,)\n",
      "Testing Predictors Shape: (19710, 24)\n",
      "Testing Target Shape: (19710,)\n"
     ]
    }
   ],
   "source": [
    "# Check shape of train and test data\n",
    "print('Training Predictors Shape:', train_predictors.shape)\n",
    "print('Training Target Shape:', train_target.shape)\n",
    "print('Testing Predictors Shape:', test_predictors.shape)\n",
    "print('Testing Target Shape:', test_target.shape)"
   ]
  },
  {
   "cell_type": "code",
   "execution_count": 30,
   "metadata": {},
   "outputs": [],
   "source": [
    "# Create scaler\n",
    "scaler = StandardScaler()"
   ]
  },
  {
   "cell_type": "code",
   "execution_count": 31,
   "metadata": {},
   "outputs": [],
   "source": [
    "# Scale training predictors\n",
    "train_pred_scaled = scaler.fit_transform(train_predictors)"
   ]
  },
  {
   "cell_type": "code",
   "execution_count": 32,
   "metadata": {},
   "outputs": [],
   "source": [
    "# Scale test predictors\n",
    "test_pred_scaled = scaler.transform(test_predictors)"
   ]
  },
  {
   "cell_type": "code",
   "execution_count": 33,
   "metadata": {},
   "outputs": [],
   "source": [
    "# Create KNN model\n",
    "model = KNeighborsRegressor()"
   ]
  },
  {
   "cell_type": "code",
   "execution_count": 34,
   "metadata": {},
   "outputs": [
    {
     "data": {
      "text/plain": [
       "KNeighborsRegressor(algorithm='auto', leaf_size=30, metric='minkowski',\n",
       "          metric_params=None, n_jobs=None, n_neighbors=5, p=2,\n",
       "          weights='uniform')"
      ]
     },
     "execution_count": 34,
     "metadata": {},
     "output_type": "execute_result"
    }
   ],
   "source": [
    "# Train model with scaled training data and target values\n",
    "model.fit(train_pred_scaled, train_target)"
   ]
  },
  {
   "cell_type": "code",
   "execution_count": 35,
   "metadata": {},
   "outputs": [],
   "source": [
    "# Calculate errors for training data using mean squared error (MSE) and mean absolute error (MAE)\n",
    "mse = mean_squared_error(train_target, model.predict(train_pred_scaled))\n",
    "mae = mean_absolute_error(train_target, model.predict(train_pred_scaled))"
   ]
  },
  {
   "cell_type": "code",
   "execution_count": 36,
   "metadata": {},
   "outputs": [
    {
     "name": "stdout",
     "output_type": "stream",
     "text": [
      "mse =  21.127929817722304  & mae =  2.9179787180788095  & rmse =  4.596512788813092\n"
     ]
    }
   ],
   "source": [
    "# Display training MSE, MAE, & RMSE\n",
    "print(\"mse = \",mse,\" & mae = \",mae,\" & rmse = \", sqrt(mse))"
   ]
  },
  {
   "cell_type": "code",
   "execution_count": 37,
   "metadata": {},
   "outputs": [
    {
     "name": "stdout",
     "output_type": "stream",
     "text": [
      "mse =  34.68404177490411  & mae =  3.8109595332318618  & rmse =  5.889315900416967\n"
     ]
    }
   ],
   "source": [
    "# Calculate and display MSE, MAE, & RMSE on test data\n",
    "test_mse = mean_squared_error(test_target, model.predict(test_pred_scaled))\n",
    "test_mae = mean_absolute_error(test_target, model.predict(test_pred_scaled))\n",
    "print(\"mse = \",test_mse,\" & mae = \",test_mae,\" & rmse = \", sqrt(test_mse))"
   ]
  },
  {
   "cell_type": "code",
   "execution_count": 38,
   "metadata": {},
   "outputs": [
    {
     "name": "stdout",
     "output_type": "stream",
     "text": [
      "Target Variable Max Value: 168.43 MW\n",
      "Max Absolute Error: 50.11 MW\n",
      "Mean Target Variable Value: 76.92 MW\n",
      "Mean Absolute Error: 3.81 MW\n",
      "Accuracy: 95.08 %.\n"
     ]
    }
   ],
   "source": [
    "# Use predict method on the test data\n",
    "predictions = model.predict(test_pred_scaled)\n",
    "\n",
    "# Calculate max and mean test_target value\n",
    "test_target_max_2 = max(test_target)\n",
    "test_target_mean_2 = np.mean(test_target)\n",
    "\n",
    "# Calculate the absolute errors, calculate max and mean absolute error\n",
    "errors = abs(predictions - test_target)\n",
    "max_absolute_error_2 = max(errors)\n",
    "mean_absolute_error_2 = np.mean(errors)\n",
    "\n",
    "# Calculate mean absolute percentage error (MAPE), and Accuracy\n",
    "mape_2 = 100 * (errors / test_target)\n",
    "accuracy_2 = 100 - np.mean(mape_2)\n",
    "\n",
    "# Print out some statistics, including accuracy\n",
    "print('Target Variable Max Value:', round(test_target_max_2, 2), 'MW')\n",
    "print('Max Absolute Error:', round(max_absolute_error_2, 2), 'MW')\n",
    "print('Mean Target Variable Value:', round(test_target_mean_2, 2), 'MW')\n",
    "print('Mean Absolute Error:', round(mean_absolute_error_2, 2), 'MW')\n",
    "print('Accuracy:', round(accuracy_2, 2), '%.')"
   ]
  },
  {
   "cell_type": "code",
   "execution_count": 39,
   "metadata": {},
   "outputs": [
    {
     "name": "stdout",
     "output_type": "stream",
     "text": [
      "Fitting 3 folds for each of 16 candidates, totalling 48 fits\n"
     ]
    },
    {
     "name": "stderr",
     "output_type": "stream",
     "text": [
      "[Parallel(n_jobs=-1)]: Using backend LokyBackend with 4 concurrent workers.\n",
      "[Parallel(n_jobs=-1)]: Done  48 out of  48 | elapsed: 20.9min finished\n"
     ]
    }
   ],
   "source": [
    "# Grid search for KNN to see if performance can be improved\n",
    "grid_params = {\n",
    "    'n_neighbors': [3,5,11,19],\n",
    "    'weights': ['uniform', 'distance'],\n",
    "    'metric': ['euclidean', 'manhattan']\n",
    "}\n",
    "\n",
    "gs = GridSearchCV(\n",
    "     KNeighborsRegressor(),\n",
    "     grid_params,\n",
    "     verbose = 1,\n",
    "     cv = 3,\n",
    "     n_jobs = -1\n",
    ")\n",
    "\n",
    "gs_knn = gs.fit(train_pred_scaled, train_target)"
   ]
  },
  {
   "cell_type": "code",
   "execution_count": 40,
   "metadata": {},
   "outputs": [
    {
     "data": {
      "text/plain": [
       "0.889224205775654"
      ]
     },
     "execution_count": 40,
     "metadata": {},
     "output_type": "execute_result"
    }
   ],
   "source": [
    "gs_knn.best_score_"
   ]
  },
  {
   "cell_type": "code",
   "execution_count": 41,
   "metadata": {},
   "outputs": [
    {
     "data": {
      "text/plain": [
       "KNeighborsRegressor(algorithm='auto', leaf_size=30, metric='manhattan',\n",
       "          metric_params=None, n_jobs=None, n_neighbors=3, p=2,\n",
       "          weights='distance')"
      ]
     },
     "execution_count": 41,
     "metadata": {},
     "output_type": "execute_result"
    }
   ],
   "source": [
    "gs_knn.best_estimator_"
   ]
  },
  {
   "cell_type": "code",
   "execution_count": 42,
   "metadata": {},
   "outputs": [
    {
     "data": {
      "text/plain": [
       "{'metric': 'manhattan', 'n_neighbors': 3, 'weights': 'distance'}"
      ]
     },
     "execution_count": 42,
     "metadata": {},
     "output_type": "execute_result"
    }
   ],
   "source": [
    "gs_knn.best_params_"
   ]
  },
  {
   "cell_type": "code",
   "execution_count": 43,
   "metadata": {},
   "outputs": [
    {
     "name": "stdout",
     "output_type": "stream",
     "text": [
      "Mean Absolute Error: 3.11 MW\n",
      "Accuracy: 95.93 %.\n"
     ]
    }
   ],
   "source": [
    "# See if the grid search improved the accuracy of KNN\n",
    "best_grid = gs_knn.best_estimator_\n",
    "\n",
    "# Use predict method on the test data\n",
    "predictions = best_grid.predict(test_pred_scaled)\n",
    "\n",
    "# Calculate the absolute errors\n",
    "errors = abs(predictions - test_target)\n",
    "\n",
    "# Calculate mean absolute percentage error (MAPE)\n",
    "mape = 100 * (errors / test_target)\n",
    "\n",
    "# Calculate accuracy\n",
    "accuracy = 100 - np.mean(mape)\n",
    "\n",
    "# Print out the mean absolute error (MAE) and accuracy\n",
    "print('Mean Absolute Error:', round(np.mean(errors), 2), 'MW')\n",
    "print('Accuracy:', round(accuracy, 2), '%.')"
   ]
  },
  {
   "cell_type": "code",
   "execution_count": 44,
   "metadata": {},
   "outputs": [
    {
     "name": "stdout",
     "output_type": "stream",
     "text": [
      "Target Variable Max Value: 168.43 MW\n",
      "Max Absolute Error: 50.5 MW\n",
      "Mean Target Variable Value: 76.92 MW\n",
      "Mean Absolute Error: 3.11 MW\n",
      "Accuracy: 95.93 %.\n"
     ]
    }
   ],
   "source": [
    "# See if the grid search improved the accuracy of KNN\n",
    "best_grid = gs_knn.best_estimator_\n",
    "\n",
    "# Use predict method on the test data\n",
    "predictions = best_grid.predict(test_pred_scaled)\n",
    "\n",
    "# Calculate max and mean test_target value\n",
    "test_target_max_GS_2 = max(test_target)\n",
    "test_target_mean_GS_2 = np.mean(test_target)\n",
    "\n",
    "# Calculate the absolute errors\n",
    "errors = abs(predictions - test_target)\n",
    "max_absolute_error_GS_2 = max(errors)\n",
    "mean_absolute_error_GS_2 = np.mean(errors)\n",
    "\n",
    "# Calculate mean absolute percentage error (MAPE), and Accuracy\n",
    "mape_GS_2 = 100 * (errors / test_target)\n",
    "accuracy_GS_2 = 100 - np.mean(mape_GS_2)\n",
    "\n",
    "# Print out some statistics, including accuracy\n",
    "print('Target Variable Max Value:', round(test_target_max_GS_2, 2), 'MW')\n",
    "print('Max Absolute Error:', round(max_absolute_error_GS_2, 2), 'MW')\n",
    "print('Mean Target Variable Value:', round(test_target_mean_GS_2, 2), 'MW')\n",
    "print('Mean Absolute Error:', round(mean_absolute_error_GS_2, 2), 'MW')\n",
    "print('Accuracy:', round(accuracy_GS_2, 2), '%.')"
   ]
  },
  {
   "cell_type": "markdown",
   "metadata": {},
   "source": [
    "### Predict UES load - 3 Days Ahead"
   ]
  },
  {
   "cell_type": "code",
   "execution_count": 45,
   "metadata": {},
   "outputs": [],
   "source": [
    "# Read in data\n",
    "data = pd.read_csv(\"ISO.aggregate - 3 day SHIFTED.csv\")"
   ]
  },
  {
   "cell_type": "code",
   "execution_count": 46,
   "metadata": {},
   "outputs": [
    {
     "data": {
      "text/plain": [
       "(78816, 19)"
      ]
     },
     "execution_count": 46,
     "metadata": {},
     "output_type": "execute_result"
    }
   ],
   "source": [
    "# Shape of dataframe\n",
    "data.shape"
   ]
  },
  {
   "cell_type": "code",
   "execution_count": 47,
   "metadata": {},
   "outputs": [
    {
     "data": {
      "text/plain": [
       "Month                     int64\n",
       "Day                       int64\n",
       "Year                      int64\n",
       "TI                        int64\n",
       "ISO.tot.dmd             float64\n",
       "LMP.DA.NH               float64\n",
       "LMP.RT.NH               float64\n",
       "UES.Cap                 float64\n",
       "UES.Sea                 float64\n",
       "UES.Sea.3.DAYS.AHEAD    float64\n",
       "NH.RT.MWh               float64\n",
       "ME.RT.MWh               float64\n",
       "VT.RT.MWh               float64\n",
       "CT.RT.MWh               float64\n",
       "RI.RT.MWh               float64\n",
       "MA.SE.RT.MWh            float64\n",
       "MA.WC.RT.MWh            float64\n",
       "MA.NE.RT.MWh            float64\n",
       "Wk.Day_Fri                uint8\n",
       "Wk.Day_Mon                uint8\n",
       "Wk.Day_Sat                uint8\n",
       "Wk.Day_Sun                uint8\n",
       "Wk.Day_Thu                uint8\n",
       "Wk.Day_Tue                uint8\n",
       "Wk.Day_Wed                uint8\n",
       "dtype: object"
      ]
     },
     "execution_count": 47,
     "metadata": {},
     "output_type": "execute_result"
    }
   ],
   "source": [
    "# One-hot encoding\n",
    "data = pd.get_dummies(data)\n",
    "\n",
    "# Check dataframe data types\n",
    "data.dtypes"
   ]
  },
  {
   "cell_type": "code",
   "execution_count": 48,
   "metadata": {},
   "outputs": [],
   "source": [
    "# Split data into target variable and predictor variables\n",
    "\n",
    "# Target is the value we want to predict (in this case, MW of UES-Seacoast Load Region)\n",
    "target = np.array(data['UES.Sea.3.DAYS.AHEAD'])\n",
    "\n",
    "# Remove the target from the predictors\n",
    "# axis 1 refers to the columns\n",
    "predictors = data.drop('UES.Sea.3.DAYS.AHEAD', axis = 1)\n",
    "\n",
    "# Saving predictor names for later use\n",
    "predictor_list = list(predictors.columns)\n",
    "\n",
    "# Convert to numpy array\n",
    "predictors = np.array(predictors)"
   ]
  },
  {
   "cell_type": "code",
   "execution_count": 49,
   "metadata": {},
   "outputs": [],
   "source": [
    "# Split the data into training and testing sets using sklearn\n",
    "train_predictors, test_predictors, train_target, test_target = train_test_split(predictors, target, test_size = 0.25, random_state = 77)\n"
   ]
  },
  {
   "cell_type": "code",
   "execution_count": 50,
   "metadata": {},
   "outputs": [
    {
     "name": "stdout",
     "output_type": "stream",
     "text": [
      "Training Predictors Shape: (59112, 24)\n",
      "Training Target Shape: (59112,)\n",
      "Testing Predictors Shape: (19704, 24)\n",
      "Testing Target Shape: (19704,)\n"
     ]
    }
   ],
   "source": [
    "# Check shape of train and test data\n",
    "print('Training Predictors Shape:', train_predictors.shape)\n",
    "print('Training Target Shape:', train_target.shape)\n",
    "print('Testing Predictors Shape:', test_predictors.shape)\n",
    "print('Testing Target Shape:', test_target.shape)"
   ]
  },
  {
   "cell_type": "code",
   "execution_count": 51,
   "metadata": {},
   "outputs": [
    {
     "data": {
      "text/plain": [
       "KNeighborsRegressor(algorithm='auto', leaf_size=30, metric='minkowski',\n",
       "          metric_params=None, n_jobs=None, n_neighbors=5, p=2,\n",
       "          weights='uniform')"
      ]
     },
     "execution_count": 51,
     "metadata": {},
     "output_type": "execute_result"
    }
   ],
   "source": [
    "# Create scaler\n",
    "scaler = StandardScaler()\n",
    "\n",
    "# Scale training predictors\n",
    "train_pred_scaled = scaler.fit_transform(train_predictors)\n",
    "\n",
    "# Scale test predictors\n",
    "test_pred_scaled = scaler.transform(test_predictors)\n",
    "\n",
    "# Create KNN model\n",
    "model = KNeighborsRegressor()\n",
    "\n",
    "# Train model with scaled training data and target values\n",
    "model.fit(train_pred_scaled, train_target)"
   ]
  },
  {
   "cell_type": "code",
   "execution_count": 52,
   "metadata": {},
   "outputs": [],
   "source": [
    "# Calculate errors for training data using mean squared error (MSE) and mean absolute error (MAE)\n",
    "mse = mean_squared_error(train_target, model.predict(train_pred_scaled))\n",
    "mae = mean_absolute_error(train_target, model.predict(train_pred_scaled))"
   ]
  },
  {
   "cell_type": "code",
   "execution_count": 53,
   "metadata": {},
   "outputs": [
    {
     "name": "stdout",
     "output_type": "stream",
     "text": [
      "mse =  24.543032332639733  & mae =  3.1042531161185547  & rmse =  4.9540924832546\n"
     ]
    }
   ],
   "source": [
    "# Display training MSE, MAE, & RMSE\n",
    "print(\"mse = \",mse,\" & mae = \",mae,\" & rmse = \", sqrt(mse))"
   ]
  },
  {
   "cell_type": "code",
   "execution_count": 54,
   "metadata": {},
   "outputs": [
    {
     "name": "stdout",
     "output_type": "stream",
     "text": [
      "mse =  41.65758531262891  & mae =  4.159194346325618  & rmse =  6.454268766686813\n"
     ]
    }
   ],
   "source": [
    "# Calculate and display MSE, MAE, & RMSE on test data\n",
    "test_mse = mean_squared_error(test_target, model.predict(test_pred_scaled))\n",
    "test_mae = mean_absolute_error(test_target, model.predict(test_pred_scaled))\n",
    "print(\"mse = \",test_mse,\" & mae = \",test_mae,\" & rmse = \", sqrt(test_mse))"
   ]
  },
  {
   "cell_type": "code",
   "execution_count": 55,
   "metadata": {},
   "outputs": [
    {
     "name": "stdout",
     "output_type": "stream",
     "text": [
      "Target Variable Max Value: 168.42 MW\n",
      "Max Absolute Error: 61.81 MW\n",
      "Mean Target Variable Value: 77.07 MW\n",
      "Mean Absolute Error: 4.16 MW\n",
      "Accuracy: 94.62 %.\n"
     ]
    }
   ],
   "source": [
    "# Use predict method on the test data\n",
    "predictions = model.predict(test_pred_scaled)\n",
    "\n",
    "# Calculate max and mean test_target value\n",
    "test_target_max_3 = max(test_target)\n",
    "test_target_mean_3 = np.mean(test_target)\n",
    "\n",
    "# Calculate the absolute errors, calculate max and mean absolute error\n",
    "errors = abs(predictions - test_target)\n",
    "max_absolute_error_3 = max(errors)\n",
    "mean_absolute_error_3 = np.mean(errors)\n",
    "\n",
    "# Calculate mean absolute percentage error (MAPE), and Accuracy\n",
    "mape_3 = 100 * (errors / test_target)\n",
    "accuracy_3 = 100 - np.mean(mape_3)\n",
    "\n",
    "# Print out some statistics, including accuracy\n",
    "print('Target Variable Max Value:', round(test_target_max_3, 2), 'MW')\n",
    "print('Max Absolute Error:', round(max_absolute_error_3, 2), 'MW')\n",
    "print('Mean Target Variable Value:', round(test_target_mean_3, 2), 'MW')\n",
    "print('Mean Absolute Error:', round(mean_absolute_error_3, 2), 'MW')\n",
    "print('Accuracy:', round(accuracy_3, 2), '%.')"
   ]
  },
  {
   "cell_type": "markdown",
   "metadata": {},
   "source": [
    "### Predict UES load - 4 Days Ahead"
   ]
  },
  {
   "cell_type": "code",
   "execution_count": 56,
   "metadata": {},
   "outputs": [
    {
     "data": {
      "text/plain": [
       "(78792, 19)"
      ]
     },
     "execution_count": 56,
     "metadata": {},
     "output_type": "execute_result"
    }
   ],
   "source": [
    "# Read in data\n",
    "data = pd.read_csv(\"ISO.aggregate - 4 day SHIFTED.csv\")\n",
    "\n",
    "# Shape of dataframe\n",
    "data.shape"
   ]
  },
  {
   "cell_type": "code",
   "execution_count": 57,
   "metadata": {},
   "outputs": [
    {
     "data": {
      "text/plain": [
       "Month                     int64\n",
       "Day                       int64\n",
       "Year                      int64\n",
       "TI                        int64\n",
       "ISO.tot.dmd             float64\n",
       "LMP.DA.NH               float64\n",
       "LMP.RT.NH               float64\n",
       "UES.Cap                 float64\n",
       "UES.Sea                 float64\n",
       "UES.Sea.4.DAYS.AHEAD    float64\n",
       "NH.RT.MWh               float64\n",
       "ME.RT.MWh               float64\n",
       "VT.RT.MWh               float64\n",
       "CT.RT.MWh               float64\n",
       "RI.RT.MWh               float64\n",
       "MA.SE.RT.MWh            float64\n",
       "MA.WC.RT.MWh            float64\n",
       "MA.NE.RT.MWh            float64\n",
       "Wk.Day_Fri                uint8\n",
       "Wk.Day_Mon                uint8\n",
       "Wk.Day_Sat                uint8\n",
       "Wk.Day_Sun                uint8\n",
       "Wk.Day_Thu                uint8\n",
       "Wk.Day_Tue                uint8\n",
       "Wk.Day_Wed                uint8\n",
       "dtype: object"
      ]
     },
     "execution_count": 57,
     "metadata": {},
     "output_type": "execute_result"
    }
   ],
   "source": [
    "# One-hot encoding\n",
    "data = pd.get_dummies(data)\n",
    "\n",
    "# Check dataframe data types\n",
    "data.dtypes"
   ]
  },
  {
   "cell_type": "code",
   "execution_count": 58,
   "metadata": {},
   "outputs": [],
   "source": [
    "# Split data into target variable and predictor variables\n",
    "\n",
    "# Target is the value we want to predict (in this case, MW of UES-Seacoast Load Region)\n",
    "target = np.array(data['UES.Sea.4.DAYS.AHEAD'])\n",
    "\n",
    "# Remove the target from the predictors\n",
    "# axis 1 refers to the columns\n",
    "predictors = data.drop('UES.Sea.4.DAYS.AHEAD', axis = 1)\n",
    "\n",
    "# Saving predictor names for later use\n",
    "predictor_list = list(predictors.columns)\n",
    "\n",
    "# Convert to numpy array\n",
    "predictors = np.array(predictors)"
   ]
  },
  {
   "cell_type": "code",
   "execution_count": 59,
   "metadata": {},
   "outputs": [],
   "source": [
    "# Split the data into training and testing sets using sklearn\n",
    "train_predictors, test_predictors, train_target, test_target = train_test_split(predictors, target, test_size = 0.25, random_state = 77)\n"
   ]
  },
  {
   "cell_type": "code",
   "execution_count": 60,
   "metadata": {},
   "outputs": [
    {
     "name": "stdout",
     "output_type": "stream",
     "text": [
      "Training Predictors Shape: (59094, 24)\n",
      "Training Target Shape: (59094,)\n",
      "Testing Predictors Shape: (19698, 24)\n",
      "Testing Target Shape: (19698,)\n"
     ]
    }
   ],
   "source": [
    "# Check shape of train and test data\n",
    "print('Training Predictors Shape:', train_predictors.shape)\n",
    "print('Training Target Shape:', train_target.shape)\n",
    "print('Testing Predictors Shape:', test_predictors.shape)\n",
    "print('Testing Target Shape:', test_target.shape)"
   ]
  },
  {
   "cell_type": "code",
   "execution_count": 61,
   "metadata": {},
   "outputs": [
    {
     "data": {
      "text/plain": [
       "KNeighborsRegressor(algorithm='auto', leaf_size=30, metric='minkowski',\n",
       "          metric_params=None, n_jobs=None, n_neighbors=5, p=2,\n",
       "          weights='uniform')"
      ]
     },
     "execution_count": 61,
     "metadata": {},
     "output_type": "execute_result"
    }
   ],
   "source": [
    "# Create scaler\n",
    "scaler = StandardScaler()\n",
    "\n",
    "# Scale training predictors\n",
    "train_pred_scaled = scaler.fit_transform(train_predictors)\n",
    "\n",
    "# Scale test predictors\n",
    "test_pred_scaled = scaler.transform(test_predictors)\n",
    "\n",
    "# Create KNN model\n",
    "model = KNeighborsRegressor()\n",
    "\n",
    "# Train model with scaled training data and target values\n",
    "model.fit(train_pred_scaled, train_target)"
   ]
  },
  {
   "cell_type": "code",
   "execution_count": 62,
   "metadata": {},
   "outputs": [
    {
     "name": "stdout",
     "output_type": "stream",
     "text": [
      "mse =  25.638946062052323  & mae =  3.1887020306630114  & rmse =  5.063491489284082\n"
     ]
    }
   ],
   "source": [
    "# Calculate errors for training data using mean squared error (MSE) and mean absolute error (MAE)\n",
    "mse = mean_squared_error(train_target, model.predict(train_pred_scaled))\n",
    "mae = mean_absolute_error(train_target, model.predict(train_pred_scaled))\n",
    "\n",
    "# Display training MSE, MAE, & RMSE\n",
    "print(\"mse = \",mse,\" & mae = \",mae,\" & rmse = \", sqrt(mse))"
   ]
  },
  {
   "cell_type": "code",
   "execution_count": 63,
   "metadata": {},
   "outputs": [
    {
     "name": "stdout",
     "output_type": "stream",
     "text": [
      "mse =  42.37801377043355  & mae =  4.24092216468677  & rmse =  6.509839765342427\n"
     ]
    }
   ],
   "source": [
    "# Calculate and display MSE, MAE, & RMSE on test data\n",
    "test_mse = mean_squared_error(test_target, model.predict(test_pred_scaled))\n",
    "test_mae = mean_absolute_error(test_target, model.predict(test_pred_scaled))\n",
    "print(\"mse = \",test_mse,\" & mae = \",test_mae,\" & rmse = \", sqrt(test_mse))"
   ]
  },
  {
   "cell_type": "code",
   "execution_count": 64,
   "metadata": {},
   "outputs": [
    {
     "name": "stdout",
     "output_type": "stream",
     "text": [
      "Target Variable Max Value: 168.43 MW\n",
      "Max Absolute Error: 58.35 MW\n",
      "Mean Target Variable Value: 77.13 MW\n",
      "Mean Absolute Error: 4.24 MW\n",
      "Accuracy: 94.51 %.\n"
     ]
    }
   ],
   "source": [
    "# Use predict method on the test data\n",
    "predictions = model.predict(test_pred_scaled)\n",
    "\n",
    "# Calculate max and mean test_target value\n",
    "test_target_max_4 = max(test_target)\n",
    "test_target_mean_4 = np.mean(test_target)\n",
    "\n",
    "# Calculate the absolute errors, calculate max and mean absolute error\n",
    "errors = abs(predictions - test_target)\n",
    "max_absolute_error_4 = max(errors)\n",
    "mean_absolute_error_4 = np.mean(errors)\n",
    "\n",
    "# Calculate mean absolute percentage error (MAPE), and Accuracy\n",
    "mape_4 = 100 * (errors / test_target)\n",
    "accuracy_4 = 100 - np.mean(mape_4)\n",
    "\n",
    "# Print out some statistics, including accuracy\n",
    "print('Target Variable Max Value:', round(test_target_max_4, 2), 'MW')\n",
    "print('Max Absolute Error:', round(max_absolute_error_4, 2), 'MW')\n",
    "print('Mean Target Variable Value:', round(test_target_mean_4, 2), 'MW')\n",
    "print('Mean Absolute Error:', round(mean_absolute_error_4, 2), 'MW')\n",
    "print('Accuracy:', round(accuracy_4, 2), '%.')"
   ]
  },
  {
   "cell_type": "markdown",
   "metadata": {},
   "source": [
    "### Predict UES load - 5 Days Ahead"
   ]
  },
  {
   "cell_type": "code",
   "execution_count": 65,
   "metadata": {},
   "outputs": [
    {
     "data": {
      "text/plain": [
       "(78768, 19)"
      ]
     },
     "execution_count": 65,
     "metadata": {},
     "output_type": "execute_result"
    }
   ],
   "source": [
    "# Read in data\n",
    "data = pd.read_csv(\"ISO.aggregate - 5 day SHIFTED.csv\")\n",
    "\n",
    "# Shape of dataframe\n",
    "data.shape"
   ]
  },
  {
   "cell_type": "code",
   "execution_count": 66,
   "metadata": {},
   "outputs": [
    {
     "data": {
      "text/plain": [
       "Month                     int64\n",
       "Day                       int64\n",
       "Year                      int64\n",
       "TI                        int64\n",
       "ISO.tot.dmd             float64\n",
       "LMP.DA.NH               float64\n",
       "LMP.RT.NH               float64\n",
       "UES.Cap                 float64\n",
       "UES.Sea                 float64\n",
       "UES.Sea.5.DAYS.AHEAD    float64\n",
       "NH.RT.MWh               float64\n",
       "ME.RT.MWh               float64\n",
       "VT.RT.MWh               float64\n",
       "CT.RT.MWh               float64\n",
       "RI.RT.MWh               float64\n",
       "MA.SE.RT.MWh            float64\n",
       "MA.WC.RT.MWh            float64\n",
       "MA.NE.RT.MWh            float64\n",
       "Wk.Day_Fri                uint8\n",
       "Wk.Day_Mon                uint8\n",
       "Wk.Day_Sat                uint8\n",
       "Wk.Day_Sun                uint8\n",
       "Wk.Day_Thu                uint8\n",
       "Wk.Day_Tue                uint8\n",
       "Wk.Day_Wed                uint8\n",
       "dtype: object"
      ]
     },
     "execution_count": 66,
     "metadata": {},
     "output_type": "execute_result"
    }
   ],
   "source": [
    "# One-hot encoding\n",
    "data = pd.get_dummies(data)\n",
    "\n",
    "# Check dataframe data types\n",
    "data.dtypes"
   ]
  },
  {
   "cell_type": "code",
   "execution_count": 67,
   "metadata": {},
   "outputs": [],
   "source": [
    "# Split data into target variable and predictor variables\n",
    "\n",
    "# Target is the value we want to predict (in this case, MW of UES-Seacoast Load Region)\n",
    "target = np.array(data['UES.Sea.5.DAYS.AHEAD'])\n",
    "\n",
    "# Remove the target from the predictors\n",
    "# axis 1 refers to the columns\n",
    "predictors = data.drop('UES.Sea.5.DAYS.AHEAD', axis = 1)\n",
    "\n",
    "# Saving predictor names for later use\n",
    "predictor_list = list(predictors.columns)\n",
    "\n",
    "# Convert to numpy array\n",
    "predictors = np.array(predictors)"
   ]
  },
  {
   "cell_type": "code",
   "execution_count": 68,
   "metadata": {},
   "outputs": [],
   "source": [
    "# Split the data into training and testing sets using sklearn\n",
    "train_predictors, test_predictors, train_target, test_target = train_test_split(predictors, target, test_size = 0.25, random_state = 77)\n"
   ]
  },
  {
   "cell_type": "code",
   "execution_count": 69,
   "metadata": {},
   "outputs": [
    {
     "name": "stdout",
     "output_type": "stream",
     "text": [
      "Training Predictors Shape: (59076, 24)\n",
      "Training Target Shape: (59076,)\n",
      "Testing Predictors Shape: (19692, 24)\n",
      "Testing Target Shape: (19692,)\n"
     ]
    }
   ],
   "source": [
    "# Check shape of train and test data\n",
    "print('Training Predictors Shape:', train_predictors.shape)\n",
    "print('Training Target Shape:', train_target.shape)\n",
    "print('Testing Predictors Shape:', test_predictors.shape)\n",
    "print('Testing Target Shape:', test_target.shape)"
   ]
  },
  {
   "cell_type": "code",
   "execution_count": 70,
   "metadata": {},
   "outputs": [
    {
     "data": {
      "text/plain": [
       "KNeighborsRegressor(algorithm='auto', leaf_size=30, metric='minkowski',\n",
       "          metric_params=None, n_jobs=None, n_neighbors=5, p=2,\n",
       "          weights='uniform')"
      ]
     },
     "execution_count": 70,
     "metadata": {},
     "output_type": "execute_result"
    }
   ],
   "source": [
    "# Create scaler\n",
    "scaler = StandardScaler()\n",
    "\n",
    "# Scale training predictors\n",
    "train_pred_scaled = scaler.fit_transform(train_predictors)\n",
    "\n",
    "# Scale test predictors\n",
    "test_pred_scaled = scaler.transform(test_predictors)\n",
    "\n",
    "# Create KNN model\n",
    "model = KNeighborsRegressor()\n",
    "\n",
    "# Train model with scaled training data and target values\n",
    "model.fit(train_pred_scaled, train_target)"
   ]
  },
  {
   "cell_type": "code",
   "execution_count": 71,
   "metadata": {},
   "outputs": [
    {
     "name": "stdout",
     "output_type": "stream",
     "text": [
      "mse =  25.819442819207797  & mae =  3.208577249644526  & rmse =  5.081283579884889\n"
     ]
    }
   ],
   "source": [
    "# Calculate errors for training data using mean squared error (MSE) and mean absolute error (MAE)\n",
    "mse = mean_squared_error(train_target, model.predict(train_pred_scaled))\n",
    "mae = mean_absolute_error(train_target, model.predict(train_pred_scaled))\n",
    "\n",
    "# Display training MSE, MAE, & RMSE\n",
    "print(\"mse = \",mse,\" & mae = \",mae,\" & rmse = \", sqrt(mse))"
   ]
  },
  {
   "cell_type": "code",
   "execution_count": 72,
   "metadata": {},
   "outputs": [
    {
     "name": "stdout",
     "output_type": "stream",
     "text": [
      "mse =  43.806373735267115  & mae =  4.298805809465773  & rmse =  6.618638359607444\n"
     ]
    }
   ],
   "source": [
    "# Calculate and display MSE, MAE, & RMSE on test data\n",
    "test_mse = mean_squared_error(test_target, model.predict(test_pred_scaled))\n",
    "test_mae = mean_absolute_error(test_target, model.predict(test_pred_scaled))\n",
    "print(\"mse = \",test_mse,\" & mae = \",test_mae,\" & rmse = \", sqrt(test_mse))"
   ]
  },
  {
   "cell_type": "code",
   "execution_count": 73,
   "metadata": {},
   "outputs": [
    {
     "name": "stdout",
     "output_type": "stream",
     "text": [
      "Target Variable Max Value: 165.69 MW\n",
      "Max Absolute Error: 56.37 MW\n",
      "Mean Target Variable Value: 77.08 MW\n",
      "Mean Absolute Error: 4.3 MW\n",
      "Accuracy: 94.4 %.\n"
     ]
    }
   ],
   "source": [
    "# Use predict method on the test data\n",
    "predictions = model.predict(test_pred_scaled)\n",
    "\n",
    "# Calculate max and mean test_target value\n",
    "test_target_max_5 = max(test_target)\n",
    "test_target_mean_5 = np.mean(test_target)\n",
    "\n",
    "# Calculate the absolute errors, calculate max and mean absolute error\n",
    "errors = abs(predictions - test_target)\n",
    "max_absolute_error_5 = max(errors)\n",
    "mean_absolute_error_5 = np.mean(errors)\n",
    "\n",
    "# Calculate mean absolute percentage error (MAPE), and Accuracy\n",
    "mape_5 = 100 * (errors / test_target)\n",
    "accuracy_5 = 100 - np.mean(mape_5)\n",
    "\n",
    "# Print out some statistics, including accuracy\n",
    "print('Target Variable Max Value:', round(test_target_max_5, 2), 'MW')\n",
    "print('Max Absolute Error:', round(max_absolute_error_5, 2), 'MW')\n",
    "print('Mean Target Variable Value:', round(test_target_mean_5, 2), 'MW')\n",
    "print('Mean Absolute Error:', round(mean_absolute_error_5, 2), 'MW')\n",
    "print('Accuracy:', round(accuracy_5, 2), '%.')"
   ]
  },
  {
   "cell_type": "markdown",
   "metadata": {},
   "source": [
    "### Predict UES load - 6 Days Ahead"
   ]
  },
  {
   "cell_type": "code",
   "execution_count": 74,
   "metadata": {},
   "outputs": [
    {
     "data": {
      "text/plain": [
       "(78744, 19)"
      ]
     },
     "execution_count": 74,
     "metadata": {},
     "output_type": "execute_result"
    }
   ],
   "source": [
    "# Read in data\n",
    "data = pd.read_csv(\"ISO.aggregate - 6 day SHIFTED.csv\")\n",
    "\n",
    "# Shape of dataframe\n",
    "data.shape"
   ]
  },
  {
   "cell_type": "code",
   "execution_count": 75,
   "metadata": {},
   "outputs": [
    {
     "data": {
      "text/plain": [
       "Month                     int64\n",
       "Day                       int64\n",
       "Year                      int64\n",
       "TI                        int64\n",
       "ISO.tot.dmd             float64\n",
       "LMP.DA.NH               float64\n",
       "LMP.RT.NH               float64\n",
       "UES.Cap                 float64\n",
       "UES.Sea                 float64\n",
       "UES.Sea.6.DAYS.AHEAD    float64\n",
       "NH.RT.MWh               float64\n",
       "ME.RT.MWh               float64\n",
       "VT.RT.MWh               float64\n",
       "CT.RT.MWh               float64\n",
       "RI.RT.MWh               float64\n",
       "MA.SE.RT.MWh            float64\n",
       "MA.WC.RT.MWh            float64\n",
       "MA.NE.RT.MWh            float64\n",
       "Wk.Day_Fri                uint8\n",
       "Wk.Day_Mon                uint8\n",
       "Wk.Day_Sat                uint8\n",
       "Wk.Day_Sun                uint8\n",
       "Wk.Day_Thu                uint8\n",
       "Wk.Day_Tue                uint8\n",
       "Wk.Day_Wed                uint8\n",
       "dtype: object"
      ]
     },
     "execution_count": 75,
     "metadata": {},
     "output_type": "execute_result"
    }
   ],
   "source": [
    "# One-hot encoding\n",
    "data = pd.get_dummies(data)\n",
    "\n",
    "# Check dataframe data types\n",
    "data.dtypes"
   ]
  },
  {
   "cell_type": "code",
   "execution_count": 76,
   "metadata": {},
   "outputs": [],
   "source": [
    "# Split data into target variable and predictor variables\n",
    "\n",
    "# Target is the value we want to predict (in this case, MW of UES-Seacoast Load Region)\n",
    "target = np.array(data['UES.Sea.6.DAYS.AHEAD'])\n",
    "\n",
    "# Remove the target from the predictors\n",
    "# axis 1 refers to the columns\n",
    "predictors = data.drop('UES.Sea.6.DAYS.AHEAD', axis = 1)\n",
    "\n",
    "# Saving predictor names for later use\n",
    "predictor_list = list(predictors.columns)\n",
    "\n",
    "# Convert to numpy array\n",
    "predictors = np.array(predictors)"
   ]
  },
  {
   "cell_type": "code",
   "execution_count": 77,
   "metadata": {},
   "outputs": [],
   "source": [
    "# Split the data into training and testing sets using sklearn\n",
    "train_predictors, test_predictors, train_target, test_target = train_test_split(predictors, target, test_size = 0.25, random_state = 77)\n"
   ]
  },
  {
   "cell_type": "code",
   "execution_count": 78,
   "metadata": {},
   "outputs": [
    {
     "name": "stdout",
     "output_type": "stream",
     "text": [
      "Training Predictors Shape: (59058, 24)\n",
      "Training Target Shape: (59058,)\n",
      "Testing Predictors Shape: (19686, 24)\n",
      "Testing Target Shape: (19686,)\n"
     ]
    }
   ],
   "source": [
    "# Check shape of train and test data\n",
    "print('Training Predictors Shape:', train_predictors.shape)\n",
    "print('Training Target Shape:', train_target.shape)\n",
    "print('Testing Predictors Shape:', test_predictors.shape)\n",
    "print('Testing Target Shape:', test_target.shape)"
   ]
  },
  {
   "cell_type": "code",
   "execution_count": 79,
   "metadata": {},
   "outputs": [
    {
     "data": {
      "text/plain": [
       "KNeighborsRegressor(algorithm='auto', leaf_size=30, metric='minkowski',\n",
       "          metric_params=None, n_jobs=None, n_neighbors=5, p=2,\n",
       "          weights='uniform')"
      ]
     },
     "execution_count": 79,
     "metadata": {},
     "output_type": "execute_result"
    }
   ],
   "source": [
    "# Create scaler\n",
    "scaler = StandardScaler()\n",
    "\n",
    "# Scale training predictors\n",
    "train_pred_scaled = scaler.fit_transform(train_predictors)\n",
    "\n",
    "# Scale test predictors\n",
    "test_pred_scaled = scaler.transform(test_predictors)\n",
    "\n",
    "# Create KNN model\n",
    "model = KNeighborsRegressor()\n",
    "\n",
    "# Train model with scaled training data and target values\n",
    "model.fit(train_pred_scaled, train_target)"
   ]
  },
  {
   "cell_type": "code",
   "execution_count": 80,
   "metadata": {},
   "outputs": [
    {
     "name": "stdout",
     "output_type": "stream",
     "text": [
      "mse =  26.195328832698703  & mae =  3.1905566663280163  & rmse =  5.118137242464167\n"
     ]
    }
   ],
   "source": [
    "# Calculate errors for training data using mean squared error (MSE) and mean absolute error (MAE)\n",
    "mse = mean_squared_error(train_target, model.predict(train_pred_scaled))\n",
    "mae = mean_absolute_error(train_target, model.predict(train_pred_scaled))\n",
    "\n",
    "# Display training MSE, MAE, & RMSE\n",
    "print(\"mse = \",mse,\" & mae = \",mae,\" & rmse = \", sqrt(mse))"
   ]
  },
  {
   "cell_type": "code",
   "execution_count": 81,
   "metadata": {},
   "outputs": [
    {
     "name": "stdout",
     "output_type": "stream",
     "text": [
      "mse =  42.2152503732033  & mae =  4.207828446611805  & rmse =  6.497326401928973\n"
     ]
    }
   ],
   "source": [
    "# Calculate and display MSE, MAE, & RMSE on test data\n",
    "test_mse = mean_squared_error(test_target, model.predict(test_pred_scaled))\n",
    "test_mae = mean_absolute_error(test_target, model.predict(test_pred_scaled))\n",
    "print(\"mse = \",test_mse,\" & mae = \",test_mae,\" & rmse = \", sqrt(test_mse))"
   ]
  },
  {
   "cell_type": "code",
   "execution_count": 82,
   "metadata": {},
   "outputs": [
    {
     "name": "stdout",
     "output_type": "stream",
     "text": [
      "Target Variable Max Value: 166.73 MW\n",
      "Max Absolute Error: 62.63 MW\n",
      "Mean Target Variable Value: 76.96 MW\n",
      "Mean Absolute Error: 4.21 MW\n",
      "Accuracy: 94.49 %.\n"
     ]
    }
   ],
   "source": [
    "# Use predict method on the test data\n",
    "predictions = model.predict(test_pred_scaled)\n",
    "\n",
    "# Calculate max and mean test_target value\n",
    "test_target_max_6 = max(test_target)\n",
    "test_target_mean_6 = np.mean(test_target)\n",
    "\n",
    "# Calculate the absolute errors, calculate max and mean absolute error\n",
    "errors = abs(predictions - test_target)\n",
    "max_absolute_error_6 = max(errors)\n",
    "mean_absolute_error_6 = np.mean(errors)\n",
    "\n",
    "# Calculate mean absolute percentage error (MAPE), and Accuracy\n",
    "mape_6 = 100 * (errors / test_target)\n",
    "accuracy_6 = 100 - np.mean(mape_6)\n",
    "\n",
    "# Print out some statistics, including accuracy\n",
    "print('Target Variable Max Value:', round(test_target_max_6, 2), 'MW')\n",
    "print('Max Absolute Error:', round(max_absolute_error_6, 2), 'MW')\n",
    "print('Mean Target Variable Value:', round(test_target_mean_6, 2), 'MW')\n",
    "print('Mean Absolute Error:', round(mean_absolute_error_6, 2), 'MW')\n",
    "print('Accuracy:', round(accuracy_6, 2), '%.')"
   ]
  },
  {
   "cell_type": "markdown",
   "metadata": {},
   "source": [
    "### Predict UES load - 7 Days Ahead"
   ]
  },
  {
   "cell_type": "code",
   "execution_count": 83,
   "metadata": {},
   "outputs": [
    {
     "data": {
      "text/plain": [
       "(78720, 19)"
      ]
     },
     "execution_count": 83,
     "metadata": {},
     "output_type": "execute_result"
    }
   ],
   "source": [
    "# Read in data\n",
    "data = pd.read_csv(\"ISO.aggregate - 7 day SHIFTED.csv\")\n",
    "\n",
    "# Shape of dataframe\n",
    "data.shape"
   ]
  },
  {
   "cell_type": "code",
   "execution_count": 84,
   "metadata": {},
   "outputs": [
    {
     "data": {
      "text/plain": [
       "Month                     int64\n",
       "Day                       int64\n",
       "Year                      int64\n",
       "TI                        int64\n",
       "ISO.tot.dmd             float64\n",
       "LMP.DA.NH               float64\n",
       "LMP.RT.NH               float64\n",
       "UES.Cap                 float64\n",
       "UES.Sea                 float64\n",
       "UES.Sea.7.DAYS.AHEAD    float64\n",
       "NH.RT.MWh               float64\n",
       "ME.RT.MWh               float64\n",
       "VT.RT.MWh               float64\n",
       "CT.RT.MWh               float64\n",
       "RI.RT.MWh               float64\n",
       "MA.SE.RT.MWh            float64\n",
       "MA.WC.RT.MWh            float64\n",
       "MA.NE.RT.MWh            float64\n",
       "Wk.Day_Fri                uint8\n",
       "Wk.Day_Mon                uint8\n",
       "Wk.Day_Sat                uint8\n",
       "Wk.Day_Sun                uint8\n",
       "Wk.Day_Thu                uint8\n",
       "Wk.Day_Tue                uint8\n",
       "Wk.Day_Wed                uint8\n",
       "dtype: object"
      ]
     },
     "execution_count": 84,
     "metadata": {},
     "output_type": "execute_result"
    }
   ],
   "source": [
    "# One-hot encoding\n",
    "data = pd.get_dummies(data)\n",
    "\n",
    "# Check dataframe data types\n",
    "data.dtypes"
   ]
  },
  {
   "cell_type": "code",
   "execution_count": 85,
   "metadata": {},
   "outputs": [],
   "source": [
    "# Split data into target variable and predictor variables\n",
    "\n",
    "# Target is the value we want to predict (in this case, MW of UES-Seacoast Load Region)\n",
    "target = np.array(data['UES.Sea.7.DAYS.AHEAD'])\n",
    "\n",
    "# Remove the target from the predictors\n",
    "# axis 1 refers to the columns\n",
    "predictors = data.drop('UES.Sea.7.DAYS.AHEAD', axis = 1)\n",
    "\n",
    "# Saving predictor names for later use\n",
    "predictor_list = list(predictors.columns)\n",
    "\n",
    "# Convert to numpy array\n",
    "predictors = np.array(predictors)"
   ]
  },
  {
   "cell_type": "code",
   "execution_count": 86,
   "metadata": {},
   "outputs": [],
   "source": [
    "# Split the data into training and testing sets using sklearn\n",
    "train_predictors, test_predictors, train_target, test_target = train_test_split(predictors, target, test_size = 0.25, random_state = 77)\n"
   ]
  },
  {
   "cell_type": "code",
   "execution_count": 87,
   "metadata": {},
   "outputs": [
    {
     "name": "stdout",
     "output_type": "stream",
     "text": [
      "Training Predictors Shape: (59040, 24)\n",
      "Training Target Shape: (59040,)\n",
      "Testing Predictors Shape: (19680, 24)\n",
      "Testing Target Shape: (19680,)\n"
     ]
    }
   ],
   "source": [
    "# Check shape of train and test data\n",
    "print('Training Predictors Shape:', train_predictors.shape)\n",
    "print('Training Target Shape:', train_target.shape)\n",
    "print('Testing Predictors Shape:', test_predictors.shape)\n",
    "print('Testing Target Shape:', test_target.shape)"
   ]
  },
  {
   "cell_type": "code",
   "execution_count": 88,
   "metadata": {},
   "outputs": [
    {
     "data": {
      "text/plain": [
       "KNeighborsRegressor(algorithm='auto', leaf_size=30, metric='minkowski',\n",
       "          metric_params=None, n_jobs=None, n_neighbors=5, p=2,\n",
       "          weights='uniform')"
      ]
     },
     "execution_count": 88,
     "metadata": {},
     "output_type": "execute_result"
    }
   ],
   "source": [
    "# Create scaler\n",
    "scaler = StandardScaler()\n",
    "\n",
    "# Scale training predictors\n",
    "train_pred_scaled = scaler.fit_transform(train_predictors)\n",
    "\n",
    "# Scale test predictors\n",
    "test_pred_scaled = scaler.transform(test_predictors)\n",
    "\n",
    "# Create KNN model\n",
    "model = KNeighborsRegressor()\n",
    "\n",
    "# Train model with scaled training data and target values\n",
    "model.fit(train_pred_scaled, train_target)"
   ]
  },
  {
   "cell_type": "code",
   "execution_count": 89,
   "metadata": {},
   "outputs": [
    {
     "name": "stdout",
     "output_type": "stream",
     "text": [
      "mse =  26.23847870173645  & mae =  3.1719358773712734  & rmse =  5.122350895998482\n"
     ]
    }
   ],
   "source": [
    "# Calculate errors for training data using mean squared error (MSE) and mean absolute error (MAE)\n",
    "mse = mean_squared_error(train_target, model.predict(train_pred_scaled))\n",
    "mae = mean_absolute_error(train_target, model.predict(train_pred_scaled))\n",
    "\n",
    "# Display training MSE, MAE, & RMSE\n",
    "print(\"mse = \",mse,\" & mae = \",mae,\" & rmse = \", sqrt(mse))"
   ]
  },
  {
   "cell_type": "code",
   "execution_count": 90,
   "metadata": {},
   "outputs": [
    {
     "name": "stdout",
     "output_type": "stream",
     "text": [
      "mse =  43.15694502939837  & mae =  4.225755955284553  & rmse =  6.569394570993462\n"
     ]
    }
   ],
   "source": [
    "# Calculate and display MSE, MAE, & RMSE on test data\n",
    "test_mse = mean_squared_error(test_target, model.predict(test_pred_scaled))\n",
    "test_mae = mean_absolute_error(test_target, model.predict(test_pred_scaled))\n",
    "print(\"mse = \",test_mse,\" & mae = \",test_mae,\" & rmse = \", sqrt(test_mse))"
   ]
  },
  {
   "cell_type": "code",
   "execution_count": 91,
   "metadata": {},
   "outputs": [
    {
     "name": "stdout",
     "output_type": "stream",
     "text": [
      "Target Variable Max Value: 168.42 MW\n",
      "Max Absolute Error: 55.71 MW\n",
      "Mean Target Variable Value: 77.03 MW\n",
      "Mean Absolute Error: 4.23 MW\n",
      "Accuracy: 94.54 %.\n"
     ]
    }
   ],
   "source": [
    "# Use predict method on the test data\n",
    "predictions = model.predict(test_pred_scaled)\n",
    "\n",
    "# Calculate max and mean test_target value\n",
    "test_target_max_7 = max(test_target)\n",
    "test_target_mean_7 = np.mean(test_target)\n",
    "\n",
    "# Calculate the absolute errors, calculate max and mean absolute error\n",
    "errors = abs(predictions - test_target)\n",
    "max_absolute_error_7 = max(errors)\n",
    "mean_absolute_error_7 = np.mean(errors)\n",
    "\n",
    "# Calculate mean absolute percentage error (MAPE), and Accuracy\n",
    "mape_7 = 100 * (errors / test_target)\n",
    "accuracy_7 = 100 - np.mean(mape_7)\n",
    "\n",
    "# Print out some statistics, including accuracy\n",
    "print('Target Variable Max Value:', round(test_target_max_7, 2), 'MW')\n",
    "print('Max Absolute Error:', round(max_absolute_error_7, 2), 'MW')\n",
    "print('Mean Target Variable Value:', round(test_target_mean_7, 2), 'MW')\n",
    "print('Mean Absolute Error:', round(mean_absolute_error_7, 2), 'MW')\n",
    "print('Accuracy:', round(accuracy_7, 2), '%.')"
   ]
  },
  {
   "cell_type": "markdown",
   "metadata": {},
   "source": [
    "##### Compare Performance of the 7 KNN Models"
   ]
  },
  {
   "cell_type": "code",
   "execution_count": 92,
   "metadata": {},
   "outputs": [
    {
     "name": "stdout",
     "output_type": "stream",
     "text": [
      "KNN Model 1 - Predict UES Load 1 Day Ahead\n",
      "Target Variable Max Value: 166.65 MW\n",
      "Max Absolute Error: 42.61 MW\n",
      "Mean Target Variable Value: 77.05 MW\n",
      "Mean Absolute Error: 3.05 MW\n",
      "Accuracy: 96.09 %.\n",
      "\n",
      "KNN Model 2 - Predict UES Load 2 Days Ahead\n",
      "Target Variable Max Value: 168.43 MW\n",
      "Max Absolute Error: 50.11 MW\n",
      "Mean Target Variable Value: 76.92 MW\n",
      "Mean Absolute Error: 3.81 MW\n",
      "Accuracy: 95.08 %.\n",
      "\n",
      "KNN Model 3 - Predict UES Load 3 Days Ahead\n",
      "Target Variable Max Value: 168.42 MW\n",
      "Max Absolute Error: 61.81 MW\n",
      "Mean Target Variable Value: 77.07 MW\n",
      "Mean Absolute Error: 4.16 MW\n",
      "Accuracy: 94.62 %.\n",
      "\n",
      "KNN Model 4 - Predict UES Load 4 Days Ahead\n",
      "Target Variable Max Value: 168.43 MW\n",
      "Max Absolute Error: 58.35 MW\n",
      "Mean Target Variable Value: 77.13 MW\n",
      "Mean Absolute Error: 4.24 MW\n",
      "Accuracy: 94.51 %.\n",
      "\n",
      "KNN Model 5 - Predict UES Load 5 Days Ahead\n",
      "Target Variable Max Value: 165.69 MW\n",
      "Max Absolute Error: 56.37 MW\n",
      "Mean Target Variable Value: 77.08 MW\n",
      "Mean Absolute Error: 4.3 MW\n",
      "Accuracy: 94.4 %.\n",
      "\n",
      "KNN Model 6 - Predict UES Load 6 Days Ahead\n",
      "Target Variable Max Value: 166.73 MW\n",
      "Max Absolute Error: 62.63 MW\n",
      "Mean Target Variable Value: 76.96 MW\n",
      "Mean Absolute Error: 4.21 MW\n",
      "Accuracy: 94.49 %.\n",
      "\n",
      "KNN Model 7 - Predict UES Load 7 Days Ahead\n",
      "Target Variable Max Value: 168.42 MW\n",
      "Max Absolute Error: 55.71 MW\n",
      "Mean Target Variable Value: 77.03 MW\n",
      "Mean Absolute Error: 4.23 MW\n",
      "Accuracy: 94.54 %.\n",
      "\n"
     ]
    }
   ],
   "source": [
    "### Print out performance metrics from the seven Random Forest Models\n",
    "\n",
    "print('KNN Model 1 - Predict UES Load 1 Day Ahead')\n",
    "print('Target Variable Max Value:', round(test_target_max_1, 2), 'MW')\n",
    "print('Max Absolute Error:', round(max_absolute_error_1, 2), 'MW')\n",
    "print('Mean Target Variable Value:', round(test_target_mean_1, 2), 'MW')\n",
    "print('Mean Absolute Error:', round(mean_absolute_error_1, 2), 'MW')\n",
    "print('Accuracy:', round(accuracy_1, 2), '%.')\n",
    "print('')\n",
    "\n",
    "print('KNN Model 2 - Predict UES Load 2 Days Ahead')\n",
    "print('Target Variable Max Value:', round(test_target_max_2, 2), 'MW')\n",
    "print('Max Absolute Error:', round(max_absolute_error_2, 2), 'MW')\n",
    "print('Mean Target Variable Value:', round(test_target_mean_2, 2), 'MW')\n",
    "print('Mean Absolute Error:', round(mean_absolute_error_2, 2), 'MW')\n",
    "print('Accuracy:', round(accuracy_2, 2), '%.')\n",
    "print('')\n",
    "\n",
    "print('KNN Model 3 - Predict UES Load 3 Days Ahead')\n",
    "print('Target Variable Max Value:', round(test_target_max_3, 2), 'MW')\n",
    "print('Max Absolute Error:', round(max_absolute_error_3, 2), 'MW')\n",
    "print('Mean Target Variable Value:', round(test_target_mean_3, 2), 'MW')\n",
    "print('Mean Absolute Error:', round(mean_absolute_error_3, 2), 'MW')\n",
    "print('Accuracy:', round(accuracy_3, 2), '%.')\n",
    "print('')\n",
    "\n",
    "print('KNN Model 4 - Predict UES Load 4 Days Ahead')\n",
    "print('Target Variable Max Value:', round(test_target_max_4, 2), 'MW')\n",
    "print('Max Absolute Error:', round(max_absolute_error_4, 2), 'MW')\n",
    "print('Mean Target Variable Value:', round(test_target_mean_4, 2), 'MW')\n",
    "print('Mean Absolute Error:', round(mean_absolute_error_4, 2), 'MW')\n",
    "print('Accuracy:', round(accuracy_4, 2), '%.')\n",
    "print('')\n",
    "\n",
    "print('KNN Model 5 - Predict UES Load 5 Days Ahead')\n",
    "print('Target Variable Max Value:', round(test_target_max_5, 2), 'MW')\n",
    "print('Max Absolute Error:', round(max_absolute_error_5, 2), 'MW')\n",
    "print('Mean Target Variable Value:', round(test_target_mean_5, 2), 'MW')\n",
    "print('Mean Absolute Error:', round(mean_absolute_error_5, 2), 'MW')\n",
    "print('Accuracy:', round(accuracy_5, 2), '%.')\n",
    "print('')\n",
    "\n",
    "print('KNN Model 6 - Predict UES Load 6 Days Ahead')\n",
    "print('Target Variable Max Value:', round(test_target_max_6, 2), 'MW')\n",
    "print('Max Absolute Error:', round(max_absolute_error_6, 2), 'MW')\n",
    "print('Mean Target Variable Value:', round(test_target_mean_6, 2), 'MW')\n",
    "print('Mean Absolute Error:', round(mean_absolute_error_6, 2), 'MW')\n",
    "print('Accuracy:', round(accuracy_6, 2), '%.')\n",
    "print('')\n",
    "\n",
    "print('KNN Model 7 - Predict UES Load 7 Days Ahead')\n",
    "print('Target Variable Max Value:', round(test_target_max_7, 2), 'MW')\n",
    "print('Max Absolute Error:', round(max_absolute_error_7, 2), 'MW')\n",
    "print('Mean Target Variable Value:', round(test_target_mean_7, 2), 'MW')\n",
    "print('Mean Absolute Error:', round(mean_absolute_error_7, 2), 'MW')\n",
    "print('Accuracy:', round(accuracy_7, 2), '%.')\n",
    "print('')"
   ]
  },
  {
   "cell_type": "code",
   "execution_count": 93,
   "metadata": {},
   "outputs": [
    {
     "data": {
      "text/html": [
       "<div>\n",
       "<style scoped>\n",
       "    .dataframe tbody tr th:only-of-type {\n",
       "        vertical-align: middle;\n",
       "    }\n",
       "\n",
       "    .dataframe tbody tr th {\n",
       "        vertical-align: top;\n",
       "    }\n",
       "\n",
       "    .dataframe thead th {\n",
       "        text-align: right;\n",
       "    }\n",
       "</style>\n",
       "<table border=\"1\" class=\"dataframe\">\n",
       "  <thead>\n",
       "    <tr style=\"text-align: right;\">\n",
       "      <th></th>\n",
       "      <th>Model Number</th>\n",
       "      <th>Test Target Max</th>\n",
       "      <th>Max Absolute Error</th>\n",
       "      <th>Test Target Mean</th>\n",
       "      <th>Mean Absolute Error</th>\n",
       "      <th>Accuracy</th>\n",
       "    </tr>\n",
       "  </thead>\n",
       "  <tbody>\n",
       "    <tr>\n",
       "      <th>0</th>\n",
       "      <td>1</td>\n",
       "      <td>166.649</td>\n",
       "      <td>42.6108</td>\n",
       "      <td>77.047343</td>\n",
       "      <td>3.054505</td>\n",
       "      <td>96.091557</td>\n",
       "    </tr>\n",
       "    <tr>\n",
       "      <th>1</th>\n",
       "      <td>2</td>\n",
       "      <td>168.430</td>\n",
       "      <td>50.1132</td>\n",
       "      <td>76.918785</td>\n",
       "      <td>3.810960</td>\n",
       "      <td>95.075031</td>\n",
       "    </tr>\n",
       "    <tr>\n",
       "      <th>2</th>\n",
       "      <td>3</td>\n",
       "      <td>168.420</td>\n",
       "      <td>61.8070</td>\n",
       "      <td>77.070027</td>\n",
       "      <td>4.159194</td>\n",
       "      <td>94.622248</td>\n",
       "    </tr>\n",
       "    <tr>\n",
       "      <th>3</th>\n",
       "      <td>4</td>\n",
       "      <td>168.430</td>\n",
       "      <td>58.3490</td>\n",
       "      <td>77.126991</td>\n",
       "      <td>4.240922</td>\n",
       "      <td>94.506124</td>\n",
       "    </tr>\n",
       "    <tr>\n",
       "      <th>4</th>\n",
       "      <td>5</td>\n",
       "      <td>166.733</td>\n",
       "      <td>56.3736</td>\n",
       "      <td>77.079134</td>\n",
       "      <td>4.298806</td>\n",
       "      <td>94.402303</td>\n",
       "    </tr>\n",
       "    <tr>\n",
       "      <th>5</th>\n",
       "      <td>6</td>\n",
       "      <td>166.733</td>\n",
       "      <td>62.6306</td>\n",
       "      <td>76.964268</td>\n",
       "      <td>4.207828</td>\n",
       "      <td>94.489007</td>\n",
       "    </tr>\n",
       "    <tr>\n",
       "      <th>6</th>\n",
       "      <td>7</td>\n",
       "      <td>168.420</td>\n",
       "      <td>55.7116</td>\n",
       "      <td>77.033948</td>\n",
       "      <td>4.225756</td>\n",
       "      <td>94.542289</td>\n",
       "    </tr>\n",
       "  </tbody>\n",
       "</table>\n",
       "</div>"
      ],
      "text/plain": [
       "   Model Number  Test Target Max  Max Absolute Error  Test Target Mean  \\\n",
       "0             1          166.649             42.6108         77.047343   \n",
       "1             2          168.430             50.1132         76.918785   \n",
       "2             3          168.420             61.8070         77.070027   \n",
       "3             4          168.430             58.3490         77.126991   \n",
       "4             5          166.733             56.3736         77.079134   \n",
       "5             6          166.733             62.6306         76.964268   \n",
       "6             7          168.420             55.7116         77.033948   \n",
       "\n",
       "   Mean Absolute Error   Accuracy  \n",
       "0             3.054505  96.091557  \n",
       "1             3.810960  95.075031  \n",
       "2             4.159194  94.622248  \n",
       "3             4.240922  94.506124  \n",
       "4             4.298806  94.402303  \n",
       "5             4.207828  94.489007  \n",
       "6             4.225756  94.542289  "
      ]
     },
     "execution_count": 93,
     "metadata": {},
     "output_type": "execute_result"
    }
   ],
   "source": [
    "# Create a dataframe of performance metrics of 7 models\n",
    "model_number = [1,2,3,4,5,6,7]\n",
    "\n",
    "test_target_max_values = [test_target_max_1, test_target_max_2, test_target_max_3, test_target_max_4, \n",
    "                          test_target_max_6, test_target_max_6, test_target_max_7]\n",
    "\n",
    "max_absolute_error_values =[max_absolute_error_1, max_absolute_error_2, max_absolute_error_3, max_absolute_error_4, \n",
    "                            max_absolute_error_5, max_absolute_error_6, max_absolute_error_7]\n",
    "\n",
    "test_target_mean_values = [test_target_mean_1, test_target_mean_2, test_target_mean_3, test_target_mean_4, \n",
    "                           test_target_mean_5, test_target_mean_6, test_target_mean_7]\n",
    "\n",
    "mean_absolute_error_values = [mean_absolute_error_1, mean_absolute_error_2, mean_absolute_error_3, \n",
    "                              mean_absolute_error_4, mean_absolute_error_5, mean_absolute_error_6, \n",
    "                              mean_absolute_error_7]\n",
    "\n",
    "accuracy_values = [accuracy_1, accuracy_2, accuracy_3, accuracy_4, accuracy_5, accuracy_6, accuracy_7]\n",
    "\n",
    "### Create pandas dataframe using metrics\n",
    "metrics_df = {'Model Number': model_number,\n",
    "              'Test Target Max': test_target_max_values, \n",
    "              'Max Absolute Error': max_absolute_error_values,\n",
    "              'Test Target Mean': test_target_mean_values,\n",
    "              'Mean Absolute Error': mean_absolute_error_values,\n",
    "              'Accuracy': accuracy_values}\n",
    "\n",
    "metrics_df = pd.DataFrame(metrics_df)\n",
    "metrics_df\n"
   ]
  },
  {
   "cell_type": "code",
   "execution_count": 94,
   "metadata": {},
   "outputs": [],
   "source": [
    "# Write out a .csv of the performance metrics\n",
    "# metrics_df.to_csv('metrics_KNN.csv', index=False)"
   ]
  }
 ],
 "metadata": {
  "kernelspec": {
   "display_name": "Python 3",
   "language": "python",
   "name": "python3"
  },
  "language_info": {
   "codemirror_mode": {
    "name": "ipython",
    "version": 3
   },
   "file_extension": ".py",
   "mimetype": "text/x-python",
   "name": "python",
   "nbconvert_exporter": "python",
   "pygments_lexer": "ipython3",
   "version": "3.7.0"
  }
 },
 "nbformat": 4,
 "nbformat_minor": 2
}
