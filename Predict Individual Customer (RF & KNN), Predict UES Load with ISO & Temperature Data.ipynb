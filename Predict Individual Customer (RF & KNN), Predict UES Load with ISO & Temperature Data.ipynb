{
 "cells": [
  {
   "cell_type": "markdown",
   "metadata": {},
   "source": [
    "### Predicting Electricity Use for Individual Customer "
   ]
  },
  {
   "cell_type": "markdown",
   "metadata": {},
   "source": [
    "##### Random Forest"
   ]
  },
  {
   "cell_type": "code",
   "execution_count": 1,
   "metadata": {},
   "outputs": [],
   "source": [
    "# Libraries used\n",
    "import numpy as np\n",
    "import pandas as pd\n",
    "import time\n",
    "\n",
    "from sklearn.model_selection import train_test_split\n",
    "from sklearn.model_selection import RandomizedSearchCV\n",
    "from sklearn.model_selection import GridSearchCV\n",
    "\n",
    "from sklearn.ensemble import RandomForestRegressor\n",
    "from pprint import pprint\n",
    "\n",
    "from sklearn.preprocessing import StandardScaler\n",
    "from sklearn.neighbors import KNeighborsRegressor\n",
    "from sklearn.metrics import mean_squared_error\n",
    "from sklearn.metrics import mean_absolute_error\n",
    "from math import sqrt"
   ]
  },
  {
   "cell_type": "code",
   "execution_count": 2,
   "metadata": {},
   "outputs": [],
   "source": [
    "# Read in data\n",
    "data = pd.read_csv(\"ML_data - filtered.csv\")"
   ]
  },
  {
   "cell_type": "code",
   "execution_count": 3,
   "metadata": {},
   "outputs": [
    {
     "data": {
      "text/html": [
       "<div>\n",
       "<style scoped>\n",
       "    .dataframe tbody tr th:only-of-type {\n",
       "        vertical-align: middle;\n",
       "    }\n",
       "\n",
       "    .dataframe tbody tr th {\n",
       "        vertical-align: top;\n",
       "    }\n",
       "\n",
       "    .dataframe thead th {\n",
       "        text-align: right;\n",
       "    }\n",
       "</style>\n",
       "<table border=\"1\" class=\"dataframe\">\n",
       "  <thead>\n",
       "    <tr style=\"text-align: right;\">\n",
       "      <th></th>\n",
       "      <th>Wk.Day</th>\n",
       "      <th>Month</th>\n",
       "      <th>Day</th>\n",
       "      <th>Year</th>\n",
       "      <th>Numeric_Time</th>\n",
       "      <th>TMP</th>\n",
       "      <th>WSP</th>\n",
       "      <th>WDR</th>\n",
       "      <th>ISO.tot.dmd</th>\n",
       "      <th>NH.RT.MWh</th>\n",
       "      <th>UES.Cap</th>\n",
       "      <th>UES.Sea</th>\n",
       "      <th>LMP.RT.NH</th>\n",
       "      <th>Target</th>\n",
       "    </tr>\n",
       "  </thead>\n",
       "  <tbody>\n",
       "    <tr>\n",
       "      <th>0</th>\n",
       "      <td>Fri</td>\n",
       "      <td>8</td>\n",
       "      <td>26</td>\n",
       "      <td>2016</td>\n",
       "      <td>1.00</td>\n",
       "      <td>75</td>\n",
       "      <td>7</td>\n",
       "      <td>200</td>\n",
       "      <td>15020.25</td>\n",
       "      <td>1248.8</td>\n",
       "      <td>50.321</td>\n",
       "      <td>78.051</td>\n",
       "      <td>19.80</td>\n",
       "      <td>0.07</td>\n",
       "    </tr>\n",
       "    <tr>\n",
       "      <th>1</th>\n",
       "      <td>Fri</td>\n",
       "      <td>8</td>\n",
       "      <td>26</td>\n",
       "      <td>2016</td>\n",
       "      <td>1.25</td>\n",
       "      <td>75</td>\n",
       "      <td>7</td>\n",
       "      <td>200</td>\n",
       "      <td>15020.25</td>\n",
       "      <td>1248.8</td>\n",
       "      <td>50.321</td>\n",
       "      <td>78.051</td>\n",
       "      <td>19.80</td>\n",
       "      <td>0.08</td>\n",
       "    </tr>\n",
       "    <tr>\n",
       "      <th>2</th>\n",
       "      <td>Fri</td>\n",
       "      <td>8</td>\n",
       "      <td>26</td>\n",
       "      <td>2016</td>\n",
       "      <td>1.50</td>\n",
       "      <td>75</td>\n",
       "      <td>7</td>\n",
       "      <td>200</td>\n",
       "      <td>15020.25</td>\n",
       "      <td>1248.8</td>\n",
       "      <td>50.321</td>\n",
       "      <td>78.051</td>\n",
       "      <td>19.80</td>\n",
       "      <td>0.07</td>\n",
       "    </tr>\n",
       "    <tr>\n",
       "      <th>3</th>\n",
       "      <td>Fri</td>\n",
       "      <td>8</td>\n",
       "      <td>26</td>\n",
       "      <td>2016</td>\n",
       "      <td>1.75</td>\n",
       "      <td>75</td>\n",
       "      <td>7</td>\n",
       "      <td>200</td>\n",
       "      <td>15020.25</td>\n",
       "      <td>1248.8</td>\n",
       "      <td>50.321</td>\n",
       "      <td>78.051</td>\n",
       "      <td>19.80</td>\n",
       "      <td>0.08</td>\n",
       "    </tr>\n",
       "    <tr>\n",
       "      <th>4</th>\n",
       "      <td>Fri</td>\n",
       "      <td>8</td>\n",
       "      <td>26</td>\n",
       "      <td>2016</td>\n",
       "      <td>2.00</td>\n",
       "      <td>74</td>\n",
       "      <td>7</td>\n",
       "      <td>210</td>\n",
       "      <td>14966.40</td>\n",
       "      <td>1207.3</td>\n",
       "      <td>48.669</td>\n",
       "      <td>75.021</td>\n",
       "      <td>19.68</td>\n",
       "      <td>0.08</td>\n",
       "    </tr>\n",
       "  </tbody>\n",
       "</table>\n",
       "</div>"
      ],
      "text/plain": [
       "  Wk.Day  Month  Day  Year  Numeric_Time  TMP  WSP  WDR  ISO.tot.dmd  \\\n",
       "0    Fri      8   26  2016          1.00   75    7  200     15020.25   \n",
       "1    Fri      8   26  2016          1.25   75    7  200     15020.25   \n",
       "2    Fri      8   26  2016          1.50   75    7  200     15020.25   \n",
       "3    Fri      8   26  2016          1.75   75    7  200     15020.25   \n",
       "4    Fri      8   26  2016          2.00   74    7  210     14966.40   \n",
       "\n",
       "   NH.RT.MWh  UES.Cap  UES.Sea  LMP.RT.NH  Target  \n",
       "0     1248.8   50.321   78.051      19.80    0.07  \n",
       "1     1248.8   50.321   78.051      19.80    0.08  \n",
       "2     1248.8   50.321   78.051      19.80    0.07  \n",
       "3     1248.8   50.321   78.051      19.80    0.08  \n",
       "4     1207.3   48.669   75.021      19.68    0.08  "
      ]
     },
     "execution_count": 3,
     "metadata": {},
     "output_type": "execute_result"
    }
   ],
   "source": [
    "# View first few rows of data\n",
    "data.head()"
   ]
  },
  {
   "cell_type": "code",
   "execution_count": 4,
   "metadata": {},
   "outputs": [
    {
     "data": {
      "text/plain": [
       "Wk.Day           object\n",
       "Month             int64\n",
       "Day               int64\n",
       "Year              int64\n",
       "Numeric_Time    float64\n",
       "TMP               int64\n",
       "WSP               int64\n",
       "WDR               int64\n",
       "ISO.tot.dmd     float64\n",
       "NH.RT.MWh       float64\n",
       "UES.Cap         float64\n",
       "UES.Sea         float64\n",
       "LMP.RT.NH       float64\n",
       "Target          float64\n",
       "dtype: object"
      ]
     },
     "execution_count": 4,
     "metadata": {},
     "output_type": "execute_result"
    }
   ],
   "source": [
    "# Check dataframe data types\n",
    "data.dtypes"
   ]
  },
  {
   "cell_type": "code",
   "execution_count": 5,
   "metadata": {},
   "outputs": [
    {
     "data": {
      "text/plain": [
       "(82333, 14)"
      ]
     },
     "execution_count": 5,
     "metadata": {},
     "output_type": "execute_result"
    }
   ],
   "source": [
    "# Shape of dataframe\n",
    "data.shape"
   ]
  },
  {
   "cell_type": "code",
   "execution_count": 6,
   "metadata": {},
   "outputs": [
    {
     "data": {
      "text/html": [
       "<div>\n",
       "<style scoped>\n",
       "    .dataframe tbody tr th:only-of-type {\n",
       "        vertical-align: middle;\n",
       "    }\n",
       "\n",
       "    .dataframe tbody tr th {\n",
       "        vertical-align: top;\n",
       "    }\n",
       "\n",
       "    .dataframe thead th {\n",
       "        text-align: right;\n",
       "    }\n",
       "</style>\n",
       "<table border=\"1\" class=\"dataframe\">\n",
       "  <thead>\n",
       "    <tr style=\"text-align: right;\">\n",
       "      <th></th>\n",
       "      <th>Month</th>\n",
       "      <th>Day</th>\n",
       "      <th>Year</th>\n",
       "      <th>Numeric_Time</th>\n",
       "      <th>TMP</th>\n",
       "      <th>WSP</th>\n",
       "      <th>WDR</th>\n",
       "      <th>ISO.tot.dmd</th>\n",
       "      <th>NH.RT.MWh</th>\n",
       "      <th>UES.Cap</th>\n",
       "      <th>UES.Sea</th>\n",
       "      <th>LMP.RT.NH</th>\n",
       "      <th>Target</th>\n",
       "    </tr>\n",
       "  </thead>\n",
       "  <tbody>\n",
       "    <tr>\n",
       "      <th>count</th>\n",
       "      <td>82333.000000</td>\n",
       "      <td>82333.000000</td>\n",
       "      <td>82333.000000</td>\n",
       "      <td>82333.000000</td>\n",
       "      <td>82333.000000</td>\n",
       "      <td>82333.000000</td>\n",
       "      <td>82333.000000</td>\n",
       "      <td>82333.000000</td>\n",
       "      <td>82333.000000</td>\n",
       "      <td>82333.000000</td>\n",
       "      <td>82333.000000</td>\n",
       "      <td>82333.000000</td>\n",
       "      <td>82333.000000</td>\n",
       "    </tr>\n",
       "    <tr>\n",
       "      <th>mean</th>\n",
       "      <td>7.103336</td>\n",
       "      <td>15.813963</td>\n",
       "      <td>2017.276390</td>\n",
       "      <td>11.874792</td>\n",
       "      <td>49.313544</td>\n",
       "      <td>7.571399</td>\n",
       "      <td>182.717792</td>\n",
       "      <td>13971.873442</td>\n",
       "      <td>1302.010738</td>\n",
       "      <td>48.535705</td>\n",
       "      <td>77.352669</td>\n",
       "      <td>37.034050</td>\n",
       "      <td>0.113365</td>\n",
       "    </tr>\n",
       "    <tr>\n",
       "      <th>std</th>\n",
       "      <td>3.497264</td>\n",
       "      <td>8.832236</td>\n",
       "      <td>0.705907</td>\n",
       "      <td>6.927943</td>\n",
       "      <td>18.538303</td>\n",
       "      <td>5.127014</td>\n",
       "      <td>113.521769</td>\n",
       "      <td>2492.388689</td>\n",
       "      <td>255.142331</td>\n",
       "      <td>15.263676</td>\n",
       "      <td>17.887657</td>\n",
       "      <td>38.680914</td>\n",
       "      <td>0.204578</td>\n",
       "    </tr>\n",
       "    <tr>\n",
       "      <th>min</th>\n",
       "      <td>1.000000</td>\n",
       "      <td>1.000000</td>\n",
       "      <td>2016.000000</td>\n",
       "      <td>0.000000</td>\n",
       "      <td>-6.000000</td>\n",
       "      <td>0.000000</td>\n",
       "      <td>0.000000</td>\n",
       "      <td>9007.880000</td>\n",
       "      <td>603.100000</td>\n",
       "      <td>5.395000</td>\n",
       "      <td>30.578000</td>\n",
       "      <td>-133.770000</td>\n",
       "      <td>0.003800</td>\n",
       "    </tr>\n",
       "    <tr>\n",
       "      <th>25%</th>\n",
       "      <td>4.000000</td>\n",
       "      <td>8.000000</td>\n",
       "      <td>2017.000000</td>\n",
       "      <td>5.750000</td>\n",
       "      <td>35.000000</td>\n",
       "      <td>5.000000</td>\n",
       "      <td>80.000000</td>\n",
       "      <td>12208.350000</td>\n",
       "      <td>1114.500000</td>\n",
       "      <td>37.066000</td>\n",
       "      <td>65.020000</td>\n",
       "      <td>20.550000</td>\n",
       "      <td>0.040000</td>\n",
       "    </tr>\n",
       "    <tr>\n",
       "      <th>50%</th>\n",
       "      <td>8.000000</td>\n",
       "      <td>16.000000</td>\n",
       "      <td>2017.000000</td>\n",
       "      <td>12.000000</td>\n",
       "      <td>49.000000</td>\n",
       "      <td>7.000000</td>\n",
       "      <td>220.000000</td>\n",
       "      <td>13723.310000</td>\n",
       "      <td>1314.000000</td>\n",
       "      <td>47.861000</td>\n",
       "      <td>76.425000</td>\n",
       "      <td>27.970000</td>\n",
       "      <td>0.050000</td>\n",
       "    </tr>\n",
       "    <tr>\n",
       "      <th>75%</th>\n",
       "      <td>10.000000</td>\n",
       "      <td>23.000000</td>\n",
       "      <td>2018.000000</td>\n",
       "      <td>18.000000</td>\n",
       "      <td>65.000000</td>\n",
       "      <td>10.000000</td>\n",
       "      <td>280.000000</td>\n",
       "      <td>15361.710000</td>\n",
       "      <td>1457.100000</td>\n",
       "      <td>58.248000</td>\n",
       "      <td>86.446000</td>\n",
       "      <td>42.650000</td>\n",
       "      <td>0.110000</td>\n",
       "    </tr>\n",
       "    <tr>\n",
       "      <th>max</th>\n",
       "      <td>12.000000</td>\n",
       "      <td>31.000000</td>\n",
       "      <td>2018.000000</td>\n",
       "      <td>23.750000</td>\n",
       "      <td>95.000000</td>\n",
       "      <td>37.000000</td>\n",
       "      <td>360.000000</td>\n",
       "      <td>25763.200000</td>\n",
       "      <td>2379.500000</td>\n",
       "      <td>114.956000</td>\n",
       "      <td>166.800000</td>\n",
       "      <td>2493.150000</td>\n",
       "      <td>2.450000</td>\n",
       "    </tr>\n",
       "  </tbody>\n",
       "</table>\n",
       "</div>"
      ],
      "text/plain": [
       "              Month           Day          Year  Numeric_Time           TMP  \\\n",
       "count  82333.000000  82333.000000  82333.000000  82333.000000  82333.000000   \n",
       "mean       7.103336     15.813963   2017.276390     11.874792     49.313544   \n",
       "std        3.497264      8.832236      0.705907      6.927943     18.538303   \n",
       "min        1.000000      1.000000   2016.000000      0.000000     -6.000000   \n",
       "25%        4.000000      8.000000   2017.000000      5.750000     35.000000   \n",
       "50%        8.000000     16.000000   2017.000000     12.000000     49.000000   \n",
       "75%       10.000000     23.000000   2018.000000     18.000000     65.000000   \n",
       "max       12.000000     31.000000   2018.000000     23.750000     95.000000   \n",
       "\n",
       "                WSP           WDR   ISO.tot.dmd     NH.RT.MWh       UES.Cap  \\\n",
       "count  82333.000000  82333.000000  82333.000000  82333.000000  82333.000000   \n",
       "mean       7.571399    182.717792  13971.873442   1302.010738     48.535705   \n",
       "std        5.127014    113.521769   2492.388689    255.142331     15.263676   \n",
       "min        0.000000      0.000000   9007.880000    603.100000      5.395000   \n",
       "25%        5.000000     80.000000  12208.350000   1114.500000     37.066000   \n",
       "50%        7.000000    220.000000  13723.310000   1314.000000     47.861000   \n",
       "75%       10.000000    280.000000  15361.710000   1457.100000     58.248000   \n",
       "max       37.000000    360.000000  25763.200000   2379.500000    114.956000   \n",
       "\n",
       "            UES.Sea     LMP.RT.NH        Target  \n",
       "count  82333.000000  82333.000000  82333.000000  \n",
       "mean      77.352669     37.034050      0.113365  \n",
       "std       17.887657     38.680914      0.204578  \n",
       "min       30.578000   -133.770000      0.003800  \n",
       "25%       65.020000     20.550000      0.040000  \n",
       "50%       76.425000     27.970000      0.050000  \n",
       "75%       86.446000     42.650000      0.110000  \n",
       "max      166.800000   2493.150000      2.450000  "
      ]
     },
     "execution_count": 6,
     "metadata": {},
     "output_type": "execute_result"
    }
   ],
   "source": [
    "# Descriptive statistics for each column\n",
    "data.describe()"
   ]
  },
  {
   "cell_type": "code",
   "execution_count": 7,
   "metadata": {},
   "outputs": [],
   "source": [
    "# One-hot encoding\n",
    "data = pd.get_dummies(data)"
   ]
  },
  {
   "cell_type": "code",
   "execution_count": 8,
   "metadata": {},
   "outputs": [
    {
     "data": {
      "text/plain": [
       "Month             int64\n",
       "Day               int64\n",
       "Year              int64\n",
       "Numeric_Time    float64\n",
       "TMP               int64\n",
       "WSP               int64\n",
       "WDR               int64\n",
       "ISO.tot.dmd     float64\n",
       "NH.RT.MWh       float64\n",
       "UES.Cap         float64\n",
       "UES.Sea         float64\n",
       "LMP.RT.NH       float64\n",
       "Target          float64\n",
       "Wk.Day_Fri        uint8\n",
       "Wk.Day_Mon        uint8\n",
       "Wk.Day_Sat        uint8\n",
       "Wk.Day_Sun        uint8\n",
       "Wk.Day_Thu        uint8\n",
       "Wk.Day_Tue        uint8\n",
       "Wk.Day_Wed        uint8\n",
       "dtype: object"
      ]
     },
     "execution_count": 8,
     "metadata": {},
     "output_type": "execute_result"
    }
   ],
   "source": [
    "# Check dataframe data types\n",
    "data.dtypes"
   ]
  },
  {
   "cell_type": "code",
   "execution_count": 9,
   "metadata": {},
   "outputs": [
    {
     "data": {
      "text/html": [
       "<div>\n",
       "<style scoped>\n",
       "    .dataframe tbody tr th:only-of-type {\n",
       "        vertical-align: middle;\n",
       "    }\n",
       "\n",
       "    .dataframe tbody tr th {\n",
       "        vertical-align: top;\n",
       "    }\n",
       "\n",
       "    .dataframe thead th {\n",
       "        text-align: right;\n",
       "    }\n",
       "</style>\n",
       "<table border=\"1\" class=\"dataframe\">\n",
       "  <thead>\n",
       "    <tr style=\"text-align: right;\">\n",
       "      <th></th>\n",
       "      <th>Month</th>\n",
       "      <th>Day</th>\n",
       "      <th>Year</th>\n",
       "      <th>Numeric_Time</th>\n",
       "      <th>TMP</th>\n",
       "      <th>WSP</th>\n",
       "      <th>WDR</th>\n",
       "      <th>ISO.tot.dmd</th>\n",
       "      <th>NH.RT.MWh</th>\n",
       "      <th>UES.Cap</th>\n",
       "      <th>UES.Sea</th>\n",
       "      <th>LMP.RT.NH</th>\n",
       "      <th>Target</th>\n",
       "      <th>Wk.Day_Fri</th>\n",
       "      <th>Wk.Day_Mon</th>\n",
       "      <th>Wk.Day_Sat</th>\n",
       "      <th>Wk.Day_Sun</th>\n",
       "      <th>Wk.Day_Thu</th>\n",
       "      <th>Wk.Day_Tue</th>\n",
       "      <th>Wk.Day_Wed</th>\n",
       "    </tr>\n",
       "  </thead>\n",
       "  <tbody>\n",
       "    <tr>\n",
       "      <th>0</th>\n",
       "      <td>8</td>\n",
       "      <td>26</td>\n",
       "      <td>2016</td>\n",
       "      <td>1.00</td>\n",
       "      <td>75</td>\n",
       "      <td>7</td>\n",
       "      <td>200</td>\n",
       "      <td>15020.25</td>\n",
       "      <td>1248.8</td>\n",
       "      <td>50.321</td>\n",
       "      <td>78.051</td>\n",
       "      <td>19.80</td>\n",
       "      <td>0.07</td>\n",
       "      <td>1</td>\n",
       "      <td>0</td>\n",
       "      <td>0</td>\n",
       "      <td>0</td>\n",
       "      <td>0</td>\n",
       "      <td>0</td>\n",
       "      <td>0</td>\n",
       "    </tr>\n",
       "    <tr>\n",
       "      <th>1</th>\n",
       "      <td>8</td>\n",
       "      <td>26</td>\n",
       "      <td>2016</td>\n",
       "      <td>1.25</td>\n",
       "      <td>75</td>\n",
       "      <td>7</td>\n",
       "      <td>200</td>\n",
       "      <td>15020.25</td>\n",
       "      <td>1248.8</td>\n",
       "      <td>50.321</td>\n",
       "      <td>78.051</td>\n",
       "      <td>19.80</td>\n",
       "      <td>0.08</td>\n",
       "      <td>1</td>\n",
       "      <td>0</td>\n",
       "      <td>0</td>\n",
       "      <td>0</td>\n",
       "      <td>0</td>\n",
       "      <td>0</td>\n",
       "      <td>0</td>\n",
       "    </tr>\n",
       "    <tr>\n",
       "      <th>2</th>\n",
       "      <td>8</td>\n",
       "      <td>26</td>\n",
       "      <td>2016</td>\n",
       "      <td>1.50</td>\n",
       "      <td>75</td>\n",
       "      <td>7</td>\n",
       "      <td>200</td>\n",
       "      <td>15020.25</td>\n",
       "      <td>1248.8</td>\n",
       "      <td>50.321</td>\n",
       "      <td>78.051</td>\n",
       "      <td>19.80</td>\n",
       "      <td>0.07</td>\n",
       "      <td>1</td>\n",
       "      <td>0</td>\n",
       "      <td>0</td>\n",
       "      <td>0</td>\n",
       "      <td>0</td>\n",
       "      <td>0</td>\n",
       "      <td>0</td>\n",
       "    </tr>\n",
       "    <tr>\n",
       "      <th>3</th>\n",
       "      <td>8</td>\n",
       "      <td>26</td>\n",
       "      <td>2016</td>\n",
       "      <td>1.75</td>\n",
       "      <td>75</td>\n",
       "      <td>7</td>\n",
       "      <td>200</td>\n",
       "      <td>15020.25</td>\n",
       "      <td>1248.8</td>\n",
       "      <td>50.321</td>\n",
       "      <td>78.051</td>\n",
       "      <td>19.80</td>\n",
       "      <td>0.08</td>\n",
       "      <td>1</td>\n",
       "      <td>0</td>\n",
       "      <td>0</td>\n",
       "      <td>0</td>\n",
       "      <td>0</td>\n",
       "      <td>0</td>\n",
       "      <td>0</td>\n",
       "    </tr>\n",
       "    <tr>\n",
       "      <th>4</th>\n",
       "      <td>8</td>\n",
       "      <td>26</td>\n",
       "      <td>2016</td>\n",
       "      <td>2.00</td>\n",
       "      <td>74</td>\n",
       "      <td>7</td>\n",
       "      <td>210</td>\n",
       "      <td>14966.40</td>\n",
       "      <td>1207.3</td>\n",
       "      <td>48.669</td>\n",
       "      <td>75.021</td>\n",
       "      <td>19.68</td>\n",
       "      <td>0.08</td>\n",
       "      <td>1</td>\n",
       "      <td>0</td>\n",
       "      <td>0</td>\n",
       "      <td>0</td>\n",
       "      <td>0</td>\n",
       "      <td>0</td>\n",
       "      <td>0</td>\n",
       "    </tr>\n",
       "  </tbody>\n",
       "</table>\n",
       "</div>"
      ],
      "text/plain": [
       "   Month  Day  Year  Numeric_Time  TMP  WSP  WDR  ISO.tot.dmd  NH.RT.MWh  \\\n",
       "0      8   26  2016          1.00   75    7  200     15020.25     1248.8   \n",
       "1      8   26  2016          1.25   75    7  200     15020.25     1248.8   \n",
       "2      8   26  2016          1.50   75    7  200     15020.25     1248.8   \n",
       "3      8   26  2016          1.75   75    7  200     15020.25     1248.8   \n",
       "4      8   26  2016          2.00   74    7  210     14966.40     1207.3   \n",
       "\n",
       "   UES.Cap  UES.Sea  LMP.RT.NH  Target  Wk.Day_Fri  Wk.Day_Mon  Wk.Day_Sat  \\\n",
       "0   50.321   78.051      19.80    0.07           1           0           0   \n",
       "1   50.321   78.051      19.80    0.08           1           0           0   \n",
       "2   50.321   78.051      19.80    0.07           1           0           0   \n",
       "3   50.321   78.051      19.80    0.08           1           0           0   \n",
       "4   48.669   75.021      19.68    0.08           1           0           0   \n",
       "\n",
       "   Wk.Day_Sun  Wk.Day_Thu  Wk.Day_Tue  Wk.Day_Wed  \n",
       "0           0           0           0           0  \n",
       "1           0           0           0           0  \n",
       "2           0           0           0           0  \n",
       "3           0           0           0           0  \n",
       "4           0           0           0           0  "
      ]
     },
     "execution_count": 9,
     "metadata": {},
     "output_type": "execute_result"
    }
   ],
   "source": [
    "# View first few rows of data after one-hot encoding\n",
    "data.head()"
   ]
  },
  {
   "cell_type": "code",
   "execution_count": 10,
   "metadata": {},
   "outputs": [],
   "source": [
    "# Split data into target variable and predictor variables\n",
    "\n",
    "# Target is the value we want to predict (in this case, Watts or kWh from data cleaning)\n",
    "target = np.array(data['Target'])\n",
    "\n",
    "# Remove the target from the predictors\n",
    "# axis 1 refers to the columns\n",
    "predictors = data.drop('Target', axis = 1)\n",
    "\n",
    "# Saving predictor names for later use\n",
    "predictor_list = list(predictors.columns)\n",
    "\n",
    "# Convert to numpy array\n",
    "predictors = np.array(predictors)"
   ]
  },
  {
   "cell_type": "code",
   "execution_count": 11,
   "metadata": {},
   "outputs": [],
   "source": [
    "# Split the data into training and testing sets using sklearn\n",
    "train_predictors, test_predictors, train_target, test_target = train_test_split(predictors, target, test_size = 0.25, random_state = 42)\n"
   ]
  },
  {
   "cell_type": "code",
   "execution_count": 12,
   "metadata": {},
   "outputs": [
    {
     "name": "stdout",
     "output_type": "stream",
     "text": [
      "Training Predictors Shape: (61749, 19)\n",
      "Training Target Shape: (61749,)\n",
      "Testing Predictors Shape: (20584, 19)\n",
      "Testing Target Shape: (20584,)\n"
     ]
    }
   ],
   "source": [
    "# Check shape of train and test data\n",
    "print('Training Predictors Shape:', train_predictors.shape)\n",
    "print('Training Target Shape:', train_target.shape)\n",
    "print('Testing Predictors Shape:', test_predictors.shape)\n",
    "print('Testing Target Shape:', test_target.shape)"
   ]
  },
  {
   "cell_type": "code",
   "execution_count": 13,
   "metadata": {},
   "outputs": [
    {
     "name": "stdout",
     "output_type": "stream",
     "text": [
      "--- 77.78699994087219 seconds ---\n"
     ]
    }
   ],
   "source": [
    "# Instantiate model with 100 decision trees\n",
    "### NOTE - INCREASE THIS TO 1000 DECISION TREES IF RUNTIME ISNT TOO LONG\n",
    "\n",
    "start_time = time.time()\n",
    "\n",
    "rf = RandomForestRegressor(n_estimators = 100, random_state = 42)\n",
    "# Train the model on training data\n",
    "rf.fit(train_predictors, train_target)\n",
    "\n",
    "end_time = time.time()\n",
    "\n",
    "print(\"--- %s seconds ---\" % (end_time - start_time))"
   ]
  },
  {
   "cell_type": "code",
   "execution_count": 17,
   "metadata": {},
   "outputs": [
    {
     "name": "stdout",
     "output_type": "stream",
     "text": [
      "Target Variable Max Value: 2.03 MW\n",
      "Max Absolute Error: 1.44 MW\n",
      "Mean Target Variable Value: 0.11 MW\n",
      "Mean Absolute Error: 0.04 MW\n",
      "Accuracy: 53.96 %.\n"
     ]
    }
   ],
   "source": [
    "# Use the forest's predict method on the test data\n",
    "predictions = rf.predict(test_predictors)\n",
    "\n",
    "# Calculate max and mean test_target value\n",
    "test_target_max_1 = max(test_target)\n",
    "test_target_mean_1 = np.mean(test_target)\n",
    "\n",
    "# Calculate the absolute errors, calculate max and mean absolute error\n",
    "errors = abs(predictions - test_target)\n",
    "max_absolute_error_1 = max(errors)\n",
    "mean_absolute_error_1 = np.mean(errors)\n",
    "\n",
    "# Calculate mean absolute percentage error (MAPE), and Accuracy\n",
    "mape_1 = 100 * (errors / test_target)\n",
    "accuracy_1 = 100 - np.mean(mape_1)\n",
    "\n",
    "# Print out some statistics, including accuracy\n",
    "print('Target Variable Max Value:', round(test_target_max_1, 2), 'kWh')\n",
    "print('Max Absolute Error:', round(max_absolute_error_1, 2), 'kWh')\n",
    "print('Mean Target Variable Value:', round(test_target_mean_1, 2), 'kWh')\n",
    "print('Mean Absolute Error:', round(mean_absolute_error_1, 2), 'kWh')\n",
    "print('Accuracy:', round(accuracy_1, 2), '%.')"
   ]
  },
  {
   "cell_type": "markdown",
   "metadata": {},
   "source": [
    "##### KNN"
   ]
  },
  {
   "cell_type": "code",
   "execution_count": 18,
   "metadata": {},
   "outputs": [
    {
     "data": {
      "text/plain": [
       "KNeighborsRegressor(algorithm='auto', leaf_size=30, metric='minkowski',\n",
       "          metric_params=None, n_jobs=None, n_neighbors=5, p=2,\n",
       "          weights='uniform')"
      ]
     },
     "execution_count": 18,
     "metadata": {},
     "output_type": "execute_result"
    }
   ],
   "source": [
    "# Create scaler\n",
    "scaler = StandardScaler()\n",
    "\n",
    "# Scale training predictors\n",
    "train_pred_scaled = scaler.fit_transform(train_predictors)\n",
    "\n",
    "# Scale test predictors\n",
    "test_pred_scaled = scaler.transform(test_predictors)\n",
    "\n",
    "# Create KNN model\n",
    "model = KNeighborsRegressor()\n",
    "\n",
    "# Train model with scaled training data and target values\n",
    "model.fit(train_pred_scaled, train_target)"
   ]
  },
  {
   "cell_type": "code",
   "execution_count": 19,
   "metadata": {},
   "outputs": [
    {
     "name": "stdout",
     "output_type": "stream",
     "text": [
      "mse =  0.014292998311765372  & mae =  0.03992679622342063  & rmse =  0.11955332831738885\n"
     ]
    }
   ],
   "source": [
    "# Calculate and display errors for training data using mean squared error (MSE), \n",
    "# mean absolute error (MAE), and root mean squared errot (RMSE)\n",
    "mse = mean_squared_error(train_target, model.predict(train_pred_scaled))\n",
    "mae = mean_absolute_error(train_target, model.predict(train_pred_scaled))\n",
    "print(\"mse = \",mse,\" & mae = \",mae,\" & rmse = \", sqrt(mse))"
   ]
  },
  {
   "cell_type": "code",
   "execution_count": 20,
   "metadata": {},
   "outputs": [
    {
     "name": "stdout",
     "output_type": "stream",
     "text": [
      "mse =  0.024463469050058296  & mae =  0.05424499028371551  & rmse =  0.15640802105409524\n"
     ]
    }
   ],
   "source": [
    "# Calculate and display MSE, MAE, & RMSE on test data\n",
    "test_mse = mean_squared_error(test_target, model.predict(test_pred_scaled))\n",
    "test_mae = mean_absolute_error(test_target, model.predict(test_pred_scaled))\n",
    "print(\"mse = \",test_mse,\" & mae = \",test_mae,\" & rmse = \", sqrt(test_mse))"
   ]
  },
  {
   "cell_type": "code",
   "execution_count": 21,
   "metadata": {},
   "outputs": [
    {
     "name": "stdout",
     "output_type": "stream",
     "text": [
      "Target Variable Max Value: 2.03 MW\n",
      "Max Absolute Error: 1.78 MW\n",
      "Mean Target Variable Value: 0.11 MW\n",
      "Mean Absolute Error: 0.05 MW\n",
      "Accuracy: 42.68 %.\n"
     ]
    }
   ],
   "source": [
    "# Use predict method on the test data\n",
    "predictions = model.predict(test_pred_scaled)\n",
    "\n",
    "# Calculate max and mean test_target value\n",
    "test_target_max_2 = max(test_target)\n",
    "test_target_mean_2 = np.mean(test_target)\n",
    "\n",
    "# Calculate the absolute errors, calculate max and mean absolute error\n",
    "errors = abs(predictions - test_target)\n",
    "max_absolute_error_2 = max(errors)\n",
    "mean_absolute_error_2 = np.mean(errors)\n",
    "\n",
    "# Calculate mean absolute percentage error (MAPE), and Accuracy\n",
    "mape_2 = 100 * (errors / test_target)\n",
    "accuracy_2 = 100 - np.mean(mape_2)\n",
    "\n",
    "# Print out some statistics, including accuracy\n",
    "print('Target Variable Max Value:', round(test_target_max_2, 2), 'kWh')\n",
    "print('Max Absolute Error:', round(max_absolute_error_2, 2), 'kWh')\n",
    "print('Mean Target Variable Value:', round(test_target_mean_2, 2), 'kWh')\n",
    "print('Mean Absolute Error:', round(mean_absolute_error_2, 2), 'kWh')\n",
    "print('Accuracy:', round(accuracy_2, 2), '%.')"
   ]
  },
  {
   "cell_type": "markdown",
   "metadata": {},
   "source": [
    "### Predicting Electricity Use for UES-Seacoast Service Territory\n",
    "##### Includes weather data, but less ISO-NE data than the ISO aggregate dataset"
   ]
  },
  {
   "cell_type": "markdown",
   "metadata": {},
   "source": [
    "##### Random Forest"
   ]
  },
  {
   "cell_type": "code",
   "execution_count": 22,
   "metadata": {},
   "outputs": [],
   "source": [
    "# Read in data\n",
    "data = pd.read_csv(\"ML_data - predict UES - Day-Ahead Shifted.csv\")"
   ]
  },
  {
   "cell_type": "code",
   "execution_count": 23,
   "metadata": {},
   "outputs": [
    {
     "data": {
      "text/html": [
       "<div>\n",
       "<style scoped>\n",
       "    .dataframe tbody tr th:only-of-type {\n",
       "        vertical-align: middle;\n",
       "    }\n",
       "\n",
       "    .dataframe tbody tr th {\n",
       "        vertical-align: top;\n",
       "    }\n",
       "\n",
       "    .dataframe thead th {\n",
       "        text-align: right;\n",
       "    }\n",
       "</style>\n",
       "<table border=\"1\" class=\"dataframe\">\n",
       "  <thead>\n",
       "    <tr style=\"text-align: right;\">\n",
       "      <th></th>\n",
       "      <th>Wk.Day</th>\n",
       "      <th>Month</th>\n",
       "      <th>Day</th>\n",
       "      <th>Year</th>\n",
       "      <th>Numeric_Time</th>\n",
       "      <th>TMP</th>\n",
       "      <th>WSP</th>\n",
       "      <th>WDR</th>\n",
       "      <th>ISO.tot.dmd</th>\n",
       "      <th>NH.RT.MWh</th>\n",
       "      <th>UES.Cap.DayLoad</th>\n",
       "      <th>UES.Sea.DayLoad</th>\n",
       "      <th>LMP.RT.NH</th>\n",
       "      <th>UES.Sea.NextDayLoad</th>\n",
       "    </tr>\n",
       "  </thead>\n",
       "  <tbody>\n",
       "    <tr>\n",
       "      <th>0</th>\n",
       "      <td>Fri</td>\n",
       "      <td>8</td>\n",
       "      <td>26</td>\n",
       "      <td>2016</td>\n",
       "      <td>1</td>\n",
       "      <td>75</td>\n",
       "      <td>7</td>\n",
       "      <td>200</td>\n",
       "      <td>15020.25</td>\n",
       "      <td>1248.8</td>\n",
       "      <td>50.321</td>\n",
       "      <td>78.051</td>\n",
       "      <td>19.80</td>\n",
       "      <td>71.854</td>\n",
       "    </tr>\n",
       "    <tr>\n",
       "      <th>1</th>\n",
       "      <td>Fri</td>\n",
       "      <td>8</td>\n",
       "      <td>26</td>\n",
       "      <td>2016</td>\n",
       "      <td>2</td>\n",
       "      <td>74</td>\n",
       "      <td>7</td>\n",
       "      <td>210</td>\n",
       "      <td>14966.40</td>\n",
       "      <td>1207.3</td>\n",
       "      <td>48.669</td>\n",
       "      <td>75.021</td>\n",
       "      <td>19.68</td>\n",
       "      <td>67.551</td>\n",
       "    </tr>\n",
       "    <tr>\n",
       "      <th>2</th>\n",
       "      <td>Fri</td>\n",
       "      <td>8</td>\n",
       "      <td>26</td>\n",
       "      <td>2016</td>\n",
       "      <td>3</td>\n",
       "      <td>74</td>\n",
       "      <td>7</td>\n",
       "      <td>210</td>\n",
       "      <td>14762.88</td>\n",
       "      <td>1187.1</td>\n",
       "      <td>47.546</td>\n",
       "      <td>73.552</td>\n",
       "      <td>19.47</td>\n",
       "      <td>65.174</td>\n",
       "    </tr>\n",
       "    <tr>\n",
       "      <th>3</th>\n",
       "      <td>Fri</td>\n",
       "      <td>8</td>\n",
       "      <td>26</td>\n",
       "      <td>2016</td>\n",
       "      <td>4</td>\n",
       "      <td>73</td>\n",
       "      <td>6</td>\n",
       "      <td>250</td>\n",
       "      <td>14539.61</td>\n",
       "      <td>1201.0</td>\n",
       "      <td>48.176</td>\n",
       "      <td>73.772</td>\n",
       "      <td>18.84</td>\n",
       "      <td>64.206</td>\n",
       "    </tr>\n",
       "    <tr>\n",
       "      <th>4</th>\n",
       "      <td>Fri</td>\n",
       "      <td>8</td>\n",
       "      <td>26</td>\n",
       "      <td>2016</td>\n",
       "      <td>5</td>\n",
       "      <td>72</td>\n",
       "      <td>6</td>\n",
       "      <td>240</td>\n",
       "      <td>14526.14</td>\n",
       "      <td>1281.4</td>\n",
       "      <td>52.154</td>\n",
       "      <td>77.124</td>\n",
       "      <td>18.23</td>\n",
       "      <td>65.020</td>\n",
       "    </tr>\n",
       "  </tbody>\n",
       "</table>\n",
       "</div>"
      ],
      "text/plain": [
       "  Wk.Day  Month  Day  Year  Numeric_Time  TMP  WSP  WDR  ISO.tot.dmd  \\\n",
       "0    Fri      8   26  2016             1   75    7  200     15020.25   \n",
       "1    Fri      8   26  2016             2   74    7  210     14966.40   \n",
       "2    Fri      8   26  2016             3   74    7  210     14762.88   \n",
       "3    Fri      8   26  2016             4   73    6  250     14539.61   \n",
       "4    Fri      8   26  2016             5   72    6  240     14526.14   \n",
       "\n",
       "   NH.RT.MWh  UES.Cap.DayLoad  UES.Sea.DayLoad  LMP.RT.NH  UES.Sea.NextDayLoad  \n",
       "0     1248.8           50.321           78.051      19.80               71.854  \n",
       "1     1207.3           48.669           75.021      19.68               67.551  \n",
       "2     1187.1           47.546           73.552      19.47               65.174  \n",
       "3     1201.0           48.176           73.772      18.84               64.206  \n",
       "4     1281.4           52.154           77.124      18.23               65.020  "
      ]
     },
     "execution_count": 23,
     "metadata": {},
     "output_type": "execute_result"
    }
   ],
   "source": [
    "# View first few rows of data\n",
    "data.head()"
   ]
  },
  {
   "cell_type": "code",
   "execution_count": 24,
   "metadata": {},
   "outputs": [
    {
     "data": {
      "text/plain": [
       "Wk.Day                  object\n",
       "Month                    int64\n",
       "Day                      int64\n",
       "Year                     int64\n",
       "Numeric_Time             int64\n",
       "TMP                      int64\n",
       "WSP                      int64\n",
       "WDR                      int64\n",
       "ISO.tot.dmd            float64\n",
       "NH.RT.MWh              float64\n",
       "UES.Cap.DayLoad        float64\n",
       "UES.Sea.DayLoad        float64\n",
       "LMP.RT.NH              float64\n",
       "UES.Sea.NextDayLoad    float64\n",
       "dtype: object"
      ]
     },
     "execution_count": 24,
     "metadata": {},
     "output_type": "execute_result"
    }
   ],
   "source": [
    "# Check dataframe data types\n",
    "data.dtypes"
   ]
  },
  {
   "cell_type": "code",
   "execution_count": 25,
   "metadata": {},
   "outputs": [
    {
     "data": {
      "text/plain": [
       "(20568, 14)"
      ]
     },
     "execution_count": 25,
     "metadata": {},
     "output_type": "execute_result"
    }
   ],
   "source": [
    "# Shape of dataframe\n",
    "data.shape"
   ]
  },
  {
   "cell_type": "code",
   "execution_count": 26,
   "metadata": {},
   "outputs": [
    {
     "data": {
      "text/html": [
       "<div>\n",
       "<style scoped>\n",
       "    .dataframe tbody tr th:only-of-type {\n",
       "        vertical-align: middle;\n",
       "    }\n",
       "\n",
       "    .dataframe tbody tr th {\n",
       "        vertical-align: top;\n",
       "    }\n",
       "\n",
       "    .dataframe thead th {\n",
       "        text-align: right;\n",
       "    }\n",
       "</style>\n",
       "<table border=\"1\" class=\"dataframe\">\n",
       "  <thead>\n",
       "    <tr style=\"text-align: right;\">\n",
       "      <th></th>\n",
       "      <th>Month</th>\n",
       "      <th>Day</th>\n",
       "      <th>Year</th>\n",
       "      <th>Numeric_Time</th>\n",
       "      <th>TMP</th>\n",
       "      <th>WSP</th>\n",
       "      <th>WDR</th>\n",
       "      <th>ISO.tot.dmd</th>\n",
       "      <th>NH.RT.MWh</th>\n",
       "      <th>UES.Cap.DayLoad</th>\n",
       "      <th>UES.Sea.DayLoad</th>\n",
       "      <th>LMP.RT.NH</th>\n",
       "      <th>UES.Sea.NextDayLoad</th>\n",
       "    </tr>\n",
       "  </thead>\n",
       "  <tbody>\n",
       "    <tr>\n",
       "      <th>count</th>\n",
       "      <td>20568.000000</td>\n",
       "      <td>20568.000000</td>\n",
       "      <td>20568.000000</td>\n",
       "      <td>20568.000000</td>\n",
       "      <td>20568.000000</td>\n",
       "      <td>20568.000000</td>\n",
       "      <td>20568.000000</td>\n",
       "      <td>20568.000000</td>\n",
       "      <td>20568.000000</td>\n",
       "      <td>20568.000000</td>\n",
       "      <td>20568.000000</td>\n",
       "      <td>20568.000000</td>\n",
       "      <td>20568.000000</td>\n",
       "    </tr>\n",
       "    <tr>\n",
       "      <th>mean</th>\n",
       "      <td>7.097773</td>\n",
       "      <td>15.795313</td>\n",
       "      <td>2017.275379</td>\n",
       "      <td>11.499951</td>\n",
       "      <td>49.335862</td>\n",
       "      <td>7.574436</td>\n",
       "      <td>182.818748</td>\n",
       "      <td>13972.419631</td>\n",
       "      <td>1302.039605</td>\n",
       "      <td>48.548000</td>\n",
       "      <td>77.356042</td>\n",
       "      <td>37.041960</td>\n",
       "      <td>77.321125</td>\n",
       "    </tr>\n",
       "    <tr>\n",
       "      <th>std</th>\n",
       "      <td>3.495278</td>\n",
       "      <td>8.823213</td>\n",
       "      <td>0.705894</td>\n",
       "      <td>6.922418</td>\n",
       "      <td>18.539691</td>\n",
       "      <td>5.126797</td>\n",
       "      <td>113.505901</td>\n",
       "      <td>2493.915010</td>\n",
       "      <td>255.267825</td>\n",
       "      <td>15.270029</td>\n",
       "      <td>17.897408</td>\n",
       "      <td>38.697544</td>\n",
       "      <td>17.857973</td>\n",
       "    </tr>\n",
       "    <tr>\n",
       "      <th>min</th>\n",
       "      <td>1.000000</td>\n",
       "      <td>1.000000</td>\n",
       "      <td>2016.000000</td>\n",
       "      <td>0.000000</td>\n",
       "      <td>-6.000000</td>\n",
       "      <td>0.000000</td>\n",
       "      <td>0.000000</td>\n",
       "      <td>9007.880000</td>\n",
       "      <td>603.100000</td>\n",
       "      <td>5.395000</td>\n",
       "      <td>30.578000</td>\n",
       "      <td>-133.770000</td>\n",
       "      <td>30.578000</td>\n",
       "    </tr>\n",
       "    <tr>\n",
       "      <th>25%</th>\n",
       "      <td>4.000000</td>\n",
       "      <td>8.000000</td>\n",
       "      <td>2017.000000</td>\n",
       "      <td>5.750000</td>\n",
       "      <td>35.000000</td>\n",
       "      <td>5.000000</td>\n",
       "      <td>80.000000</td>\n",
       "      <td>12208.322500</td>\n",
       "      <td>1114.400000</td>\n",
       "      <td>37.076500</td>\n",
       "      <td>65.018750</td>\n",
       "      <td>20.540000</td>\n",
       "      <td>65.009000</td>\n",
       "    </tr>\n",
       "    <tr>\n",
       "      <th>50%</th>\n",
       "      <td>8.000000</td>\n",
       "      <td>16.000000</td>\n",
       "      <td>2017.000000</td>\n",
       "      <td>11.500000</td>\n",
       "      <td>49.000000</td>\n",
       "      <td>7.000000</td>\n",
       "      <td>220.000000</td>\n",
       "      <td>13722.705000</td>\n",
       "      <td>1314.000000</td>\n",
       "      <td>47.886500</td>\n",
       "      <td>76.425000</td>\n",
       "      <td>27.970000</td>\n",
       "      <td>76.407500</td>\n",
       "    </tr>\n",
       "    <tr>\n",
       "      <th>75%</th>\n",
       "      <td>10.000000</td>\n",
       "      <td>23.000000</td>\n",
       "      <td>2018.000000</td>\n",
       "      <td>17.250000</td>\n",
       "      <td>65.000000</td>\n",
       "      <td>10.000000</td>\n",
       "      <td>280.000000</td>\n",
       "      <td>15363.170000</td>\n",
       "      <td>1457.200000</td>\n",
       "      <td>58.261000</td>\n",
       "      <td>86.462000</td>\n",
       "      <td>42.662500</td>\n",
       "      <td>86.427000</td>\n",
       "    </tr>\n",
       "    <tr>\n",
       "      <th>max</th>\n",
       "      <td>12.000000</td>\n",
       "      <td>31.000000</td>\n",
       "      <td>2018.000000</td>\n",
       "      <td>23.000000</td>\n",
       "      <td>95.000000</td>\n",
       "      <td>37.000000</td>\n",
       "      <td>360.000000</td>\n",
       "      <td>25763.200000</td>\n",
       "      <td>2379.500000</td>\n",
       "      <td>114.956000</td>\n",
       "      <td>166.800000</td>\n",
       "      <td>2493.150000</td>\n",
       "      <td>166.800000</td>\n",
       "    </tr>\n",
       "  </tbody>\n",
       "</table>\n",
       "</div>"
      ],
      "text/plain": [
       "              Month           Day          Year  Numeric_Time           TMP  \\\n",
       "count  20568.000000  20568.000000  20568.000000  20568.000000  20568.000000   \n",
       "mean       7.097773     15.795313   2017.275379     11.499951     49.335862   \n",
       "std        3.495278      8.823213      0.705894      6.922418     18.539691   \n",
       "min        1.000000      1.000000   2016.000000      0.000000     -6.000000   \n",
       "25%        4.000000      8.000000   2017.000000      5.750000     35.000000   \n",
       "50%        8.000000     16.000000   2017.000000     11.500000     49.000000   \n",
       "75%       10.000000     23.000000   2018.000000     17.250000     65.000000   \n",
       "max       12.000000     31.000000   2018.000000     23.000000     95.000000   \n",
       "\n",
       "                WSP           WDR   ISO.tot.dmd     NH.RT.MWh  \\\n",
       "count  20568.000000  20568.000000  20568.000000  20568.000000   \n",
       "mean       7.574436    182.818748  13972.419631   1302.039605   \n",
       "std        5.126797    113.505901   2493.915010    255.267825   \n",
       "min        0.000000      0.000000   9007.880000    603.100000   \n",
       "25%        5.000000     80.000000  12208.322500   1114.400000   \n",
       "50%        7.000000    220.000000  13722.705000   1314.000000   \n",
       "75%       10.000000    280.000000  15363.170000   1457.200000   \n",
       "max       37.000000    360.000000  25763.200000   2379.500000   \n",
       "\n",
       "       UES.Cap.DayLoad  UES.Sea.DayLoad     LMP.RT.NH  UES.Sea.NextDayLoad  \n",
       "count     20568.000000     20568.000000  20568.000000         20568.000000  \n",
       "mean         48.548000        77.356042     37.041960            77.321125  \n",
       "std          15.270029        17.897408     38.697544            17.857973  \n",
       "min           5.395000        30.578000   -133.770000            30.578000  \n",
       "25%          37.076500        65.018750     20.540000            65.009000  \n",
       "50%          47.886500        76.425000     27.970000            76.407500  \n",
       "75%          58.261000        86.462000     42.662500            86.427000  \n",
       "max         114.956000       166.800000   2493.150000           166.800000  "
      ]
     },
     "execution_count": 26,
     "metadata": {},
     "output_type": "execute_result"
    }
   ],
   "source": [
    "# Descriptive statistics for each column\n",
    "data.describe()"
   ]
  },
  {
   "cell_type": "code",
   "execution_count": 27,
   "metadata": {},
   "outputs": [
    {
     "data": {
      "text/plain": [
       "Month                    int64\n",
       "Day                      int64\n",
       "Year                     int64\n",
       "Numeric_Time             int64\n",
       "TMP                      int64\n",
       "WSP                      int64\n",
       "WDR                      int64\n",
       "ISO.tot.dmd            float64\n",
       "NH.RT.MWh              float64\n",
       "UES.Cap.DayLoad        float64\n",
       "UES.Sea.DayLoad        float64\n",
       "LMP.RT.NH              float64\n",
       "UES.Sea.NextDayLoad    float64\n",
       "Wk.Day_Fri               uint8\n",
       "Wk.Day_Mon               uint8\n",
       "Wk.Day_Sat               uint8\n",
       "Wk.Day_Sun               uint8\n",
       "Wk.Day_Thu               uint8\n",
       "Wk.Day_Tue               uint8\n",
       "Wk.Day_Wed               uint8\n",
       "dtype: object"
      ]
     },
     "execution_count": 27,
     "metadata": {},
     "output_type": "execute_result"
    }
   ],
   "source": [
    "# One-hot encoding\n",
    "data = pd.get_dummies(data)\n",
    "\n",
    "# Check dataframe data types\n",
    "data.dtypes"
   ]
  },
  {
   "cell_type": "code",
   "execution_count": 28,
   "metadata": {},
   "outputs": [],
   "source": [
    "# Split data into target variable and predictor variables\n",
    "\n",
    "# Target is the value we want to predict (in this case, MW of UES-Seacoast Load Region)\n",
    "target = np.array(data['UES.Sea.NextDayLoad'])\n",
    "\n",
    "# Remove the target from the predictors\n",
    "# axis 1 refers to the columns\n",
    "predictors = data.drop('UES.Sea.NextDayLoad', axis = 1)\n",
    "\n",
    "# Saving predictor names for later use\n",
    "predictor_list = list(predictors.columns)\n",
    "\n",
    "# Convert to numpy array\n",
    "predictors = np.array(predictors)"
   ]
  },
  {
   "cell_type": "code",
   "execution_count": 29,
   "metadata": {},
   "outputs": [],
   "source": [
    "# Split the data into training and testing sets using sklearn\n",
    "train_predictors, test_predictors, train_target, test_target = train_test_split(predictors, target, test_size = 0.25, random_state = 77)\n"
   ]
  },
  {
   "cell_type": "code",
   "execution_count": 30,
   "metadata": {},
   "outputs": [
    {
     "name": "stdout",
     "output_type": "stream",
     "text": [
      "Training Predictors Shape: (15426, 19)\n",
      "Training Target Shape: (15426,)\n",
      "Testing Predictors Shape: (5142, 19)\n",
      "Testing Target Shape: (5142,)\n"
     ]
    }
   ],
   "source": [
    "# Check shape of train and test data\n",
    "print('Training Predictors Shape:', train_predictors.shape)\n",
    "print('Training Target Shape:', train_target.shape)\n",
    "print('Testing Predictors Shape:', test_predictors.shape)\n",
    "print('Testing Target Shape:', test_target.shape)"
   ]
  },
  {
   "cell_type": "code",
   "execution_count": 31,
   "metadata": {},
   "outputs": [
    {
     "name": "stdout",
     "output_type": "stream",
     "text": [
      "--- 60.289000034332275 seconds ---\n"
     ]
    }
   ],
   "source": [
    "# Instantiate model with 100 decision trees\n",
    "### NOTE - INCREASE THIS TO 1000 DECISION TREES IF RUNTIME ISNT TOO LONG\n",
    "\n",
    "start_time = time.time()\n",
    "\n",
    "rf = RandomForestRegressor(n_estimators = 300, random_state = 77)\n",
    "# Train the model on training data\n",
    "rf.fit(train_predictors, train_target)\n",
    "\n",
    "end_time = time.time()\n",
    "\n",
    "print(\"--- %s seconds ---\" % (end_time - start_time))"
   ]
  },
  {
   "cell_type": "code",
   "execution_count": 34,
   "metadata": {},
   "outputs": [
    {
     "name": "stdout",
     "output_type": "stream",
     "text": [
      "Target Variable Max Value: 166.8 MW\n",
      "Max Absolute Error: 36.71 MW\n",
      "Mean Target Variable Value: 77.4 MW\n",
      "Mean Absolute Error: 3.63 MW\n",
      "Accuracy: 95.41 %.\n"
     ]
    }
   ],
   "source": [
    "# Use predict method on the test data\n",
    "predictions = rf.predict(test_predictors)\n",
    "\n",
    "# Calculate max and mean test_target value\n",
    "test_target_max_3 = max(test_target)\n",
    "test_target_mean_3 = np.mean(test_target)\n",
    "\n",
    "# Calculate the absolute errors, calculate max and mean absolute error\n",
    "errors = abs(predictions - test_target)\n",
    "max_absolute_error_3 = max(errors)\n",
    "mean_absolute_error_3 = np.mean(errors)\n",
    "\n",
    "# Calculate mean absolute percentage error (MAPE), and Accuracy\n",
    "mape_3 = 100 * (errors / test_target)\n",
    "accuracy_3 = 100 - np.mean(mape_3)\n",
    "\n",
    "# Print out some statistics, including accuracy\n",
    "print('Target Variable Max Value:', round(test_target_max_3, 2), 'MW')\n",
    "print('Max Absolute Error:', round(max_absolute_error_3, 2), 'MW')\n",
    "print('Mean Target Variable Value:', round(test_target_mean_3, 2), 'MW')\n",
    "print('Mean Absolute Error:', round(mean_absolute_error_3, 2), 'MW')\n",
    "print('Accuracy:', round(accuracy_3, 2), '%.')"
   ]
  },
  {
   "cell_type": "code",
   "execution_count": 35,
   "metadata": {},
   "outputs": [
    {
     "name": "stdout",
     "output_type": "stream",
     "text": [
      "Variable: UES.Sea.DayLoad      Importance: 0.81\n",
      "Variable: NH.RT.MWh            Importance: 0.03\n",
      "Variable: Day                  Importance: 0.02\n",
      "Variable: Numeric_Time         Importance: 0.02\n",
      "Variable: TMP                  Importance: 0.02\n",
      "Variable: ISO.tot.dmd          Importance: 0.02\n",
      "Variable: LMP.RT.NH            Importance: 0.02\n",
      "Variable: Month                Importance: 0.01\n",
      "Variable: WSP                  Importance: 0.01\n",
      "Variable: WDR                  Importance: 0.01\n",
      "Variable: UES.Cap.DayLoad      Importance: 0.01\n",
      "Variable: Wk.Day_Fri           Importance: 0.01\n",
      "Variable: Wk.Day_Sun           Importance: 0.01\n",
      "Variable: Year                 Importance: 0.0\n",
      "Variable: Wk.Day_Mon           Importance: 0.0\n",
      "Variable: Wk.Day_Sat           Importance: 0.0\n",
      "Variable: Wk.Day_Thu           Importance: 0.0\n",
      "Variable: Wk.Day_Tue           Importance: 0.0\n",
      "Variable: Wk.Day_Wed           Importance: 0.0\n"
     ]
    }
   ],
   "source": [
    "# Get numerical feature importances\n",
    "importances = list(rf.feature_importances_)\n",
    "\n",
    "# List of tuples with variable and importance\n",
    "feature_importances = [(feature, round(importance, 2)) for feature, importance in zip(predictor_list, importances)]\n",
    "\n",
    "# Sort the feature importances by most important first\n",
    "feature_importances = sorted(feature_importances, key = lambda x: x[1], reverse = True)\n",
    "\n",
    "# Print out the feature and importances \n",
    "[print('Variable: {:20} Importance: {}'.format(*pair)) for pair in feature_importances];"
   ]
  },
  {
   "cell_type": "code",
   "execution_count": 39,
   "metadata": {},
   "outputs": [
    {
     "name": "stdout",
     "output_type": "stream",
     "text": [
      "Parameters currently in use:\n",
      "\n",
      "{'bootstrap': True,\n",
      " 'criterion': 'mse',\n",
      " 'max_depth': None,\n",
      " 'max_features': 'auto',\n",
      " 'max_leaf_nodes': None,\n",
      " 'min_impurity_decrease': 0.0,\n",
      " 'min_impurity_split': None,\n",
      " 'min_samples_leaf': 1,\n",
      " 'min_samples_split': 2,\n",
      " 'min_weight_fraction_leaf': 0.0,\n",
      " 'n_estimators': 300,\n",
      " 'n_jobs': None,\n",
      " 'oob_score': False,\n",
      " 'random_state': 77,\n",
      " 'verbose': 0,\n",
      " 'warm_start': False}\n"
     ]
    }
   ],
   "source": [
    "# Look at parameters used by our current forest\n",
    "print('Parameters currently in use:\\n')\n",
    "pprint(rf.get_params())"
   ]
  },
  {
   "cell_type": "code",
   "execution_count": 41,
   "metadata": {},
   "outputs": [
    {
     "name": "stdout",
     "output_type": "stream",
     "text": [
      "{'bootstrap': [True, False],\n",
      " 'max_depth': [10, 20, 30, 40, 50, 60, 70, 80, 90, 100, 110, None],\n",
      " 'max_features': ['auto', 'sqrt'],\n",
      " 'min_samples_leaf': [1, 2, 4],\n",
      " 'min_samples_split': [2, 5, 10],\n",
      " 'n_estimators': [200, 400, 600, 800, 1000, 1200, 1400, 1600, 1800, 2000]}\n"
     ]
    }
   ],
   "source": [
    "# Number of trees in random forest\n",
    "n_estimators = [int(x) for x in np.linspace(start = 200, stop = 2000, num = 10)]\n",
    "\n",
    "# Number of features to consider at every split\n",
    "max_features = ['auto', 'sqrt']\n",
    "\n",
    "# Maximum number of levels in tree\n",
    "max_depth = [int(x) for x in np.linspace(10, 110, num = 11)]\n",
    "max_depth.append(None)\n",
    "\n",
    "# Minimum number of samples required to split a node\n",
    "min_samples_split = [2, 5, 10]\n",
    "\n",
    "# Minimum number of samples required at each leaf node\n",
    "min_samples_leaf = [1, 2, 4]\n",
    "\n",
    "# Method of selecting samples for training each tree\n",
    "bootstrap = [True, False]\n",
    "\n",
    "# Create the random grid\n",
    "random_grid = {'n_estimators': n_estimators,\n",
    "               'max_features': max_features,\n",
    "               'max_depth': max_depth,\n",
    "               'min_samples_split': min_samples_split,\n",
    "               'min_samples_leaf': min_samples_leaf,\n",
    "               'bootstrap': bootstrap}\n",
    "pprint(random_grid)"
   ]
  },
  {
   "cell_type": "code",
   "execution_count": 42,
   "metadata": {},
   "outputs": [
    {
     "name": "stdout",
     "output_type": "stream",
     "text": [
      "Fitting 3 folds for each of 100 candidates, totalling 300 fits\n"
     ]
    },
    {
     "name": "stderr",
     "output_type": "stream",
     "text": [
      "[Parallel(n_jobs=-1)]: Using backend LokyBackend with 4 concurrent workers.\n",
      "[Parallel(n_jobs=-1)]: Done  33 tasks      | elapsed: 16.7min\n",
      "[Parallel(n_jobs=-1)]: Done 154 tasks      | elapsed: 77.0min\n",
      "[Parallel(n_jobs=-1)]: Done 300 out of 300 | elapsed: 163.5min finished\n"
     ]
    },
    {
     "data": {
      "text/plain": [
       "RandomizedSearchCV(cv=3, error_score='raise-deprecating',\n",
       "          estimator=RandomForestRegressor(bootstrap=True, criterion='mse', max_depth=None,\n",
       "           max_features='auto', max_leaf_nodes=None,\n",
       "           min_impurity_decrease=0.0, min_impurity_split=None,\n",
       "           min_samples_leaf=1, min_samples_split=2,\n",
       "           min_weight_fraction_leaf=0.0, n_estimators='warn', n_jobs=None,\n",
       "           oob_score=False, random_state=None, verbose=0, warm_start=False),\n",
       "          fit_params=None, iid='warn', n_iter=100, n_jobs=-1,\n",
       "          param_distributions={'n_estimators': [200, 400, 600, 800, 1000, 1200, 1400, 1600, 1800, 2000], 'max_features': ['auto', 'sqrt'], 'max_depth': [10, 20, 30, 40, 50, 60, 70, 80, 90, 100, 110, None], 'min_samples_split': [2, 5, 10], 'min_samples_leaf': [1, 2, 4], 'bootstrap': [True, False]},\n",
       "          pre_dispatch='2*n_jobs', random_state=77, refit=True,\n",
       "          return_train_score='warn', scoring=None, verbose=2)"
      ]
     },
     "execution_count": 42,
     "metadata": {},
     "output_type": "execute_result"
    }
   ],
   "source": [
    "# Use the random grid to search for best hyperparameters\n",
    "# First create the base model to tune\n",
    "rf = RandomForestRegressor()\n",
    "\n",
    "# Random search of parameters, using 3 fold cross validation, \n",
    "# search across 100 different combinations, and use all available cores\n",
    "rf_random = RandomizedSearchCV(estimator = rf, param_distributions = random_grid, n_iter = 100, cv = 3, verbose=2, random_state=77, n_jobs = -1)\n",
    "\n",
    "# Fit the random search model\n",
    "rf_random.fit(train_predictors, train_target)"
   ]
  },
  {
   "cell_type": "code",
   "execution_count": 43,
   "metadata": {},
   "outputs": [
    {
     "data": {
      "text/plain": [
       "{'n_estimators': 600,\n",
       " 'min_samples_split': 2,\n",
       " 'min_samples_leaf': 1,\n",
       " 'max_features': 'sqrt',\n",
       " 'max_depth': 70,\n",
       " 'bootstrap': False}"
      ]
     },
     "execution_count": 43,
     "metadata": {},
     "output_type": "execute_result"
    }
   ],
   "source": [
    "# View the best parameters after fitting the random search\n",
    "rf_random.best_params_"
   ]
  },
  {
   "cell_type": "code",
   "execution_count": 47,
   "metadata": {},
   "outputs": [],
   "source": [
    "# Create function for evaluating model performance\n",
    "def evaluate(model, test_predictors, test_target):\n",
    "    predictions = model.predict(test_predictors)\n",
    "    errors = abs(predictions - test_target)\n",
    "    mape = 100 * np.mean(errors / test_target)\n",
    "    accuracy = 100 - mape\n",
    "    print('Model Performance')\n",
    "    print('Average Error: {:0.4f} MW.'.format(np.mean(errors)))\n",
    "    print('Accuracy = {:0.2f}%.'.format(accuracy))\n",
    "    \n",
    "    return accuracy"
   ]
  },
  {
   "cell_type": "code",
   "execution_count": 46,
   "metadata": {},
   "outputs": [
    {
     "name": "stdout",
     "output_type": "stream",
     "text": [
      "Model Performance\n",
      "Average Error: 3.6298 degrees.\n",
      "Accuracy = 95.41%.\n",
      "Model Performance\n",
      "Average Error: 3.2599 degrees.\n",
      "Accuracy = 95.86%.\n",
      "Improvement of 0.48%.\n"
     ]
    }
   ],
   "source": [
    "# Compare base model with results of randomized search to see if there is an improvement\n",
    "base_model = RandomForestRegressor(n_estimators = 300, random_state = 77)\n",
    "base_model.fit(train_predictors, train_target)\n",
    "base_accuracy = evaluate(base_model, test_predictors, test_target)\n",
    "\n",
    "\n",
    "best_random = rf_random.best_estimator_\n",
    "random_accuracy = evaluate(best_random, test_predictors, test_target)\n",
    "\n",
    "print('Improvement of {:0.2f}%.'.format( 100 * (random_accuracy - base_accuracy) / base_accuracy))"
   ]
  },
  {
   "cell_type": "code",
   "execution_count": 53,
   "metadata": {},
   "outputs": [],
   "source": [
    "### See if performance can be improved further by using GridSearchCV\n",
    "\n",
    "# Create the parameter grid based on the results of random search \n",
    "param_grid = {\n",
    "    'bootstrap': [True, False],\n",
    "    'max_depth': [70, 80, 90, 100],\n",
    "    'max_features': [2, 3, 5],\n",
    "    'min_samples_leaf': [1, 2, 4],\n",
    "    'min_samples_split': [2, 4],\n",
    "    'n_estimators': [100, 300, 600, 1000]\n",
    "}\n",
    "# Create a base model\n",
    "rf = RandomForestRegressor()\n",
    "\n",
    "# Instantiate the grid search model\n",
    "grid_search = GridSearchCV(estimator = rf, param_grid = param_grid, \n",
    "                          cv = 3, n_jobs = -1, verbose = 2)"
   ]
  },
  {
   "cell_type": "code",
   "execution_count": 54,
   "metadata": {},
   "outputs": [
    {
     "name": "stdout",
     "output_type": "stream",
     "text": [
      "Fitting 3 folds for each of 576 candidates, totalling 1728 fits\n"
     ]
    },
    {
     "name": "stderr",
     "output_type": "stream",
     "text": [
      "[Parallel(n_jobs=-1)]: Using backend LokyBackend with 4 concurrent workers.\n",
      "[Parallel(n_jobs=-1)]: Done  33 tasks      | elapsed:  2.2min\n",
      "[Parallel(n_jobs=-1)]: Done 154 tasks      | elapsed: 10.0min\n",
      "[Parallel(n_jobs=-1)]: Done 357 tasks      | elapsed: 25.0min\n",
      "[Parallel(n_jobs=-1)]: Done 640 tasks      | elapsed: 48.0min\n",
      "[Parallel(n_jobs=-1)]: Done 1005 tasks      | elapsed: 77.9min\n",
      "[Parallel(n_jobs=-1)]: Done 1450 tasks      | elapsed: 129.1min\n",
      "[Parallel(n_jobs=-1)]: Done 1728 out of 1728 | elapsed: 162.8min finished\n"
     ]
    },
    {
     "data": {
      "text/plain": [
       "{'bootstrap': False,\n",
       " 'max_depth': 80,\n",
       " 'max_features': 2,\n",
       " 'min_samples_leaf': 1,\n",
       " 'min_samples_split': 2,\n",
       " 'n_estimators': 1000}"
      ]
     },
     "execution_count": 54,
     "metadata": {},
     "output_type": "execute_result"
    }
   ],
   "source": [
    "# Fit the grid search to the data and view the best parameters\n",
    "grid_search.fit(train_predictors, train_target)\n",
    "grid_search.best_params_"
   ]
  },
  {
   "cell_type": "code",
   "execution_count": 55,
   "metadata": {},
   "outputs": [
    {
     "name": "stdout",
     "output_type": "stream",
     "text": [
      "Model Performance\n",
      "Average Error: 3.1748 degrees.\n",
      "Accuracy = 95.97%.\n",
      "Model Performance\n",
      "Average Error: 3.6298 degrees.\n",
      "Accuracy = 95.41%.\n",
      "Improvement of 0.58%.\n"
     ]
    }
   ],
   "source": [
    "# Use best estimator from GridSearchCV\n",
    "best_grid = grid_search.best_estimator_\n",
    "grid_accuracy = evaluate(best_grid, test_predictors, test_target)\n",
    "\n",
    "# Re-run base grid case to be able to compare accuracies\n",
    "base_model = RandomForestRegressor(n_estimators = 300, random_state = 77)\n",
    "base_model.fit(train_predictors, train_target)\n",
    "base_accuracy = evaluate(base_model, test_predictors, test_target)\n",
    "\n",
    "print('Improvement of {:0.2f}%.'.format( 100 * (grid_accuracy - base_accuracy) / base_accuracy))"
   ]
  },
  {
   "cell_type": "markdown",
   "metadata": {},
   "source": [
    "##### KNN"
   ]
  },
  {
   "cell_type": "code",
   "execution_count": 36,
   "metadata": {},
   "outputs": [
    {
     "data": {
      "text/plain": [
       "KNeighborsRegressor(algorithm='auto', leaf_size=30, metric='minkowski',\n",
       "          metric_params=None, n_jobs=None, n_neighbors=5, p=2,\n",
       "          weights='uniform')"
      ]
     },
     "execution_count": 36,
     "metadata": {},
     "output_type": "execute_result"
    }
   ],
   "source": [
    "# Create scaler\n",
    "scaler = StandardScaler()\n",
    "\n",
    "# Scale training predictors\n",
    "train_pred_scaled = scaler.fit_transform(train_predictors)\n",
    "\n",
    "# Scale test predictors\n",
    "test_pred_scaled = scaler.transform(test_predictors)\n",
    "\n",
    "# Create KNN model\n",
    "model = KNeighborsRegressor()\n",
    "\n",
    "# Train model with scaled training data and target values\n",
    "model.fit(train_pred_scaled, train_target)"
   ]
  },
  {
   "cell_type": "code",
   "execution_count": 37,
   "metadata": {},
   "outputs": [
    {
     "name": "stdout",
     "output_type": "stream",
     "text": [
      "mse =  15.485645117172568  & mae =  2.7132255983404643  & rmse =  3.9351804427716615\n"
     ]
    }
   ],
   "source": [
    "# Calculate and display errors for training data using mean squared error (MSE), \n",
    "# mean absolute error (MAE), and root mean squared errot (RMSE)\n",
    "mse = mean_squared_error(train_target, model.predict(train_pred_scaled))\n",
    "mae = mean_absolute_error(train_target, model.predict(train_pred_scaled))\n",
    "print(\"mse = \",mse,\" & mae = \",mae,\" & rmse = \", sqrt(mse))"
   ]
  },
  {
   "cell_type": "code",
   "execution_count": 38,
   "metadata": {},
   "outputs": [
    {
     "name": "stdout",
     "output_type": "stream",
     "text": [
      "mse =  26.110479368197904  & mae =  3.5914830649552707  & rmse =  5.109841422999143\n"
     ]
    }
   ],
   "source": [
    "# Calculate and display MSE, MAE, & RMSE on test data\n",
    "test_mse = mean_squared_error(test_target, model.predict(test_pred_scaled))\n",
    "test_mae = mean_absolute_error(test_target, model.predict(test_pred_scaled))\n",
    "print(\"mse = \",test_mse,\" & mae = \",test_mae,\" & rmse = \", sqrt(test_mse))"
   ]
  },
  {
   "cell_type": "code",
   "execution_count": 39,
   "metadata": {},
   "outputs": [
    {
     "name": "stdout",
     "output_type": "stream",
     "text": [
      "Target Variable Max Value: 166.8 MW\n",
      "Max Absolute Error: 34.85 MW\n",
      "Mean Target Variable Value: 77.4 MW\n",
      "Mean Absolute Error: 3.59 MW\n",
      "Accuracy: 95.28 %.\n"
     ]
    }
   ],
   "source": [
    "# Use predict method on the test data\n",
    "predictions = model.predict(test_pred_scaled)\n",
    "\n",
    "# Calculate max and mean test_target value\n",
    "test_target_max_4 = max(test_target)\n",
    "test_target_mean_4 = np.mean(test_target)\n",
    "\n",
    "# Calculate the absolute errors, calculate max and mean absolute error\n",
    "errors = abs(predictions - test_target)\n",
    "max_absolute_error_4 = max(errors)\n",
    "mean_absolute_error_4 = np.mean(errors)\n",
    "\n",
    "# Calculate mean absolute percentage error (MAPE), and Accuracy\n",
    "mape_4 = 100 * (errors / test_target)\n",
    "accuracy_4 = 100 - np.mean(mape_4)\n",
    "\n",
    "# Print out some statistics, including accuracy\n",
    "print('Target Variable Max Value:', round(test_target_max_4, 2), 'MW')\n",
    "print('Max Absolute Error:', round(max_absolute_error_4, 2), 'MW')\n",
    "print('Mean Target Variable Value:', round(test_target_mean_4, 2), 'MW')\n",
    "print('Mean Absolute Error:', round(mean_absolute_error_4, 2), 'MW')\n",
    "print('Accuracy:', round(accuracy_4, 2), '%.')"
   ]
  },
  {
   "cell_type": "code",
   "execution_count": null,
   "metadata": {},
   "outputs": [],
   "source": []
  }
 ],
 "metadata": {
  "kernelspec": {
   "display_name": "Python 3",
   "language": "python",
   "name": "python3"
  },
  "language_info": {
   "codemirror_mode": {
    "name": "ipython",
    "version": 3
   },
   "file_extension": ".py",
   "mimetype": "text/x-python",
   "name": "python",
   "nbconvert_exporter": "python",
   "pygments_lexer": "ipython3",
   "version": "3.7.0"
  }
 },
 "nbformat": 4,
 "nbformat_minor": 2
}
