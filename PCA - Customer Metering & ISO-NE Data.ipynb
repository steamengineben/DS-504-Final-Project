{
 "cells": [
  {
   "cell_type": "markdown",
   "metadata": {},
   "source": [
    "### PCA - Customer Metering Data"
   ]
  },
  {
   "cell_type": "code",
   "execution_count": 1,
   "metadata": {},
   "outputs": [],
   "source": [
    "import pandas as pd\n",
    "import numpy as np\n",
    "\n",
    "from sklearn.preprocessing import StandardScaler\n",
    "from sklearn.decomposition import PCA\n",
    "from sklearn.neighbors import KNeighborsRegressor\n",
    "from sklearn.model_selection import train_test_split\n",
    "from sklearn.model_selection import GridSearchCV\n",
    "\n",
    "from sklearn.metrics import mean_squared_error\n",
    "from sklearn.metrics import mean_absolute_error\n",
    "from math import sqrt"
   ]
  },
  {
   "cell_type": "code",
   "execution_count": 2,
   "metadata": {},
   "outputs": [],
   "source": [
    "# Read in data\n",
    "data = pd.read_csv(\"Metering data for PCA.csv\")"
   ]
  },
  {
   "cell_type": "code",
   "execution_count": 3,
   "metadata": {},
   "outputs": [
    {
     "data": {
      "text/html": [
       "<div>\n",
       "<style scoped>\n",
       "    .dataframe tbody tr th:only-of-type {\n",
       "        vertical-align: middle;\n",
       "    }\n",
       "\n",
       "    .dataframe tbody tr th {\n",
       "        vertical-align: top;\n",
       "    }\n",
       "\n",
       "    .dataframe thead th {\n",
       "        text-align: right;\n",
       "    }\n",
       "</style>\n",
       "<table border=\"1\" class=\"dataframe\">\n",
       "  <thead>\n",
       "    <tr style=\"text-align: right;\">\n",
       "      <th></th>\n",
       "      <th>Month</th>\n",
       "      <th>Day</th>\n",
       "      <th>Year</th>\n",
       "      <th>Numeric_Time</th>\n",
       "      <th>cust_02</th>\n",
       "      <th>cust_03</th>\n",
       "      <th>cust_04</th>\n",
       "      <th>cust_06</th>\n",
       "      <th>cust_07</th>\n",
       "      <th>cust_08</th>\n",
       "      <th>...</th>\n",
       "      <th>cust_12</th>\n",
       "      <th>cust_13</th>\n",
       "      <th>cust_15</th>\n",
       "      <th>cust_16</th>\n",
       "      <th>cust_19</th>\n",
       "      <th>cust_20</th>\n",
       "      <th>cust_21</th>\n",
       "      <th>cust_23</th>\n",
       "      <th>cust_25</th>\n",
       "      <th>cust_26</th>\n",
       "    </tr>\n",
       "  </thead>\n",
       "  <tbody>\n",
       "    <tr>\n",
       "      <th>0</th>\n",
       "      <td>5</td>\n",
       "      <td>17</td>\n",
       "      <td>2018</td>\n",
       "      <td>1.00</td>\n",
       "      <td>0.04</td>\n",
       "      <td>0.03</td>\n",
       "      <td>0.03</td>\n",
       "      <td>0.08</td>\n",
       "      <td>0.07</td>\n",
       "      <td>0.08</td>\n",
       "      <td>...</td>\n",
       "      <td>0.06</td>\n",
       "      <td>0.01</td>\n",
       "      <td>0.01</td>\n",
       "      <td>0.00</td>\n",
       "      <td>0.01</td>\n",
       "      <td>0.03</td>\n",
       "      <td>0.23</td>\n",
       "      <td>0.01</td>\n",
       "      <td>0.03</td>\n",
       "      <td>0.12</td>\n",
       "    </tr>\n",
       "    <tr>\n",
       "      <th>1</th>\n",
       "      <td>5</td>\n",
       "      <td>17</td>\n",
       "      <td>2018</td>\n",
       "      <td>1.25</td>\n",
       "      <td>0.08</td>\n",
       "      <td>0.04</td>\n",
       "      <td>0.02</td>\n",
       "      <td>0.09</td>\n",
       "      <td>0.07</td>\n",
       "      <td>0.06</td>\n",
       "      <td>...</td>\n",
       "      <td>0.07</td>\n",
       "      <td>0.04</td>\n",
       "      <td>0.00</td>\n",
       "      <td>0.00</td>\n",
       "      <td>0.02</td>\n",
       "      <td>0.04</td>\n",
       "      <td>0.25</td>\n",
       "      <td>0.01</td>\n",
       "      <td>0.03</td>\n",
       "      <td>0.10</td>\n",
       "    </tr>\n",
       "    <tr>\n",
       "      <th>2</th>\n",
       "      <td>5</td>\n",
       "      <td>17</td>\n",
       "      <td>2018</td>\n",
       "      <td>1.50</td>\n",
       "      <td>0.08</td>\n",
       "      <td>0.06</td>\n",
       "      <td>0.04</td>\n",
       "      <td>0.08</td>\n",
       "      <td>0.07</td>\n",
       "      <td>0.06</td>\n",
       "      <td>...</td>\n",
       "      <td>0.05</td>\n",
       "      <td>0.04</td>\n",
       "      <td>0.02</td>\n",
       "      <td>0.00</td>\n",
       "      <td>0.04</td>\n",
       "      <td>0.03</td>\n",
       "      <td>0.06</td>\n",
       "      <td>0.02</td>\n",
       "      <td>0.03</td>\n",
       "      <td>0.10</td>\n",
       "    </tr>\n",
       "    <tr>\n",
       "      <th>3</th>\n",
       "      <td>5</td>\n",
       "      <td>17</td>\n",
       "      <td>2018</td>\n",
       "      <td>1.75</td>\n",
       "      <td>0.07</td>\n",
       "      <td>0.07</td>\n",
       "      <td>0.02</td>\n",
       "      <td>0.11</td>\n",
       "      <td>0.06</td>\n",
       "      <td>0.05</td>\n",
       "      <td>...</td>\n",
       "      <td>0.05</td>\n",
       "      <td>0.04</td>\n",
       "      <td>0.03</td>\n",
       "      <td>0.01</td>\n",
       "      <td>0.05</td>\n",
       "      <td>0.02</td>\n",
       "      <td>0.05</td>\n",
       "      <td>0.01</td>\n",
       "      <td>0.02</td>\n",
       "      <td>0.13</td>\n",
       "    </tr>\n",
       "    <tr>\n",
       "      <th>4</th>\n",
       "      <td>5</td>\n",
       "      <td>17</td>\n",
       "      <td>2018</td>\n",
       "      <td>2.00</td>\n",
       "      <td>0.07</td>\n",
       "      <td>0.06</td>\n",
       "      <td>0.02</td>\n",
       "      <td>0.12</td>\n",
       "      <td>0.06</td>\n",
       "      <td>0.06</td>\n",
       "      <td>...</td>\n",
       "      <td>0.05</td>\n",
       "      <td>0.01</td>\n",
       "      <td>0.00</td>\n",
       "      <td>0.00</td>\n",
       "      <td>0.02</td>\n",
       "      <td>0.02</td>\n",
       "      <td>0.05</td>\n",
       "      <td>0.02</td>\n",
       "      <td>0.01</td>\n",
       "      <td>0.13</td>\n",
       "    </tr>\n",
       "  </tbody>\n",
       "</table>\n",
       "<p>5 rows × 23 columns</p>\n",
       "</div>"
      ],
      "text/plain": [
       "   Month  Day  Year  Numeric_Time  cust_02  cust_03  cust_04  cust_06  \\\n",
       "0      5   17  2018          1.00     0.04     0.03     0.03     0.08   \n",
       "1      5   17  2018          1.25     0.08     0.04     0.02     0.09   \n",
       "2      5   17  2018          1.50     0.08     0.06     0.04     0.08   \n",
       "3      5   17  2018          1.75     0.07     0.07     0.02     0.11   \n",
       "4      5   17  2018          2.00     0.07     0.06     0.02     0.12   \n",
       "\n",
       "   cust_07  cust_08   ...     cust_12  cust_13  cust_15  cust_16  cust_19  \\\n",
       "0     0.07     0.08   ...        0.06     0.01     0.01     0.00     0.01   \n",
       "1     0.07     0.06   ...        0.07     0.04     0.00     0.00     0.02   \n",
       "2     0.07     0.06   ...        0.05     0.04     0.02     0.00     0.04   \n",
       "3     0.06     0.05   ...        0.05     0.04     0.03     0.01     0.05   \n",
       "4     0.06     0.06   ...        0.05     0.01     0.00     0.00     0.02   \n",
       "\n",
       "   cust_20  cust_21  cust_23  cust_25  cust_26  \n",
       "0     0.03     0.23     0.01     0.03     0.12  \n",
       "1     0.04     0.25     0.01     0.03     0.10  \n",
       "2     0.03     0.06     0.02     0.03     0.10  \n",
       "3     0.02     0.05     0.01     0.02     0.13  \n",
       "4     0.02     0.05     0.02     0.01     0.13  \n",
       "\n",
       "[5 rows x 23 columns]"
      ]
     },
     "execution_count": 3,
     "metadata": {},
     "output_type": "execute_result"
    }
   ],
   "source": [
    "# See first few rows of data\n",
    "data.head()"
   ]
  },
  {
   "cell_type": "code",
   "execution_count": 4,
   "metadata": {},
   "outputs": [
    {
     "data": {
      "text/plain": [
       "Month             int64\n",
       "Day               int64\n",
       "Year              int64\n",
       "Numeric_Time    float64\n",
       "cust_02         float64\n",
       "cust_03         float64\n",
       "cust_04         float64\n",
       "cust_06         float64\n",
       "cust_07         float64\n",
       "cust_08         float64\n",
       "cust_09         float64\n",
       "cust_10         float64\n",
       "cust_11         float64\n",
       "cust_12         float64\n",
       "cust_13         float64\n",
       "cust_15         float64\n",
       "cust_16         float64\n",
       "cust_19         float64\n",
       "cust_20         float64\n",
       "cust_21         float64\n",
       "cust_23         float64\n",
       "cust_25         float64\n",
       "cust_26         float64\n",
       "dtype: object"
      ]
     },
     "execution_count": 4,
     "metadata": {},
     "output_type": "execute_result"
    }
   ],
   "source": [
    "# Check dataframe data types\n",
    "data.dtypes"
   ]
  },
  {
   "cell_type": "code",
   "execution_count": 5,
   "metadata": {},
   "outputs": [
    {
     "data": {
      "text/html": [
       "<div>\n",
       "<style scoped>\n",
       "    .dataframe tbody tr th:only-of-type {\n",
       "        vertical-align: middle;\n",
       "    }\n",
       "\n",
       "    .dataframe tbody tr th {\n",
       "        vertical-align: top;\n",
       "    }\n",
       "\n",
       "    .dataframe thead th {\n",
       "        text-align: right;\n",
       "    }\n",
       "</style>\n",
       "<table border=\"1\" class=\"dataframe\">\n",
       "  <thead>\n",
       "    <tr style=\"text-align: right;\">\n",
       "      <th></th>\n",
       "      <th>Month</th>\n",
       "      <th>Day</th>\n",
       "      <th>Year</th>\n",
       "      <th>Numeric_Time</th>\n",
       "      <th>cust_02</th>\n",
       "      <th>cust_03</th>\n",
       "      <th>cust_04</th>\n",
       "      <th>cust_06</th>\n",
       "      <th>cust_07</th>\n",
       "      <th>cust_08</th>\n",
       "      <th>...</th>\n",
       "      <th>cust_12</th>\n",
       "      <th>cust_13</th>\n",
       "      <th>cust_15</th>\n",
       "      <th>cust_16</th>\n",
       "      <th>cust_19</th>\n",
       "      <th>cust_20</th>\n",
       "      <th>cust_21</th>\n",
       "      <th>cust_23</th>\n",
       "      <th>cust_25</th>\n",
       "      <th>cust_26</th>\n",
       "    </tr>\n",
       "  </thead>\n",
       "  <tbody>\n",
       "    <tr>\n",
       "      <th>count</th>\n",
       "      <td>34972.000000</td>\n",
       "      <td>34972.000000</td>\n",
       "      <td>34972.000000</td>\n",
       "      <td>34972.000000</td>\n",
       "      <td>34972.000000</td>\n",
       "      <td>34972.000000</td>\n",
       "      <td>34972.000000</td>\n",
       "      <td>34972.000000</td>\n",
       "      <td>34972.000000</td>\n",
       "      <td>34972.000000</td>\n",
       "      <td>...</td>\n",
       "      <td>34972.000000</td>\n",
       "      <td>34972.000000</td>\n",
       "      <td>34972.000000</td>\n",
       "      <td>34972.000000</td>\n",
       "      <td>34972.000000</td>\n",
       "      <td>34972.000000</td>\n",
       "      <td>34972.000000</td>\n",
       "      <td>34972.000000</td>\n",
       "      <td>34972.000000</td>\n",
       "      <td>34972.000000</td>\n",
       "    </tr>\n",
       "    <tr>\n",
       "      <th>mean</th>\n",
       "      <td>6.522790</td>\n",
       "      <td>15.719547</td>\n",
       "      <td>2018.373013</td>\n",
       "      <td>11.879697</td>\n",
       "      <td>0.189792</td>\n",
       "      <td>0.090279</td>\n",
       "      <td>0.063588</td>\n",
       "      <td>0.201591</td>\n",
       "      <td>0.094872</td>\n",
       "      <td>0.100635</td>\n",
       "      <td>...</td>\n",
       "      <td>0.090505</td>\n",
       "      <td>0.091943</td>\n",
       "      <td>0.063247</td>\n",
       "      <td>0.063706</td>\n",
       "      <td>0.036963</td>\n",
       "      <td>0.076414</td>\n",
       "      <td>0.069627</td>\n",
       "      <td>0.050945</td>\n",
       "      <td>0.035759</td>\n",
       "      <td>0.098943</td>\n",
       "    </tr>\n",
       "    <tr>\n",
       "      <th>std</th>\n",
       "      <td>3.447548</td>\n",
       "      <td>8.793679</td>\n",
       "      <td>0.483612</td>\n",
       "      <td>6.932920</td>\n",
       "      <td>0.266298</td>\n",
       "      <td>0.102451</td>\n",
       "      <td>0.090697</td>\n",
       "      <td>0.139132</td>\n",
       "      <td>0.086829</td>\n",
       "      <td>0.091874</td>\n",
       "      <td>...</td>\n",
       "      <td>0.106706</td>\n",
       "      <td>0.152801</td>\n",
       "      <td>0.084406</td>\n",
       "      <td>0.087769</td>\n",
       "      <td>0.059398</td>\n",
       "      <td>0.117868</td>\n",
       "      <td>0.101351</td>\n",
       "      <td>0.066291</td>\n",
       "      <td>0.049171</td>\n",
       "      <td>0.078752</td>\n",
       "    </tr>\n",
       "    <tr>\n",
       "      <th>min</th>\n",
       "      <td>1.000000</td>\n",
       "      <td>1.000000</td>\n",
       "      <td>2018.000000</td>\n",
       "      <td>0.000000</td>\n",
       "      <td>0.010000</td>\n",
       "      <td>0.000000</td>\n",
       "      <td>0.010000</td>\n",
       "      <td>0.030000</td>\n",
       "      <td>0.010000</td>\n",
       "      <td>0.010000</td>\n",
       "      <td>...</td>\n",
       "      <td>0.000000</td>\n",
       "      <td>0.000000</td>\n",
       "      <td>0.000000</td>\n",
       "      <td>0.000000</td>\n",
       "      <td>0.000000</td>\n",
       "      <td>0.010000</td>\n",
       "      <td>0.000000</td>\n",
       "      <td>0.000000</td>\n",
       "      <td>0.000000</td>\n",
       "      <td>0.010000</td>\n",
       "    </tr>\n",
       "    <tr>\n",
       "      <th>25%</th>\n",
       "      <td>4.000000</td>\n",
       "      <td>8.000000</td>\n",
       "      <td>2018.000000</td>\n",
       "      <td>5.750000</td>\n",
       "      <td>0.070000</td>\n",
       "      <td>0.030000</td>\n",
       "      <td>0.020000</td>\n",
       "      <td>0.120000</td>\n",
       "      <td>0.050000</td>\n",
       "      <td>0.050000</td>\n",
       "      <td>...</td>\n",
       "      <td>0.040000</td>\n",
       "      <td>0.020000</td>\n",
       "      <td>0.020000</td>\n",
       "      <td>0.020000</td>\n",
       "      <td>0.010000</td>\n",
       "      <td>0.020000</td>\n",
       "      <td>0.020000</td>\n",
       "      <td>0.010000</td>\n",
       "      <td>0.020000</td>\n",
       "      <td>0.050000</td>\n",
       "    </tr>\n",
       "    <tr>\n",
       "      <th>50%</th>\n",
       "      <td>7.000000</td>\n",
       "      <td>16.000000</td>\n",
       "      <td>2018.000000</td>\n",
       "      <td>12.000000</td>\n",
       "      <td>0.100000</td>\n",
       "      <td>0.060000</td>\n",
       "      <td>0.030000</td>\n",
       "      <td>0.150000</td>\n",
       "      <td>0.070000</td>\n",
       "      <td>0.080000</td>\n",
       "      <td>...</td>\n",
       "      <td>0.060000</td>\n",
       "      <td>0.030000</td>\n",
       "      <td>0.040000</td>\n",
       "      <td>0.040000</td>\n",
       "      <td>0.020000</td>\n",
       "      <td>0.040000</td>\n",
       "      <td>0.040000</td>\n",
       "      <td>0.030000</td>\n",
       "      <td>0.030000</td>\n",
       "      <td>0.090000</td>\n",
       "    </tr>\n",
       "    <tr>\n",
       "      <th>75%</th>\n",
       "      <td>10.000000</td>\n",
       "      <td>23.000000</td>\n",
       "      <td>2019.000000</td>\n",
       "      <td>18.000000</td>\n",
       "      <td>0.140000</td>\n",
       "      <td>0.110000</td>\n",
       "      <td>0.060000</td>\n",
       "      <td>0.230000</td>\n",
       "      <td>0.110000</td>\n",
       "      <td>0.110000</td>\n",
       "      <td>...</td>\n",
       "      <td>0.100000</td>\n",
       "      <td>0.070000</td>\n",
       "      <td>0.070000</td>\n",
       "      <td>0.070000</td>\n",
       "      <td>0.040000</td>\n",
       "      <td>0.070000</td>\n",
       "      <td>0.070000</td>\n",
       "      <td>0.060000</td>\n",
       "      <td>0.040000</td>\n",
       "      <td>0.120000</td>\n",
       "    </tr>\n",
       "    <tr>\n",
       "      <th>max</th>\n",
       "      <td>12.000000</td>\n",
       "      <td>31.000000</td>\n",
       "      <td>2019.000000</td>\n",
       "      <td>23.750000</td>\n",
       "      <td>2.570000</td>\n",
       "      <td>1.650000</td>\n",
       "      <td>1.240000</td>\n",
       "      <td>1.600000</td>\n",
       "      <td>1.080000</td>\n",
       "      <td>1.250000</td>\n",
       "      <td>...</td>\n",
       "      <td>1.570000</td>\n",
       "      <td>1.750000</td>\n",
       "      <td>0.920000</td>\n",
       "      <td>1.510000</td>\n",
       "      <td>1.280000</td>\n",
       "      <td>1.320000</td>\n",
       "      <td>1.220000</td>\n",
       "      <td>0.950000</td>\n",
       "      <td>1.140000</td>\n",
       "      <td>1.070000</td>\n",
       "    </tr>\n",
       "  </tbody>\n",
       "</table>\n",
       "<p>8 rows × 23 columns</p>\n",
       "</div>"
      ],
      "text/plain": [
       "              Month           Day          Year  Numeric_Time       cust_02  \\\n",
       "count  34972.000000  34972.000000  34972.000000  34972.000000  34972.000000   \n",
       "mean       6.522790     15.719547   2018.373013     11.879697      0.189792   \n",
       "std        3.447548      8.793679      0.483612      6.932920      0.266298   \n",
       "min        1.000000      1.000000   2018.000000      0.000000      0.010000   \n",
       "25%        4.000000      8.000000   2018.000000      5.750000      0.070000   \n",
       "50%        7.000000     16.000000   2018.000000     12.000000      0.100000   \n",
       "75%       10.000000     23.000000   2019.000000     18.000000      0.140000   \n",
       "max       12.000000     31.000000   2019.000000     23.750000      2.570000   \n",
       "\n",
       "            cust_03       cust_04       cust_06       cust_07       cust_08  \\\n",
       "count  34972.000000  34972.000000  34972.000000  34972.000000  34972.000000   \n",
       "mean       0.090279      0.063588      0.201591      0.094872      0.100635   \n",
       "std        0.102451      0.090697      0.139132      0.086829      0.091874   \n",
       "min        0.000000      0.010000      0.030000      0.010000      0.010000   \n",
       "25%        0.030000      0.020000      0.120000      0.050000      0.050000   \n",
       "50%        0.060000      0.030000      0.150000      0.070000      0.080000   \n",
       "75%        0.110000      0.060000      0.230000      0.110000      0.110000   \n",
       "max        1.650000      1.240000      1.600000      1.080000      1.250000   \n",
       "\n",
       "           ...            cust_12       cust_13       cust_15       cust_16  \\\n",
       "count      ...       34972.000000  34972.000000  34972.000000  34972.000000   \n",
       "mean       ...           0.090505      0.091943      0.063247      0.063706   \n",
       "std        ...           0.106706      0.152801      0.084406      0.087769   \n",
       "min        ...           0.000000      0.000000      0.000000      0.000000   \n",
       "25%        ...           0.040000      0.020000      0.020000      0.020000   \n",
       "50%        ...           0.060000      0.030000      0.040000      0.040000   \n",
       "75%        ...           0.100000      0.070000      0.070000      0.070000   \n",
       "max        ...           1.570000      1.750000      0.920000      1.510000   \n",
       "\n",
       "            cust_19       cust_20       cust_21       cust_23       cust_25  \\\n",
       "count  34972.000000  34972.000000  34972.000000  34972.000000  34972.000000   \n",
       "mean       0.036963      0.076414      0.069627      0.050945      0.035759   \n",
       "std        0.059398      0.117868      0.101351      0.066291      0.049171   \n",
       "min        0.000000      0.010000      0.000000      0.000000      0.000000   \n",
       "25%        0.010000      0.020000      0.020000      0.010000      0.020000   \n",
       "50%        0.020000      0.040000      0.040000      0.030000      0.030000   \n",
       "75%        0.040000      0.070000      0.070000      0.060000      0.040000   \n",
       "max        1.280000      1.320000      1.220000      0.950000      1.140000   \n",
       "\n",
       "            cust_26  \n",
       "count  34972.000000  \n",
       "mean       0.098943  \n",
       "std        0.078752  \n",
       "min        0.010000  \n",
       "25%        0.050000  \n",
       "50%        0.090000  \n",
       "75%        0.120000  \n",
       "max        1.070000  \n",
       "\n",
       "[8 rows x 23 columns]"
      ]
     },
     "execution_count": 5,
     "metadata": {},
     "output_type": "execute_result"
    }
   ],
   "source": [
    "# Summary Stats\n",
    "data.describe()"
   ]
  },
  {
   "cell_type": "code",
   "execution_count": 6,
   "metadata": {},
   "outputs": [
    {
     "data": {
      "text/plain": [
       "(34972, 23)"
      ]
     },
     "execution_count": 6,
     "metadata": {},
     "output_type": "execute_result"
    }
   ],
   "source": [
    "# Shape of dataframe\n",
    "data.shape"
   ]
  },
  {
   "cell_type": "code",
   "execution_count": 7,
   "metadata": {},
   "outputs": [
    {
     "data": {
      "text/plain": [
       "(34972, 19)"
      ]
     },
     "execution_count": 7,
     "metadata": {},
     "output_type": "execute_result"
    }
   ],
   "source": [
    "### Isolate data from customers (i.e. drop timestamping data)\n",
    "\n",
    "# Columns to drop\n",
    "labels = ['Month', 'Day', 'Year', 'Numeric_Time']\n",
    "\n",
    "# Drop columns\n",
    "x = data.drop(labels=labels, axis=1)\n",
    "\n",
    "# New shape of data\n",
    "x.shape"
   ]
  },
  {
   "cell_type": "code",
   "execution_count": 8,
   "metadata": {},
   "outputs": [
    {
     "data": {
      "text/html": [
       "<div>\n",
       "<style scoped>\n",
       "    .dataframe tbody tr th:only-of-type {\n",
       "        vertical-align: middle;\n",
       "    }\n",
       "\n",
       "    .dataframe tbody tr th {\n",
       "        vertical-align: top;\n",
       "    }\n",
       "\n",
       "    .dataframe thead th {\n",
       "        text-align: right;\n",
       "    }\n",
       "</style>\n",
       "<table border=\"1\" class=\"dataframe\">\n",
       "  <thead>\n",
       "    <tr style=\"text-align: right;\">\n",
       "      <th></th>\n",
       "      <th>cust_02</th>\n",
       "      <th>cust_03</th>\n",
       "      <th>cust_04</th>\n",
       "      <th>cust_06</th>\n",
       "      <th>cust_07</th>\n",
       "      <th>cust_08</th>\n",
       "      <th>cust_09</th>\n",
       "      <th>cust_10</th>\n",
       "      <th>cust_11</th>\n",
       "      <th>cust_12</th>\n",
       "      <th>cust_13</th>\n",
       "      <th>cust_15</th>\n",
       "      <th>cust_16</th>\n",
       "      <th>cust_19</th>\n",
       "      <th>cust_20</th>\n",
       "      <th>cust_21</th>\n",
       "      <th>cust_23</th>\n",
       "      <th>cust_25</th>\n",
       "      <th>cust_26</th>\n",
       "    </tr>\n",
       "  </thead>\n",
       "  <tbody>\n",
       "    <tr>\n",
       "      <th>0</th>\n",
       "      <td>0.04</td>\n",
       "      <td>0.03</td>\n",
       "      <td>0.03</td>\n",
       "      <td>0.08</td>\n",
       "      <td>0.07</td>\n",
       "      <td>0.08</td>\n",
       "      <td>0.04</td>\n",
       "      <td>0.02</td>\n",
       "      <td>0.03</td>\n",
       "      <td>0.06</td>\n",
       "      <td>0.01</td>\n",
       "      <td>0.01</td>\n",
       "      <td>0.00</td>\n",
       "      <td>0.01</td>\n",
       "      <td>0.03</td>\n",
       "      <td>0.23</td>\n",
       "      <td>0.01</td>\n",
       "      <td>0.03</td>\n",
       "      <td>0.12</td>\n",
       "    </tr>\n",
       "    <tr>\n",
       "      <th>1</th>\n",
       "      <td>0.08</td>\n",
       "      <td>0.04</td>\n",
       "      <td>0.02</td>\n",
       "      <td>0.09</td>\n",
       "      <td>0.07</td>\n",
       "      <td>0.06</td>\n",
       "      <td>0.06</td>\n",
       "      <td>0.03</td>\n",
       "      <td>0.03</td>\n",
       "      <td>0.07</td>\n",
       "      <td>0.04</td>\n",
       "      <td>0.00</td>\n",
       "      <td>0.00</td>\n",
       "      <td>0.02</td>\n",
       "      <td>0.04</td>\n",
       "      <td>0.25</td>\n",
       "      <td>0.01</td>\n",
       "      <td>0.03</td>\n",
       "      <td>0.10</td>\n",
       "    </tr>\n",
       "    <tr>\n",
       "      <th>2</th>\n",
       "      <td>0.08</td>\n",
       "      <td>0.06</td>\n",
       "      <td>0.04</td>\n",
       "      <td>0.08</td>\n",
       "      <td>0.07</td>\n",
       "      <td>0.06</td>\n",
       "      <td>0.05</td>\n",
       "      <td>0.03</td>\n",
       "      <td>0.04</td>\n",
       "      <td>0.05</td>\n",
       "      <td>0.04</td>\n",
       "      <td>0.02</td>\n",
       "      <td>0.00</td>\n",
       "      <td>0.04</td>\n",
       "      <td>0.03</td>\n",
       "      <td>0.06</td>\n",
       "      <td>0.02</td>\n",
       "      <td>0.03</td>\n",
       "      <td>0.10</td>\n",
       "    </tr>\n",
       "    <tr>\n",
       "      <th>3</th>\n",
       "      <td>0.07</td>\n",
       "      <td>0.07</td>\n",
       "      <td>0.02</td>\n",
       "      <td>0.11</td>\n",
       "      <td>0.06</td>\n",
       "      <td>0.05</td>\n",
       "      <td>0.04</td>\n",
       "      <td>0.05</td>\n",
       "      <td>0.03</td>\n",
       "      <td>0.05</td>\n",
       "      <td>0.04</td>\n",
       "      <td>0.03</td>\n",
       "      <td>0.01</td>\n",
       "      <td>0.05</td>\n",
       "      <td>0.02</td>\n",
       "      <td>0.05</td>\n",
       "      <td>0.01</td>\n",
       "      <td>0.02</td>\n",
       "      <td>0.13</td>\n",
       "    </tr>\n",
       "    <tr>\n",
       "      <th>4</th>\n",
       "      <td>0.07</td>\n",
       "      <td>0.06</td>\n",
       "      <td>0.02</td>\n",
       "      <td>0.12</td>\n",
       "      <td>0.06</td>\n",
       "      <td>0.06</td>\n",
       "      <td>0.05</td>\n",
       "      <td>0.05</td>\n",
       "      <td>0.04</td>\n",
       "      <td>0.05</td>\n",
       "      <td>0.01</td>\n",
       "      <td>0.00</td>\n",
       "      <td>0.00</td>\n",
       "      <td>0.02</td>\n",
       "      <td>0.02</td>\n",
       "      <td>0.05</td>\n",
       "      <td>0.02</td>\n",
       "      <td>0.01</td>\n",
       "      <td>0.13</td>\n",
       "    </tr>\n",
       "  </tbody>\n",
       "</table>\n",
       "</div>"
      ],
      "text/plain": [
       "   cust_02  cust_03  cust_04  cust_06  cust_07  cust_08  cust_09  cust_10  \\\n",
       "0     0.04     0.03     0.03     0.08     0.07     0.08     0.04     0.02   \n",
       "1     0.08     0.04     0.02     0.09     0.07     0.06     0.06     0.03   \n",
       "2     0.08     0.06     0.04     0.08     0.07     0.06     0.05     0.03   \n",
       "3     0.07     0.07     0.02     0.11     0.06     0.05     0.04     0.05   \n",
       "4     0.07     0.06     0.02     0.12     0.06     0.06     0.05     0.05   \n",
       "\n",
       "   cust_11  cust_12  cust_13  cust_15  cust_16  cust_19  cust_20  cust_21  \\\n",
       "0     0.03     0.06     0.01     0.01     0.00     0.01     0.03     0.23   \n",
       "1     0.03     0.07     0.04     0.00     0.00     0.02     0.04     0.25   \n",
       "2     0.04     0.05     0.04     0.02     0.00     0.04     0.03     0.06   \n",
       "3     0.03     0.05     0.04     0.03     0.01     0.05     0.02     0.05   \n",
       "4     0.04     0.05     0.01     0.00     0.00     0.02     0.02     0.05   \n",
       "\n",
       "   cust_23  cust_25  cust_26  \n",
       "0     0.01     0.03     0.12  \n",
       "1     0.01     0.03     0.10  \n",
       "2     0.02     0.03     0.10  \n",
       "3     0.01     0.02     0.13  \n",
       "4     0.02     0.01     0.13  "
      ]
     },
     "execution_count": 8,
     "metadata": {},
     "output_type": "execute_result"
    }
   ],
   "source": [
    "# First few rows of new dataframe\n",
    "x.head()"
   ]
  },
  {
   "cell_type": "code",
   "execution_count": 9,
   "metadata": {},
   "outputs": [
    {
     "data": {
      "text/html": [
       "<div>\n",
       "<style scoped>\n",
       "    .dataframe tbody tr th:only-of-type {\n",
       "        vertical-align: middle;\n",
       "    }\n",
       "\n",
       "    .dataframe tbody tr th {\n",
       "        vertical-align: top;\n",
       "    }\n",
       "\n",
       "    .dataframe thead th {\n",
       "        text-align: right;\n",
       "    }\n",
       "</style>\n",
       "<table border=\"1\" class=\"dataframe\">\n",
       "  <thead>\n",
       "    <tr style=\"text-align: right;\">\n",
       "      <th></th>\n",
       "      <th>0</th>\n",
       "      <th>1</th>\n",
       "      <th>2</th>\n",
       "      <th>3</th>\n",
       "      <th>4</th>\n",
       "      <th>5</th>\n",
       "      <th>6</th>\n",
       "      <th>7</th>\n",
       "      <th>8</th>\n",
       "      <th>9</th>\n",
       "      <th>10</th>\n",
       "      <th>11</th>\n",
       "      <th>12</th>\n",
       "      <th>13</th>\n",
       "      <th>14</th>\n",
       "      <th>15</th>\n",
       "      <th>16</th>\n",
       "      <th>17</th>\n",
       "      <th>18</th>\n",
       "    </tr>\n",
       "  </thead>\n",
       "  <tbody>\n",
       "    <tr>\n",
       "      <th>0</th>\n",
       "      <td>-0.562508</td>\n",
       "      <td>-0.588380</td>\n",
       "      <td>-0.370340</td>\n",
       "      <td>-0.873938</td>\n",
       "      <td>-0.286452</td>\n",
       "      <td>-0.224602</td>\n",
       "      <td>-0.879899</td>\n",
       "      <td>-0.676815</td>\n",
       "      <td>-0.729111</td>\n",
       "      <td>-0.285883</td>\n",
       "      <td>-0.536279</td>\n",
       "      <td>-0.630858</td>\n",
       "      <td>-0.725849</td>\n",
       "      <td>-0.453946</td>\n",
       "      <td>-0.393787</td>\n",
       "      <td>1.582373</td>\n",
       "      <td>-0.617673</td>\n",
       "      <td>-0.117120</td>\n",
       "      <td>0.267393</td>\n",
       "    </tr>\n",
       "    <tr>\n",
       "      <th>1</th>\n",
       "      <td>-0.412298</td>\n",
       "      <td>-0.490771</td>\n",
       "      <td>-0.480599</td>\n",
       "      <td>-0.802063</td>\n",
       "      <td>-0.286452</td>\n",
       "      <td>-0.442295</td>\n",
       "      <td>-0.699531</td>\n",
       "      <td>-0.549049</td>\n",
       "      <td>-0.729111</td>\n",
       "      <td>-0.192166</td>\n",
       "      <td>-0.339942</td>\n",
       "      <td>-0.749335</td>\n",
       "      <td>-0.725849</td>\n",
       "      <td>-0.285587</td>\n",
       "      <td>-0.308945</td>\n",
       "      <td>1.779709</td>\n",
       "      <td>-0.617673</td>\n",
       "      <td>-0.117120</td>\n",
       "      <td>0.013427</td>\n",
       "    </tr>\n",
       "    <tr>\n",
       "      <th>2</th>\n",
       "      <td>-0.412298</td>\n",
       "      <td>-0.295553</td>\n",
       "      <td>-0.260081</td>\n",
       "      <td>-0.873938</td>\n",
       "      <td>-0.286452</td>\n",
       "      <td>-0.442295</td>\n",
       "      <td>-0.789715</td>\n",
       "      <td>-0.549049</td>\n",
       "      <td>-0.658119</td>\n",
       "      <td>-0.379600</td>\n",
       "      <td>-0.339942</td>\n",
       "      <td>-0.512380</td>\n",
       "      <td>-0.725849</td>\n",
       "      <td>0.051131</td>\n",
       "      <td>-0.393787</td>\n",
       "      <td>-0.094986</td>\n",
       "      <td>-0.466820</td>\n",
       "      <td>-0.117120</td>\n",
       "      <td>0.013427</td>\n",
       "    </tr>\n",
       "    <tr>\n",
       "      <th>3</th>\n",
       "      <td>-0.449850</td>\n",
       "      <td>-0.197945</td>\n",
       "      <td>-0.480599</td>\n",
       "      <td>-0.658312</td>\n",
       "      <td>-0.401622</td>\n",
       "      <td>-0.551142</td>\n",
       "      <td>-0.879899</td>\n",
       "      <td>-0.293517</td>\n",
       "      <td>-0.729111</td>\n",
       "      <td>-0.379600</td>\n",
       "      <td>-0.339942</td>\n",
       "      <td>-0.393903</td>\n",
       "      <td>-0.611912</td>\n",
       "      <td>0.219489</td>\n",
       "      <td>-0.478628</td>\n",
       "      <td>-0.193654</td>\n",
       "      <td>-0.617673</td>\n",
       "      <td>-0.320493</td>\n",
       "      <td>0.394376</td>\n",
       "    </tr>\n",
       "    <tr>\n",
       "      <th>4</th>\n",
       "      <td>-0.449850</td>\n",
       "      <td>-0.295553</td>\n",
       "      <td>-0.480599</td>\n",
       "      <td>-0.586437</td>\n",
       "      <td>-0.401622</td>\n",
       "      <td>-0.442295</td>\n",
       "      <td>-0.789715</td>\n",
       "      <td>-0.293517</td>\n",
       "      <td>-0.658119</td>\n",
       "      <td>-0.379600</td>\n",
       "      <td>-0.536279</td>\n",
       "      <td>-0.749335</td>\n",
       "      <td>-0.725849</td>\n",
       "      <td>-0.285587</td>\n",
       "      <td>-0.478628</td>\n",
       "      <td>-0.193654</td>\n",
       "      <td>-0.466820</td>\n",
       "      <td>-0.523866</td>\n",
       "      <td>0.394376</td>\n",
       "    </tr>\n",
       "  </tbody>\n",
       "</table>\n",
       "</div>"
      ],
      "text/plain": [
       "         0         1         2         3         4         5         6   \\\n",
       "0 -0.562508 -0.588380 -0.370340 -0.873938 -0.286452 -0.224602 -0.879899   \n",
       "1 -0.412298 -0.490771 -0.480599 -0.802063 -0.286452 -0.442295 -0.699531   \n",
       "2 -0.412298 -0.295553 -0.260081 -0.873938 -0.286452 -0.442295 -0.789715   \n",
       "3 -0.449850 -0.197945 -0.480599 -0.658312 -0.401622 -0.551142 -0.879899   \n",
       "4 -0.449850 -0.295553 -0.480599 -0.586437 -0.401622 -0.442295 -0.789715   \n",
       "\n",
       "         7         8         9         10        11        12        13  \\\n",
       "0 -0.676815 -0.729111 -0.285883 -0.536279 -0.630858 -0.725849 -0.453946   \n",
       "1 -0.549049 -0.729111 -0.192166 -0.339942 -0.749335 -0.725849 -0.285587   \n",
       "2 -0.549049 -0.658119 -0.379600 -0.339942 -0.512380 -0.725849  0.051131   \n",
       "3 -0.293517 -0.729111 -0.379600 -0.339942 -0.393903 -0.611912  0.219489   \n",
       "4 -0.293517 -0.658119 -0.379600 -0.536279 -0.749335 -0.725849 -0.285587   \n",
       "\n",
       "         14        15        16        17        18  \n",
       "0 -0.393787  1.582373 -0.617673 -0.117120  0.267393  \n",
       "1 -0.308945  1.779709 -0.617673 -0.117120  0.013427  \n",
       "2 -0.393787 -0.094986 -0.466820 -0.117120  0.013427  \n",
       "3 -0.478628 -0.193654 -0.617673 -0.320493  0.394376  \n",
       "4 -0.478628 -0.193654 -0.466820 -0.523866  0.394376  "
      ]
     },
     "execution_count": 9,
     "metadata": {},
     "output_type": "execute_result"
    }
   ],
   "source": [
    "### Scale dataframe of customer values using StandardScaler\n",
    "\n",
    "# Note that x_scaled is an array, not a dataframe\n",
    "x_scaled = StandardScaler().fit_transform(x)\n",
    "\n",
    "# Visualize the scaled data using a dataframe\n",
    "df = pd.DataFrame(x_scaled)\n",
    "df.head()"
   ]
  },
  {
   "cell_type": "code",
   "execution_count": 10,
   "metadata": {
    "scrolled": true
   },
   "outputs": [
    {
     "data": {
      "text/html": [
       "<div>\n",
       "<style scoped>\n",
       "    .dataframe tbody tr th:only-of-type {\n",
       "        vertical-align: middle;\n",
       "    }\n",
       "\n",
       "    .dataframe tbody tr th {\n",
       "        vertical-align: top;\n",
       "    }\n",
       "\n",
       "    .dataframe thead th {\n",
       "        text-align: right;\n",
       "    }\n",
       "</style>\n",
       "<table border=\"1\" class=\"dataframe\">\n",
       "  <thead>\n",
       "    <tr style=\"text-align: right;\">\n",
       "      <th></th>\n",
       "      <th>principal component 1</th>\n",
       "      <th>principal component 2</th>\n",
       "      <th>principal component 3</th>\n",
       "      <th>principal component 4</th>\n",
       "      <th>principal component 5</th>\n",
       "    </tr>\n",
       "  </thead>\n",
       "  <tbody>\n",
       "    <tr>\n",
       "      <th>0</th>\n",
       "      <td>-1.656775</td>\n",
       "      <td>-0.386175</td>\n",
       "      <td>0.547707</td>\n",
       "      <td>-0.596091</td>\n",
       "      <td>0.315683</td>\n",
       "    </tr>\n",
       "    <tr>\n",
       "      <th>1</th>\n",
       "      <td>-1.514116</td>\n",
       "      <td>-0.554265</td>\n",
       "      <td>0.558745</td>\n",
       "      <td>-0.576857</td>\n",
       "      <td>0.544962</td>\n",
       "    </tr>\n",
       "    <tr>\n",
       "      <th>2</th>\n",
       "      <td>-1.843253</td>\n",
       "      <td>0.097980</td>\n",
       "      <td>0.224306</td>\n",
       "      <td>-0.220740</td>\n",
       "      <td>0.250541</td>\n",
       "    </tr>\n",
       "    <tr>\n",
       "      <th>3</th>\n",
       "      <td>-1.794660</td>\n",
       "      <td>0.245853</td>\n",
       "      <td>0.025536</td>\n",
       "      <td>-0.193884</td>\n",
       "      <td>0.339577</td>\n",
       "    </tr>\n",
       "    <tr>\n",
       "      <th>4</th>\n",
       "      <td>-1.878290</td>\n",
       "      <td>-0.017474</td>\n",
       "      <td>-0.067363</td>\n",
       "      <td>-0.307591</td>\n",
       "      <td>-0.100106</td>\n",
       "    </tr>\n",
       "  </tbody>\n",
       "</table>\n",
       "</div>"
      ],
      "text/plain": [
       "   principal component 1  principal component 2  principal component 3  \\\n",
       "0              -1.656775              -0.386175               0.547707   \n",
       "1              -1.514116              -0.554265               0.558745   \n",
       "2              -1.843253               0.097980               0.224306   \n",
       "3              -1.794660               0.245853               0.025536   \n",
       "4              -1.878290              -0.017474              -0.067363   \n",
       "\n",
       "   principal component 4  principal component 5  \n",
       "0              -0.596091               0.315683  \n",
       "1              -0.576857               0.544962  \n",
       "2              -0.220740               0.250541  \n",
       "3              -0.193884               0.339577  \n",
       "4              -0.307591              -0.100106  "
      ]
     },
     "execution_count": 10,
     "metadata": {},
     "output_type": "execute_result"
    }
   ],
   "source": [
    "# PCA - Specify number of components\n",
    "pca = PCA(n_components=5)\n",
    "principalComponents = pca.fit_transform(x_scaled)\n",
    "principalDF = pd.DataFrame(data = principalComponents,\n",
    "                           columns = ['principal component 1',\n",
    "                                      'principal component 2',\n",
    "                                      'principal component 3',\n",
    "                                      'principal component 4',\n",
    "                                      'principal component 5',])\n",
    "principalDF.head()"
   ]
  },
  {
   "cell_type": "code",
   "execution_count": 11,
   "metadata": {},
   "outputs": [
    {
     "data": {
      "text/plain": [
       "array([0.19596306, 0.06757914, 0.06078037, 0.05793728, 0.05031275])"
      ]
     },
     "execution_count": 11,
     "metadata": {},
     "output_type": "execute_result"
    }
   ],
   "source": [
    "# How much variance does above PCA describe?\n",
    "pca.explained_variance_ratio_"
   ]
  },
  {
   "cell_type": "code",
   "execution_count": 12,
   "metadata": {},
   "outputs": [],
   "source": [
    "# PCA - Specify the desired amount of explained variance\n",
    "pca2 = PCA(n_components=0.95)\n",
    "principalComponents = pca2.fit_transform(x_scaled)"
   ]
  },
  {
   "cell_type": "code",
   "execution_count": 13,
   "metadata": {},
   "outputs": [
    {
     "data": {
      "text/plain": [
       "18"
      ]
     },
     "execution_count": 13,
     "metadata": {},
     "output_type": "execute_result"
    }
   ],
   "source": [
    "# How many components are needed to explain 95% of the variance?\n",
    "# Recall that dataset included metering data from 19 customers\n",
    "pca2.n_components_"
   ]
  },
  {
   "cell_type": "markdown",
   "metadata": {},
   "source": [
    "### PCA for ISO-NE service territory data"
   ]
  },
  {
   "cell_type": "code",
   "execution_count": 14,
   "metadata": {},
   "outputs": [],
   "source": [
    "# Read in data\n",
    "iso_data = pd.read_csv(\"ISO.aggregate.csv\")"
   ]
  },
  {
   "cell_type": "code",
   "execution_count": 15,
   "metadata": {},
   "outputs": [
    {
     "data": {
      "text/html": [
       "<div>\n",
       "<style scoped>\n",
       "    .dataframe tbody tr th:only-of-type {\n",
       "        vertical-align: middle;\n",
       "    }\n",
       "\n",
       "    .dataframe tbody tr th {\n",
       "        vertical-align: top;\n",
       "    }\n",
       "\n",
       "    .dataframe thead th {\n",
       "        text-align: right;\n",
       "    }\n",
       "</style>\n",
       "<table border=\"1\" class=\"dataframe\">\n",
       "  <thead>\n",
       "    <tr style=\"text-align: right;\">\n",
       "      <th></th>\n",
       "      <th>Settlement.Date</th>\n",
       "      <th>Month</th>\n",
       "      <th>Day</th>\n",
       "      <th>Year</th>\n",
       "      <th>TI</th>\n",
       "      <th>ISO.tot.dmd</th>\n",
       "      <th>LMP.DA.NH</th>\n",
       "      <th>LMP.RT.NH</th>\n",
       "      <th>UES.Cap</th>\n",
       "      <th>UES.Sea</th>\n",
       "      <th>NH.RT.MWh</th>\n",
       "      <th>ME.RT.MWh</th>\n",
       "      <th>VT.RT.MWh</th>\n",
       "      <th>CT.RT.MWh</th>\n",
       "      <th>RI.RT.MWh</th>\n",
       "      <th>MA.SE.RT.MWh</th>\n",
       "      <th>MA.WC.RT.MWh</th>\n",
       "      <th>MA.NE.RT.MWh</th>\n",
       "      <th>Wk.Day</th>\n",
       "    </tr>\n",
       "  </thead>\n",
       "  <tbody>\n",
       "    <tr>\n",
       "      <th>0</th>\n",
       "      <td>01/01/2010</td>\n",
       "      <td>1</td>\n",
       "      <td>1</td>\n",
       "      <td>2010</td>\n",
       "      <td>1</td>\n",
       "      <td>13797.0</td>\n",
       "      <td>63.04</td>\n",
       "      <td>63.33</td>\n",
       "      <td>30.142</td>\n",
       "      <td>67.858</td>\n",
       "      <td>1168.0</td>\n",
       "      <td>1119.7</td>\n",
       "      <td>640.4</td>\n",
       "      <td>3206.8</td>\n",
       "      <td>825.4</td>\n",
       "      <td>1498.2</td>\n",
       "      <td>1774.3</td>\n",
       "      <td>2688.9</td>\n",
       "      <td>Fri</td>\n",
       "    </tr>\n",
       "    <tr>\n",
       "      <th>1</th>\n",
       "      <td>01/01/2010</td>\n",
       "      <td>1</td>\n",
       "      <td>1</td>\n",
       "      <td>2010</td>\n",
       "      <td>2</td>\n",
       "      <td>13560.0</td>\n",
       "      <td>57.61</td>\n",
       "      <td>69.74</td>\n",
       "      <td>27.370</td>\n",
       "      <td>63.276</td>\n",
       "      <td>1091.8</td>\n",
       "      <td>1077.1</td>\n",
       "      <td>605.4</td>\n",
       "      <td>3031.6</td>\n",
       "      <td>781.9</td>\n",
       "      <td>1404.3</td>\n",
       "      <td>1676.8</td>\n",
       "      <td>2569.0</td>\n",
       "      <td>Fri</td>\n",
       "    </tr>\n",
       "    <tr>\n",
       "      <th>2</th>\n",
       "      <td>01/01/2010</td>\n",
       "      <td>1</td>\n",
       "      <td>1</td>\n",
       "      <td>2010</td>\n",
       "      <td>3</td>\n",
       "      <td>13121.0</td>\n",
       "      <td>53.74</td>\n",
       "      <td>55.39</td>\n",
       "      <td>25.573</td>\n",
       "      <td>59.899</td>\n",
       "      <td>1046.4</td>\n",
       "      <td>1045.1</td>\n",
       "      <td>578.9</td>\n",
       "      <td>2902.9</td>\n",
       "      <td>749.7</td>\n",
       "      <td>1340.0</td>\n",
       "      <td>1621.8</td>\n",
       "      <td>2483.2</td>\n",
       "      <td>Fri</td>\n",
       "    </tr>\n",
       "    <tr>\n",
       "      <th>3</th>\n",
       "      <td>01/01/2010</td>\n",
       "      <td>1</td>\n",
       "      <td>1</td>\n",
       "      <td>2010</td>\n",
       "      <td>4</td>\n",
       "      <td>13134.0</td>\n",
       "      <td>42.09</td>\n",
       "      <td>60.49</td>\n",
       "      <td>24.728</td>\n",
       "      <td>58.275</td>\n",
       "      <td>1021.5</td>\n",
       "      <td>1030.5</td>\n",
       "      <td>556.9</td>\n",
       "      <td>2827.7</td>\n",
       "      <td>729.7</td>\n",
       "      <td>1306.1</td>\n",
       "      <td>1588.5</td>\n",
       "      <td>2428.1</td>\n",
       "      <td>Fri</td>\n",
       "    </tr>\n",
       "    <tr>\n",
       "      <th>4</th>\n",
       "      <td>01/01/2010</td>\n",
       "      <td>1</td>\n",
       "      <td>1</td>\n",
       "      <td>2010</td>\n",
       "      <td>5</td>\n",
       "      <td>13144.0</td>\n",
       "      <td>47.95</td>\n",
       "      <td>53.43</td>\n",
       "      <td>24.974</td>\n",
       "      <td>58.516</td>\n",
       "      <td>1018.0</td>\n",
       "      <td>1047.4</td>\n",
       "      <td>553.7</td>\n",
       "      <td>2820.7</td>\n",
       "      <td>730.0</td>\n",
       "      <td>1308.1</td>\n",
       "      <td>1586.7</td>\n",
       "      <td>2432.2</td>\n",
       "      <td>Fri</td>\n",
       "    </tr>\n",
       "  </tbody>\n",
       "</table>\n",
       "</div>"
      ],
      "text/plain": [
       "  Settlement.Date  Month  Day  Year  TI  ISO.tot.dmd  LMP.DA.NH  LMP.RT.NH  \\\n",
       "0      01/01/2010      1    1  2010   1      13797.0      63.04      63.33   \n",
       "1      01/01/2010      1    1  2010   2      13560.0      57.61      69.74   \n",
       "2      01/01/2010      1    1  2010   3      13121.0      53.74      55.39   \n",
       "3      01/01/2010      1    1  2010   4      13134.0      42.09      60.49   \n",
       "4      01/01/2010      1    1  2010   5      13144.0      47.95      53.43   \n",
       "\n",
       "   UES.Cap  UES.Sea  NH.RT.MWh  ME.RT.MWh  VT.RT.MWh  CT.RT.MWh  RI.RT.MWh  \\\n",
       "0   30.142   67.858     1168.0     1119.7      640.4     3206.8      825.4   \n",
       "1   27.370   63.276     1091.8     1077.1      605.4     3031.6      781.9   \n",
       "2   25.573   59.899     1046.4     1045.1      578.9     2902.9      749.7   \n",
       "3   24.728   58.275     1021.5     1030.5      556.9     2827.7      729.7   \n",
       "4   24.974   58.516     1018.0     1047.4      553.7     2820.7      730.0   \n",
       "\n",
       "   MA.SE.RT.MWh  MA.WC.RT.MWh  MA.NE.RT.MWh Wk.Day  \n",
       "0        1498.2        1774.3        2688.9    Fri  \n",
       "1        1404.3        1676.8        2569.0    Fri  \n",
       "2        1340.0        1621.8        2483.2    Fri  \n",
       "3        1306.1        1588.5        2428.1    Fri  \n",
       "4        1308.1        1586.7        2432.2    Fri  "
      ]
     },
     "execution_count": 15,
     "metadata": {},
     "output_type": "execute_result"
    }
   ],
   "source": [
    "# See first few rows of data\n",
    "iso_data.head()"
   ]
  },
  {
   "cell_type": "code",
   "execution_count": 16,
   "metadata": {},
   "outputs": [
    {
     "data": {
      "text/plain": [
       "Settlement.Date     object\n",
       "Month                int64\n",
       "Day                  int64\n",
       "Year                 int64\n",
       "TI                   int64\n",
       "ISO.tot.dmd        float64\n",
       "LMP.DA.NH          float64\n",
       "LMP.RT.NH          float64\n",
       "UES.Cap            float64\n",
       "UES.Sea            float64\n",
       "NH.RT.MWh          float64\n",
       "ME.RT.MWh          float64\n",
       "VT.RT.MWh          float64\n",
       "CT.RT.MWh          float64\n",
       "RI.RT.MWh          float64\n",
       "MA.SE.RT.MWh       float64\n",
       "MA.WC.RT.MWh       float64\n",
       "MA.NE.RT.MWh       float64\n",
       "Wk.Day              object\n",
       "dtype: object"
      ]
     },
     "execution_count": 16,
     "metadata": {},
     "output_type": "execute_result"
    }
   ],
   "source": [
    "# Check dataframe data types\n",
    "iso_data.dtypes"
   ]
  },
  {
   "cell_type": "code",
   "execution_count": 17,
   "metadata": {},
   "outputs": [
    {
     "data": {
      "text/html": [
       "<div>\n",
       "<style scoped>\n",
       "    .dataframe tbody tr th:only-of-type {\n",
       "        vertical-align: middle;\n",
       "    }\n",
       "\n",
       "    .dataframe tbody tr th {\n",
       "        vertical-align: top;\n",
       "    }\n",
       "\n",
       "    .dataframe thead th {\n",
       "        text-align: right;\n",
       "    }\n",
       "</style>\n",
       "<table border=\"1\" class=\"dataframe\">\n",
       "  <thead>\n",
       "    <tr style=\"text-align: right;\">\n",
       "      <th></th>\n",
       "      <th>Month</th>\n",
       "      <th>Day</th>\n",
       "      <th>Year</th>\n",
       "      <th>TI</th>\n",
       "      <th>ISO.tot.dmd</th>\n",
       "      <th>LMP.DA.NH</th>\n",
       "      <th>LMP.RT.NH</th>\n",
       "      <th>UES.Cap</th>\n",
       "      <th>UES.Sea</th>\n",
       "      <th>NH.RT.MWh</th>\n",
       "      <th>ME.RT.MWh</th>\n",
       "      <th>VT.RT.MWh</th>\n",
       "      <th>CT.RT.MWh</th>\n",
       "      <th>RI.RT.MWh</th>\n",
       "      <th>MA.SE.RT.MWh</th>\n",
       "      <th>MA.WC.RT.MWh</th>\n",
       "      <th>MA.NE.RT.MWh</th>\n",
       "    </tr>\n",
       "  </thead>\n",
       "  <tbody>\n",
       "    <tr>\n",
       "      <th>count</th>\n",
       "      <td>78888.000000</td>\n",
       "      <td>78888.000000</td>\n",
       "      <td>78888.000000</td>\n",
       "      <td>78888.00000</td>\n",
       "      <td>78888.000000</td>\n",
       "      <td>78888.000000</td>\n",
       "      <td>78888.000000</td>\n",
       "      <td>78888.000000</td>\n",
       "      <td>78888.000000</td>\n",
       "      <td>78888.000000</td>\n",
       "      <td>78888.000000</td>\n",
       "      <td>78888.000000</td>\n",
       "      <td>78888.000000</td>\n",
       "      <td>78888.000000</td>\n",
       "      <td>78888.000000</td>\n",
       "      <td>78888.000000</td>\n",
       "      <td>78888.000000</td>\n",
       "    </tr>\n",
       "    <tr>\n",
       "      <th>mean</th>\n",
       "      <td>6.524186</td>\n",
       "      <td>15.727829</td>\n",
       "      <td>2014.000000</td>\n",
       "      <td>12.50000</td>\n",
       "      <td>14580.323975</td>\n",
       "      <td>44.314016</td>\n",
       "      <td>43.558842</td>\n",
       "      <td>49.921363</td>\n",
       "      <td>76.881151</td>\n",
       "      <td>1319.439378</td>\n",
       "      <td>1306.278982</td>\n",
       "      <td>644.162969</td>\n",
       "      <td>3482.567405</td>\n",
       "      <td>928.714068</td>\n",
       "      <td>1689.279528</td>\n",
       "      <td>1962.351245</td>\n",
       "      <td>2885.513858</td>\n",
       "    </tr>\n",
       "    <tr>\n",
       "      <th>std</th>\n",
       "      <td>3.448757</td>\n",
       "      <td>8.800448</td>\n",
       "      <td>2.581691</td>\n",
       "      <td>6.92223</td>\n",
       "      <td>2701.159746</td>\n",
       "      <td>34.641323</td>\n",
       "      <td>41.971410</td>\n",
       "      <td>16.058125</td>\n",
       "      <td>18.111757</td>\n",
       "      <td>265.283960</td>\n",
       "      <td>205.392568</td>\n",
       "      <td>107.796148</td>\n",
       "      <td>771.736129</td>\n",
       "      <td>206.067112</td>\n",
       "      <td>389.917777</td>\n",
       "      <td>378.862822</td>\n",
       "      <td>570.326415</td>\n",
       "    </tr>\n",
       "    <tr>\n",
       "      <th>min</th>\n",
       "      <td>1.000000</td>\n",
       "      <td>1.000000</td>\n",
       "      <td>2010.000000</td>\n",
       "      <td>1.00000</td>\n",
       "      <td>8665.000000</td>\n",
       "      <td>-5.000000</td>\n",
       "      <td>-155.110000</td>\n",
       "      <td>5.395000</td>\n",
       "      <td>6.912000</td>\n",
       "      <td>523.200000</td>\n",
       "      <td>681.800000</td>\n",
       "      <td>302.300000</td>\n",
       "      <td>1367.400000</td>\n",
       "      <td>371.800000</td>\n",
       "      <td>708.700000</td>\n",
       "      <td>736.900000</td>\n",
       "      <td>1729.700000</td>\n",
       "    </tr>\n",
       "    <tr>\n",
       "      <th>25%</th>\n",
       "      <td>4.000000</td>\n",
       "      <td>8.000000</td>\n",
       "      <td>2012.000000</td>\n",
       "      <td>6.75000</td>\n",
       "      <td>12636.000000</td>\n",
       "      <td>26.560000</td>\n",
       "      <td>24.200000</td>\n",
       "      <td>37.740750</td>\n",
       "      <td>64.283500</td>\n",
       "      <td>1121.200000</td>\n",
       "      <td>1143.500000</td>\n",
       "      <td>558.900000</td>\n",
       "      <td>2937.900000</td>\n",
       "      <td>784.100000</td>\n",
       "      <td>1413.300000</td>\n",
       "      <td>1683.000000</td>\n",
       "      <td>2473.400000</td>\n",
       "    </tr>\n",
       "    <tr>\n",
       "      <th>50%</th>\n",
       "      <td>7.000000</td>\n",
       "      <td>16.000000</td>\n",
       "      <td>2014.000000</td>\n",
       "      <td>12.50000</td>\n",
       "      <td>14395.920000</td>\n",
       "      <td>36.180000</td>\n",
       "      <td>34.460000</td>\n",
       "      <td>49.494000</td>\n",
       "      <td>76.039500</td>\n",
       "      <td>1333.100000</td>\n",
       "      <td>1329.650000</td>\n",
       "      <td>648.800000</td>\n",
       "      <td>3444.250000</td>\n",
       "      <td>916.500000</td>\n",
       "      <td>1659.350000</td>\n",
       "      <td>1951.600000</td>\n",
       "      <td>2869.300000</td>\n",
       "    </tr>\n",
       "    <tr>\n",
       "      <th>75%</th>\n",
       "      <td>10.000000</td>\n",
       "      <td>23.000000</td>\n",
       "      <td>2016.000000</td>\n",
       "      <td>18.25000</td>\n",
       "      <td>16121.000000</td>\n",
       "      <td>48.670000</td>\n",
       "      <td>47.750000</td>\n",
       "      <td>60.210250</td>\n",
       "      <td>86.300000</td>\n",
       "      <td>1485.400000</td>\n",
       "      <td>1450.200000</td>\n",
       "      <td>721.500000</td>\n",
       "      <td>3915.300000</td>\n",
       "      <td>1032.200000</td>\n",
       "      <td>1887.325000</td>\n",
       "      <td>2199.000000</td>\n",
       "      <td>3210.700000</td>\n",
       "    </tr>\n",
       "    <tr>\n",
       "      <th>max</th>\n",
       "      <td>12.000000</td>\n",
       "      <td>31.000000</td>\n",
       "      <td>2018.000000</td>\n",
       "      <td>24.00000</td>\n",
       "      <td>27762.000000</td>\n",
       "      <td>785.000000</td>\n",
       "      <td>2493.150000</td>\n",
       "      <td>118.547000</td>\n",
       "      <td>168.430000</td>\n",
       "      <td>2433.300000</td>\n",
       "      <td>2034.100000</td>\n",
       "      <td>1002.500000</td>\n",
       "      <td>7218.800000</td>\n",
       "      <td>4314.300000</td>\n",
       "      <td>3644.700000</td>\n",
       "      <td>3652.300000</td>\n",
       "      <td>5657.900000</td>\n",
       "    </tr>\n",
       "  </tbody>\n",
       "</table>\n",
       "</div>"
      ],
      "text/plain": [
       "              Month           Day          Year           TI   ISO.tot.dmd  \\\n",
       "count  78888.000000  78888.000000  78888.000000  78888.00000  78888.000000   \n",
       "mean       6.524186     15.727829   2014.000000     12.50000  14580.323975   \n",
       "std        3.448757      8.800448      2.581691      6.92223   2701.159746   \n",
       "min        1.000000      1.000000   2010.000000      1.00000   8665.000000   \n",
       "25%        4.000000      8.000000   2012.000000      6.75000  12636.000000   \n",
       "50%        7.000000     16.000000   2014.000000     12.50000  14395.920000   \n",
       "75%       10.000000     23.000000   2016.000000     18.25000  16121.000000   \n",
       "max       12.000000     31.000000   2018.000000     24.00000  27762.000000   \n",
       "\n",
       "          LMP.DA.NH     LMP.RT.NH       UES.Cap       UES.Sea     NH.RT.MWh  \\\n",
       "count  78888.000000  78888.000000  78888.000000  78888.000000  78888.000000   \n",
       "mean      44.314016     43.558842     49.921363     76.881151   1319.439378   \n",
       "std       34.641323     41.971410     16.058125     18.111757    265.283960   \n",
       "min       -5.000000   -155.110000      5.395000      6.912000    523.200000   \n",
       "25%       26.560000     24.200000     37.740750     64.283500   1121.200000   \n",
       "50%       36.180000     34.460000     49.494000     76.039500   1333.100000   \n",
       "75%       48.670000     47.750000     60.210250     86.300000   1485.400000   \n",
       "max      785.000000   2493.150000    118.547000    168.430000   2433.300000   \n",
       "\n",
       "          ME.RT.MWh     VT.RT.MWh     CT.RT.MWh     RI.RT.MWh  MA.SE.RT.MWh  \\\n",
       "count  78888.000000  78888.000000  78888.000000  78888.000000  78888.000000   \n",
       "mean    1306.278982    644.162969   3482.567405    928.714068   1689.279528   \n",
       "std      205.392568    107.796148    771.736129    206.067112    389.917777   \n",
       "min      681.800000    302.300000   1367.400000    371.800000    708.700000   \n",
       "25%     1143.500000    558.900000   2937.900000    784.100000   1413.300000   \n",
       "50%     1329.650000    648.800000   3444.250000    916.500000   1659.350000   \n",
       "75%     1450.200000    721.500000   3915.300000   1032.200000   1887.325000   \n",
       "max     2034.100000   1002.500000   7218.800000   4314.300000   3644.700000   \n",
       "\n",
       "       MA.WC.RT.MWh  MA.NE.RT.MWh  \n",
       "count  78888.000000  78888.000000  \n",
       "mean    1962.351245   2885.513858  \n",
       "std      378.862822    570.326415  \n",
       "min      736.900000   1729.700000  \n",
       "25%     1683.000000   2473.400000  \n",
       "50%     1951.600000   2869.300000  \n",
       "75%     2199.000000   3210.700000  \n",
       "max     3652.300000   5657.900000  "
      ]
     },
     "execution_count": 17,
     "metadata": {},
     "output_type": "execute_result"
    }
   ],
   "source": [
    "# Summary Stats\n",
    "iso_data.describe()"
   ]
  },
  {
   "cell_type": "code",
   "execution_count": 18,
   "metadata": {},
   "outputs": [
    {
     "data": {
      "text/plain": [
       "(78888, 19)"
      ]
     },
     "execution_count": 18,
     "metadata": {},
     "output_type": "execute_result"
    }
   ],
   "source": [
    "# Shape of dataframe\n",
    "iso_data.shape"
   ]
  },
  {
   "cell_type": "code",
   "execution_count": 19,
   "metadata": {},
   "outputs": [
    {
     "data": {
      "text/plain": [
       "(78888, 13)"
      ]
     },
     "execution_count": 19,
     "metadata": {},
     "output_type": "execute_result"
    }
   ],
   "source": [
    "### Drop timestamping data\n",
    "\n",
    "# Columns to drop\n",
    "labels = ['Settlement.Date', 'Month', 'Day', 'Year', 'TI', 'Wk.Day']\n",
    "\n",
    "# Drop columns\n",
    "y = iso_data.drop(labels=labels, axis=1)\n",
    "\n",
    "# New shape of data\n",
    "y.shape"
   ]
  },
  {
   "cell_type": "code",
   "execution_count": 20,
   "metadata": {},
   "outputs": [
    {
     "data": {
      "text/html": [
       "<div>\n",
       "<style scoped>\n",
       "    .dataframe tbody tr th:only-of-type {\n",
       "        vertical-align: middle;\n",
       "    }\n",
       "\n",
       "    .dataframe tbody tr th {\n",
       "        vertical-align: top;\n",
       "    }\n",
       "\n",
       "    .dataframe thead th {\n",
       "        text-align: right;\n",
       "    }\n",
       "</style>\n",
       "<table border=\"1\" class=\"dataframe\">\n",
       "  <thead>\n",
       "    <tr style=\"text-align: right;\">\n",
       "      <th></th>\n",
       "      <th>ISO.tot.dmd</th>\n",
       "      <th>LMP.DA.NH</th>\n",
       "      <th>LMP.RT.NH</th>\n",
       "      <th>UES.Cap</th>\n",
       "      <th>UES.Sea</th>\n",
       "      <th>NH.RT.MWh</th>\n",
       "      <th>ME.RT.MWh</th>\n",
       "      <th>VT.RT.MWh</th>\n",
       "      <th>CT.RT.MWh</th>\n",
       "      <th>RI.RT.MWh</th>\n",
       "      <th>MA.SE.RT.MWh</th>\n",
       "      <th>MA.WC.RT.MWh</th>\n",
       "      <th>MA.NE.RT.MWh</th>\n",
       "    </tr>\n",
       "  </thead>\n",
       "  <tbody>\n",
       "    <tr>\n",
       "      <th>0</th>\n",
       "      <td>13797.0</td>\n",
       "      <td>63.04</td>\n",
       "      <td>63.33</td>\n",
       "      <td>30.142</td>\n",
       "      <td>67.858</td>\n",
       "      <td>1168.0</td>\n",
       "      <td>1119.7</td>\n",
       "      <td>640.4</td>\n",
       "      <td>3206.8</td>\n",
       "      <td>825.4</td>\n",
       "      <td>1498.2</td>\n",
       "      <td>1774.3</td>\n",
       "      <td>2688.9</td>\n",
       "    </tr>\n",
       "    <tr>\n",
       "      <th>1</th>\n",
       "      <td>13560.0</td>\n",
       "      <td>57.61</td>\n",
       "      <td>69.74</td>\n",
       "      <td>27.370</td>\n",
       "      <td>63.276</td>\n",
       "      <td>1091.8</td>\n",
       "      <td>1077.1</td>\n",
       "      <td>605.4</td>\n",
       "      <td>3031.6</td>\n",
       "      <td>781.9</td>\n",
       "      <td>1404.3</td>\n",
       "      <td>1676.8</td>\n",
       "      <td>2569.0</td>\n",
       "    </tr>\n",
       "    <tr>\n",
       "      <th>2</th>\n",
       "      <td>13121.0</td>\n",
       "      <td>53.74</td>\n",
       "      <td>55.39</td>\n",
       "      <td>25.573</td>\n",
       "      <td>59.899</td>\n",
       "      <td>1046.4</td>\n",
       "      <td>1045.1</td>\n",
       "      <td>578.9</td>\n",
       "      <td>2902.9</td>\n",
       "      <td>749.7</td>\n",
       "      <td>1340.0</td>\n",
       "      <td>1621.8</td>\n",
       "      <td>2483.2</td>\n",
       "    </tr>\n",
       "    <tr>\n",
       "      <th>3</th>\n",
       "      <td>13134.0</td>\n",
       "      <td>42.09</td>\n",
       "      <td>60.49</td>\n",
       "      <td>24.728</td>\n",
       "      <td>58.275</td>\n",
       "      <td>1021.5</td>\n",
       "      <td>1030.5</td>\n",
       "      <td>556.9</td>\n",
       "      <td>2827.7</td>\n",
       "      <td>729.7</td>\n",
       "      <td>1306.1</td>\n",
       "      <td>1588.5</td>\n",
       "      <td>2428.1</td>\n",
       "    </tr>\n",
       "    <tr>\n",
       "      <th>4</th>\n",
       "      <td>13144.0</td>\n",
       "      <td>47.95</td>\n",
       "      <td>53.43</td>\n",
       "      <td>24.974</td>\n",
       "      <td>58.516</td>\n",
       "      <td>1018.0</td>\n",
       "      <td>1047.4</td>\n",
       "      <td>553.7</td>\n",
       "      <td>2820.7</td>\n",
       "      <td>730.0</td>\n",
       "      <td>1308.1</td>\n",
       "      <td>1586.7</td>\n",
       "      <td>2432.2</td>\n",
       "    </tr>\n",
       "  </tbody>\n",
       "</table>\n",
       "</div>"
      ],
      "text/plain": [
       "   ISO.tot.dmd  LMP.DA.NH  LMP.RT.NH  UES.Cap  UES.Sea  NH.RT.MWh  ME.RT.MWh  \\\n",
       "0      13797.0      63.04      63.33   30.142   67.858     1168.0     1119.7   \n",
       "1      13560.0      57.61      69.74   27.370   63.276     1091.8     1077.1   \n",
       "2      13121.0      53.74      55.39   25.573   59.899     1046.4     1045.1   \n",
       "3      13134.0      42.09      60.49   24.728   58.275     1021.5     1030.5   \n",
       "4      13144.0      47.95      53.43   24.974   58.516     1018.0     1047.4   \n",
       "\n",
       "   VT.RT.MWh  CT.RT.MWh  RI.RT.MWh  MA.SE.RT.MWh  MA.WC.RT.MWh  MA.NE.RT.MWh  \n",
       "0      640.4     3206.8      825.4        1498.2        1774.3        2688.9  \n",
       "1      605.4     3031.6      781.9        1404.3        1676.8        2569.0  \n",
       "2      578.9     2902.9      749.7        1340.0        1621.8        2483.2  \n",
       "3      556.9     2827.7      729.7        1306.1        1588.5        2428.1  \n",
       "4      553.7     2820.7      730.0        1308.1        1586.7        2432.2  "
      ]
     },
     "execution_count": 20,
     "metadata": {},
     "output_type": "execute_result"
    }
   ],
   "source": [
    "# First few rows of new dataframe\n",
    "y.head()"
   ]
  },
  {
   "cell_type": "code",
   "execution_count": 21,
   "metadata": {},
   "outputs": [
    {
     "data": {
      "text/html": [
       "<div>\n",
       "<style scoped>\n",
       "    .dataframe tbody tr th:only-of-type {\n",
       "        vertical-align: middle;\n",
       "    }\n",
       "\n",
       "    .dataframe tbody tr th {\n",
       "        vertical-align: top;\n",
       "    }\n",
       "\n",
       "    .dataframe thead th {\n",
       "        text-align: right;\n",
       "    }\n",
       "</style>\n",
       "<table border=\"1\" class=\"dataframe\">\n",
       "  <thead>\n",
       "    <tr style=\"text-align: right;\">\n",
       "      <th></th>\n",
       "      <th>0</th>\n",
       "      <th>1</th>\n",
       "      <th>2</th>\n",
       "      <th>3</th>\n",
       "      <th>4</th>\n",
       "      <th>5</th>\n",
       "      <th>6</th>\n",
       "      <th>7</th>\n",
       "      <th>8</th>\n",
       "      <th>9</th>\n",
       "      <th>10</th>\n",
       "      <th>11</th>\n",
       "      <th>12</th>\n",
       "    </tr>\n",
       "  </thead>\n",
       "  <tbody>\n",
       "    <tr>\n",
       "      <th>0</th>\n",
       "      <td>-0.289997</td>\n",
       "      <td>0.540571</td>\n",
       "      <td>0.471065</td>\n",
       "      <td>-1.231743</td>\n",
       "      <td>-0.498196</td>\n",
       "      <td>-0.570861</td>\n",
       "      <td>-0.908408</td>\n",
       "      <td>-0.034908</td>\n",
       "      <td>-0.357336</td>\n",
       "      <td>-0.501364</td>\n",
       "      <td>-0.490054</td>\n",
       "      <td>-0.496360</td>\n",
       "      <td>-0.344741</td>\n",
       "    </tr>\n",
       "    <tr>\n",
       "      <th>1</th>\n",
       "      <td>-0.377738</td>\n",
       "      <td>0.383821</td>\n",
       "      <td>0.623789</td>\n",
       "      <td>-1.404367</td>\n",
       "      <td>-0.751183</td>\n",
       "      <td>-0.858102</td>\n",
       "      <td>-1.115817</td>\n",
       "      <td>-0.359597</td>\n",
       "      <td>-0.584358</td>\n",
       "      <td>-0.712462</td>\n",
       "      <td>-0.730875</td>\n",
       "      <td>-0.753711</td>\n",
       "      <td>-0.554973</td>\n",
       "    </tr>\n",
       "    <tr>\n",
       "      <th>2</th>\n",
       "      <td>-0.540262</td>\n",
       "      <td>0.272104</td>\n",
       "      <td>0.281888</td>\n",
       "      <td>-1.516274</td>\n",
       "      <td>-0.937637</td>\n",
       "      <td>-1.029241</td>\n",
       "      <td>-1.271617</td>\n",
       "      <td>-0.605433</td>\n",
       "      <td>-0.751126</td>\n",
       "      <td>-0.868723</td>\n",
       "      <td>-0.895783</td>\n",
       "      <td>-0.898883</td>\n",
       "      <td>-0.705414</td>\n",
       "    </tr>\n",
       "    <tr>\n",
       "      <th>3</th>\n",
       "      <td>-0.535449</td>\n",
       "      <td>-0.064202</td>\n",
       "      <td>0.403400</td>\n",
       "      <td>-1.568896</td>\n",
       "      <td>-1.027303</td>\n",
       "      <td>-1.123103</td>\n",
       "      <td>-1.342701</td>\n",
       "      <td>-0.809524</td>\n",
       "      <td>-0.848569</td>\n",
       "      <td>-0.965779</td>\n",
       "      <td>-0.982725</td>\n",
       "      <td>-0.986778</td>\n",
       "      <td>-0.802026</td>\n",
       "    </tr>\n",
       "    <tr>\n",
       "      <th>4</th>\n",
       "      <td>-0.531747</td>\n",
       "      <td>0.104962</td>\n",
       "      <td>0.235189</td>\n",
       "      <td>-1.553576</td>\n",
       "      <td>-1.013997</td>\n",
       "      <td>-1.136297</td>\n",
       "      <td>-1.260419</td>\n",
       "      <td>-0.839209</td>\n",
       "      <td>-0.857640</td>\n",
       "      <td>-0.964323</td>\n",
       "      <td>-0.977596</td>\n",
       "      <td>-0.991529</td>\n",
       "      <td>-0.794837</td>\n",
       "    </tr>\n",
       "  </tbody>\n",
       "</table>\n",
       "</div>"
      ],
      "text/plain": [
       "         0         1         2         3         4         5         6   \\\n",
       "0 -0.289997  0.540571  0.471065 -1.231743 -0.498196 -0.570861 -0.908408   \n",
       "1 -0.377738  0.383821  0.623789 -1.404367 -0.751183 -0.858102 -1.115817   \n",
       "2 -0.540262  0.272104  0.281888 -1.516274 -0.937637 -1.029241 -1.271617   \n",
       "3 -0.535449 -0.064202  0.403400 -1.568896 -1.027303 -1.123103 -1.342701   \n",
       "4 -0.531747  0.104962  0.235189 -1.553576 -1.013997 -1.136297 -1.260419   \n",
       "\n",
       "         7         8         9         10        11        12  \n",
       "0 -0.034908 -0.357336 -0.501364 -0.490054 -0.496360 -0.344741  \n",
       "1 -0.359597 -0.584358 -0.712462 -0.730875 -0.753711 -0.554973  \n",
       "2 -0.605433 -0.751126 -0.868723 -0.895783 -0.898883 -0.705414  \n",
       "3 -0.809524 -0.848569 -0.965779 -0.982725 -0.986778 -0.802026  \n",
       "4 -0.839209 -0.857640 -0.964323 -0.977596 -0.991529 -0.794837  "
      ]
     },
     "execution_count": 21,
     "metadata": {},
     "output_type": "execute_result"
    }
   ],
   "source": [
    "### Scale dataframe using StandardScaler\n",
    "\n",
    "# Note that y_scaled is an array, not a dataframe\n",
    "y_scaled = StandardScaler().fit_transform(y)\n",
    "\n",
    "# Visualize the scaled data using a dataframe\n",
    "df = pd.DataFrame(y_scaled)\n",
    "df.head()"
   ]
  },
  {
   "cell_type": "code",
   "execution_count": 22,
   "metadata": {},
   "outputs": [
    {
     "data": {
      "text/html": [
       "<div>\n",
       "<style scoped>\n",
       "    .dataframe tbody tr th:only-of-type {\n",
       "        vertical-align: middle;\n",
       "    }\n",
       "\n",
       "    .dataframe tbody tr th {\n",
       "        vertical-align: top;\n",
       "    }\n",
       "\n",
       "    .dataframe thead th {\n",
       "        text-align: right;\n",
       "    }\n",
       "</style>\n",
       "<table border=\"1\" class=\"dataframe\">\n",
       "  <thead>\n",
       "    <tr style=\"text-align: right;\">\n",
       "      <th></th>\n",
       "      <th>principal component 1</th>\n",
       "      <th>principal component 2</th>\n",
       "      <th>principal component 3</th>\n",
       "      <th>principal component 4</th>\n",
       "      <th>principal component 5</th>\n",
       "    </tr>\n",
       "  </thead>\n",
       "  <tbody>\n",
       "    <tr>\n",
       "      <th>0</th>\n",
       "      <td>-1.526112</td>\n",
       "      <td>1.148991</td>\n",
       "      <td>0.024611</td>\n",
       "      <td>-0.203553</td>\n",
       "      <td>-0.803992</td>\n",
       "    </tr>\n",
       "    <tr>\n",
       "      <th>1</th>\n",
       "      <td>-2.255963</td>\n",
       "      <td>1.287369</td>\n",
       "      <td>0.238645</td>\n",
       "      <td>-0.066054</td>\n",
       "      <td>-0.773000</td>\n",
       "    </tr>\n",
       "    <tr>\n",
       "      <th>2</th>\n",
       "      <td>-2.856995</td>\n",
       "      <td>1.078013</td>\n",
       "      <td>0.209978</td>\n",
       "      <td>-0.229546</td>\n",
       "      <td>-0.714868</td>\n",
       "    </tr>\n",
       "    <tr>\n",
       "      <th>3</th>\n",
       "      <td>-3.175825</td>\n",
       "      <td>0.978905</td>\n",
       "      <td>0.416209</td>\n",
       "      <td>0.032693</td>\n",
       "      <td>-0.704791</td>\n",
       "    </tr>\n",
       "    <tr>\n",
       "      <th>4</th>\n",
       "      <td>-3.152832</td>\n",
       "      <td>0.967806</td>\n",
       "      <td>0.312375</td>\n",
       "      <td>-0.173453</td>\n",
       "      <td>-0.616519</td>\n",
       "    </tr>\n",
       "  </tbody>\n",
       "</table>\n",
       "</div>"
      ],
      "text/plain": [
       "   principal component 1  principal component 2  principal component 3  \\\n",
       "0              -1.526112               1.148991               0.024611   \n",
       "1              -2.255963               1.287369               0.238645   \n",
       "2              -2.856995               1.078013               0.209978   \n",
       "3              -3.175825               0.978905               0.416209   \n",
       "4              -3.152832               0.967806               0.312375   \n",
       "\n",
       "   principal component 4  principal component 5  \n",
       "0              -0.203553              -0.803992  \n",
       "1              -0.066054              -0.773000  \n",
       "2              -0.229546              -0.714868  \n",
       "3               0.032693              -0.704791  \n",
       "4              -0.173453              -0.616519  "
      ]
     },
     "execution_count": 22,
     "metadata": {},
     "output_type": "execute_result"
    }
   ],
   "source": [
    "# PCA - Specify number of components\n",
    "pca = PCA(n_components=5)\n",
    "principalComponents = pca.fit_transform(y_scaled)\n",
    "principalDF = pd.DataFrame(data = principalComponents,\n",
    "                           columns = ['principal component 1',\n",
    "                                      'principal component 2',\n",
    "                                      'principal component 3',\n",
    "                                      'principal component 4',\n",
    "                                      'principal component 5',])\n",
    "principalDF.head()"
   ]
  },
  {
   "cell_type": "code",
   "execution_count": 23,
   "metadata": {},
   "outputs": [
    {
     "data": {
      "text/plain": [
       "array([0.81915056, 0.1053449 , 0.02546786, 0.01686609, 0.01358903])"
      ]
     },
     "execution_count": 23,
     "metadata": {},
     "output_type": "execute_result"
    }
   ],
   "source": [
    "pca.explained_variance_ratio_"
   ]
  },
  {
   "cell_type": "code",
   "execution_count": 24,
   "metadata": {},
   "outputs": [],
   "source": [
    "# PCA - Specify the desired amount of explained variance\n",
    "pca2 = PCA(n_components=0.95)\n",
    "principalComponents = pca2.fit_transform(y_scaled)"
   ]
  },
  {
   "cell_type": "code",
   "execution_count": 25,
   "metadata": {},
   "outputs": [
    {
     "data": {
      "text/plain": [
       "4"
      ]
     },
     "execution_count": 25,
     "metadata": {},
     "output_type": "execute_result"
    }
   ],
   "source": [
    "# How many components are needed to explain 95% of the variance?\n",
    "# Recall that ISO-NE dataset had 13 features\n",
    "pca2.n_components_"
   ]
  },
  {
   "cell_type": "markdown",
   "metadata": {},
   "source": [
    "### Using PCA to Predict UES Load - Can Accuracy be Maintained?  Can Model Training be Sped Up?\n",
    "##### KNN used with PCA to predict UES load 1 to 7 days in advance"
   ]
  },
  {
   "cell_type": "markdown",
   "metadata": {},
   "source": [
    "### Predict UES load - 1 Day Ahead (KNN & PCA)"
   ]
  },
  {
   "cell_type": "code",
   "execution_count": 26,
   "metadata": {},
   "outputs": [
    {
     "data": {
      "text/html": [
       "<div>\n",
       "<style scoped>\n",
       "    .dataframe tbody tr th:only-of-type {\n",
       "        vertical-align: middle;\n",
       "    }\n",
       "\n",
       "    .dataframe tbody tr th {\n",
       "        vertical-align: top;\n",
       "    }\n",
       "\n",
       "    .dataframe thead th {\n",
       "        text-align: right;\n",
       "    }\n",
       "</style>\n",
       "<table border=\"1\" class=\"dataframe\">\n",
       "  <thead>\n",
       "    <tr style=\"text-align: right;\">\n",
       "      <th></th>\n",
       "      <th>Month</th>\n",
       "      <th>Day</th>\n",
       "      <th>Year</th>\n",
       "      <th>TI</th>\n",
       "      <th>ISO.tot.dmd</th>\n",
       "      <th>LMP.DA.NH</th>\n",
       "      <th>LMP.RT.NH</th>\n",
       "      <th>UES.Cap</th>\n",
       "      <th>UES.Sea</th>\n",
       "      <th>UES.Sea.NEXT.DAY.LOAD</th>\n",
       "      <th>NH.RT.MWh</th>\n",
       "      <th>ME.RT.MWh</th>\n",
       "      <th>VT.RT.MWh</th>\n",
       "      <th>CT.RT.MWh</th>\n",
       "      <th>RI.RT.MWh</th>\n",
       "      <th>MA.SE.RT.MWh</th>\n",
       "      <th>MA.WC.RT.MWh</th>\n",
       "      <th>MA.NE.RT.MWh</th>\n",
       "      <th>Wk.Day</th>\n",
       "    </tr>\n",
       "  </thead>\n",
       "  <tbody>\n",
       "    <tr>\n",
       "      <th>0</th>\n",
       "      <td>1</td>\n",
       "      <td>1</td>\n",
       "      <td>2010</td>\n",
       "      <td>1</td>\n",
       "      <td>13797.0</td>\n",
       "      <td>63.04</td>\n",
       "      <td>63.33</td>\n",
       "      <td>30.142</td>\n",
       "      <td>67.858</td>\n",
       "      <td>61.904</td>\n",
       "      <td>1168.0</td>\n",
       "      <td>1119.7</td>\n",
       "      <td>640.4</td>\n",
       "      <td>3206.8</td>\n",
       "      <td>825.4</td>\n",
       "      <td>1498.2</td>\n",
       "      <td>1774.3</td>\n",
       "      <td>2688.9</td>\n",
       "      <td>Fri</td>\n",
       "    </tr>\n",
       "    <tr>\n",
       "      <th>1</th>\n",
       "      <td>1</td>\n",
       "      <td>1</td>\n",
       "      <td>2010</td>\n",
       "      <td>2</td>\n",
       "      <td>13560.0</td>\n",
       "      <td>57.61</td>\n",
       "      <td>69.74</td>\n",
       "      <td>27.370</td>\n",
       "      <td>63.276</td>\n",
       "      <td>58.754</td>\n",
       "      <td>1091.8</td>\n",
       "      <td>1077.1</td>\n",
       "      <td>605.4</td>\n",
       "      <td>3031.6</td>\n",
       "      <td>781.9</td>\n",
       "      <td>1404.3</td>\n",
       "      <td>1676.8</td>\n",
       "      <td>2569.0</td>\n",
       "      <td>Fri</td>\n",
       "    </tr>\n",
       "    <tr>\n",
       "      <th>2</th>\n",
       "      <td>1</td>\n",
       "      <td>1</td>\n",
       "      <td>2010</td>\n",
       "      <td>3</td>\n",
       "      <td>13121.0</td>\n",
       "      <td>53.74</td>\n",
       "      <td>55.39</td>\n",
       "      <td>25.573</td>\n",
       "      <td>59.899</td>\n",
       "      <td>57.320</td>\n",
       "      <td>1046.4</td>\n",
       "      <td>1045.1</td>\n",
       "      <td>578.9</td>\n",
       "      <td>2902.9</td>\n",
       "      <td>749.7</td>\n",
       "      <td>1340.0</td>\n",
       "      <td>1621.8</td>\n",
       "      <td>2483.2</td>\n",
       "      <td>Fri</td>\n",
       "    </tr>\n",
       "    <tr>\n",
       "      <th>3</th>\n",
       "      <td>1</td>\n",
       "      <td>1</td>\n",
       "      <td>2010</td>\n",
       "      <td>4</td>\n",
       "      <td>13134.0</td>\n",
       "      <td>42.09</td>\n",
       "      <td>60.49</td>\n",
       "      <td>24.728</td>\n",
       "      <td>58.275</td>\n",
       "      <td>57.068</td>\n",
       "      <td>1021.5</td>\n",
       "      <td>1030.5</td>\n",
       "      <td>556.9</td>\n",
       "      <td>2827.7</td>\n",
       "      <td>729.7</td>\n",
       "      <td>1306.1</td>\n",
       "      <td>1588.5</td>\n",
       "      <td>2428.1</td>\n",
       "      <td>Fri</td>\n",
       "    </tr>\n",
       "    <tr>\n",
       "      <th>4</th>\n",
       "      <td>1</td>\n",
       "      <td>1</td>\n",
       "      <td>2010</td>\n",
       "      <td>5</td>\n",
       "      <td>13144.0</td>\n",
       "      <td>47.95</td>\n",
       "      <td>53.43</td>\n",
       "      <td>24.974</td>\n",
       "      <td>58.516</td>\n",
       "      <td>57.858</td>\n",
       "      <td>1018.0</td>\n",
       "      <td>1047.4</td>\n",
       "      <td>553.7</td>\n",
       "      <td>2820.7</td>\n",
       "      <td>730.0</td>\n",
       "      <td>1308.1</td>\n",
       "      <td>1586.7</td>\n",
       "      <td>2432.2</td>\n",
       "      <td>Fri</td>\n",
       "    </tr>\n",
       "  </tbody>\n",
       "</table>\n",
       "</div>"
      ],
      "text/plain": [
       "   Month  Day  Year  TI  ISO.tot.dmd  LMP.DA.NH  LMP.RT.NH  UES.Cap  UES.Sea  \\\n",
       "0      1    1  2010   1      13797.0      63.04      63.33   30.142   67.858   \n",
       "1      1    1  2010   2      13560.0      57.61      69.74   27.370   63.276   \n",
       "2      1    1  2010   3      13121.0      53.74      55.39   25.573   59.899   \n",
       "3      1    1  2010   4      13134.0      42.09      60.49   24.728   58.275   \n",
       "4      1    1  2010   5      13144.0      47.95      53.43   24.974   58.516   \n",
       "\n",
       "   UES.Sea.NEXT.DAY.LOAD  NH.RT.MWh  ME.RT.MWh  VT.RT.MWh  CT.RT.MWh  \\\n",
       "0                 61.904     1168.0     1119.7      640.4     3206.8   \n",
       "1                 58.754     1091.8     1077.1      605.4     3031.6   \n",
       "2                 57.320     1046.4     1045.1      578.9     2902.9   \n",
       "3                 57.068     1021.5     1030.5      556.9     2827.7   \n",
       "4                 57.858     1018.0     1047.4      553.7     2820.7   \n",
       "\n",
       "   RI.RT.MWh  MA.SE.RT.MWh  MA.WC.RT.MWh  MA.NE.RT.MWh Wk.Day  \n",
       "0      825.4        1498.2        1774.3        2688.9    Fri  \n",
       "1      781.9        1404.3        1676.8        2569.0    Fri  \n",
       "2      749.7        1340.0        1621.8        2483.2    Fri  \n",
       "3      729.7        1306.1        1588.5        2428.1    Fri  \n",
       "4      730.0        1308.1        1586.7        2432.2    Fri  "
      ]
     },
     "execution_count": 26,
     "metadata": {},
     "output_type": "execute_result"
    }
   ],
   "source": [
    "# Read in data\n",
    "data = pd.read_csv(\"ISO.aggregate - 1 day SHIFTED.csv\")\n",
    "\n",
    "# See first few rows of data\n",
    "data.head()"
   ]
  },
  {
   "cell_type": "code",
   "execution_count": 27,
   "metadata": {},
   "outputs": [
    {
     "data": {
      "text/plain": [
       "(78864, 19)"
      ]
     },
     "execution_count": 27,
     "metadata": {},
     "output_type": "execute_result"
    }
   ],
   "source": [
    "# Shape of dataframe\n",
    "data.shape"
   ]
  },
  {
   "cell_type": "code",
   "execution_count": 28,
   "metadata": {},
   "outputs": [
    {
     "data": {
      "text/plain": [
       "Month                      int64\n",
       "Day                        int64\n",
       "Year                       int64\n",
       "TI                         int64\n",
       "ISO.tot.dmd              float64\n",
       "LMP.DA.NH                float64\n",
       "LMP.RT.NH                float64\n",
       "UES.Cap                  float64\n",
       "UES.Sea                  float64\n",
       "UES.Sea.NEXT.DAY.LOAD    float64\n",
       "NH.RT.MWh                float64\n",
       "ME.RT.MWh                float64\n",
       "VT.RT.MWh                float64\n",
       "CT.RT.MWh                float64\n",
       "RI.RT.MWh                float64\n",
       "MA.SE.RT.MWh             float64\n",
       "MA.WC.RT.MWh             float64\n",
       "MA.NE.RT.MWh             float64\n",
       "Wk.Day_Fri                 uint8\n",
       "Wk.Day_Mon                 uint8\n",
       "Wk.Day_Sat                 uint8\n",
       "Wk.Day_Sun                 uint8\n",
       "Wk.Day_Thu                 uint8\n",
       "Wk.Day_Tue                 uint8\n",
       "Wk.Day_Wed                 uint8\n",
       "dtype: object"
      ]
     },
     "execution_count": 28,
     "metadata": {},
     "output_type": "execute_result"
    }
   ],
   "source": [
    "# One-hot encoding\n",
    "data = pd.get_dummies(data)\n",
    "\n",
    "# Check dataframe data types\n",
    "data.dtypes"
   ]
  },
  {
   "cell_type": "code",
   "execution_count": 29,
   "metadata": {},
   "outputs": [],
   "source": [
    "# Split data into target variable and predictor variables\n",
    "\n",
    "# Target is the value we want to predict (in this case, MW of UES-Seacoast Load Region)\n",
    "target = np.array(data['UES.Sea.NEXT.DAY.LOAD'])\n",
    "\n",
    "# Remove the target from the predictors\n",
    "# axis 1 refers to the columns\n",
    "predictors = data.drop('UES.Sea.NEXT.DAY.LOAD', axis = 1)\n",
    "\n",
    "# Saving predictor names for later use\n",
    "predictor_list = list(predictors.columns)\n",
    "\n",
    "# Convert to numpy array\n",
    "predictors = np.array(predictors)"
   ]
  },
  {
   "cell_type": "code",
   "execution_count": 30,
   "metadata": {},
   "outputs": [],
   "source": [
    "# Split the data into training and testing sets using sklearn\n",
    "train_predictors, test_predictors, train_target, test_target = train_test_split(predictors, target, test_size = 0.25, random_state = 77)\n"
   ]
  },
  {
   "cell_type": "code",
   "execution_count": 31,
   "metadata": {},
   "outputs": [
    {
     "name": "stdout",
     "output_type": "stream",
     "text": [
      "Training Predictors Shape: (59148, 24)\n",
      "Training Target Shape: (59148,)\n",
      "Testing Predictors Shape: (19716, 24)\n",
      "Testing Target Shape: (19716,)\n"
     ]
    }
   ],
   "source": [
    "# Check shape of train and test data\n",
    "print('Training Predictors Shape:', train_predictors.shape)\n",
    "print('Training Target Shape:', train_target.shape)\n",
    "print('Testing Predictors Shape:', test_predictors.shape)\n",
    "print('Testing Target Shape:', test_target.shape)"
   ]
  },
  {
   "cell_type": "code",
   "execution_count": 32,
   "metadata": {},
   "outputs": [],
   "source": [
    "# Create scaler\n",
    "scaler = StandardScaler()\n",
    "\n",
    "# Scale training predictors\n",
    "train_pred_scaled = scaler.fit_transform(train_predictors)\n",
    "\n",
    "# Scale test predictors\n",
    "test_pred_scaled = scaler.transform(test_predictors)"
   ]
  },
  {
   "cell_type": "code",
   "execution_count": 33,
   "metadata": {},
   "outputs": [
    {
     "data": {
      "text/plain": [
       "PCA(copy=True, iterated_power='auto', n_components=0.95, random_state=None,\n",
       "  svd_solver='auto', tol=0.0, whiten=False)"
      ]
     },
     "execution_count": 33,
     "metadata": {},
     "output_type": "execute_result"
    }
   ],
   "source": [
    "# Make an instance of the Model\n",
    "pca = PCA(.95)\n",
    "\n",
    "pca.fit(train_pred_scaled)"
   ]
  },
  {
   "cell_type": "code",
   "execution_count": 34,
   "metadata": {},
   "outputs": [
    {
     "data": {
      "text/plain": [
       "12"
      ]
     },
     "execution_count": 34,
     "metadata": {},
     "output_type": "execute_result"
    }
   ],
   "source": [
    "# How many components needed to explain 95% of the variance?\n",
    "pca.n_components_"
   ]
  },
  {
   "cell_type": "code",
   "execution_count": 35,
   "metadata": {},
   "outputs": [],
   "source": [
    "# Apply PCA transform to training and test set\n",
    "train_pred_scaled = pca.transform(train_pred_scaled)\n",
    "test_pred_scaled = pca.transform(test_pred_scaled)"
   ]
  },
  {
   "cell_type": "code",
   "execution_count": 36,
   "metadata": {},
   "outputs": [
    {
     "data": {
      "text/plain": [
       "KNeighborsRegressor(algorithm='auto', leaf_size=30, metric='minkowski',\n",
       "          metric_params=None, n_jobs=None, n_neighbors=5, p=2,\n",
       "          weights='uniform')"
      ]
     },
     "execution_count": 36,
     "metadata": {},
     "output_type": "execute_result"
    }
   ],
   "source": [
    "# Create KNN model\n",
    "model = KNeighborsRegressor()\n",
    "\n",
    "# Train model with scaled training data and target values\n",
    "model.fit(train_pred_scaled, train_target)"
   ]
  },
  {
   "cell_type": "code",
   "execution_count": 37,
   "metadata": {},
   "outputs": [
    {
     "name": "stdout",
     "output_type": "stream",
     "text": [
      "mse =  17.586731881175357  & mae =  2.6333723879082975  & rmse =  4.1936537626722785\n"
     ]
    }
   ],
   "source": [
    "# Calculate errors for training data using mean squared error (MSE) and mean absolute error (MAE)\n",
    "mse = mean_squared_error(train_target, model.predict(train_pred_scaled))\n",
    "mae = mean_absolute_error(train_target, model.predict(train_pred_scaled))\n",
    "\n",
    "# Display training MSE, MAE, & RMSE\n",
    "print(\"mse = \",mse,\" & mae = \",mae,\" & rmse = \", sqrt(mse))"
   ]
  },
  {
   "cell_type": "code",
   "execution_count": 38,
   "metadata": {},
   "outputs": [
    {
     "name": "stdout",
     "output_type": "stream",
     "text": [
      "mse =  28.583893869868128  & mae =  3.4618506593629546  & rmse =  5.3463907329962455\n"
     ]
    }
   ],
   "source": [
    "# Calculate and display MSE, MAE, & RMSE on test data\n",
    "test_mse = mean_squared_error(test_target, model.predict(test_pred_scaled))\n",
    "test_mae = mean_absolute_error(test_target, model.predict(test_pred_scaled))\n",
    "print(\"mse = \",test_mse,\" & mae = \",test_mae,\" & rmse = \", sqrt(test_mse))"
   ]
  },
  {
   "cell_type": "code",
   "execution_count": 39,
   "metadata": {},
   "outputs": [
    {
     "name": "stdout",
     "output_type": "stream",
     "text": [
      "Target Variable Max Value: 166.65 MW\n",
      "Max Absolute Error: 47.35 MW\n",
      "Mean Target Variable Value: 77.05 MW\n",
      "Mean Absolute Error: 3.46 MW\n",
      "Accuracy: 95.61 %.\n"
     ]
    }
   ],
   "source": [
    "# Use predict method on the test data\n",
    "predictions = model.predict(test_pred_scaled)\n",
    "\n",
    "# Calculate max and mean test_target value\n",
    "test_target_max_1 = max(test_target)\n",
    "test_target_mean_1 = np.mean(test_target)\n",
    "\n",
    "# Calculate the absolute errors, calculate max and mean absolute error\n",
    "errors = abs(predictions - test_target)\n",
    "max_absolute_error_1 = max(errors)\n",
    "mean_absolute_error_1 = np.mean(errors)\n",
    "\n",
    "# Calculate mean absolute percentage error (MAPE), and Accuracy\n",
    "mape_1 = 100 * (errors / test_target)\n",
    "accuracy_1 = 100 - np.mean(mape_1)\n",
    "\n",
    "# Print out some statistics, including accuracy\n",
    "print('Target Variable Max Value:', round(test_target_max_1, 2), 'MW')\n",
    "print('Max Absolute Error:', round(max_absolute_error_1, 2), 'MW')\n",
    "print('Mean Target Variable Value:', round(test_target_mean_1, 2), 'MW')\n",
    "print('Mean Absolute Error:', round(mean_absolute_error_1, 2), 'MW')\n",
    "print('Accuracy:', round(accuracy_1, 2), '%.')"
   ]
  },
  {
   "cell_type": "code",
   "execution_count": 40,
   "metadata": {},
   "outputs": [
    {
     "name": "stdout",
     "output_type": "stream",
     "text": [
      "Fitting 3 folds for each of 16 candidates, totalling 48 fits\n"
     ]
    },
    {
     "name": "stderr",
     "output_type": "stream",
     "text": [
      "[Parallel(n_jobs=-1)]: Using backend LokyBackend with 4 concurrent workers.\n",
      "[Parallel(n_jobs=-1)]: Done  48 out of  48 | elapsed:  3.5min finished\n"
     ]
    }
   ],
   "source": [
    "# Grid search for KNN to see if performance can be improved\n",
    "grid_params = {\n",
    "    'n_neighbors': [3,5,11,19],\n",
    "    'weights': ['uniform', 'distance'],\n",
    "    'metric': ['euclidean', 'manhattan']\n",
    "}\n",
    "\n",
    "gs = GridSearchCV(\n",
    "     KNeighborsRegressor(),\n",
    "     grid_params,\n",
    "     verbose = 1,\n",
    "     cv = 3,\n",
    "     n_jobs = -1\n",
    ")\n",
    "\n",
    "gs_knn = gs.fit(train_pred_scaled, train_target)"
   ]
  },
  {
   "cell_type": "code",
   "execution_count": 41,
   "metadata": {},
   "outputs": [
    {
     "data": {
      "text/plain": [
       "0.9268481339917845"
      ]
     },
     "execution_count": 41,
     "metadata": {},
     "output_type": "execute_result"
    }
   ],
   "source": [
    "gs_knn.best_score_"
   ]
  },
  {
   "cell_type": "code",
   "execution_count": 42,
   "metadata": {},
   "outputs": [
    {
     "data": {
      "text/plain": [
       "KNeighborsRegressor(algorithm='auto', leaf_size=30, metric='manhattan',\n",
       "          metric_params=None, n_jobs=None, n_neighbors=3, p=2,\n",
       "          weights='distance')"
      ]
     },
     "execution_count": 42,
     "metadata": {},
     "output_type": "execute_result"
    }
   ],
   "source": [
    "gs_knn.best_estimator_"
   ]
  },
  {
   "cell_type": "code",
   "execution_count": 43,
   "metadata": {},
   "outputs": [
    {
     "data": {
      "text/plain": [
       "{'metric': 'manhattan', 'n_neighbors': 3, 'weights': 'distance'}"
      ]
     },
     "execution_count": 43,
     "metadata": {},
     "output_type": "execute_result"
    }
   ],
   "source": [
    "gs_knn.best_params_"
   ]
  },
  {
   "cell_type": "code",
   "execution_count": 44,
   "metadata": {},
   "outputs": [
    {
     "name": "stdout",
     "output_type": "stream",
     "text": [
      "Target Variable Max Value: 166.65 MW\n",
      "Max Absolute Error: 39.25 MW\n",
      "Mean Target Variable Value: 77.05 MW\n",
      "Mean Absolute Error: 2.54 MW\n",
      "Accuracy: 96.74 %.\n"
     ]
    }
   ],
   "source": [
    "# See if the grid search improved the accuracy of KNN\n",
    "best_grid = gs_knn.best_estimator_\n",
    "\n",
    "# Use predict method on the test data\n",
    "predictions = best_grid.predict(test_pred_scaled)\n",
    "\n",
    "# Calculate max and mean test_target value\n",
    "test_target_max_GS_1 = max(test_target)\n",
    "test_target_mean_GS_1 = np.mean(test_target)\n",
    "\n",
    "# Calculate the absolute errors\n",
    "errors = abs(predictions - test_target)\n",
    "max_absolute_error_GS_1 = max(errors)\n",
    "mean_absolute_error_GS_1 = np.mean(errors)\n",
    "\n",
    "# Calculate mean absolute percentage error (MAPE), and Accuracy\n",
    "mape_GS_1 = 100 * (errors / test_target)\n",
    "accuracy_GS_1 = 100 - np.mean(mape_GS_1)\n",
    "\n",
    "# Print out some statistics, including accuracy\n",
    "print('Target Variable Max Value:', round(test_target_max_GS_1, 2), 'MW')\n",
    "print('Max Absolute Error:', round(max_absolute_error_GS_1, 2), 'MW')\n",
    "print('Mean Target Variable Value:', round(test_target_mean_GS_1, 2), 'MW')\n",
    "print('Mean Absolute Error:', round(mean_absolute_error_GS_1, 2), 'MW')\n",
    "print('Accuracy:', round(accuracy_GS_1, 2), '%.')"
   ]
  },
  {
   "cell_type": "markdown",
   "metadata": {},
   "source": [
    "### Predict UES load - 2 Days Ahead (KNN & PCA)"
   ]
  },
  {
   "cell_type": "code",
   "execution_count": 45,
   "metadata": {},
   "outputs": [
    {
     "data": {
      "text/html": [
       "<div>\n",
       "<style scoped>\n",
       "    .dataframe tbody tr th:only-of-type {\n",
       "        vertical-align: middle;\n",
       "    }\n",
       "\n",
       "    .dataframe tbody tr th {\n",
       "        vertical-align: top;\n",
       "    }\n",
       "\n",
       "    .dataframe thead th {\n",
       "        text-align: right;\n",
       "    }\n",
       "</style>\n",
       "<table border=\"1\" class=\"dataframe\">\n",
       "  <thead>\n",
       "    <tr style=\"text-align: right;\">\n",
       "      <th></th>\n",
       "      <th>Month</th>\n",
       "      <th>Day</th>\n",
       "      <th>Year</th>\n",
       "      <th>TI</th>\n",
       "      <th>ISO.tot.dmd</th>\n",
       "      <th>LMP.DA.NH</th>\n",
       "      <th>LMP.RT.NH</th>\n",
       "      <th>UES.Cap</th>\n",
       "      <th>UES.Sea</th>\n",
       "      <th>UES.Sea.2.DAYS.AHEAD</th>\n",
       "      <th>NH.RT.MWh</th>\n",
       "      <th>ME.RT.MWh</th>\n",
       "      <th>VT.RT.MWh</th>\n",
       "      <th>CT.RT.MWh</th>\n",
       "      <th>RI.RT.MWh</th>\n",
       "      <th>MA.SE.RT.MWh</th>\n",
       "      <th>MA.WC.RT.MWh</th>\n",
       "      <th>MA.NE.RT.MWh</th>\n",
       "      <th>Wk.Day</th>\n",
       "    </tr>\n",
       "  </thead>\n",
       "  <tbody>\n",
       "    <tr>\n",
       "      <th>0</th>\n",
       "      <td>1</td>\n",
       "      <td>1</td>\n",
       "      <td>2010</td>\n",
       "      <td>1</td>\n",
       "      <td>13797.0</td>\n",
       "      <td>63.04</td>\n",
       "      <td>63.33</td>\n",
       "      <td>30.142</td>\n",
       "      <td>67.858</td>\n",
       "      <td>67.512</td>\n",
       "      <td>1168.0</td>\n",
       "      <td>1119.7</td>\n",
       "      <td>640.4</td>\n",
       "      <td>3206.8</td>\n",
       "      <td>825.4</td>\n",
       "      <td>1498.2</td>\n",
       "      <td>1774.3</td>\n",
       "      <td>2688.9</td>\n",
       "      <td>Fri</td>\n",
       "    </tr>\n",
       "    <tr>\n",
       "      <th>1</th>\n",
       "      <td>1</td>\n",
       "      <td>1</td>\n",
       "      <td>2010</td>\n",
       "      <td>2</td>\n",
       "      <td>13560.0</td>\n",
       "      <td>57.61</td>\n",
       "      <td>69.74</td>\n",
       "      <td>27.370</td>\n",
       "      <td>63.276</td>\n",
       "      <td>64.690</td>\n",
       "      <td>1091.8</td>\n",
       "      <td>1077.1</td>\n",
       "      <td>605.4</td>\n",
       "      <td>3031.6</td>\n",
       "      <td>781.9</td>\n",
       "      <td>1404.3</td>\n",
       "      <td>1676.8</td>\n",
       "      <td>2569.0</td>\n",
       "      <td>Fri</td>\n",
       "    </tr>\n",
       "    <tr>\n",
       "      <th>2</th>\n",
       "      <td>1</td>\n",
       "      <td>1</td>\n",
       "      <td>2010</td>\n",
       "      <td>3</td>\n",
       "      <td>13121.0</td>\n",
       "      <td>53.74</td>\n",
       "      <td>55.39</td>\n",
       "      <td>25.573</td>\n",
       "      <td>59.899</td>\n",
       "      <td>63.511</td>\n",
       "      <td>1046.4</td>\n",
       "      <td>1045.1</td>\n",
       "      <td>578.9</td>\n",
       "      <td>2902.9</td>\n",
       "      <td>749.7</td>\n",
       "      <td>1340.0</td>\n",
       "      <td>1621.8</td>\n",
       "      <td>2483.2</td>\n",
       "      <td>Fri</td>\n",
       "    </tr>\n",
       "    <tr>\n",
       "      <th>3</th>\n",
       "      <td>1</td>\n",
       "      <td>1</td>\n",
       "      <td>2010</td>\n",
       "      <td>4</td>\n",
       "      <td>13134.0</td>\n",
       "      <td>42.09</td>\n",
       "      <td>60.49</td>\n",
       "      <td>24.728</td>\n",
       "      <td>58.275</td>\n",
       "      <td>63.021</td>\n",
       "      <td>1021.5</td>\n",
       "      <td>1030.5</td>\n",
       "      <td>556.9</td>\n",
       "      <td>2827.7</td>\n",
       "      <td>729.7</td>\n",
       "      <td>1306.1</td>\n",
       "      <td>1588.5</td>\n",
       "      <td>2428.1</td>\n",
       "      <td>Fri</td>\n",
       "    </tr>\n",
       "    <tr>\n",
       "      <th>4</th>\n",
       "      <td>1</td>\n",
       "      <td>1</td>\n",
       "      <td>2010</td>\n",
       "      <td>5</td>\n",
       "      <td>13144.0</td>\n",
       "      <td>47.95</td>\n",
       "      <td>53.43</td>\n",
       "      <td>24.974</td>\n",
       "      <td>58.516</td>\n",
       "      <td>63.480</td>\n",
       "      <td>1018.0</td>\n",
       "      <td>1047.4</td>\n",
       "      <td>553.7</td>\n",
       "      <td>2820.7</td>\n",
       "      <td>730.0</td>\n",
       "      <td>1308.1</td>\n",
       "      <td>1586.7</td>\n",
       "      <td>2432.2</td>\n",
       "      <td>Fri</td>\n",
       "    </tr>\n",
       "  </tbody>\n",
       "</table>\n",
       "</div>"
      ],
      "text/plain": [
       "   Month  Day  Year  TI  ISO.tot.dmd  LMP.DA.NH  LMP.RT.NH  UES.Cap  UES.Sea  \\\n",
       "0      1    1  2010   1      13797.0      63.04      63.33   30.142   67.858   \n",
       "1      1    1  2010   2      13560.0      57.61      69.74   27.370   63.276   \n",
       "2      1    1  2010   3      13121.0      53.74      55.39   25.573   59.899   \n",
       "3      1    1  2010   4      13134.0      42.09      60.49   24.728   58.275   \n",
       "4      1    1  2010   5      13144.0      47.95      53.43   24.974   58.516   \n",
       "\n",
       "   UES.Sea.2.DAYS.AHEAD  NH.RT.MWh  ME.RT.MWh  VT.RT.MWh  CT.RT.MWh  \\\n",
       "0                67.512     1168.0     1119.7      640.4     3206.8   \n",
       "1                64.690     1091.8     1077.1      605.4     3031.6   \n",
       "2                63.511     1046.4     1045.1      578.9     2902.9   \n",
       "3                63.021     1021.5     1030.5      556.9     2827.7   \n",
       "4                63.480     1018.0     1047.4      553.7     2820.7   \n",
       "\n",
       "   RI.RT.MWh  MA.SE.RT.MWh  MA.WC.RT.MWh  MA.NE.RT.MWh Wk.Day  \n",
       "0      825.4        1498.2        1774.3        2688.9    Fri  \n",
       "1      781.9        1404.3        1676.8        2569.0    Fri  \n",
       "2      749.7        1340.0        1621.8        2483.2    Fri  \n",
       "3      729.7        1306.1        1588.5        2428.1    Fri  \n",
       "4      730.0        1308.1        1586.7        2432.2    Fri  "
      ]
     },
     "execution_count": 45,
     "metadata": {},
     "output_type": "execute_result"
    }
   ],
   "source": [
    "# Read in data\n",
    "data = pd.read_csv(\"ISO.aggregate - 2 day SHIFTED.csv\")\n",
    "\n",
    "# See first few rows of data\n",
    "data.head()"
   ]
  },
  {
   "cell_type": "code",
   "execution_count": 46,
   "metadata": {},
   "outputs": [
    {
     "data": {
      "text/plain": [
       "(78840, 19)"
      ]
     },
     "execution_count": 46,
     "metadata": {},
     "output_type": "execute_result"
    }
   ],
   "source": [
    "# Shape of dataframe\n",
    "data.shape"
   ]
  },
  {
   "cell_type": "code",
   "execution_count": 47,
   "metadata": {},
   "outputs": [
    {
     "data": {
      "text/plain": [
       "Month                     int64\n",
       "Day                       int64\n",
       "Year                      int64\n",
       "TI                        int64\n",
       "ISO.tot.dmd             float64\n",
       "LMP.DA.NH               float64\n",
       "LMP.RT.NH               float64\n",
       "UES.Cap                 float64\n",
       "UES.Sea                 float64\n",
       "UES.Sea.2.DAYS.AHEAD    float64\n",
       "NH.RT.MWh               float64\n",
       "ME.RT.MWh               float64\n",
       "VT.RT.MWh               float64\n",
       "CT.RT.MWh               float64\n",
       "RI.RT.MWh               float64\n",
       "MA.SE.RT.MWh            float64\n",
       "MA.WC.RT.MWh            float64\n",
       "MA.NE.RT.MWh            float64\n",
       "Wk.Day_Fri                uint8\n",
       "Wk.Day_Mon                uint8\n",
       "Wk.Day_Sat                uint8\n",
       "Wk.Day_Sun                uint8\n",
       "Wk.Day_Thu                uint8\n",
       "Wk.Day_Tue                uint8\n",
       "Wk.Day_Wed                uint8\n",
       "dtype: object"
      ]
     },
     "execution_count": 47,
     "metadata": {},
     "output_type": "execute_result"
    }
   ],
   "source": [
    "# One-hot encoding\n",
    "data = pd.get_dummies(data)\n",
    "\n",
    "# Check dataframe data types\n",
    "data.dtypes"
   ]
  },
  {
   "cell_type": "code",
   "execution_count": 48,
   "metadata": {},
   "outputs": [],
   "source": [
    "# Split data into target variable and predictor variables\n",
    "\n",
    "# Target is the value we want to predict (in this case, MW of UES-Seacoast Load Region)\n",
    "target = np.array(data['UES.Sea.2.DAYS.AHEAD'])\n",
    "\n",
    "# Remove the target from the predictors\n",
    "# axis 1 refers to the columns\n",
    "predictors = data.drop('UES.Sea.2.DAYS.AHEAD', axis = 1)\n",
    "\n",
    "# Saving predictor names for later use\n",
    "predictor_list = list(predictors.columns)\n",
    "\n",
    "# Convert to numpy array\n",
    "predictors = np.array(predictors)"
   ]
  },
  {
   "cell_type": "code",
   "execution_count": 49,
   "metadata": {},
   "outputs": [],
   "source": [
    "# Split the data into training and testing sets using sklearn\n",
    "train_predictors, test_predictors, train_target, test_target = train_test_split(predictors, target, test_size = 0.25, random_state = 77)\n"
   ]
  },
  {
   "cell_type": "code",
   "execution_count": 50,
   "metadata": {},
   "outputs": [
    {
     "name": "stdout",
     "output_type": "stream",
     "text": [
      "Training Predictors Shape: (59130, 24)\n",
      "Training Target Shape: (59130,)\n",
      "Testing Predictors Shape: (19710, 24)\n",
      "Testing Target Shape: (19710,)\n"
     ]
    }
   ],
   "source": [
    "# Check shape of train and test data\n",
    "print('Training Predictors Shape:', train_predictors.shape)\n",
    "print('Training Target Shape:', train_target.shape)\n",
    "print('Testing Predictors Shape:', test_predictors.shape)\n",
    "print('Testing Target Shape:', test_target.shape)"
   ]
  },
  {
   "cell_type": "code",
   "execution_count": 51,
   "metadata": {},
   "outputs": [
    {
     "data": {
      "text/plain": [
       "PCA(copy=True, iterated_power='auto', n_components=0.95, random_state=None,\n",
       "  svd_solver='auto', tol=0.0, whiten=False)"
      ]
     },
     "execution_count": 51,
     "metadata": {},
     "output_type": "execute_result"
    }
   ],
   "source": [
    "# Create scaler\n",
    "scaler = StandardScaler()\n",
    "\n",
    "# Scale training predictors\n",
    "train_pred_scaled = scaler.fit_transform(train_predictors)\n",
    "\n",
    "# Scale test predictors\n",
    "test_pred_scaled = scaler.transform(test_predictors)\n",
    "\n",
    "# Make an instance of the Model\n",
    "pca = PCA(.95)\n",
    "\n",
    "# Fit model to data\n",
    "pca.fit(train_pred_scaled)"
   ]
  },
  {
   "cell_type": "code",
   "execution_count": 52,
   "metadata": {},
   "outputs": [
    {
     "data": {
      "text/plain": [
       "12"
      ]
     },
     "execution_count": 52,
     "metadata": {},
     "output_type": "execute_result"
    }
   ],
   "source": [
    "# How many components needed to explain the 95% of the variance?\n",
    "pca.n_components_"
   ]
  },
  {
   "cell_type": "code",
   "execution_count": 53,
   "metadata": {},
   "outputs": [
    {
     "data": {
      "text/plain": [
       "KNeighborsRegressor(algorithm='auto', leaf_size=30, metric='minkowski',\n",
       "          metric_params=None, n_jobs=None, n_neighbors=5, p=2,\n",
       "          weights='uniform')"
      ]
     },
     "execution_count": 53,
     "metadata": {},
     "output_type": "execute_result"
    }
   ],
   "source": [
    "# Apply PCA transform to training and test set\n",
    "train_pred_scaled = pca.transform(train_pred_scaled)\n",
    "test_pred_scaled = pca.transform(test_pred_scaled)\n",
    "\n",
    "# Create KNN model\n",
    "model = KNeighborsRegressor()\n",
    "\n",
    "# Train model with scaled training data and target values\n",
    "model.fit(train_pred_scaled, train_target)"
   ]
  },
  {
   "cell_type": "code",
   "execution_count": 54,
   "metadata": {},
   "outputs": [
    {
     "name": "stdout",
     "output_type": "stream",
     "text": [
      "mse =  28.20027254108642  & mae =  3.358518853373922  & rmse =  5.310392880106558\n"
     ]
    }
   ],
   "source": [
    "# Calculate errors for training data using mean squared error (MSE) and mean absolute error (MAE)\n",
    "mse = mean_squared_error(train_target, model.predict(train_pred_scaled))\n",
    "mae = mean_absolute_error(train_target, model.predict(train_pred_scaled))\n",
    "\n",
    "# Display training MSE, MAE, & RMSE\n",
    "print(\"mse = \",mse,\" & mae = \",mae,\" & rmse = \", sqrt(mse))"
   ]
  },
  {
   "cell_type": "code",
   "execution_count": 55,
   "metadata": {},
   "outputs": [
    {
     "name": "stdout",
     "output_type": "stream",
     "text": [
      "mse =  45.093777117789955  & mae =  4.322612146118722  & rmse =  6.715190028419892\n"
     ]
    }
   ],
   "source": [
    "# Calculate and display MSE, MAE, & RMSE on test data\n",
    "test_mse = mean_squared_error(test_target, model.predict(test_pred_scaled))\n",
    "test_mae = mean_absolute_error(test_target, model.predict(test_pred_scaled))\n",
    "print(\"mse = \",test_mse,\" & mae = \",test_mae,\" & rmse = \", sqrt(test_mse))"
   ]
  },
  {
   "cell_type": "code",
   "execution_count": 56,
   "metadata": {},
   "outputs": [
    {
     "name": "stdout",
     "output_type": "stream",
     "text": [
      "Target Variable Max Value: 168.43 MW\n",
      "Max Absolute Error: 64.56 MW\n",
      "Mean Target Variable Value: 76.92 MW\n",
      "Mean Absolute Error: 4.32 MW\n",
      "Accuracy: 94.48 %.\n"
     ]
    }
   ],
   "source": [
    "# Use predict method on the test data\n",
    "predictions = model.predict(test_pred_scaled)\n",
    "\n",
    "# Calculate max and mean test_target value\n",
    "test_target_max_2 = max(test_target)\n",
    "test_target_mean_2 = np.mean(test_target)\n",
    "\n",
    "# Calculate the absolute errors, calculate max and mean absolute error\n",
    "errors = abs(predictions - test_target)\n",
    "max_absolute_error_2 = max(errors)\n",
    "mean_absolute_error_2 = np.mean(errors)\n",
    "\n",
    "# Calculate mean absolute percentage error (MAPE), and Accuracy\n",
    "mape_2 = 100 * (errors / test_target)\n",
    "accuracy_2 = 100 - np.mean(mape_2)\n",
    "\n",
    "# Print out some statistics, including accuracy\n",
    "print('Target Variable Max Value:', round(test_target_max_2, 2), 'MW')\n",
    "print('Max Absolute Error:', round(max_absolute_error_2, 2), 'MW')\n",
    "print('Mean Target Variable Value:', round(test_target_mean_2, 2), 'MW')\n",
    "print('Mean Absolute Error:', round(mean_absolute_error_2, 2), 'MW')\n",
    "print('Accuracy:', round(accuracy_2, 2), '%.')"
   ]
  },
  {
   "cell_type": "code",
   "execution_count": 57,
   "metadata": {},
   "outputs": [
    {
     "name": "stdout",
     "output_type": "stream",
     "text": [
      "Fitting 3 folds for each of 16 candidates, totalling 48 fits\n"
     ]
    },
    {
     "name": "stderr",
     "output_type": "stream",
     "text": [
      "[Parallel(n_jobs=-1)]: Using backend LokyBackend with 4 concurrent workers.\n",
      "[Parallel(n_jobs=-1)]: Done  48 out of  48 | elapsed:  3.2min finished\n"
     ]
    }
   ],
   "source": [
    "# Grid search for KNN to see if performance can be improved\n",
    "grid_params = {\n",
    "    'n_neighbors': [3,5,11,19],\n",
    "    'weights': ['uniform', 'distance'],\n",
    "    'metric': ['euclidean', 'manhattan']\n",
    "}\n",
    "\n",
    "gs = GridSearchCV(\n",
    "     KNeighborsRegressor(),\n",
    "     grid_params,\n",
    "     verbose = 1,\n",
    "     cv = 3,\n",
    "     n_jobs = -1\n",
    ")\n",
    "\n",
    "gs_knn = gs.fit(train_pred_scaled, train_target)"
   ]
  },
  {
   "cell_type": "code",
   "execution_count": 58,
   "metadata": {},
   "outputs": [
    {
     "name": "stdout",
     "output_type": "stream",
     "text": [
      "GRID SEARCH BEST SCORE:\n",
      "0.8841638292806817\n",
      "\n",
      "GRID SEARCH BEST ESTIMATOR:\n",
      "KNeighborsRegressor(algorithm='auto', leaf_size=30, metric='manhattan',\n",
      "          metric_params=None, n_jobs=None, n_neighbors=3, p=2,\n",
      "          weights='distance')\n",
      "\n",
      "GRID SEARCH BEST PARAMETERS:\n",
      "{'metric': 'manhattan', 'n_neighbors': 3, 'weights': 'distance'}\n"
     ]
    }
   ],
   "source": [
    "print('GRID SEARCH BEST SCORE:')\n",
    "print(gs_knn.best_score_)\n",
    "print('')\n",
    "\n",
    "print('GRID SEARCH BEST ESTIMATOR:')\n",
    "print(gs_knn.best_estimator_)\n",
    "print('')\n",
    "\n",
    "print('GRID SEARCH BEST PARAMETERS:')\n",
    "print(gs_knn.best_params_)"
   ]
  },
  {
   "cell_type": "code",
   "execution_count": 59,
   "metadata": {},
   "outputs": [
    {
     "name": "stdout",
     "output_type": "stream",
     "text": [
      "Target Variable Max Value: 168.43 MW\n",
      "Max Absolute Error: 66.78 MW\n",
      "Mean Target Variable Value: 76.92 MW\n",
      "Mean Absolute Error: 3.1 MW\n",
      "Accuracy: 95.97 %.\n"
     ]
    }
   ],
   "source": [
    "# See if the grid search improved the accuracy of KNN\n",
    "best_grid = gs_knn.best_estimator_\n",
    "\n",
    "# Use predict method on the test data\n",
    "predictions = best_grid.predict(test_pred_scaled)\n",
    "\n",
    "# Calculate max and mean test_target value\n",
    "test_target_max_GS_2 = max(test_target)\n",
    "test_target_mean_GS_2 = np.mean(test_target)\n",
    "\n",
    "# Calculate the absolute errors\n",
    "errors = abs(predictions - test_target)\n",
    "max_absolute_error_GS_2 = max(errors)\n",
    "mean_absolute_error_GS_2 = np.mean(errors)\n",
    "\n",
    "# Calculate mean absolute percentage error (MAPE), and Accuracy\n",
    "mape_GS_2 = 100 * (errors / test_target)\n",
    "accuracy_GS_2 = 100 - np.mean(mape_GS_2)\n",
    "\n",
    "# Print out some statistics, including accuracy\n",
    "print('Target Variable Max Value:', round(test_target_max_GS_2, 2), 'MW')\n",
    "print('Max Absolute Error:', round(max_absolute_error_GS_2, 2), 'MW')\n",
    "print('Mean Target Variable Value:', round(test_target_mean_GS_2, 2), 'MW')\n",
    "print('Mean Absolute Error:', round(mean_absolute_error_GS_2, 2), 'MW')\n",
    "print('Accuracy:', round(accuracy_GS_2, 2), '%.')"
   ]
  },
  {
   "cell_type": "markdown",
   "metadata": {},
   "source": [
    "### Predict UES load - 3 Days Ahead (KNN & PCA)"
   ]
  },
  {
   "cell_type": "code",
   "execution_count": 60,
   "metadata": {},
   "outputs": [
    {
     "data": {
      "text/html": [
       "<div>\n",
       "<style scoped>\n",
       "    .dataframe tbody tr th:only-of-type {\n",
       "        vertical-align: middle;\n",
       "    }\n",
       "\n",
       "    .dataframe tbody tr th {\n",
       "        vertical-align: top;\n",
       "    }\n",
       "\n",
       "    .dataframe thead th {\n",
       "        text-align: right;\n",
       "    }\n",
       "</style>\n",
       "<table border=\"1\" class=\"dataframe\">\n",
       "  <thead>\n",
       "    <tr style=\"text-align: right;\">\n",
       "      <th></th>\n",
       "      <th>Month</th>\n",
       "      <th>Day</th>\n",
       "      <th>Year</th>\n",
       "      <th>TI</th>\n",
       "      <th>ISO.tot.dmd</th>\n",
       "      <th>LMP.DA.NH</th>\n",
       "      <th>LMP.RT.NH</th>\n",
       "      <th>UES.Cap</th>\n",
       "      <th>UES.Sea</th>\n",
       "      <th>UES.Sea.3.DAYS.AHEAD</th>\n",
       "      <th>NH.RT.MWh</th>\n",
       "      <th>ME.RT.MWh</th>\n",
       "      <th>VT.RT.MWh</th>\n",
       "      <th>CT.RT.MWh</th>\n",
       "      <th>RI.RT.MWh</th>\n",
       "      <th>MA.SE.RT.MWh</th>\n",
       "      <th>MA.WC.RT.MWh</th>\n",
       "      <th>MA.NE.RT.MWh</th>\n",
       "      <th>Wk.Day</th>\n",
       "    </tr>\n",
       "  </thead>\n",
       "  <tbody>\n",
       "    <tr>\n",
       "      <th>0</th>\n",
       "      <td>1</td>\n",
       "      <td>1</td>\n",
       "      <td>2010</td>\n",
       "      <td>1</td>\n",
       "      <td>13797.0</td>\n",
       "      <td>63.04</td>\n",
       "      <td>63.33</td>\n",
       "      <td>30.142</td>\n",
       "      <td>67.858</td>\n",
       "      <td>61.488</td>\n",
       "      <td>1168.0</td>\n",
       "      <td>1119.7</td>\n",
       "      <td>640.4</td>\n",
       "      <td>3206.8</td>\n",
       "      <td>825.4</td>\n",
       "      <td>1498.2</td>\n",
       "      <td>1774.3</td>\n",
       "      <td>2688.9</td>\n",
       "      <td>Fri</td>\n",
       "    </tr>\n",
       "    <tr>\n",
       "      <th>1</th>\n",
       "      <td>1</td>\n",
       "      <td>1</td>\n",
       "      <td>2010</td>\n",
       "      <td>2</td>\n",
       "      <td>13560.0</td>\n",
       "      <td>57.61</td>\n",
       "      <td>69.74</td>\n",
       "      <td>27.370</td>\n",
       "      <td>63.276</td>\n",
       "      <td>59.038</td>\n",
       "      <td>1091.8</td>\n",
       "      <td>1077.1</td>\n",
       "      <td>605.4</td>\n",
       "      <td>3031.6</td>\n",
       "      <td>781.9</td>\n",
       "      <td>1404.3</td>\n",
       "      <td>1676.8</td>\n",
       "      <td>2569.0</td>\n",
       "      <td>Fri</td>\n",
       "    </tr>\n",
       "    <tr>\n",
       "      <th>2</th>\n",
       "      <td>1</td>\n",
       "      <td>1</td>\n",
       "      <td>2010</td>\n",
       "      <td>3</td>\n",
       "      <td>13121.0</td>\n",
       "      <td>53.74</td>\n",
       "      <td>55.39</td>\n",
       "      <td>25.573</td>\n",
       "      <td>59.899</td>\n",
       "      <td>57.848</td>\n",
       "      <td>1046.4</td>\n",
       "      <td>1045.1</td>\n",
       "      <td>578.9</td>\n",
       "      <td>2902.9</td>\n",
       "      <td>749.7</td>\n",
       "      <td>1340.0</td>\n",
       "      <td>1621.8</td>\n",
       "      <td>2483.2</td>\n",
       "      <td>Fri</td>\n",
       "    </tr>\n",
       "    <tr>\n",
       "      <th>3</th>\n",
       "      <td>1</td>\n",
       "      <td>1</td>\n",
       "      <td>2010</td>\n",
       "      <td>4</td>\n",
       "      <td>13134.0</td>\n",
       "      <td>42.09</td>\n",
       "      <td>60.49</td>\n",
       "      <td>24.728</td>\n",
       "      <td>58.275</td>\n",
       "      <td>58.058</td>\n",
       "      <td>1021.5</td>\n",
       "      <td>1030.5</td>\n",
       "      <td>556.9</td>\n",
       "      <td>2827.7</td>\n",
       "      <td>729.7</td>\n",
       "      <td>1306.1</td>\n",
       "      <td>1588.5</td>\n",
       "      <td>2428.1</td>\n",
       "      <td>Fri</td>\n",
       "    </tr>\n",
       "    <tr>\n",
       "      <th>4</th>\n",
       "      <td>1</td>\n",
       "      <td>1</td>\n",
       "      <td>2010</td>\n",
       "      <td>5</td>\n",
       "      <td>13144.0</td>\n",
       "      <td>47.95</td>\n",
       "      <td>53.43</td>\n",
       "      <td>24.974</td>\n",
       "      <td>58.516</td>\n",
       "      <td>61.047</td>\n",
       "      <td>1018.0</td>\n",
       "      <td>1047.4</td>\n",
       "      <td>553.7</td>\n",
       "      <td>2820.7</td>\n",
       "      <td>730.0</td>\n",
       "      <td>1308.1</td>\n",
       "      <td>1586.7</td>\n",
       "      <td>2432.2</td>\n",
       "      <td>Fri</td>\n",
       "    </tr>\n",
       "  </tbody>\n",
       "</table>\n",
       "</div>"
      ],
      "text/plain": [
       "   Month  Day  Year  TI  ISO.tot.dmd  LMP.DA.NH  LMP.RT.NH  UES.Cap  UES.Sea  \\\n",
       "0      1    1  2010   1      13797.0      63.04      63.33   30.142   67.858   \n",
       "1      1    1  2010   2      13560.0      57.61      69.74   27.370   63.276   \n",
       "2      1    1  2010   3      13121.0      53.74      55.39   25.573   59.899   \n",
       "3      1    1  2010   4      13134.0      42.09      60.49   24.728   58.275   \n",
       "4      1    1  2010   5      13144.0      47.95      53.43   24.974   58.516   \n",
       "\n",
       "   UES.Sea.3.DAYS.AHEAD  NH.RT.MWh  ME.RT.MWh  VT.RT.MWh  CT.RT.MWh  \\\n",
       "0                61.488     1168.0     1119.7      640.4     3206.8   \n",
       "1                59.038     1091.8     1077.1      605.4     3031.6   \n",
       "2                57.848     1046.4     1045.1      578.9     2902.9   \n",
       "3                58.058     1021.5     1030.5      556.9     2827.7   \n",
       "4                61.047     1018.0     1047.4      553.7     2820.7   \n",
       "\n",
       "   RI.RT.MWh  MA.SE.RT.MWh  MA.WC.RT.MWh  MA.NE.RT.MWh Wk.Day  \n",
       "0      825.4        1498.2        1774.3        2688.9    Fri  \n",
       "1      781.9        1404.3        1676.8        2569.0    Fri  \n",
       "2      749.7        1340.0        1621.8        2483.2    Fri  \n",
       "3      729.7        1306.1        1588.5        2428.1    Fri  \n",
       "4      730.0        1308.1        1586.7        2432.2    Fri  "
      ]
     },
     "execution_count": 60,
     "metadata": {},
     "output_type": "execute_result"
    }
   ],
   "source": [
    "# Read in data\n",
    "data = pd.read_csv(\"ISO.aggregate - 3 day SHIFTED.csv\")\n",
    "\n",
    "# See first few rows of data\n",
    "data.head()"
   ]
  },
  {
   "cell_type": "code",
   "execution_count": 61,
   "metadata": {},
   "outputs": [
    {
     "data": {
      "text/plain": [
       "(78816, 19)"
      ]
     },
     "execution_count": 61,
     "metadata": {},
     "output_type": "execute_result"
    }
   ],
   "source": [
    "# Shape of dataframe\n",
    "data.shape"
   ]
  },
  {
   "cell_type": "code",
   "execution_count": 62,
   "metadata": {},
   "outputs": [
    {
     "data": {
      "text/plain": [
       "Month                     int64\n",
       "Day                       int64\n",
       "Year                      int64\n",
       "TI                        int64\n",
       "ISO.tot.dmd             float64\n",
       "LMP.DA.NH               float64\n",
       "LMP.RT.NH               float64\n",
       "UES.Cap                 float64\n",
       "UES.Sea                 float64\n",
       "UES.Sea.3.DAYS.AHEAD    float64\n",
       "NH.RT.MWh               float64\n",
       "ME.RT.MWh               float64\n",
       "VT.RT.MWh               float64\n",
       "CT.RT.MWh               float64\n",
       "RI.RT.MWh               float64\n",
       "MA.SE.RT.MWh            float64\n",
       "MA.WC.RT.MWh            float64\n",
       "MA.NE.RT.MWh            float64\n",
       "Wk.Day_Fri                uint8\n",
       "Wk.Day_Mon                uint8\n",
       "Wk.Day_Sat                uint8\n",
       "Wk.Day_Sun                uint8\n",
       "Wk.Day_Thu                uint8\n",
       "Wk.Day_Tue                uint8\n",
       "Wk.Day_Wed                uint8\n",
       "dtype: object"
      ]
     },
     "execution_count": 62,
     "metadata": {},
     "output_type": "execute_result"
    }
   ],
   "source": [
    "# One-hot encoding\n",
    "data = pd.get_dummies(data)\n",
    "\n",
    "# Check dataframe data types\n",
    "data.dtypes"
   ]
  },
  {
   "cell_type": "code",
   "execution_count": 63,
   "metadata": {},
   "outputs": [],
   "source": [
    "# Split data into target variable and predictor variables\n",
    "\n",
    "# Target is the value we want to predict (in this case, MW of UES-Seacoast Load Region)\n",
    "target = np.array(data['UES.Sea.3.DAYS.AHEAD'])\n",
    "\n",
    "# Remove the target from the predictors\n",
    "# axis 1 refers to the columns\n",
    "predictors = data.drop('UES.Sea.3.DAYS.AHEAD', axis = 1)\n",
    "\n",
    "# Saving predictor names for later use\n",
    "predictor_list = list(predictors.columns)\n",
    "\n",
    "# Convert to numpy array\n",
    "predictors = np.array(predictors)"
   ]
  },
  {
   "cell_type": "code",
   "execution_count": 64,
   "metadata": {},
   "outputs": [],
   "source": [
    "# Split the data into training and testing sets using sklearn\n",
    "train_predictors, test_predictors, train_target, test_target = train_test_split(predictors, target, test_size = 0.25, random_state = 77)\n"
   ]
  },
  {
   "cell_type": "code",
   "execution_count": 65,
   "metadata": {},
   "outputs": [
    {
     "name": "stdout",
     "output_type": "stream",
     "text": [
      "Training Predictors Shape: (59112, 24)\n",
      "Training Target Shape: (59112,)\n",
      "Testing Predictors Shape: (19704, 24)\n",
      "Testing Target Shape: (19704,)\n"
     ]
    }
   ],
   "source": [
    "# Check shape of train and test data\n",
    "print('Training Predictors Shape:', train_predictors.shape)\n",
    "print('Training Target Shape:', train_target.shape)\n",
    "print('Testing Predictors Shape:', test_predictors.shape)\n",
    "print('Testing Target Shape:', test_target.shape)"
   ]
  },
  {
   "cell_type": "code",
   "execution_count": 66,
   "metadata": {},
   "outputs": [
    {
     "data": {
      "text/plain": [
       "PCA(copy=True, iterated_power='auto', n_components=0.95, random_state=None,\n",
       "  svd_solver='auto', tol=0.0, whiten=False)"
      ]
     },
     "execution_count": 66,
     "metadata": {},
     "output_type": "execute_result"
    }
   ],
   "source": [
    "# Create scaler\n",
    "scaler = StandardScaler()\n",
    "\n",
    "# Scale training predictors\n",
    "train_pred_scaled = scaler.fit_transform(train_predictors)\n",
    "\n",
    "# Scale test predictors\n",
    "test_pred_scaled = scaler.transform(test_predictors)\n",
    "\n",
    "# Make an instance of the Model\n",
    "pca = PCA(.95)\n",
    "\n",
    "# Fit model to data\n",
    "pca.fit(train_pred_scaled)"
   ]
  },
  {
   "cell_type": "code",
   "execution_count": 67,
   "metadata": {},
   "outputs": [
    {
     "data": {
      "text/plain": [
       "12"
      ]
     },
     "execution_count": 67,
     "metadata": {},
     "output_type": "execute_result"
    }
   ],
   "source": [
    "# How many components needed to explain the 95% of the variance?\n",
    "pca.n_components_"
   ]
  },
  {
   "cell_type": "code",
   "execution_count": 68,
   "metadata": {},
   "outputs": [
    {
     "data": {
      "text/plain": [
       "KNeighborsRegressor(algorithm='auto', leaf_size=30, metric='minkowski',\n",
       "          metric_params=None, n_jobs=None, n_neighbors=5, p=2,\n",
       "          weights='uniform')"
      ]
     },
     "execution_count": 68,
     "metadata": {},
     "output_type": "execute_result"
    }
   ],
   "source": [
    "# Apply PCA transform to training and test set\n",
    "train_pred_scaled = pca.transform(train_pred_scaled)\n",
    "test_pred_scaled = pca.transform(test_pred_scaled)\n",
    "\n",
    "# Create KNN model\n",
    "model = KNeighborsRegressor()\n",
    "\n",
    "# Train model with scaled training data and target values\n",
    "model.fit(train_pred_scaled, train_target)"
   ]
  },
  {
   "cell_type": "code",
   "execution_count": 69,
   "metadata": {},
   "outputs": [
    {
     "name": "stdout",
     "output_type": "stream",
     "text": [
      "mse =  33.16453798141358  & mae =  3.605440482473947  & rmse =  5.758866032598221\n"
     ]
    }
   ],
   "source": [
    "# Calculate errors for training data using mean squared error (MSE) and mean absolute error (MAE)\n",
    "mse = mean_squared_error(train_target, model.predict(train_pred_scaled))\n",
    "mae = mean_absolute_error(train_target, model.predict(train_pred_scaled))\n",
    "\n",
    "# Display training MSE, MAE, & RMSE\n",
    "print(\"mse = \",mse,\" & mae = \",mae,\" & rmse = \", sqrt(mse))"
   ]
  },
  {
   "cell_type": "code",
   "execution_count": 70,
   "metadata": {},
   "outputs": [
    {
     "name": "stdout",
     "output_type": "stream",
     "text": [
      "mse =  53.62434680920625  & mae =  4.727254029638652  & rmse =  7.322864658670557\n"
     ]
    }
   ],
   "source": [
    "# Calculate and display MSE, MAE, & RMSE on test data\n",
    "test_mse = mean_squared_error(test_target, model.predict(test_pred_scaled))\n",
    "test_mae = mean_absolute_error(test_target, model.predict(test_pred_scaled))\n",
    "print(\"mse = \",test_mse,\" & mae = \",test_mae,\" & rmse = \", sqrt(test_mse))"
   ]
  },
  {
   "cell_type": "code",
   "execution_count": 71,
   "metadata": {},
   "outputs": [
    {
     "name": "stdout",
     "output_type": "stream",
     "text": [
      "Target Variable Max Value: 168.42 MW\n",
      "Max Absolute Error: 57.36 MW\n",
      "Mean Target Variable Value: 77.07 MW\n",
      "Mean Absolute Error: 4.73 MW\n",
      "Accuracy: 93.96 %.\n"
     ]
    }
   ],
   "source": [
    "# Use predict method on the test data\n",
    "predictions = model.predict(test_pred_scaled)\n",
    "\n",
    "# Calculate max and mean test_target value\n",
    "test_target_max_3 = max(test_target)\n",
    "test_target_mean_3 = np.mean(test_target)\n",
    "\n",
    "# Calculate the absolute errors, calculate max and mean absolute error\n",
    "errors = abs(predictions - test_target)\n",
    "max_absolute_error_3 = max(errors)\n",
    "mean_absolute_error_3 = np.mean(errors)\n",
    "\n",
    "# Calculate mean absolute percentage error (MAPE), and Accuracy\n",
    "mape_3 = 100 * (errors / test_target)\n",
    "accuracy_3 = 100 - np.mean(mape_3)\n",
    "\n",
    "# Print out some statistics, including accuracy\n",
    "print('Target Variable Max Value:', round(test_target_max_3, 2), 'MW')\n",
    "print('Max Absolute Error:', round(max_absolute_error_3, 2), 'MW')\n",
    "print('Mean Target Variable Value:', round(test_target_mean_3, 2), 'MW')\n",
    "print('Mean Absolute Error:', round(mean_absolute_error_3, 2), 'MW')\n",
    "print('Accuracy:', round(accuracy_3, 2), '%.')"
   ]
  },
  {
   "cell_type": "code",
   "execution_count": 72,
   "metadata": {},
   "outputs": [
    {
     "name": "stdout",
     "output_type": "stream",
     "text": [
      "Fitting 3 folds for each of 16 candidates, totalling 48 fits\n"
     ]
    },
    {
     "name": "stderr",
     "output_type": "stream",
     "text": [
      "[Parallel(n_jobs=-1)]: Using backend LokyBackend with 4 concurrent workers.\n",
      "[Parallel(n_jobs=-1)]: Done  48 out of  48 | elapsed:  3.2min finished\n"
     ]
    }
   ],
   "source": [
    "# Grid search for KNN to see if performance can be improved\n",
    "grid_params = {\n",
    "    'n_neighbors': [3,5,11,19],\n",
    "    'weights': ['uniform', 'distance'],\n",
    "    'metric': ['euclidean', 'manhattan']\n",
    "}\n",
    "\n",
    "gs = GridSearchCV(\n",
    "     KNeighborsRegressor(),\n",
    "     grid_params,\n",
    "     verbose = 1,\n",
    "     cv = 3,\n",
    "     n_jobs = -1\n",
    ")\n",
    "\n",
    "gs_knn = gs.fit(train_pred_scaled, train_target)"
   ]
  },
  {
   "cell_type": "code",
   "execution_count": 73,
   "metadata": {},
   "outputs": [
    {
     "name": "stdout",
     "output_type": "stream",
     "text": [
      "GRID SEARCH BEST SCORE:\n",
      "0.8646454298949753\n",
      "\n",
      "GRID SEARCH BEST ESTIMATOR:\n",
      "KNeighborsRegressor(algorithm='auto', leaf_size=30, metric='manhattan',\n",
      "          metric_params=None, n_jobs=None, n_neighbors=3, p=2,\n",
      "          weights='distance')\n",
      "\n",
      "GRID SEARCH BEST PARAMETERS:\n",
      "{'metric': 'manhattan', 'n_neighbors': 3, 'weights': 'distance'}\n"
     ]
    }
   ],
   "source": [
    "print('GRID SEARCH BEST SCORE:')\n",
    "print(gs_knn.best_score_)\n",
    "print('')\n",
    "\n",
    "print('GRID SEARCH BEST ESTIMATOR:')\n",
    "print(gs_knn.best_estimator_)\n",
    "print('')\n",
    "\n",
    "print('GRID SEARCH BEST PARAMETERS:')\n",
    "print(gs_knn.best_params_)"
   ]
  },
  {
   "cell_type": "code",
   "execution_count": 74,
   "metadata": {},
   "outputs": [
    {
     "name": "stdout",
     "output_type": "stream",
     "text": [
      "Target Variable Max Value: 168.42 MW\n",
      "Max Absolute Error: 62.8 MW\n",
      "Mean Target Variable Value: 77.07 MW\n",
      "Mean Absolute Error: 3.35 MW\n",
      "Accuracy: 95.66 %.\n"
     ]
    }
   ],
   "source": [
    "# See if the grid search improved the accuracy of KNN\n",
    "best_grid = gs_knn.best_estimator_\n",
    "\n",
    "# Use predict method on the test data\n",
    "predictions = best_grid.predict(test_pred_scaled)\n",
    "\n",
    "# Calculate max and mean test_target value\n",
    "test_target_max_GS_3 = max(test_target)\n",
    "test_target_mean_GS_3 = np.mean(test_target)\n",
    "\n",
    "# Calculate the absolute errors\n",
    "errors = abs(predictions - test_target)\n",
    "max_absolute_error_GS_3 = max(errors)\n",
    "mean_absolute_error_GS_3 = np.mean(errors)\n",
    "\n",
    "# Calculate mean absolute percentage error (MAPE), and Accuracy\n",
    "mape_GS_3 = 100 * (errors / test_target)\n",
    "accuracy_GS_3 = 100 - np.mean(mape_GS_3)\n",
    "\n",
    "# Print out some statistics, including accuracy\n",
    "print('Target Variable Max Value:', round(test_target_max_GS_3, 2), 'MW')\n",
    "print('Max Absolute Error:', round(max_absolute_error_GS_3, 2), 'MW')\n",
    "print('Mean Target Variable Value:', round(test_target_mean_GS_3, 2), 'MW')\n",
    "print('Mean Absolute Error:', round(mean_absolute_error_GS_3, 2), 'MW')\n",
    "print('Accuracy:', round(accuracy_GS_3, 2), '%.')"
   ]
  },
  {
   "cell_type": "markdown",
   "metadata": {},
   "source": [
    "### Predict UES load - 4 Days Ahead (KNN & PCA)"
   ]
  },
  {
   "cell_type": "code",
   "execution_count": 75,
   "metadata": {},
   "outputs": [
    {
     "data": {
      "text/html": [
       "<div>\n",
       "<style scoped>\n",
       "    .dataframe tbody tr th:only-of-type {\n",
       "        vertical-align: middle;\n",
       "    }\n",
       "\n",
       "    .dataframe tbody tr th {\n",
       "        vertical-align: top;\n",
       "    }\n",
       "\n",
       "    .dataframe thead th {\n",
       "        text-align: right;\n",
       "    }\n",
       "</style>\n",
       "<table border=\"1\" class=\"dataframe\">\n",
       "  <thead>\n",
       "    <tr style=\"text-align: right;\">\n",
       "      <th></th>\n",
       "      <th>Month</th>\n",
       "      <th>Day</th>\n",
       "      <th>Year</th>\n",
       "      <th>TI</th>\n",
       "      <th>ISO.tot.dmd</th>\n",
       "      <th>LMP.DA.NH</th>\n",
       "      <th>LMP.RT.NH</th>\n",
       "      <th>UES.Cap</th>\n",
       "      <th>UES.Sea</th>\n",
       "      <th>UES.Sea.4.DAYS.AHEAD</th>\n",
       "      <th>NH.RT.MWh</th>\n",
       "      <th>ME.RT.MWh</th>\n",
       "      <th>VT.RT.MWh</th>\n",
       "      <th>CT.RT.MWh</th>\n",
       "      <th>RI.RT.MWh</th>\n",
       "      <th>MA.SE.RT.MWh</th>\n",
       "      <th>MA.WC.RT.MWh</th>\n",
       "      <th>MA.NE.RT.MWh</th>\n",
       "      <th>Wk.Day</th>\n",
       "    </tr>\n",
       "  </thead>\n",
       "  <tbody>\n",
       "    <tr>\n",
       "      <th>0</th>\n",
       "      <td>1</td>\n",
       "      <td>1</td>\n",
       "      <td>2010</td>\n",
       "      <td>1</td>\n",
       "      <td>13797.0</td>\n",
       "      <td>63.04</td>\n",
       "      <td>63.33</td>\n",
       "      <td>30.142</td>\n",
       "      <td>67.858</td>\n",
       "      <td>61.940</td>\n",
       "      <td>1168.0</td>\n",
       "      <td>1119.7</td>\n",
       "      <td>640.4</td>\n",
       "      <td>3206.8</td>\n",
       "      <td>825.4</td>\n",
       "      <td>1498.2</td>\n",
       "      <td>1774.3</td>\n",
       "      <td>2688.9</td>\n",
       "      <td>Fri</td>\n",
       "    </tr>\n",
       "    <tr>\n",
       "      <th>1</th>\n",
       "      <td>1</td>\n",
       "      <td>1</td>\n",
       "      <td>2010</td>\n",
       "      <td>2</td>\n",
       "      <td>13560.0</td>\n",
       "      <td>57.61</td>\n",
       "      <td>69.74</td>\n",
       "      <td>27.370</td>\n",
       "      <td>63.276</td>\n",
       "      <td>59.924</td>\n",
       "      <td>1091.8</td>\n",
       "      <td>1077.1</td>\n",
       "      <td>605.4</td>\n",
       "      <td>3031.6</td>\n",
       "      <td>781.9</td>\n",
       "      <td>1404.3</td>\n",
       "      <td>1676.8</td>\n",
       "      <td>2569.0</td>\n",
       "      <td>Fri</td>\n",
       "    </tr>\n",
       "    <tr>\n",
       "      <th>2</th>\n",
       "      <td>1</td>\n",
       "      <td>1</td>\n",
       "      <td>2010</td>\n",
       "      <td>3</td>\n",
       "      <td>13121.0</td>\n",
       "      <td>53.74</td>\n",
       "      <td>55.39</td>\n",
       "      <td>25.573</td>\n",
       "      <td>59.899</td>\n",
       "      <td>58.818</td>\n",
       "      <td>1046.4</td>\n",
       "      <td>1045.1</td>\n",
       "      <td>578.9</td>\n",
       "      <td>2902.9</td>\n",
       "      <td>749.7</td>\n",
       "      <td>1340.0</td>\n",
       "      <td>1621.8</td>\n",
       "      <td>2483.2</td>\n",
       "      <td>Fri</td>\n",
       "    </tr>\n",
       "    <tr>\n",
       "      <th>3</th>\n",
       "      <td>1</td>\n",
       "      <td>1</td>\n",
       "      <td>2010</td>\n",
       "      <td>4</td>\n",
       "      <td>13134.0</td>\n",
       "      <td>42.09</td>\n",
       "      <td>60.49</td>\n",
       "      <td>24.728</td>\n",
       "      <td>58.275</td>\n",
       "      <td>58.968</td>\n",
       "      <td>1021.5</td>\n",
       "      <td>1030.5</td>\n",
       "      <td>556.9</td>\n",
       "      <td>2827.7</td>\n",
       "      <td>729.7</td>\n",
       "      <td>1306.1</td>\n",
       "      <td>1588.5</td>\n",
       "      <td>2428.1</td>\n",
       "      <td>Fri</td>\n",
       "    </tr>\n",
       "    <tr>\n",
       "      <th>4</th>\n",
       "      <td>1</td>\n",
       "      <td>1</td>\n",
       "      <td>2010</td>\n",
       "      <td>5</td>\n",
       "      <td>13144.0</td>\n",
       "      <td>47.95</td>\n",
       "      <td>53.43</td>\n",
       "      <td>24.974</td>\n",
       "      <td>58.516</td>\n",
       "      <td>61.194</td>\n",
       "      <td>1018.0</td>\n",
       "      <td>1047.4</td>\n",
       "      <td>553.7</td>\n",
       "      <td>2820.7</td>\n",
       "      <td>730.0</td>\n",
       "      <td>1308.1</td>\n",
       "      <td>1586.7</td>\n",
       "      <td>2432.2</td>\n",
       "      <td>Fri</td>\n",
       "    </tr>\n",
       "  </tbody>\n",
       "</table>\n",
       "</div>"
      ],
      "text/plain": [
       "   Month  Day  Year  TI  ISO.tot.dmd  LMP.DA.NH  LMP.RT.NH  UES.Cap  UES.Sea  \\\n",
       "0      1    1  2010   1      13797.0      63.04      63.33   30.142   67.858   \n",
       "1      1    1  2010   2      13560.0      57.61      69.74   27.370   63.276   \n",
       "2      1    1  2010   3      13121.0      53.74      55.39   25.573   59.899   \n",
       "3      1    1  2010   4      13134.0      42.09      60.49   24.728   58.275   \n",
       "4      1    1  2010   5      13144.0      47.95      53.43   24.974   58.516   \n",
       "\n",
       "   UES.Sea.4.DAYS.AHEAD  NH.RT.MWh  ME.RT.MWh  VT.RT.MWh  CT.RT.MWh  \\\n",
       "0                61.940     1168.0     1119.7      640.4     3206.8   \n",
       "1                59.924     1091.8     1077.1      605.4     3031.6   \n",
       "2                58.818     1046.4     1045.1      578.9     2902.9   \n",
       "3                58.968     1021.5     1030.5      556.9     2827.7   \n",
       "4                61.194     1018.0     1047.4      553.7     2820.7   \n",
       "\n",
       "   RI.RT.MWh  MA.SE.RT.MWh  MA.WC.RT.MWh  MA.NE.RT.MWh Wk.Day  \n",
       "0      825.4        1498.2        1774.3        2688.9    Fri  \n",
       "1      781.9        1404.3        1676.8        2569.0    Fri  \n",
       "2      749.7        1340.0        1621.8        2483.2    Fri  \n",
       "3      729.7        1306.1        1588.5        2428.1    Fri  \n",
       "4      730.0        1308.1        1586.7        2432.2    Fri  "
      ]
     },
     "execution_count": 75,
     "metadata": {},
     "output_type": "execute_result"
    }
   ],
   "source": [
    "# Read in data\n",
    "data = pd.read_csv(\"ISO.aggregate - 4 day SHIFTED.csv\")\n",
    "\n",
    "# See first few rows of data\n",
    "data.head()"
   ]
  },
  {
   "cell_type": "code",
   "execution_count": 76,
   "metadata": {},
   "outputs": [
    {
     "data": {
      "text/plain": [
       "(78792, 19)"
      ]
     },
     "execution_count": 76,
     "metadata": {},
     "output_type": "execute_result"
    }
   ],
   "source": [
    "# Shape of dataframe\n",
    "data.shape"
   ]
  },
  {
   "cell_type": "code",
   "execution_count": 77,
   "metadata": {},
   "outputs": [
    {
     "data": {
      "text/plain": [
       "Month                     int64\n",
       "Day                       int64\n",
       "Year                      int64\n",
       "TI                        int64\n",
       "ISO.tot.dmd             float64\n",
       "LMP.DA.NH               float64\n",
       "LMP.RT.NH               float64\n",
       "UES.Cap                 float64\n",
       "UES.Sea                 float64\n",
       "UES.Sea.4.DAYS.AHEAD    float64\n",
       "NH.RT.MWh               float64\n",
       "ME.RT.MWh               float64\n",
       "VT.RT.MWh               float64\n",
       "CT.RT.MWh               float64\n",
       "RI.RT.MWh               float64\n",
       "MA.SE.RT.MWh            float64\n",
       "MA.WC.RT.MWh            float64\n",
       "MA.NE.RT.MWh            float64\n",
       "Wk.Day_Fri                uint8\n",
       "Wk.Day_Mon                uint8\n",
       "Wk.Day_Sat                uint8\n",
       "Wk.Day_Sun                uint8\n",
       "Wk.Day_Thu                uint8\n",
       "Wk.Day_Tue                uint8\n",
       "Wk.Day_Wed                uint8\n",
       "dtype: object"
      ]
     },
     "execution_count": 77,
     "metadata": {},
     "output_type": "execute_result"
    }
   ],
   "source": [
    "# One-hot encoding\n",
    "data = pd.get_dummies(data)\n",
    "\n",
    "# Check dataframe data types\n",
    "data.dtypes"
   ]
  },
  {
   "cell_type": "code",
   "execution_count": 78,
   "metadata": {},
   "outputs": [],
   "source": [
    "# Split data into target variable and predictor variables\n",
    "\n",
    "# Target is the value we want to predict (in this case, MW of UES-Seacoast Load Region)\n",
    "target = np.array(data['UES.Sea.4.DAYS.AHEAD'])\n",
    "\n",
    "# Remove the target from the predictors\n",
    "# axis 1 refers to the columns\n",
    "predictors = data.drop('UES.Sea.4.DAYS.AHEAD', axis = 1)\n",
    "\n",
    "# Saving predictor names for later use\n",
    "predictor_list = list(predictors.columns)\n",
    "\n",
    "# Convert to numpy array\n",
    "predictors = np.array(predictors)"
   ]
  },
  {
   "cell_type": "code",
   "execution_count": 79,
   "metadata": {},
   "outputs": [],
   "source": [
    "# Split the data into training and testing sets using sklearn\n",
    "train_predictors, test_predictors, train_target, test_target = train_test_split(predictors, target, test_size = 0.25, random_state = 77)\n"
   ]
  },
  {
   "cell_type": "code",
   "execution_count": 80,
   "metadata": {},
   "outputs": [
    {
     "name": "stdout",
     "output_type": "stream",
     "text": [
      "Training Predictors Shape: (59094, 24)\n",
      "Training Target Shape: (59094,)\n",
      "Testing Predictors Shape: (19698, 24)\n",
      "Testing Target Shape: (19698,)\n"
     ]
    }
   ],
   "source": [
    "# Check shape of train and test data\n",
    "print('Training Predictors Shape:', train_predictors.shape)\n",
    "print('Training Target Shape:', train_target.shape)\n",
    "print('Testing Predictors Shape:', test_predictors.shape)\n",
    "print('Testing Target Shape:', test_target.shape)"
   ]
  },
  {
   "cell_type": "code",
   "execution_count": 81,
   "metadata": {},
   "outputs": [
    {
     "data": {
      "text/plain": [
       "PCA(copy=True, iterated_power='auto', n_components=0.95, random_state=None,\n",
       "  svd_solver='auto', tol=0.0, whiten=False)"
      ]
     },
     "execution_count": 81,
     "metadata": {},
     "output_type": "execute_result"
    }
   ],
   "source": [
    "# Create scaler\n",
    "scaler = StandardScaler()\n",
    "\n",
    "# Scale training predictors\n",
    "train_pred_scaled = scaler.fit_transform(train_predictors)\n",
    "\n",
    "# Scale test predictors\n",
    "test_pred_scaled = scaler.transform(test_predictors)\n",
    "\n",
    "# Make an instance of the Model\n",
    "pca = PCA(.95)\n",
    "\n",
    "# Fit model to data\n",
    "pca.fit(train_pred_scaled)"
   ]
  },
  {
   "cell_type": "code",
   "execution_count": 82,
   "metadata": {},
   "outputs": [
    {
     "data": {
      "text/plain": [
       "12"
      ]
     },
     "execution_count": 82,
     "metadata": {},
     "output_type": "execute_result"
    }
   ],
   "source": [
    "# How many components needed to explain the 95% of the variance?\n",
    "pca.n_components_"
   ]
  },
  {
   "cell_type": "code",
   "execution_count": 83,
   "metadata": {},
   "outputs": [
    {
     "data": {
      "text/plain": [
       "KNeighborsRegressor(algorithm='auto', leaf_size=30, metric='minkowski',\n",
       "          metric_params=None, n_jobs=None, n_neighbors=5, p=2,\n",
       "          weights='uniform')"
      ]
     },
     "execution_count": 83,
     "metadata": {},
     "output_type": "execute_result"
    }
   ],
   "source": [
    "# Apply PCA transform to training and test set\n",
    "train_pred_scaled = pca.transform(train_pred_scaled)\n",
    "test_pred_scaled = pca.transform(test_pred_scaled)\n",
    "\n",
    "# Create KNN model\n",
    "model = KNeighborsRegressor()\n",
    "\n",
    "# Train model with scaled training data and target values\n",
    "model.fit(train_pred_scaled, train_target)"
   ]
  },
  {
   "cell_type": "code",
   "execution_count": 84,
   "metadata": {},
   "outputs": [
    {
     "name": "stdout",
     "output_type": "stream",
     "text": [
      "mse =  34.29490408243815  & mae =  3.6945032862896405  & rmse =  5.856185113402594\n"
     ]
    }
   ],
   "source": [
    "# Calculate errors for training data using mean squared error (MSE) and mean absolute error (MAE)\n",
    "mse = mean_squared_error(train_target, model.predict(train_pred_scaled))\n",
    "mae = mean_absolute_error(train_target, model.predict(train_pred_scaled))\n",
    "\n",
    "# Display training MSE, MAE, & RMSE\n",
    "print(\"mse = \",mse,\" & mae = \",mae,\" & rmse = \", sqrt(mse))"
   ]
  },
  {
   "cell_type": "code",
   "execution_count": 85,
   "metadata": {},
   "outputs": [
    {
     "name": "stdout",
     "output_type": "stream",
     "text": [
      "mse =  55.33583674740583  & mae =  4.842033688699361  & rmse =  7.438806137237737\n"
     ]
    }
   ],
   "source": [
    "# Calculate and display MSE, MAE, & RMSE on test data\n",
    "test_mse = mean_squared_error(test_target, model.predict(test_pred_scaled))\n",
    "test_mae = mean_absolute_error(test_target, model.predict(test_pred_scaled))\n",
    "print(\"mse = \",test_mse,\" & mae = \",test_mae,\" & rmse = \", sqrt(test_mse))"
   ]
  },
  {
   "cell_type": "code",
   "execution_count": 86,
   "metadata": {},
   "outputs": [
    {
     "name": "stdout",
     "output_type": "stream",
     "text": [
      "Target Variable Max Value: 168.43 MW\n",
      "Max Absolute Error: 64.92 MW\n",
      "Mean Target Variable Value: 77.13 MW\n",
      "Mean Absolute Error: 4.84 MW\n",
      "Accuracy: 93.79 %.\n"
     ]
    }
   ],
   "source": [
    "# Use predict method on the test data\n",
    "predictions = model.predict(test_pred_scaled)\n",
    "\n",
    "# Calculate max and mean test_target value\n",
    "test_target_max_4 = max(test_target)\n",
    "test_target_mean_4 = np.mean(test_target)\n",
    "\n",
    "# Calculate the absolute errors, calculate max and mean absolute error\n",
    "errors = abs(predictions - test_target)\n",
    "max_absolute_error_4 = max(errors)\n",
    "mean_absolute_error_4 = np.mean(errors)\n",
    "\n",
    "# Calculate mean absolute percentage error (MAPE), and Accuracy\n",
    "mape_4 = 100 * (errors / test_target)\n",
    "accuracy_4 = 100 - np.mean(mape_4)\n",
    "\n",
    "# Print out some statistics, including accuracy\n",
    "print('Target Variable Max Value:', round(test_target_max_4, 2), 'MW')\n",
    "print('Max Absolute Error:', round(max_absolute_error_4, 2), 'MW')\n",
    "print('Mean Target Variable Value:', round(test_target_mean_4, 2), 'MW')\n",
    "print('Mean Absolute Error:', round(mean_absolute_error_4, 2), 'MW')\n",
    "print('Accuracy:', round(accuracy_4, 2), '%.')"
   ]
  },
  {
   "cell_type": "code",
   "execution_count": 87,
   "metadata": {},
   "outputs": [
    {
     "name": "stdout",
     "output_type": "stream",
     "text": [
      "Fitting 3 folds for each of 16 candidates, totalling 48 fits\n"
     ]
    },
    {
     "name": "stderr",
     "output_type": "stream",
     "text": [
      "[Parallel(n_jobs=-1)]: Using backend LokyBackend with 4 concurrent workers.\n",
      "[Parallel(n_jobs=-1)]: Done  48 out of  48 | elapsed:  3.3min finished\n"
     ]
    }
   ],
   "source": [
    "# Grid search for KNN to see if performance can be improved\n",
    "grid_params = {\n",
    "    'n_neighbors': [3,5,11,19],\n",
    "    'weights': ['uniform', 'distance'],\n",
    "    'metric': ['euclidean', 'manhattan']\n",
    "}\n",
    "\n",
    "gs = GridSearchCV(\n",
    "     KNeighborsRegressor(),\n",
    "     grid_params,\n",
    "     verbose = 1,\n",
    "     cv = 3,\n",
    "     n_jobs = -1\n",
    ")\n",
    "\n",
    "gs_knn = gs.fit(train_pred_scaled, train_target)"
   ]
  },
  {
   "cell_type": "code",
   "execution_count": 88,
   "metadata": {},
   "outputs": [
    {
     "name": "stdout",
     "output_type": "stream",
     "text": [
      "GRID SEARCH BEST SCORE:\n",
      "0.8609302675813164\n",
      "\n",
      "GRID SEARCH BEST ESTIMATOR:\n",
      "KNeighborsRegressor(algorithm='auto', leaf_size=30, metric='manhattan',\n",
      "          metric_params=None, n_jobs=None, n_neighbors=3, p=2,\n",
      "          weights='distance')\n",
      "\n",
      "GRID SEARCH BEST PARAMETERS:\n",
      "{'metric': 'manhattan', 'n_neighbors': 3, 'weights': 'distance'}\n"
     ]
    }
   ],
   "source": [
    "print('GRID SEARCH BEST SCORE:')\n",
    "print(gs_knn.best_score_)\n",
    "print('')\n",
    "\n",
    "print('GRID SEARCH BEST ESTIMATOR:')\n",
    "print(gs_knn.best_estimator_)\n",
    "print('')\n",
    "\n",
    "print('GRID SEARCH BEST PARAMETERS:')\n",
    "print(gs_knn.best_params_)"
   ]
  },
  {
   "cell_type": "code",
   "execution_count": 89,
   "metadata": {},
   "outputs": [
    {
     "name": "stdout",
     "output_type": "stream",
     "text": [
      "Target Variable Max Value: 168.43 MW\n",
      "Max Absolute Error: 56.06 MW\n",
      "Mean Target Variable Value: 77.13 MW\n",
      "Mean Absolute Error: 3.4 MW\n",
      "Accuracy: 95.57 %.\n"
     ]
    }
   ],
   "source": [
    "# See if the grid search improved the accuracy of KNN\n",
    "best_grid = gs_knn.best_estimator_\n",
    "\n",
    "# Use predict method on the test data\n",
    "predictions = best_grid.predict(test_pred_scaled)\n",
    "\n",
    "# Calculate max and mean test_target value\n",
    "test_target_max_GS_4 = max(test_target)\n",
    "test_target_mean_GS_4 = np.mean(test_target)\n",
    "\n",
    "# Calculate the absolute errors\n",
    "errors = abs(predictions - test_target)\n",
    "max_absolute_error_GS_4 = max(errors)\n",
    "mean_absolute_error_GS_4 = np.mean(errors)\n",
    "\n",
    "# Calculate mean absolute percentage error (MAPE), and Accuracy\n",
    "mape_GS_4 = 100 * (errors / test_target)\n",
    "accuracy_GS_4 = 100 - np.mean(mape_GS_4)\n",
    "\n",
    "# Print out some statistics, including accuracy\n",
    "print('Target Variable Max Value:', round(test_target_max_GS_4, 2), 'MW')\n",
    "print('Max Absolute Error:', round(max_absolute_error_GS_4, 2), 'MW')\n",
    "print('Mean Target Variable Value:', round(test_target_mean_GS_4, 2), 'MW')\n",
    "print('Mean Absolute Error:', round(mean_absolute_error_GS_4, 2), 'MW')\n",
    "print('Accuracy:', round(accuracy_GS_4, 2), '%.')"
   ]
  },
  {
   "cell_type": "markdown",
   "metadata": {},
   "source": [
    "### Predict UES load - 5 Days Ahead (KNN & PCA)"
   ]
  },
  {
   "cell_type": "code",
   "execution_count": 90,
   "metadata": {},
   "outputs": [
    {
     "data": {
      "text/html": [
       "<div>\n",
       "<style scoped>\n",
       "    .dataframe tbody tr th:only-of-type {\n",
       "        vertical-align: middle;\n",
       "    }\n",
       "\n",
       "    .dataframe tbody tr th {\n",
       "        vertical-align: top;\n",
       "    }\n",
       "\n",
       "    .dataframe thead th {\n",
       "        text-align: right;\n",
       "    }\n",
       "</style>\n",
       "<table border=\"1\" class=\"dataframe\">\n",
       "  <thead>\n",
       "    <tr style=\"text-align: right;\">\n",
       "      <th></th>\n",
       "      <th>Month</th>\n",
       "      <th>Day</th>\n",
       "      <th>Year</th>\n",
       "      <th>TI</th>\n",
       "      <th>ISO.tot.dmd</th>\n",
       "      <th>LMP.DA.NH</th>\n",
       "      <th>LMP.RT.NH</th>\n",
       "      <th>UES.Cap</th>\n",
       "      <th>UES.Sea</th>\n",
       "      <th>UES.Sea.5.DAYS.AHEAD</th>\n",
       "      <th>NH.RT.MWh</th>\n",
       "      <th>ME.RT.MWh</th>\n",
       "      <th>VT.RT.MWh</th>\n",
       "      <th>CT.RT.MWh</th>\n",
       "      <th>RI.RT.MWh</th>\n",
       "      <th>MA.SE.RT.MWh</th>\n",
       "      <th>MA.WC.RT.MWh</th>\n",
       "      <th>MA.NE.RT.MWh</th>\n",
       "      <th>Wk.Day</th>\n",
       "    </tr>\n",
       "  </thead>\n",
       "  <tbody>\n",
       "    <tr>\n",
       "      <th>0</th>\n",
       "      <td>1</td>\n",
       "      <td>1</td>\n",
       "      <td>2010</td>\n",
       "      <td>1</td>\n",
       "      <td>13797.0</td>\n",
       "      <td>63.04</td>\n",
       "      <td>63.33</td>\n",
       "      <td>30.142</td>\n",
       "      <td>67.858</td>\n",
       "      <td>61.512</td>\n",
       "      <td>1168.0</td>\n",
       "      <td>1119.7</td>\n",
       "      <td>640.4</td>\n",
       "      <td>3206.8</td>\n",
       "      <td>825.4</td>\n",
       "      <td>1498.2</td>\n",
       "      <td>1774.3</td>\n",
       "      <td>2688.9</td>\n",
       "      <td>Fri</td>\n",
       "    </tr>\n",
       "    <tr>\n",
       "      <th>1</th>\n",
       "      <td>1</td>\n",
       "      <td>1</td>\n",
       "      <td>2010</td>\n",
       "      <td>2</td>\n",
       "      <td>13560.0</td>\n",
       "      <td>57.61</td>\n",
       "      <td>69.74</td>\n",
       "      <td>27.370</td>\n",
       "      <td>63.276</td>\n",
       "      <td>59.122</td>\n",
       "      <td>1091.8</td>\n",
       "      <td>1077.1</td>\n",
       "      <td>605.4</td>\n",
       "      <td>3031.6</td>\n",
       "      <td>781.9</td>\n",
       "      <td>1404.3</td>\n",
       "      <td>1676.8</td>\n",
       "      <td>2569.0</td>\n",
       "      <td>Fri</td>\n",
       "    </tr>\n",
       "    <tr>\n",
       "      <th>2</th>\n",
       "      <td>1</td>\n",
       "      <td>1</td>\n",
       "      <td>2010</td>\n",
       "      <td>3</td>\n",
       "      <td>13121.0</td>\n",
       "      <td>53.74</td>\n",
       "      <td>55.39</td>\n",
       "      <td>25.573</td>\n",
       "      <td>59.899</td>\n",
       "      <td>58.310</td>\n",
       "      <td>1046.4</td>\n",
       "      <td>1045.1</td>\n",
       "      <td>578.9</td>\n",
       "      <td>2902.9</td>\n",
       "      <td>749.7</td>\n",
       "      <td>1340.0</td>\n",
       "      <td>1621.8</td>\n",
       "      <td>2483.2</td>\n",
       "      <td>Fri</td>\n",
       "    </tr>\n",
       "    <tr>\n",
       "      <th>3</th>\n",
       "      <td>1</td>\n",
       "      <td>1</td>\n",
       "      <td>2010</td>\n",
       "      <td>4</td>\n",
       "      <td>13134.0</td>\n",
       "      <td>42.09</td>\n",
       "      <td>60.49</td>\n",
       "      <td>24.728</td>\n",
       "      <td>58.275</td>\n",
       "      <td>58.611</td>\n",
       "      <td>1021.5</td>\n",
       "      <td>1030.5</td>\n",
       "      <td>556.9</td>\n",
       "      <td>2827.7</td>\n",
       "      <td>729.7</td>\n",
       "      <td>1306.1</td>\n",
       "      <td>1588.5</td>\n",
       "      <td>2428.1</td>\n",
       "      <td>Fri</td>\n",
       "    </tr>\n",
       "    <tr>\n",
       "      <th>4</th>\n",
       "      <td>1</td>\n",
       "      <td>1</td>\n",
       "      <td>2010</td>\n",
       "      <td>5</td>\n",
       "      <td>13144.0</td>\n",
       "      <td>47.95</td>\n",
       "      <td>53.43</td>\n",
       "      <td>24.974</td>\n",
       "      <td>58.516</td>\n",
       "      <td>60.988</td>\n",
       "      <td>1018.0</td>\n",
       "      <td>1047.4</td>\n",
       "      <td>553.7</td>\n",
       "      <td>2820.7</td>\n",
       "      <td>730.0</td>\n",
       "      <td>1308.1</td>\n",
       "      <td>1586.7</td>\n",
       "      <td>2432.2</td>\n",
       "      <td>Fri</td>\n",
       "    </tr>\n",
       "  </tbody>\n",
       "</table>\n",
       "</div>"
      ],
      "text/plain": [
       "   Month  Day  Year  TI  ISO.tot.dmd  LMP.DA.NH  LMP.RT.NH  UES.Cap  UES.Sea  \\\n",
       "0      1    1  2010   1      13797.0      63.04      63.33   30.142   67.858   \n",
       "1      1    1  2010   2      13560.0      57.61      69.74   27.370   63.276   \n",
       "2      1    1  2010   3      13121.0      53.74      55.39   25.573   59.899   \n",
       "3      1    1  2010   4      13134.0      42.09      60.49   24.728   58.275   \n",
       "4      1    1  2010   5      13144.0      47.95      53.43   24.974   58.516   \n",
       "\n",
       "   UES.Sea.5.DAYS.AHEAD  NH.RT.MWh  ME.RT.MWh  VT.RT.MWh  CT.RT.MWh  \\\n",
       "0                61.512     1168.0     1119.7      640.4     3206.8   \n",
       "1                59.122     1091.8     1077.1      605.4     3031.6   \n",
       "2                58.310     1046.4     1045.1      578.9     2902.9   \n",
       "3                58.611     1021.5     1030.5      556.9     2827.7   \n",
       "4                60.988     1018.0     1047.4      553.7     2820.7   \n",
       "\n",
       "   RI.RT.MWh  MA.SE.RT.MWh  MA.WC.RT.MWh  MA.NE.RT.MWh Wk.Day  \n",
       "0      825.4        1498.2        1774.3        2688.9    Fri  \n",
       "1      781.9        1404.3        1676.8        2569.0    Fri  \n",
       "2      749.7        1340.0        1621.8        2483.2    Fri  \n",
       "3      729.7        1306.1        1588.5        2428.1    Fri  \n",
       "4      730.0        1308.1        1586.7        2432.2    Fri  "
      ]
     },
     "execution_count": 90,
     "metadata": {},
     "output_type": "execute_result"
    }
   ],
   "source": [
    "# Read in data\n",
    "data = pd.read_csv(\"ISO.aggregate - 5 day SHIFTED.csv\")\n",
    "\n",
    "# See first few rows of data\n",
    "data.head()"
   ]
  },
  {
   "cell_type": "code",
   "execution_count": 91,
   "metadata": {},
   "outputs": [
    {
     "data": {
      "text/plain": [
       "(78768, 19)"
      ]
     },
     "execution_count": 91,
     "metadata": {},
     "output_type": "execute_result"
    }
   ],
   "source": [
    "# Shape of dataframe\n",
    "data.shape"
   ]
  },
  {
   "cell_type": "code",
   "execution_count": 92,
   "metadata": {},
   "outputs": [
    {
     "data": {
      "text/plain": [
       "Month                     int64\n",
       "Day                       int64\n",
       "Year                      int64\n",
       "TI                        int64\n",
       "ISO.tot.dmd             float64\n",
       "LMP.DA.NH               float64\n",
       "LMP.RT.NH               float64\n",
       "UES.Cap                 float64\n",
       "UES.Sea                 float64\n",
       "UES.Sea.5.DAYS.AHEAD    float64\n",
       "NH.RT.MWh               float64\n",
       "ME.RT.MWh               float64\n",
       "VT.RT.MWh               float64\n",
       "CT.RT.MWh               float64\n",
       "RI.RT.MWh               float64\n",
       "MA.SE.RT.MWh            float64\n",
       "MA.WC.RT.MWh            float64\n",
       "MA.NE.RT.MWh            float64\n",
       "Wk.Day_Fri                uint8\n",
       "Wk.Day_Mon                uint8\n",
       "Wk.Day_Sat                uint8\n",
       "Wk.Day_Sun                uint8\n",
       "Wk.Day_Thu                uint8\n",
       "Wk.Day_Tue                uint8\n",
       "Wk.Day_Wed                uint8\n",
       "dtype: object"
      ]
     },
     "execution_count": 92,
     "metadata": {},
     "output_type": "execute_result"
    }
   ],
   "source": [
    "# One-hot encoding\n",
    "data = pd.get_dummies(data)\n",
    "\n",
    "# Check dataframe data types\n",
    "data.dtypes"
   ]
  },
  {
   "cell_type": "code",
   "execution_count": 93,
   "metadata": {},
   "outputs": [],
   "source": [
    "# Split data into target variable and predictor variables\n",
    "\n",
    "# Target is the value we want to predict (in this case, MW of UES-Seacoast Load Region)\n",
    "target = np.array(data['UES.Sea.5.DAYS.AHEAD'])\n",
    "\n",
    "# Remove the target from the predictors\n",
    "# axis 1 refers to the columns\n",
    "predictors = data.drop('UES.Sea.5.DAYS.AHEAD', axis = 1)\n",
    "\n",
    "# Saving predictor names for later use\n",
    "predictor_list = list(predictors.columns)\n",
    "\n",
    "# Convert to numpy array\n",
    "predictors = np.array(predictors)"
   ]
  },
  {
   "cell_type": "code",
   "execution_count": 94,
   "metadata": {},
   "outputs": [],
   "source": [
    "# Split the data into training and testing sets using sklearn\n",
    "train_predictors, test_predictors, train_target, test_target = train_test_split(predictors, target, test_size = 0.25, random_state = 77)\n"
   ]
  },
  {
   "cell_type": "code",
   "execution_count": 95,
   "metadata": {},
   "outputs": [
    {
     "name": "stdout",
     "output_type": "stream",
     "text": [
      "Training Predictors Shape: (59076, 24)\n",
      "Training Target Shape: (59076,)\n",
      "Testing Predictors Shape: (19692, 24)\n",
      "Testing Target Shape: (19692,)\n"
     ]
    }
   ],
   "source": [
    "# Check shape of train and test data\n",
    "print('Training Predictors Shape:', train_predictors.shape)\n",
    "print('Training Target Shape:', train_target.shape)\n",
    "print('Testing Predictors Shape:', test_predictors.shape)\n",
    "print('Testing Target Shape:', test_target.shape)"
   ]
  },
  {
   "cell_type": "code",
   "execution_count": 96,
   "metadata": {},
   "outputs": [
    {
     "data": {
      "text/plain": [
       "PCA(copy=True, iterated_power='auto', n_components=0.95, random_state=None,\n",
       "  svd_solver='auto', tol=0.0, whiten=False)"
      ]
     },
     "execution_count": 96,
     "metadata": {},
     "output_type": "execute_result"
    }
   ],
   "source": [
    "# Create scaler\n",
    "scaler = StandardScaler()\n",
    "\n",
    "# Scale training predictors\n",
    "train_pred_scaled = scaler.fit_transform(train_predictors)\n",
    "\n",
    "# Scale test predictors\n",
    "test_pred_scaled = scaler.transform(test_predictors)\n",
    "\n",
    "# Make an instance of the Model\n",
    "pca = PCA(.95)\n",
    "\n",
    "# Fit model to data\n",
    "pca.fit(train_pred_scaled)"
   ]
  },
  {
   "cell_type": "code",
   "execution_count": 97,
   "metadata": {},
   "outputs": [
    {
     "data": {
      "text/plain": [
       "12"
      ]
     },
     "execution_count": 97,
     "metadata": {},
     "output_type": "execute_result"
    }
   ],
   "source": [
    "# How many components needed to explain 95% of the variance?\n",
    "pca.n_components_"
   ]
  },
  {
   "cell_type": "code",
   "execution_count": 98,
   "metadata": {},
   "outputs": [
    {
     "data": {
      "text/plain": [
       "KNeighborsRegressor(algorithm='auto', leaf_size=30, metric='minkowski',\n",
       "          metric_params=None, n_jobs=None, n_neighbors=5, p=2,\n",
       "          weights='uniform')"
      ]
     },
     "execution_count": 98,
     "metadata": {},
     "output_type": "execute_result"
    }
   ],
   "source": [
    "# Apply PCA transform to training and test set\n",
    "train_pred_scaled = pca.transform(train_pred_scaled)\n",
    "test_pred_scaled = pca.transform(test_pred_scaled)\n",
    "\n",
    "# Create KNN model\n",
    "model = KNeighborsRegressor()\n",
    "\n",
    "# Train model with scaled training data and target values\n",
    "model.fit(train_pred_scaled, train_target)"
   ]
  },
  {
   "cell_type": "code",
   "execution_count": 99,
   "metadata": {},
   "outputs": [
    {
     "name": "stdout",
     "output_type": "stream",
     "text": [
      "mse =  34.63746432830591  & mae =  3.722092270972984  & rmse =  5.885360169803197\n"
     ]
    }
   ],
   "source": [
    "# Calculate errors for training data using mean squared error (MSE) and mean absolute error (MAE)\n",
    "mse = mean_squared_error(train_target, model.predict(train_pred_scaled))\n",
    "mae = mean_absolute_error(train_target, model.predict(train_pred_scaled))\n",
    "\n",
    "# Display training MSE, MAE, & RMSE\n",
    "print(\"mse = \",mse,\" & mae = \",mae,\" & rmse = \", sqrt(mse))"
   ]
  },
  {
   "cell_type": "code",
   "execution_count": 100,
   "metadata": {},
   "outputs": [
    {
     "name": "stdout",
     "output_type": "stream",
     "text": [
      "mse =  56.513218714462724  & mae =  4.895654966483852  & rmse =  7.517527433569014\n"
     ]
    }
   ],
   "source": [
    "# Calculate and display MSE, MAE, & RMSE on test data\n",
    "test_mse = mean_squared_error(test_target, model.predict(test_pred_scaled))\n",
    "test_mae = mean_absolute_error(test_target, model.predict(test_pred_scaled))\n",
    "print(\"mse = \",test_mse,\" & mae = \",test_mae,\" & rmse = \", sqrt(test_mse))"
   ]
  },
  {
   "cell_type": "code",
   "execution_count": 101,
   "metadata": {},
   "outputs": [
    {
     "name": "stdout",
     "output_type": "stream",
     "text": [
      "Target Variable Max Value: 165.69 MW\n",
      "Max Absolute Error: 59.0 MW\n",
      "Mean Target Variable Value: 77.08 MW\n",
      "Mean Absolute Error: 4.9 MW\n",
      "Accuracy: 93.7 %.\n"
     ]
    }
   ],
   "source": [
    "# Use predict method on the test data\n",
    "predictions = model.predict(test_pred_scaled)\n",
    "\n",
    "# Calculate max and mean test_target value\n",
    "test_target_max_5 = max(test_target)\n",
    "test_target_mean_5 = np.mean(test_target)\n",
    "\n",
    "# Calculate the absolute errors, calculate max and mean absolute error\n",
    "errors = abs(predictions - test_target)\n",
    "max_absolute_error_5 = max(errors)\n",
    "mean_absolute_error_5 = np.mean(errors)\n",
    "\n",
    "# Calculate mean absolute percentage error (MAPE), and Accuracy\n",
    "mape_5 = 100 * (errors / test_target)\n",
    "accuracy_5 = 100 - np.mean(mape_5)\n",
    "\n",
    "# Print out some statistics, including accuracy\n",
    "print('Target Variable Max Value:', round(test_target_max_5, 2), 'MW')\n",
    "print('Max Absolute Error:', round(max_absolute_error_5, 2), 'MW')\n",
    "print('Mean Target Variable Value:', round(test_target_mean_5, 2), 'MW')\n",
    "print('Mean Absolute Error:', round(mean_absolute_error_5, 2), 'MW')\n",
    "print('Accuracy:', round(accuracy_5, 2), '%.')"
   ]
  },
  {
   "cell_type": "code",
   "execution_count": 102,
   "metadata": {},
   "outputs": [
    {
     "name": "stdout",
     "output_type": "stream",
     "text": [
      "Fitting 3 folds for each of 16 candidates, totalling 48 fits\n"
     ]
    },
    {
     "name": "stderr",
     "output_type": "stream",
     "text": [
      "[Parallel(n_jobs=-1)]: Using backend LokyBackend with 4 concurrent workers.\n",
      "[Parallel(n_jobs=-1)]: Done  48 out of  48 | elapsed:  3.3min finished\n"
     ]
    }
   ],
   "source": [
    "# Grid search for KNN to see if performance can be improved\n",
    "grid_params = {\n",
    "    'n_neighbors': [3,5,11,19],\n",
    "    'weights': ['uniform', 'distance'],\n",
    "    'metric': ['euclidean', 'manhattan']\n",
    "}\n",
    "\n",
    "gs = GridSearchCV(\n",
    "     KNeighborsRegressor(),\n",
    "     grid_params,\n",
    "     verbose = 1,\n",
    "     cv = 3,\n",
    "     n_jobs = -1\n",
    ")\n",
    "\n",
    "gs_knn = gs.fit(train_pred_scaled, train_target)"
   ]
  },
  {
   "cell_type": "code",
   "execution_count": 103,
   "metadata": {},
   "outputs": [
    {
     "name": "stdout",
     "output_type": "stream",
     "text": [
      "GRID SEARCH BEST SCORE:\n",
      "0.8593789429419881\n",
      "\n",
      "GRID SEARCH BEST ESTIMATOR:\n",
      "KNeighborsRegressor(algorithm='auto', leaf_size=30, metric='manhattan',\n",
      "          metric_params=None, n_jobs=None, n_neighbors=3, p=2,\n",
      "          weights='distance')\n",
      "\n",
      "GRID SEARCH BEST PARAMETERS:\n",
      "{'metric': 'manhattan', 'n_neighbors': 3, 'weights': 'distance'}\n"
     ]
    }
   ],
   "source": [
    "print('GRID SEARCH BEST SCORE:')\n",
    "print(gs_knn.best_score_)\n",
    "print('')\n",
    "\n",
    "print('GRID SEARCH BEST ESTIMATOR:')\n",
    "print(gs_knn.best_estimator_)\n",
    "print('')\n",
    "\n",
    "print('GRID SEARCH BEST PARAMETERS:')\n",
    "print(gs_knn.best_params_)"
   ]
  },
  {
   "cell_type": "code",
   "execution_count": 104,
   "metadata": {},
   "outputs": [
    {
     "name": "stdout",
     "output_type": "stream",
     "text": [
      "Target Variable Max Value: 165.69 MW\n",
      "Max Absolute Error: 64.86 MW\n",
      "Mean Target Variable Value: 77.08 MW\n",
      "Mean Absolute Error: 3.41 MW\n",
      "Accuracy: 95.55 %.\n"
     ]
    }
   ],
   "source": [
    "# See if the grid search improved the accuracy of KNN\n",
    "best_grid = gs_knn.best_estimator_\n",
    "\n",
    "# Use predict method on the test data\n",
    "predictions = best_grid.predict(test_pred_scaled)\n",
    "\n",
    "# Calculate max and mean test_target value\n",
    "test_target_max_GS_5 = max(test_target)\n",
    "test_target_mean_GS_5 = np.mean(test_target)\n",
    "\n",
    "# Calculate the absolute errors\n",
    "errors = abs(predictions - test_target)\n",
    "max_absolute_error_GS_5 = max(errors)\n",
    "mean_absolute_error_GS_5 = np.mean(errors)\n",
    "\n",
    "# Calculate mean absolute percentage error (MAPE), and Accuracy\n",
    "mape_GS_5 = 100 * (errors / test_target)\n",
    "accuracy_GS_5 = 100 - np.mean(mape_GS_5)\n",
    "\n",
    "# Print out some statistics, including accuracy\n",
    "print('Target Variable Max Value:', round(test_target_max_GS_5, 2), 'MW')\n",
    "print('Max Absolute Error:', round(max_absolute_error_GS_5, 2), 'MW')\n",
    "print('Mean Target Variable Value:', round(test_target_mean_GS_5, 2), 'MW')\n",
    "print('Mean Absolute Error:', round(mean_absolute_error_GS_5, 2), 'MW')\n",
    "print('Accuracy:', round(accuracy_GS_5, 2), '%.')"
   ]
  },
  {
   "cell_type": "markdown",
   "metadata": {},
   "source": [
    "### Predict UES load - 6 Days Ahead (KNN & PCA)"
   ]
  },
  {
   "cell_type": "code",
   "execution_count": 105,
   "metadata": {},
   "outputs": [
    {
     "data": {
      "text/html": [
       "<div>\n",
       "<style scoped>\n",
       "    .dataframe tbody tr th:only-of-type {\n",
       "        vertical-align: middle;\n",
       "    }\n",
       "\n",
       "    .dataframe tbody tr th {\n",
       "        vertical-align: top;\n",
       "    }\n",
       "\n",
       "    .dataframe thead th {\n",
       "        text-align: right;\n",
       "    }\n",
       "</style>\n",
       "<table border=\"1\" class=\"dataframe\">\n",
       "  <thead>\n",
       "    <tr style=\"text-align: right;\">\n",
       "      <th></th>\n",
       "      <th>Month</th>\n",
       "      <th>Day</th>\n",
       "      <th>Year</th>\n",
       "      <th>TI</th>\n",
       "      <th>ISO.tot.dmd</th>\n",
       "      <th>LMP.DA.NH</th>\n",
       "      <th>LMP.RT.NH</th>\n",
       "      <th>UES.Cap</th>\n",
       "      <th>UES.Sea</th>\n",
       "      <th>UES.Sea.6.DAYS.AHEAD</th>\n",
       "      <th>NH.RT.MWh</th>\n",
       "      <th>ME.RT.MWh</th>\n",
       "      <th>VT.RT.MWh</th>\n",
       "      <th>CT.RT.MWh</th>\n",
       "      <th>RI.RT.MWh</th>\n",
       "      <th>MA.SE.RT.MWh</th>\n",
       "      <th>MA.WC.RT.MWh</th>\n",
       "      <th>MA.NE.RT.MWh</th>\n",
       "      <th>Wk.Day</th>\n",
       "    </tr>\n",
       "  </thead>\n",
       "  <tbody>\n",
       "    <tr>\n",
       "      <th>0</th>\n",
       "      <td>1</td>\n",
       "      <td>1</td>\n",
       "      <td>2010</td>\n",
       "      <td>1</td>\n",
       "      <td>13797.0</td>\n",
       "      <td>63.04</td>\n",
       "      <td>63.33</td>\n",
       "      <td>30.142</td>\n",
       "      <td>67.858</td>\n",
       "      <td>62.741</td>\n",
       "      <td>1168.0</td>\n",
       "      <td>1119.7</td>\n",
       "      <td>640.4</td>\n",
       "      <td>3206.8</td>\n",
       "      <td>825.4</td>\n",
       "      <td>1498.2</td>\n",
       "      <td>1774.3</td>\n",
       "      <td>2688.9</td>\n",
       "      <td>Fri</td>\n",
       "    </tr>\n",
       "    <tr>\n",
       "      <th>1</th>\n",
       "      <td>1</td>\n",
       "      <td>1</td>\n",
       "      <td>2010</td>\n",
       "      <td>2</td>\n",
       "      <td>13560.0</td>\n",
       "      <td>57.61</td>\n",
       "      <td>69.74</td>\n",
       "      <td>27.370</td>\n",
       "      <td>63.276</td>\n",
       "      <td>60.452</td>\n",
       "      <td>1091.8</td>\n",
       "      <td>1077.1</td>\n",
       "      <td>605.4</td>\n",
       "      <td>3031.6</td>\n",
       "      <td>781.9</td>\n",
       "      <td>1404.3</td>\n",
       "      <td>1676.8</td>\n",
       "      <td>2569.0</td>\n",
       "      <td>Fri</td>\n",
       "    </tr>\n",
       "    <tr>\n",
       "      <th>2</th>\n",
       "      <td>1</td>\n",
       "      <td>1</td>\n",
       "      <td>2010</td>\n",
       "      <td>3</td>\n",
       "      <td>13121.0</td>\n",
       "      <td>53.74</td>\n",
       "      <td>55.39</td>\n",
       "      <td>25.573</td>\n",
       "      <td>59.899</td>\n",
       "      <td>59.588</td>\n",
       "      <td>1046.4</td>\n",
       "      <td>1045.1</td>\n",
       "      <td>578.9</td>\n",
       "      <td>2902.9</td>\n",
       "      <td>749.7</td>\n",
       "      <td>1340.0</td>\n",
       "      <td>1621.8</td>\n",
       "      <td>2483.2</td>\n",
       "      <td>Fri</td>\n",
       "    </tr>\n",
       "    <tr>\n",
       "      <th>3</th>\n",
       "      <td>1</td>\n",
       "      <td>1</td>\n",
       "      <td>2010</td>\n",
       "      <td>4</td>\n",
       "      <td>13134.0</td>\n",
       "      <td>42.09</td>\n",
       "      <td>60.49</td>\n",
       "      <td>24.728</td>\n",
       "      <td>58.275</td>\n",
       "      <td>59.829</td>\n",
       "      <td>1021.5</td>\n",
       "      <td>1030.5</td>\n",
       "      <td>556.9</td>\n",
       "      <td>2827.7</td>\n",
       "      <td>729.7</td>\n",
       "      <td>1306.1</td>\n",
       "      <td>1588.5</td>\n",
       "      <td>2428.1</td>\n",
       "      <td>Fri</td>\n",
       "    </tr>\n",
       "    <tr>\n",
       "      <th>4</th>\n",
       "      <td>1</td>\n",
       "      <td>1</td>\n",
       "      <td>2010</td>\n",
       "      <td>5</td>\n",
       "      <td>13144.0</td>\n",
       "      <td>47.95</td>\n",
       "      <td>53.43</td>\n",
       "      <td>24.974</td>\n",
       "      <td>58.516</td>\n",
       "      <td>62.058</td>\n",
       "      <td>1018.0</td>\n",
       "      <td>1047.4</td>\n",
       "      <td>553.7</td>\n",
       "      <td>2820.7</td>\n",
       "      <td>730.0</td>\n",
       "      <td>1308.1</td>\n",
       "      <td>1586.7</td>\n",
       "      <td>2432.2</td>\n",
       "      <td>Fri</td>\n",
       "    </tr>\n",
       "  </tbody>\n",
       "</table>\n",
       "</div>"
      ],
      "text/plain": [
       "   Month  Day  Year  TI  ISO.tot.dmd  LMP.DA.NH  LMP.RT.NH  UES.Cap  UES.Sea  \\\n",
       "0      1    1  2010   1      13797.0      63.04      63.33   30.142   67.858   \n",
       "1      1    1  2010   2      13560.0      57.61      69.74   27.370   63.276   \n",
       "2      1    1  2010   3      13121.0      53.74      55.39   25.573   59.899   \n",
       "3      1    1  2010   4      13134.0      42.09      60.49   24.728   58.275   \n",
       "4      1    1  2010   5      13144.0      47.95      53.43   24.974   58.516   \n",
       "\n",
       "   UES.Sea.6.DAYS.AHEAD  NH.RT.MWh  ME.RT.MWh  VT.RT.MWh  CT.RT.MWh  \\\n",
       "0                62.741     1168.0     1119.7      640.4     3206.8   \n",
       "1                60.452     1091.8     1077.1      605.4     3031.6   \n",
       "2                59.588     1046.4     1045.1      578.9     2902.9   \n",
       "3                59.829     1021.5     1030.5      556.9     2827.7   \n",
       "4                62.058     1018.0     1047.4      553.7     2820.7   \n",
       "\n",
       "   RI.RT.MWh  MA.SE.RT.MWh  MA.WC.RT.MWh  MA.NE.RT.MWh Wk.Day  \n",
       "0      825.4        1498.2        1774.3        2688.9    Fri  \n",
       "1      781.9        1404.3        1676.8        2569.0    Fri  \n",
       "2      749.7        1340.0        1621.8        2483.2    Fri  \n",
       "3      729.7        1306.1        1588.5        2428.1    Fri  \n",
       "4      730.0        1308.1        1586.7        2432.2    Fri  "
      ]
     },
     "execution_count": 105,
     "metadata": {},
     "output_type": "execute_result"
    }
   ],
   "source": [
    "# Read in data\n",
    "data = pd.read_csv(\"ISO.aggregate - 6 day SHIFTED.csv\")\n",
    "\n",
    "# See first few rows of data\n",
    "data.head()"
   ]
  },
  {
   "cell_type": "code",
   "execution_count": 106,
   "metadata": {},
   "outputs": [
    {
     "data": {
      "text/plain": [
       "(78744, 19)"
      ]
     },
     "execution_count": 106,
     "metadata": {},
     "output_type": "execute_result"
    }
   ],
   "source": [
    "# Shape of Dataframe\n",
    "data.shape"
   ]
  },
  {
   "cell_type": "code",
   "execution_count": 107,
   "metadata": {},
   "outputs": [
    {
     "data": {
      "text/plain": [
       "Month                     int64\n",
       "Day                       int64\n",
       "Year                      int64\n",
       "TI                        int64\n",
       "ISO.tot.dmd             float64\n",
       "LMP.DA.NH               float64\n",
       "LMP.RT.NH               float64\n",
       "UES.Cap                 float64\n",
       "UES.Sea                 float64\n",
       "UES.Sea.6.DAYS.AHEAD    float64\n",
       "NH.RT.MWh               float64\n",
       "ME.RT.MWh               float64\n",
       "VT.RT.MWh               float64\n",
       "CT.RT.MWh               float64\n",
       "RI.RT.MWh               float64\n",
       "MA.SE.RT.MWh            float64\n",
       "MA.WC.RT.MWh            float64\n",
       "MA.NE.RT.MWh            float64\n",
       "Wk.Day_Fri                uint8\n",
       "Wk.Day_Mon                uint8\n",
       "Wk.Day_Sat                uint8\n",
       "Wk.Day_Sun                uint8\n",
       "Wk.Day_Thu                uint8\n",
       "Wk.Day_Tue                uint8\n",
       "Wk.Day_Wed                uint8\n",
       "dtype: object"
      ]
     },
     "execution_count": 107,
     "metadata": {},
     "output_type": "execute_result"
    }
   ],
   "source": [
    "# One-hot encoding\n",
    "data = pd.get_dummies(data)\n",
    "\n",
    "# Check dataframe data types\n",
    "data.dtypes"
   ]
  },
  {
   "cell_type": "code",
   "execution_count": 108,
   "metadata": {},
   "outputs": [],
   "source": [
    "# Split data into target variable and predictor variables\n",
    "\n",
    "# Target is the value we want to predict (in this case, MW of UES-Seacoast Load Region)\n",
    "target = np.array(data['UES.Sea.6.DAYS.AHEAD'])\n",
    "\n",
    "# Remove the target from the predictors\n",
    "# axis 1 refers to the columns\n",
    "predictors = data.drop('UES.Sea.6.DAYS.AHEAD', axis = 1)\n",
    "\n",
    "# Saving predictor names for later use\n",
    "predictor_list = list(predictors.columns)\n",
    "\n",
    "# Convert to numpy array\n",
    "predictors = np.array(predictors)"
   ]
  },
  {
   "cell_type": "code",
   "execution_count": 109,
   "metadata": {},
   "outputs": [],
   "source": [
    "# Split the data into training and testing sets using sklearn\n",
    "train_predictors, test_predictors, train_target, test_target = train_test_split(predictors, target, test_size = 0.25, random_state = 77)\n"
   ]
  },
  {
   "cell_type": "code",
   "execution_count": 110,
   "metadata": {},
   "outputs": [
    {
     "name": "stdout",
     "output_type": "stream",
     "text": [
      "Training Predictors Shape: (59058, 24)\n",
      "Training Target Shape: (59058,)\n",
      "Testing Predictors Shape: (19686, 24)\n",
      "Testing Target Shape: (19686,)\n"
     ]
    }
   ],
   "source": [
    "# Check shape of train and test data\n",
    "print('Training Predictors Shape:', train_predictors.shape)\n",
    "print('Training Target Shape:', train_target.shape)\n",
    "print('Testing Predictors Shape:', test_predictors.shape)\n",
    "print('Testing Target Shape:', test_target.shape)"
   ]
  },
  {
   "cell_type": "code",
   "execution_count": 111,
   "metadata": {},
   "outputs": [
    {
     "data": {
      "text/plain": [
       "PCA(copy=True, iterated_power='auto', n_components=0.95, random_state=None,\n",
       "  svd_solver='auto', tol=0.0, whiten=False)"
      ]
     },
     "execution_count": 111,
     "metadata": {},
     "output_type": "execute_result"
    }
   ],
   "source": [
    "# Create scaler\n",
    "scaler = StandardScaler()\n",
    "\n",
    "# Scale training predictors\n",
    "train_pred_scaled = scaler.fit_transform(train_predictors)\n",
    "\n",
    "# Scale test predictors\n",
    "test_pred_scaled = scaler.transform(test_predictors)\n",
    "\n",
    "# Make an instance of the Model\n",
    "pca = PCA(.95)\n",
    "\n",
    "# Fit model to data\n",
    "pca.fit(train_pred_scaled)"
   ]
  },
  {
   "cell_type": "code",
   "execution_count": 112,
   "metadata": {},
   "outputs": [
    {
     "data": {
      "text/plain": [
       "12"
      ]
     },
     "execution_count": 112,
     "metadata": {},
     "output_type": "execute_result"
    }
   ],
   "source": [
    "# How many components needed to explain 95% of the variance?\n",
    "pca.n_components_"
   ]
  },
  {
   "cell_type": "code",
   "execution_count": 113,
   "metadata": {},
   "outputs": [
    {
     "data": {
      "text/plain": [
       "KNeighborsRegressor(algorithm='auto', leaf_size=30, metric='minkowski',\n",
       "          metric_params=None, n_jobs=None, n_neighbors=5, p=2,\n",
       "          weights='uniform')"
      ]
     },
     "execution_count": 113,
     "metadata": {},
     "output_type": "execute_result"
    }
   ],
   "source": [
    "# Apply PCA transform to training and test set\n",
    "train_pred_scaled = pca.transform(train_pred_scaled)\n",
    "test_pred_scaled = pca.transform(test_pred_scaled)\n",
    "\n",
    "# Create KNN model\n",
    "model = KNeighborsRegressor()\n",
    "\n",
    "# Train model with scaled training data and target values\n",
    "model.fit(train_pred_scaled, train_target)"
   ]
  },
  {
   "cell_type": "code",
   "execution_count": 114,
   "metadata": {},
   "outputs": [
    {
     "name": "stdout",
     "output_type": "stream",
     "text": [
      "mse =  34.842552807988085  & mae =  3.7013686071319714  & rmse =  5.902758067885562\n"
     ]
    }
   ],
   "source": [
    "# Calculate errors for training data using mean squared error (MSE) and mean absolute error (MAE)\n",
    "mse = mean_squared_error(train_target, model.predict(train_pred_scaled))\n",
    "mae = mean_absolute_error(train_target, model.predict(train_pred_scaled))\n",
    "\n",
    "# Display training MSE, MAE, & RMSE\n",
    "print(\"mse = \",mse,\" & mae = \",mae,\" & rmse = \", sqrt(mse))"
   ]
  },
  {
   "cell_type": "code",
   "execution_count": 115,
   "metadata": {},
   "outputs": [
    {
     "name": "stdout",
     "output_type": "stream",
     "text": [
      "mse =  56.195761342867  & mae =  4.872516326323275  & rmse =  7.496383217450066\n"
     ]
    }
   ],
   "source": [
    "# Calculate and display MSE, MAE, & RMSE on test data\n",
    "test_mse = mean_squared_error(test_target, model.predict(test_pred_scaled))\n",
    "test_mae = mean_absolute_error(test_target, model.predict(test_pred_scaled))\n",
    "print(\"mse = \",test_mse,\" & mae = \",test_mae,\" & rmse = \", sqrt(test_mse))"
   ]
  },
  {
   "cell_type": "code",
   "execution_count": 116,
   "metadata": {},
   "outputs": [
    {
     "name": "stdout",
     "output_type": "stream",
     "text": [
      "Target Variable Max Value: 166.73 MW\n",
      "Max Absolute Error: 62.24 MW\n",
      "Mean Target Variable Value: 76.96 MW\n",
      "Mean Absolute Error: 4.87 MW\n",
      "Accuracy: 93.7 %.\n"
     ]
    }
   ],
   "source": [
    "# Use predict method on the test data\n",
    "predictions = model.predict(test_pred_scaled)\n",
    "\n",
    "# Calculate max and mean test_target value\n",
    "test_target_max_6 = max(test_target)\n",
    "test_target_mean_6 = np.mean(test_target)\n",
    "\n",
    "# Calculate the absolute errors, calculate max and mean absolute error\n",
    "errors = abs(predictions - test_target)\n",
    "max_absolute_error_6 = max(errors)\n",
    "mean_absolute_error_6 = np.mean(errors)\n",
    "\n",
    "# Calculate mean absolute percentage error (MAPE), and Accuracy\n",
    "mape_6 = 100 * (errors / test_target)\n",
    "accuracy_6 = 100 - np.mean(mape_6)\n",
    "\n",
    "# Print out some statistics, including accuracy\n",
    "print('Target Variable Max Value:', round(test_target_max_6, 2), 'MW')\n",
    "print('Max Absolute Error:', round(max_absolute_error_6, 2), 'MW')\n",
    "print('Mean Target Variable Value:', round(test_target_mean_6, 2), 'MW')\n",
    "print('Mean Absolute Error:', round(mean_absolute_error_6, 2), 'MW')\n",
    "print('Accuracy:', round(accuracy_6, 2), '%.')"
   ]
  },
  {
   "cell_type": "code",
   "execution_count": 117,
   "metadata": {},
   "outputs": [
    {
     "name": "stdout",
     "output_type": "stream",
     "text": [
      "Fitting 3 folds for each of 16 candidates, totalling 48 fits\n"
     ]
    },
    {
     "name": "stderr",
     "output_type": "stream",
     "text": [
      "[Parallel(n_jobs=-1)]: Using backend LokyBackend with 4 concurrent workers.\n",
      "[Parallel(n_jobs=-1)]: Done  48 out of  48 | elapsed:  3.4min finished\n"
     ]
    }
   ],
   "source": [
    "# Grid search for KNN to see if performance can be improved\n",
    "grid_params = {\n",
    "    'n_neighbors': [3,5,11,19],\n",
    "    'weights': ['uniform', 'distance'],\n",
    "    'metric': ['euclidean', 'manhattan']\n",
    "}\n",
    "\n",
    "gs = GridSearchCV(\n",
    "     KNeighborsRegressor(),\n",
    "     grid_params,\n",
    "     verbose = 1,\n",
    "     cv = 3,\n",
    "     n_jobs = -1\n",
    ")\n",
    "\n",
    "gs_knn = gs.fit(train_pred_scaled, train_target)"
   ]
  },
  {
   "cell_type": "code",
   "execution_count": 118,
   "metadata": {},
   "outputs": [
    {
     "name": "stdout",
     "output_type": "stream",
     "text": [
      "GRID SEARCH BEST SCORE:\n",
      "0.8615133978580832\n",
      "\n",
      "GRID SEARCH BEST ESTIMATOR:\n",
      "KNeighborsRegressor(algorithm='auto', leaf_size=30, metric='manhattan',\n",
      "          metric_params=None, n_jobs=None, n_neighbors=3, p=2,\n",
      "          weights='distance')\n",
      "\n",
      "GRID SEARCH BEST PARAMETERS:\n",
      "{'metric': 'manhattan', 'n_neighbors': 3, 'weights': 'distance'}\n"
     ]
    }
   ],
   "source": [
    "print('GRID SEARCH BEST SCORE:')\n",
    "print(gs_knn.best_score_)\n",
    "print('')\n",
    "\n",
    "print('GRID SEARCH BEST ESTIMATOR:')\n",
    "print(gs_knn.best_estimator_)\n",
    "print('')\n",
    "\n",
    "print('GRID SEARCH BEST PARAMETERS:')\n",
    "print(gs_knn.best_params_)"
   ]
  },
  {
   "cell_type": "code",
   "execution_count": 119,
   "metadata": {},
   "outputs": [
    {
     "name": "stdout",
     "output_type": "stream",
     "text": [
      "Target Variable Max Value: 166.73 MW\n",
      "Max Absolute Error: 59.28 MW\n",
      "Mean Target Variable Value: 76.96 MW\n",
      "Mean Absolute Error: 3.38 MW\n",
      "Accuracy: 95.57 %.\n"
     ]
    }
   ],
   "source": [
    "# See if the grid search improved the accuracy of KNN\n",
    "best_grid = gs_knn.best_estimator_\n",
    "\n",
    "# Use predict method on the test data\n",
    "predictions = best_grid.predict(test_pred_scaled)\n",
    "\n",
    "# Calculate max and mean test_target value\n",
    "test_target_max_GS_6 = max(test_target)\n",
    "test_target_mean_GS_6 = np.mean(test_target)\n",
    "\n",
    "# Calculate the absolute errors\n",
    "errors = abs(predictions - test_target)\n",
    "max_absolute_error_GS_6 = max(errors)\n",
    "mean_absolute_error_GS_6 = np.mean(errors)\n",
    "\n",
    "# Calculate mean absolute percentage error (MAPE), and Accuracy\n",
    "mape_GS_6 = 100 * (errors / test_target)\n",
    "accuracy_GS_6 = 100 - np.mean(mape_GS_6)\n",
    "\n",
    "# Print out some statistics, including accuracy\n",
    "print('Target Variable Max Value:', round(test_target_max_GS_6, 2), 'MW')\n",
    "print('Max Absolute Error:', round(max_absolute_error_GS_6, 2), 'MW')\n",
    "print('Mean Target Variable Value:', round(test_target_mean_GS_6, 2), 'MW')\n",
    "print('Mean Absolute Error:', round(mean_absolute_error_GS_6, 2), 'MW')\n",
    "print('Accuracy:', round(accuracy_GS_6, 2), '%.')"
   ]
  },
  {
   "cell_type": "markdown",
   "metadata": {},
   "source": [
    "### Predict UES load - 7 Days Ahead (KNN & PCA)"
   ]
  },
  {
   "cell_type": "code",
   "execution_count": 120,
   "metadata": {},
   "outputs": [
    {
     "data": {
      "text/html": [
       "<div>\n",
       "<style scoped>\n",
       "    .dataframe tbody tr th:only-of-type {\n",
       "        vertical-align: middle;\n",
       "    }\n",
       "\n",
       "    .dataframe tbody tr th {\n",
       "        vertical-align: top;\n",
       "    }\n",
       "\n",
       "    .dataframe thead th {\n",
       "        text-align: right;\n",
       "    }\n",
       "</style>\n",
       "<table border=\"1\" class=\"dataframe\">\n",
       "  <thead>\n",
       "    <tr style=\"text-align: right;\">\n",
       "      <th></th>\n",
       "      <th>Month</th>\n",
       "      <th>Day</th>\n",
       "      <th>Year</th>\n",
       "      <th>TI</th>\n",
       "      <th>ISO.tot.dmd</th>\n",
       "      <th>LMP.DA.NH</th>\n",
       "      <th>LMP.RT.NH</th>\n",
       "      <th>UES.Cap</th>\n",
       "      <th>UES.Sea</th>\n",
       "      <th>UES.Sea.7.DAYS.AHEAD</th>\n",
       "      <th>NH.RT.MWh</th>\n",
       "      <th>ME.RT.MWh</th>\n",
       "      <th>VT.RT.MWh</th>\n",
       "      <th>CT.RT.MWh</th>\n",
       "      <th>RI.RT.MWh</th>\n",
       "      <th>MA.SE.RT.MWh</th>\n",
       "      <th>MA.WC.RT.MWh</th>\n",
       "      <th>MA.NE.RT.MWh</th>\n",
       "      <th>Wk.Day</th>\n",
       "    </tr>\n",
       "  </thead>\n",
       "  <tbody>\n",
       "    <tr>\n",
       "      <th>0</th>\n",
       "      <td>1</td>\n",
       "      <td>1</td>\n",
       "      <td>2010</td>\n",
       "      <td>1</td>\n",
       "      <td>13797.0</td>\n",
       "      <td>63.04</td>\n",
       "      <td>63.33</td>\n",
       "      <td>30.142</td>\n",
       "      <td>67.858</td>\n",
       "      <td>62.538</td>\n",
       "      <td>1168.0</td>\n",
       "      <td>1119.7</td>\n",
       "      <td>640.4</td>\n",
       "      <td>3206.8</td>\n",
       "      <td>825.4</td>\n",
       "      <td>1498.2</td>\n",
       "      <td>1774.3</td>\n",
       "      <td>2688.9</td>\n",
       "      <td>Fri</td>\n",
       "    </tr>\n",
       "    <tr>\n",
       "      <th>1</th>\n",
       "      <td>1</td>\n",
       "      <td>1</td>\n",
       "      <td>2010</td>\n",
       "      <td>2</td>\n",
       "      <td>13560.0</td>\n",
       "      <td>57.61</td>\n",
       "      <td>69.74</td>\n",
       "      <td>27.370</td>\n",
       "      <td>63.276</td>\n",
       "      <td>60.144</td>\n",
       "      <td>1091.8</td>\n",
       "      <td>1077.1</td>\n",
       "      <td>605.4</td>\n",
       "      <td>3031.6</td>\n",
       "      <td>781.9</td>\n",
       "      <td>1404.3</td>\n",
       "      <td>1676.8</td>\n",
       "      <td>2569.0</td>\n",
       "      <td>Fri</td>\n",
       "    </tr>\n",
       "    <tr>\n",
       "      <th>2</th>\n",
       "      <td>1</td>\n",
       "      <td>1</td>\n",
       "      <td>2010</td>\n",
       "      <td>3</td>\n",
       "      <td>13121.0</td>\n",
       "      <td>53.74</td>\n",
       "      <td>55.39</td>\n",
       "      <td>25.573</td>\n",
       "      <td>59.899</td>\n",
       "      <td>58.989</td>\n",
       "      <td>1046.4</td>\n",
       "      <td>1045.1</td>\n",
       "      <td>578.9</td>\n",
       "      <td>2902.9</td>\n",
       "      <td>749.7</td>\n",
       "      <td>1340.0</td>\n",
       "      <td>1621.8</td>\n",
       "      <td>2483.2</td>\n",
       "      <td>Fri</td>\n",
       "    </tr>\n",
       "    <tr>\n",
       "      <th>3</th>\n",
       "      <td>1</td>\n",
       "      <td>1</td>\n",
       "      <td>2010</td>\n",
       "      <td>4</td>\n",
       "      <td>13134.0</td>\n",
       "      <td>42.09</td>\n",
       "      <td>60.49</td>\n",
       "      <td>24.728</td>\n",
       "      <td>58.275</td>\n",
       "      <td>59.150</td>\n",
       "      <td>1021.5</td>\n",
       "      <td>1030.5</td>\n",
       "      <td>556.9</td>\n",
       "      <td>2827.7</td>\n",
       "      <td>729.7</td>\n",
       "      <td>1306.1</td>\n",
       "      <td>1588.5</td>\n",
       "      <td>2428.1</td>\n",
       "      <td>Fri</td>\n",
       "    </tr>\n",
       "    <tr>\n",
       "      <th>4</th>\n",
       "      <td>1</td>\n",
       "      <td>1</td>\n",
       "      <td>2010</td>\n",
       "      <td>5</td>\n",
       "      <td>13144.0</td>\n",
       "      <td>47.95</td>\n",
       "      <td>53.43</td>\n",
       "      <td>24.974</td>\n",
       "      <td>58.516</td>\n",
       "      <td>61.425</td>\n",
       "      <td>1018.0</td>\n",
       "      <td>1047.4</td>\n",
       "      <td>553.7</td>\n",
       "      <td>2820.7</td>\n",
       "      <td>730.0</td>\n",
       "      <td>1308.1</td>\n",
       "      <td>1586.7</td>\n",
       "      <td>2432.2</td>\n",
       "      <td>Fri</td>\n",
       "    </tr>\n",
       "  </tbody>\n",
       "</table>\n",
       "</div>"
      ],
      "text/plain": [
       "   Month  Day  Year  TI  ISO.tot.dmd  LMP.DA.NH  LMP.RT.NH  UES.Cap  UES.Sea  \\\n",
       "0      1    1  2010   1      13797.0      63.04      63.33   30.142   67.858   \n",
       "1      1    1  2010   2      13560.0      57.61      69.74   27.370   63.276   \n",
       "2      1    1  2010   3      13121.0      53.74      55.39   25.573   59.899   \n",
       "3      1    1  2010   4      13134.0      42.09      60.49   24.728   58.275   \n",
       "4      1    1  2010   5      13144.0      47.95      53.43   24.974   58.516   \n",
       "\n",
       "   UES.Sea.7.DAYS.AHEAD  NH.RT.MWh  ME.RT.MWh  VT.RT.MWh  CT.RT.MWh  \\\n",
       "0                62.538     1168.0     1119.7      640.4     3206.8   \n",
       "1                60.144     1091.8     1077.1      605.4     3031.6   \n",
       "2                58.989     1046.4     1045.1      578.9     2902.9   \n",
       "3                59.150     1021.5     1030.5      556.9     2827.7   \n",
       "4                61.425     1018.0     1047.4      553.7     2820.7   \n",
       "\n",
       "   RI.RT.MWh  MA.SE.RT.MWh  MA.WC.RT.MWh  MA.NE.RT.MWh Wk.Day  \n",
       "0      825.4        1498.2        1774.3        2688.9    Fri  \n",
       "1      781.9        1404.3        1676.8        2569.0    Fri  \n",
       "2      749.7        1340.0        1621.8        2483.2    Fri  \n",
       "3      729.7        1306.1        1588.5        2428.1    Fri  \n",
       "4      730.0        1308.1        1586.7        2432.2    Fri  "
      ]
     },
     "execution_count": 120,
     "metadata": {},
     "output_type": "execute_result"
    }
   ],
   "source": [
    "# Read in data\n",
    "data = pd.read_csv(\"ISO.aggregate - 7 day SHIFTED.csv\")\n",
    "\n",
    "# See first few rows of data\n",
    "data.head()"
   ]
  },
  {
   "cell_type": "code",
   "execution_count": 121,
   "metadata": {},
   "outputs": [
    {
     "data": {
      "text/plain": [
       "(78720, 19)"
      ]
     },
     "execution_count": 121,
     "metadata": {},
     "output_type": "execute_result"
    }
   ],
   "source": [
    "# Shape of Dataframe\n",
    "data.shape"
   ]
  },
  {
   "cell_type": "code",
   "execution_count": 122,
   "metadata": {},
   "outputs": [
    {
     "data": {
      "text/plain": [
       "Month                     int64\n",
       "Day                       int64\n",
       "Year                      int64\n",
       "TI                        int64\n",
       "ISO.tot.dmd             float64\n",
       "LMP.DA.NH               float64\n",
       "LMP.RT.NH               float64\n",
       "UES.Cap                 float64\n",
       "UES.Sea                 float64\n",
       "UES.Sea.7.DAYS.AHEAD    float64\n",
       "NH.RT.MWh               float64\n",
       "ME.RT.MWh               float64\n",
       "VT.RT.MWh               float64\n",
       "CT.RT.MWh               float64\n",
       "RI.RT.MWh               float64\n",
       "MA.SE.RT.MWh            float64\n",
       "MA.WC.RT.MWh            float64\n",
       "MA.NE.RT.MWh            float64\n",
       "Wk.Day_Fri                uint8\n",
       "Wk.Day_Mon                uint8\n",
       "Wk.Day_Sat                uint8\n",
       "Wk.Day_Sun                uint8\n",
       "Wk.Day_Thu                uint8\n",
       "Wk.Day_Tue                uint8\n",
       "Wk.Day_Wed                uint8\n",
       "dtype: object"
      ]
     },
     "execution_count": 122,
     "metadata": {},
     "output_type": "execute_result"
    }
   ],
   "source": [
    "# One-hot encoding\n",
    "data = pd.get_dummies(data)\n",
    "\n",
    "# Check dataframe data types\n",
    "data.dtypes"
   ]
  },
  {
   "cell_type": "code",
   "execution_count": 123,
   "metadata": {},
   "outputs": [],
   "source": [
    "# Split data into target variable and predictor variables\n",
    "\n",
    "# Target is the value we want to predict (in this case, MW of UES-Seacoast Load Region)\n",
    "target = np.array(data['UES.Sea.7.DAYS.AHEAD'])\n",
    "\n",
    "# Remove the target from the predictors\n",
    "# axis 1 refers to the columns\n",
    "predictors = data.drop('UES.Sea.7.DAYS.AHEAD', axis = 1)\n",
    "\n",
    "# Saving predictor names for later use\n",
    "predictor_list = list(predictors.columns)\n",
    "\n",
    "# Convert to numpy array\n",
    "predictors = np.array(predictors)"
   ]
  },
  {
   "cell_type": "code",
   "execution_count": 124,
   "metadata": {},
   "outputs": [],
   "source": [
    "# Split the data into training and testing sets using sklearn\n",
    "train_predictors, test_predictors, train_target, test_target = train_test_split(predictors, target, test_size = 0.25, random_state = 77)\n"
   ]
  },
  {
   "cell_type": "code",
   "execution_count": 125,
   "metadata": {},
   "outputs": [
    {
     "name": "stdout",
     "output_type": "stream",
     "text": [
      "Training Predictors Shape: (59040, 24)\n",
      "Training Target Shape: (59040,)\n",
      "Testing Predictors Shape: (19680, 24)\n",
      "Testing Target Shape: (19680,)\n"
     ]
    }
   ],
   "source": [
    "# Check shape of train and test data\n",
    "print('Training Predictors Shape:', train_predictors.shape)\n",
    "print('Training Target Shape:', train_target.shape)\n",
    "print('Testing Predictors Shape:', test_predictors.shape)\n",
    "print('Testing Target Shape:', test_target.shape)"
   ]
  },
  {
   "cell_type": "code",
   "execution_count": 126,
   "metadata": {},
   "outputs": [
    {
     "data": {
      "text/plain": [
       "PCA(copy=True, iterated_power='auto', n_components=0.95, random_state=None,\n",
       "  svd_solver='auto', tol=0.0, whiten=False)"
      ]
     },
     "execution_count": 126,
     "metadata": {},
     "output_type": "execute_result"
    }
   ],
   "source": [
    "# Create scaler\n",
    "scaler = StandardScaler()\n",
    "\n",
    "# Scale training predictors\n",
    "train_pred_scaled = scaler.fit_transform(train_predictors)\n",
    "\n",
    "# Scale test predictors\n",
    "test_pred_scaled = scaler.transform(test_predictors)\n",
    "\n",
    "# Make an instance of the Model\n",
    "pca = PCA(.95)\n",
    "\n",
    "# Fit model to data\n",
    "pca.fit(train_pred_scaled)"
   ]
  },
  {
   "cell_type": "code",
   "execution_count": 127,
   "metadata": {},
   "outputs": [
    {
     "data": {
      "text/plain": [
       "12"
      ]
     },
     "execution_count": 127,
     "metadata": {},
     "output_type": "execute_result"
    }
   ],
   "source": [
    "# How many components needed to explain 95% of the variance?\n",
    "pca.n_components_"
   ]
  },
  {
   "cell_type": "code",
   "execution_count": 128,
   "metadata": {},
   "outputs": [
    {
     "data": {
      "text/plain": [
       "KNeighborsRegressor(algorithm='auto', leaf_size=30, metric='minkowski',\n",
       "          metric_params=None, n_jobs=None, n_neighbors=5, p=2,\n",
       "          weights='uniform')"
      ]
     },
     "execution_count": 128,
     "metadata": {},
     "output_type": "execute_result"
    }
   ],
   "source": [
    "# Apply PCA transform to training and test set\n",
    "train_pred_scaled = pca.transform(train_pred_scaled)\n",
    "test_pred_scaled = pca.transform(test_pred_scaled)\n",
    "\n",
    "# Create KNN model\n",
    "model = KNeighborsRegressor()\n",
    "\n",
    "# Train model with scaled training data and target values\n",
    "model.fit(train_pred_scaled, train_target)"
   ]
  },
  {
   "cell_type": "code",
   "execution_count": 129,
   "metadata": {},
   "outputs": [
    {
     "name": "stdout",
     "output_type": "stream",
     "text": [
      "mse =  34.479223141296075  & mae =  3.672042571138211  & rmse =  5.871901152207526\n"
     ]
    }
   ],
   "source": [
    "# Calculate errors for training data using mean squared error (MSE) and mean absolute error (MAE)\n",
    "mse = mean_squared_error(train_target, model.predict(train_pred_scaled))\n",
    "mae = mean_absolute_error(train_target, model.predict(train_pred_scaled))\n",
    "\n",
    "# Display training MSE, MAE, & RMSE\n",
    "print(\"mse = \",mse,\" & mae = \",mae,\" & rmse = \", sqrt(mse))"
   ]
  },
  {
   "cell_type": "code",
   "execution_count": 130,
   "metadata": {},
   "outputs": [
    {
     "name": "stdout",
     "output_type": "stream",
     "text": [
      "mse =  57.370441838321135  & mae =  4.840338983739837  & rmse =  7.574327814289604\n"
     ]
    }
   ],
   "source": [
    "# Calculate and display MSE, MAE, & RMSE on test data\n",
    "test_mse = mean_squared_error(test_target, model.predict(test_pred_scaled))\n",
    "test_mae = mean_absolute_error(test_target, model.predict(test_pred_scaled))\n",
    "print(\"mse = \",test_mse,\" & mae = \",test_mae,\" & rmse = \", sqrt(test_mse))"
   ]
  },
  {
   "cell_type": "code",
   "execution_count": 131,
   "metadata": {},
   "outputs": [
    {
     "name": "stdout",
     "output_type": "stream",
     "text": [
      "Target Variable Max Value: 168.42 MW\n",
      "Max Absolute Error: 74.58 MW\n",
      "Mean Target Variable Value: 77.03 MW\n",
      "Mean Absolute Error: 4.84 MW\n",
      "Accuracy: 93.82 %.\n"
     ]
    }
   ],
   "source": [
    "# Use predict method on the test data\n",
    "predictions = model.predict(test_pred_scaled)\n",
    "\n",
    "# Calculate max and mean test_target value\n",
    "test_target_max_7 = max(test_target)\n",
    "test_target_mean_7 = np.mean(test_target)\n",
    "\n",
    "# Calculate the absolute errors, calculate max and mean absolute error\n",
    "errors = abs(predictions - test_target)\n",
    "max_absolute_error_7 = max(errors)\n",
    "mean_absolute_error_7 = np.mean(errors)\n",
    "\n",
    "# Calculate mean absolute percentage error (MAPE), and Accuracy\n",
    "mape_7 = 100 * (errors / test_target)\n",
    "accuracy_7 = 100 - np.mean(mape_7)\n",
    "\n",
    "# Print out some statistics, including accuracy\n",
    "print('Target Variable Max Value:', round(test_target_max_7, 2), 'MW')\n",
    "print('Max Absolute Error:', round(max_absolute_error_7, 2), 'MW')\n",
    "print('Mean Target Variable Value:', round(test_target_mean_7, 2), 'MW')\n",
    "print('Mean Absolute Error:', round(mean_absolute_error_7, 2), 'MW')\n",
    "print('Accuracy:', round(accuracy_7, 2), '%.')"
   ]
  },
  {
   "cell_type": "code",
   "execution_count": 132,
   "metadata": {},
   "outputs": [
    {
     "name": "stdout",
     "output_type": "stream",
     "text": [
      "Fitting 3 folds for each of 16 candidates, totalling 48 fits\n"
     ]
    },
    {
     "name": "stderr",
     "output_type": "stream",
     "text": [
      "[Parallel(n_jobs=-1)]: Using backend LokyBackend with 4 concurrent workers.\n",
      "[Parallel(n_jobs=-1)]: Done  48 out of  48 | elapsed:  3.2min finished\n"
     ]
    }
   ],
   "source": [
    "# Grid search for KNN to see if performance can be improved\n",
    "grid_params = {\n",
    "    'n_neighbors': [3,5,11,19],\n",
    "    'weights': ['uniform', 'distance'],\n",
    "    'metric': ['euclidean', 'manhattan']\n",
    "}\n",
    "\n",
    "gs = GridSearchCV(\n",
    "     KNeighborsRegressor(),\n",
    "     grid_params,\n",
    "     verbose = 1,\n",
    "     cv = 3,\n",
    "     n_jobs = -1\n",
    ")\n",
    "\n",
    "gs_knn = gs.fit(train_pred_scaled, train_target)"
   ]
  },
  {
   "cell_type": "code",
   "execution_count": 133,
   "metadata": {},
   "outputs": [
    {
     "name": "stdout",
     "output_type": "stream",
     "text": [
      "GRID SEARCH BEST SCORE:\n",
      "0.8600431996479997\n",
      "\n",
      "GRID SEARCH BEST ESTIMATOR:\n",
      "KNeighborsRegressor(algorithm='auto', leaf_size=30, metric='manhattan',\n",
      "          metric_params=None, n_jobs=None, n_neighbors=3, p=2,\n",
      "          weights='distance')\n",
      "\n",
      "GRID SEARCH BEST PARAMETERS:\n",
      "{'metric': 'manhattan', 'n_neighbors': 3, 'weights': 'distance'}\n"
     ]
    }
   ],
   "source": [
    "print('GRID SEARCH BEST SCORE:')\n",
    "print(gs_knn.best_score_)\n",
    "print('')\n",
    "\n",
    "print('GRID SEARCH BEST ESTIMATOR:')\n",
    "print(gs_knn.best_estimator_)\n",
    "print('')\n",
    "\n",
    "print('GRID SEARCH BEST PARAMETERS:')\n",
    "print(gs_knn.best_params_)"
   ]
  },
  {
   "cell_type": "code",
   "execution_count": 134,
   "metadata": {},
   "outputs": [
    {
     "name": "stdout",
     "output_type": "stream",
     "text": [
      "Target Variable Max Value: 168.42 MW\n",
      "Max Absolute Error: 66.66 MW\n",
      "Mean Target Variable Value: 77.03 MW\n",
      "Mean Absolute Error: 3.39 MW\n",
      "Accuracy: 95.61 %.\n"
     ]
    }
   ],
   "source": [
    "# See if the grid search improved the accuracy of KNN\n",
    "best_grid = gs_knn.best_estimator_\n",
    "\n",
    "# Use predict method on the test data\n",
    "predictions = best_grid.predict(test_pred_scaled)\n",
    "\n",
    "# Calculate max and mean test_target value\n",
    "test_target_max_GS_7 = max(test_target)\n",
    "test_target_mean_GS_7 = np.mean(test_target)\n",
    "\n",
    "# Calculate the absolute errors\n",
    "errors = abs(predictions - test_target)\n",
    "max_absolute_error_GS_7 = max(errors)\n",
    "mean_absolute_error_GS_7 = np.mean(errors)\n",
    "\n",
    "# Calculate mean absolute percentage error (MAPE), and Accuracy\n",
    "mape_GS_7 = 100 * (errors / test_target)\n",
    "accuracy_GS_7 = 100 - np.mean(mape_GS_7)\n",
    "\n",
    "# Print out some statistics, including accuracy\n",
    "print('Target Variable Max Value:', round(test_target_max_GS_7, 2), 'MW')\n",
    "print('Max Absolute Error:', round(max_absolute_error_GS_7, 2), 'MW')\n",
    "print('Mean Target Variable Value:', round(test_target_mean_GS_7, 2), 'MW')\n",
    "print('Mean Absolute Error:', round(mean_absolute_error_GS_7, 2), 'MW')\n",
    "print('Accuracy:', round(accuracy_GS_7, 2), '%.')"
   ]
  },
  {
   "cell_type": "markdown",
   "metadata": {},
   "source": [
    "#### Compare Performance of Models"
   ]
  },
  {
   "cell_type": "code",
   "execution_count": 135,
   "metadata": {},
   "outputs": [
    {
     "name": "stdout",
     "output_type": "stream",
     "text": [
      "KNN w/PCA Model 1 - Predict UES Load 1 Day Ahead\n",
      "Target Variable Max Value: 166.65 MW\n",
      "Max Absolute Error: 47.35 MW\n",
      "Mean Target Variable Value: 77.05 MW\n",
      "Mean Absolute Error: 3.46 MW\n",
      "Accuracy: 95.61 %.\n",
      "\n",
      "KNN w/PCA Model 1 after GridSearchCV - Predict UES Load 1 Day Ahead\n",
      "Target Variable Max Value: 166.65 MW\n",
      "Max Absolute Error: 39.25 MW\n",
      "Mean Target Variable Value: 77.05 MW\n",
      "Mean Absolute Error: 2.54 MW\n",
      "Accuracy: 96.74 %.\n",
      "\n",
      "--------------------------------------------------------------------\n",
      "\n",
      "KNN w/PCA Model 2 - Predict UES Load 2 Days Ahead\n",
      "Target Variable Max Value: 168.43 MW\n",
      "Max Absolute Error: 64.56 MW\n",
      "Mean Target Variable Value: 76.92 MW\n",
      "Mean Absolute Error: 4.32 MW\n",
      "Accuracy: 94.48 %.\n",
      "\n",
      "KNN w/PCA Model 2 after GridSearchCV - Predict UES Load 2 Days Ahead\n",
      "Target Variable Max Value: 168.43 MW\n",
      "Max Absolute Error: 66.78 MW\n",
      "Mean Target Variable Value: 76.92 MW\n",
      "Mean Absolute Error: 3.1 MW\n",
      "Accuracy: 95.97 %.\n",
      "\n",
      "--------------------------------------------------------------------\n",
      "\n",
      "KNN w/PCA Model 3 - Predict UES Load 3 Days Ahead\n",
      "Target Variable Max Value: 168.42 MW\n",
      "Max Absolute Error: 57.36 MW\n",
      "Mean Target Variable Value: 77.07 MW\n",
      "Mean Absolute Error: 4.73 MW\n",
      "Accuracy: 93.96 %.\n",
      "\n",
      "KNN w/PCA Model 3 after GridSearchCV - Predict UES Load 3 Days Ahead\n",
      "Target Variable Max Value: 168.42 MW\n",
      "Max Absolute Error: 62.8 MW\n",
      "Mean Target Variable Value: 77.07 MW\n",
      "Mean Absolute Error: 3.35 MW\n",
      "Accuracy: 95.66 %.\n",
      "\n",
      "--------------------------------------------------------------------\n",
      "\n",
      "KNN w/PCA Model 4 - Predict UES Load 4 Days Ahead\n",
      "Target Variable Max Value: 168.43 MW\n",
      "Max Absolute Error: 64.92 MW\n",
      "Mean Target Variable Value: 77.13 MW\n",
      "Mean Absolute Error: 4.84 MW\n",
      "Accuracy: 93.79 %.\n",
      "\n",
      "KNN w/PCA Model 4 after GridSearchCV - Predict UES Load 4 Days Ahead\n",
      "Target Variable Max Value: 168.43 MW\n",
      "Max Absolute Error: 56.06 MW\n",
      "Mean Target Variable Value: 77.13 MW\n",
      "Mean Absolute Error: 3.4 MW\n",
      "Accuracy: 95.57 %.\n",
      "\n",
      "--------------------------------------------------------------------\n",
      "\n",
      "KNN w/PCA Model 5 - Predict UES Load 5 Days Ahead\n",
      "Target Variable Max Value: 165.69 MW\n",
      "Max Absolute Error: 59.0 MW\n",
      "Mean Target Variable Value: 77.08 MW\n",
      "Mean Absolute Error: 4.9 MW\n",
      "Accuracy: 93.7 %.\n",
      "\n",
      "KNN w/PCA Model 5 after GridSearchCV - Predict UES Load 5 Days Ahead\n",
      "Target Variable Max Value: 165.69 MW\n",
      "Max Absolute Error: 64.86 MW\n",
      "Mean Target Variable Value: 77.08 MW\n",
      "Mean Absolute Error: 3.41 MW\n",
      "Accuracy: 95.55 %.\n",
      "\n",
      "--------------------------------------------------------------------\n",
      "\n",
      "KNN w/PCA Model 6 - Predict UES Load 6 Days Ahead\n",
      "Target Variable Max Value: 166.73 MW\n",
      "Max Absolute Error: 62.24 MW\n",
      "Mean Target Variable Value: 76.96 MW\n",
      "Mean Absolute Error: 4.87 MW\n",
      "Accuracy: 93.7 %.\n",
      "\n",
      "KNN w/PCA Model 6 after GridSearchCV - Predict UES Load 6 Days Ahead\n",
      "Target Variable Max Value: 166.73 MW\n",
      "Max Absolute Error: 59.28 MW\n",
      "Mean Target Variable Value: 76.96 MW\n",
      "Mean Absolute Error: 3.38 MW\n",
      "Accuracy: 95.57 %.\n",
      "\n",
      "--------------------------------------------------------------------\n",
      "\n",
      "KNN w/PCA Model 7 - Predict UES Load 7 Days Ahead\n",
      "Target Variable Max Value: 168.42 MW\n",
      "Max Absolute Error: 74.58 MW\n",
      "Mean Target Variable Value: 77.03 MW\n",
      "Mean Absolute Error: 4.84 MW\n",
      "Accuracy: 93.82 %.\n",
      "\n",
      "KNN w/PCA Model 7 after GridSearchCV - Predict UES Load 7 Days Ahead\n",
      "Target Variable Max Value: 168.42 MW\n",
      "Max Absolute Error: 66.66 MW\n",
      "Mean Target Variable Value: 77.03 MW\n",
      "Mean Absolute Error: 3.39 MW\n",
      "Accuracy: 95.61 %.\n",
      "\n",
      "--------------------------------------------------------------------\n",
      "\n"
     ]
    }
   ],
   "source": [
    "### Print out performance metrics from the seven Random Forest Models\n",
    "\n",
    "print('KNN w/PCA Model 1 - Predict UES Load 1 Day Ahead')\n",
    "print('Target Variable Max Value:', round(test_target_max_1, 2), 'MW')\n",
    "print('Max Absolute Error:', round(max_absolute_error_1, 2), 'MW')\n",
    "print('Mean Target Variable Value:', round(test_target_mean_1, 2), 'MW')\n",
    "print('Mean Absolute Error:', round(mean_absolute_error_1, 2), 'MW')\n",
    "print('Accuracy:', round(accuracy_1, 2), '%.')\n",
    "print('')\n",
    "\n",
    "print('KNN w/PCA Model 1 after GridSearchCV - Predict UES Load 1 Day Ahead')\n",
    "print('Target Variable Max Value:', round(test_target_max_GS_1, 2), 'MW')\n",
    "print('Max Absolute Error:', round(max_absolute_error_GS_1, 2), 'MW')\n",
    "print('Mean Target Variable Value:', round(test_target_mean_GS_1, 2), 'MW')\n",
    "print('Mean Absolute Error:', round(mean_absolute_error_GS_1, 2), 'MW')\n",
    "print('Accuracy:', round(accuracy_GS_1, 2), '%.')\n",
    "print('')\n",
    "print('--------------------------------------------------------------------')\n",
    "print('')\n",
    "\n",
    "print('KNN w/PCA Model 2 - Predict UES Load 2 Days Ahead')\n",
    "print('Target Variable Max Value:', round(test_target_max_2, 2), 'MW')\n",
    "print('Max Absolute Error:', round(max_absolute_error_2, 2), 'MW')\n",
    "print('Mean Target Variable Value:', round(test_target_mean_2, 2), 'MW')\n",
    "print('Mean Absolute Error:', round(mean_absolute_error_2, 2), 'MW')\n",
    "print('Accuracy:', round(accuracy_2, 2), '%.')\n",
    "print('')\n",
    "\n",
    "print('KNN w/PCA Model 2 after GridSearchCV - Predict UES Load 2 Days Ahead')\n",
    "print('Target Variable Max Value:', round(test_target_max_GS_2, 2), 'MW')\n",
    "print('Max Absolute Error:', round(max_absolute_error_GS_2, 2), 'MW')\n",
    "print('Mean Target Variable Value:', round(test_target_mean_GS_2, 2), 'MW')\n",
    "print('Mean Absolute Error:', round(mean_absolute_error_GS_2, 2), 'MW')\n",
    "print('Accuracy:', round(accuracy_GS_2, 2), '%.')\n",
    "print('')\n",
    "print('--------------------------------------------------------------------')\n",
    "print('')\n",
    "\n",
    "print('KNN w/PCA Model 3 - Predict UES Load 3 Days Ahead')\n",
    "print('Target Variable Max Value:', round(test_target_max_3, 2), 'MW')\n",
    "print('Max Absolute Error:', round(max_absolute_error_3, 2), 'MW')\n",
    "print('Mean Target Variable Value:', round(test_target_mean_3, 2), 'MW')\n",
    "print('Mean Absolute Error:', round(mean_absolute_error_3, 2), 'MW')\n",
    "print('Accuracy:', round(accuracy_3, 2), '%.')\n",
    "print('')\n",
    "\n",
    "print('KNN w/PCA Model 3 after GridSearchCV - Predict UES Load 3 Days Ahead')\n",
    "print('Target Variable Max Value:', round(test_target_max_GS_3, 2), 'MW')\n",
    "print('Max Absolute Error:', round(max_absolute_error_GS_3, 2), 'MW')\n",
    "print('Mean Target Variable Value:', round(test_target_mean_GS_3, 2), 'MW')\n",
    "print('Mean Absolute Error:', round(mean_absolute_error_GS_3, 2), 'MW')\n",
    "print('Accuracy:', round(accuracy_GS_3, 2), '%.')\n",
    "print('')\n",
    "print('--------------------------------------------------------------------')\n",
    "print('')\n",
    "\n",
    "print('KNN w/PCA Model 4 - Predict UES Load 4 Days Ahead')\n",
    "print('Target Variable Max Value:', round(test_target_max_4, 2), 'MW')\n",
    "print('Max Absolute Error:', round(max_absolute_error_4, 2), 'MW')\n",
    "print('Mean Target Variable Value:', round(test_target_mean_4, 2), 'MW')\n",
    "print('Mean Absolute Error:', round(mean_absolute_error_4, 2), 'MW')\n",
    "print('Accuracy:', round(accuracy_4, 2), '%.')\n",
    "print('')\n",
    "\n",
    "print('KNN w/PCA Model 4 after GridSearchCV - Predict UES Load 4 Days Ahead')\n",
    "print('Target Variable Max Value:', round(test_target_max_GS_4, 2), 'MW')\n",
    "print('Max Absolute Error:', round(max_absolute_error_GS_4, 2), 'MW')\n",
    "print('Mean Target Variable Value:', round(test_target_mean_GS_4, 2), 'MW')\n",
    "print('Mean Absolute Error:', round(mean_absolute_error_GS_4, 2), 'MW')\n",
    "print('Accuracy:', round(accuracy_GS_4, 2), '%.')\n",
    "print('')\n",
    "print('--------------------------------------------------------------------')\n",
    "print('')\n",
    "\n",
    "print('KNN w/PCA Model 5 - Predict UES Load 5 Days Ahead')\n",
    "print('Target Variable Max Value:', round(test_target_max_5, 2), 'MW')\n",
    "print('Max Absolute Error:', round(max_absolute_error_5, 2), 'MW')\n",
    "print('Mean Target Variable Value:', round(test_target_mean_5, 2), 'MW')\n",
    "print('Mean Absolute Error:', round(mean_absolute_error_5, 2), 'MW')\n",
    "print('Accuracy:', round(accuracy_5, 2), '%.')\n",
    "print('')\n",
    "\n",
    "print('KNN w/PCA Model 5 after GridSearchCV - Predict UES Load 5 Days Ahead')\n",
    "print('Target Variable Max Value:', round(test_target_max_GS_5, 2), 'MW')\n",
    "print('Max Absolute Error:', round(max_absolute_error_GS_5, 2), 'MW')\n",
    "print('Mean Target Variable Value:', round(test_target_mean_GS_5, 2), 'MW')\n",
    "print('Mean Absolute Error:', round(mean_absolute_error_GS_5, 2), 'MW')\n",
    "print('Accuracy:', round(accuracy_GS_5, 2), '%.')\n",
    "print('')\n",
    "print('--------------------------------------------------------------------')\n",
    "print('')\n",
    "\n",
    "print('KNN w/PCA Model 6 - Predict UES Load 6 Days Ahead')\n",
    "print('Target Variable Max Value:', round(test_target_max_6, 2), 'MW')\n",
    "print('Max Absolute Error:', round(max_absolute_error_6, 2), 'MW')\n",
    "print('Mean Target Variable Value:', round(test_target_mean_6, 2), 'MW')\n",
    "print('Mean Absolute Error:', round(mean_absolute_error_6, 2), 'MW')\n",
    "print('Accuracy:', round(accuracy_6, 2), '%.')\n",
    "print('')\n",
    "\n",
    "print('KNN w/PCA Model 6 after GridSearchCV - Predict UES Load 6 Days Ahead')\n",
    "print('Target Variable Max Value:', round(test_target_max_GS_6, 2), 'MW')\n",
    "print('Max Absolute Error:', round(max_absolute_error_GS_6, 2), 'MW')\n",
    "print('Mean Target Variable Value:', round(test_target_mean_GS_6, 2), 'MW')\n",
    "print('Mean Absolute Error:', round(mean_absolute_error_GS_6, 2), 'MW')\n",
    "print('Accuracy:', round(accuracy_GS_6, 2), '%.')\n",
    "print('')\n",
    "print('--------------------------------------------------------------------')\n",
    "print('')\n",
    "\n",
    "print('KNN w/PCA Model 7 - Predict UES Load 7 Days Ahead')\n",
    "print('Target Variable Max Value:', round(test_target_max_7, 2), 'MW')\n",
    "print('Max Absolute Error:', round(max_absolute_error_7, 2), 'MW')\n",
    "print('Mean Target Variable Value:', round(test_target_mean_7, 2), 'MW')\n",
    "print('Mean Absolute Error:', round(mean_absolute_error_7, 2), 'MW')\n",
    "print('Accuracy:', round(accuracy_7, 2), '%.')\n",
    "print('')\n",
    "\n",
    "print('KNN w/PCA Model 7 after GridSearchCV - Predict UES Load 7 Days Ahead')\n",
    "print('Target Variable Max Value:', round(test_target_max_GS_7, 2), 'MW')\n",
    "print('Max Absolute Error:', round(max_absolute_error_GS_7, 2), 'MW')\n",
    "print('Mean Target Variable Value:', round(test_target_mean_GS_7, 2), 'MW')\n",
    "print('Mean Absolute Error:', round(mean_absolute_error_GS_7, 2), 'MW')\n",
    "print('Accuracy:', round(accuracy_GS_7, 2), '%.')\n",
    "print('')\n",
    "print('--------------------------------------------------------------------')\n",
    "print('')"
   ]
  },
  {
   "cell_type": "code",
   "execution_count": 136,
   "metadata": {},
   "outputs": [
    {
     "data": {
      "text/html": [
       "<div>\n",
       "<style scoped>\n",
       "    .dataframe tbody tr th:only-of-type {\n",
       "        vertical-align: middle;\n",
       "    }\n",
       "\n",
       "    .dataframe tbody tr th {\n",
       "        vertical-align: top;\n",
       "    }\n",
       "\n",
       "    .dataframe thead th {\n",
       "        text-align: right;\n",
       "    }\n",
       "</style>\n",
       "<table border=\"1\" class=\"dataframe\">\n",
       "  <thead>\n",
       "    <tr style=\"text-align: right;\">\n",
       "      <th></th>\n",
       "      <th>Model Number</th>\n",
       "      <th>Test Target Max</th>\n",
       "      <th>Max Absolute Error</th>\n",
       "      <th>Max Absolute Error w/GS</th>\n",
       "      <th>Test Target Mean</th>\n",
       "      <th>Mean Absolute Error</th>\n",
       "      <th>Mean Absolute Error w/GS</th>\n",
       "      <th>Accuracy</th>\n",
       "      <th>Accuracy w/GS</th>\n",
       "    </tr>\n",
       "  </thead>\n",
       "  <tbody>\n",
       "    <tr>\n",
       "      <th>0</th>\n",
       "      <td>1</td>\n",
       "      <td>166.649</td>\n",
       "      <td>47.3466</td>\n",
       "      <td>39.250073</td>\n",
       "      <td>77.047343</td>\n",
       "      <td>3.461851</td>\n",
       "      <td>2.542050</td>\n",
       "      <td>95.611770</td>\n",
       "      <td>96.735089</td>\n",
       "    </tr>\n",
       "    <tr>\n",
       "      <th>1</th>\n",
       "      <td>2</td>\n",
       "      <td>168.430</td>\n",
       "      <td>64.5622</td>\n",
       "      <td>66.783534</td>\n",
       "      <td>76.918785</td>\n",
       "      <td>4.322612</td>\n",
       "      <td>3.104818</td>\n",
       "      <td>94.480583</td>\n",
       "      <td>95.970021</td>\n",
       "    </tr>\n",
       "    <tr>\n",
       "      <th>2</th>\n",
       "      <td>3</td>\n",
       "      <td>168.420</td>\n",
       "      <td>57.3592</td>\n",
       "      <td>62.804764</td>\n",
       "      <td>77.070027</td>\n",
       "      <td>4.727254</td>\n",
       "      <td>3.349472</td>\n",
       "      <td>93.957752</td>\n",
       "      <td>95.655373</td>\n",
       "    </tr>\n",
       "    <tr>\n",
       "      <th>3</th>\n",
       "      <td>4</td>\n",
       "      <td>168.430</td>\n",
       "      <td>64.9180</td>\n",
       "      <td>56.063384</td>\n",
       "      <td>77.126991</td>\n",
       "      <td>4.842034</td>\n",
       "      <td>3.396261</td>\n",
       "      <td>93.788199</td>\n",
       "      <td>95.574712</td>\n",
       "    </tr>\n",
       "    <tr>\n",
       "      <th>4</th>\n",
       "      <td>5</td>\n",
       "      <td>166.733</td>\n",
       "      <td>59.0042</td>\n",
       "      <td>64.864749</td>\n",
       "      <td>77.079134</td>\n",
       "      <td>4.895655</td>\n",
       "      <td>3.405921</td>\n",
       "      <td>93.702712</td>\n",
       "      <td>95.549284</td>\n",
       "    </tr>\n",
       "    <tr>\n",
       "      <th>5</th>\n",
       "      <td>6</td>\n",
       "      <td>166.733</td>\n",
       "      <td>62.2408</td>\n",
       "      <td>59.277204</td>\n",
       "      <td>76.964268</td>\n",
       "      <td>4.872516</td>\n",
       "      <td>3.383218</td>\n",
       "      <td>93.699266</td>\n",
       "      <td>95.567376</td>\n",
       "    </tr>\n",
       "    <tr>\n",
       "      <th>6</th>\n",
       "      <td>7</td>\n",
       "      <td>168.420</td>\n",
       "      <td>74.5846</td>\n",
       "      <td>66.663609</td>\n",
       "      <td>77.033948</td>\n",
       "      <td>4.840339</td>\n",
       "      <td>3.385984</td>\n",
       "      <td>93.817873</td>\n",
       "      <td>95.609867</td>\n",
       "    </tr>\n",
       "  </tbody>\n",
       "</table>\n",
       "</div>"
      ],
      "text/plain": [
       "   Model Number  Test Target Max  Max Absolute Error  Max Absolute Error w/GS  \\\n",
       "0             1          166.649             47.3466                39.250073   \n",
       "1             2          168.430             64.5622                66.783534   \n",
       "2             3          168.420             57.3592                62.804764   \n",
       "3             4          168.430             64.9180                56.063384   \n",
       "4             5          166.733             59.0042                64.864749   \n",
       "5             6          166.733             62.2408                59.277204   \n",
       "6             7          168.420             74.5846                66.663609   \n",
       "\n",
       "   Test Target Mean  Mean Absolute Error  Mean Absolute Error w/GS   Accuracy  \\\n",
       "0         77.047343             3.461851                  2.542050  95.611770   \n",
       "1         76.918785             4.322612                  3.104818  94.480583   \n",
       "2         77.070027             4.727254                  3.349472  93.957752   \n",
       "3         77.126991             4.842034                  3.396261  93.788199   \n",
       "4         77.079134             4.895655                  3.405921  93.702712   \n",
       "5         76.964268             4.872516                  3.383218  93.699266   \n",
       "6         77.033948             4.840339                  3.385984  93.817873   \n",
       "\n",
       "   Accuracy w/GS  \n",
       "0      96.735089  \n",
       "1      95.970021  \n",
       "2      95.655373  \n",
       "3      95.574712  \n",
       "4      95.549284  \n",
       "5      95.567376  \n",
       "6      95.609867  "
      ]
     },
     "execution_count": 136,
     "metadata": {},
     "output_type": "execute_result"
    }
   ],
   "source": [
    "# Create a dataframe of performance metrics of 7 models\n",
    "model_number = [1,2,3,4,5,6,7]\n",
    "\n",
    "test_target_max_values = [test_target_max_1, test_target_max_2, test_target_max_3, test_target_max_4, \n",
    "                          test_target_max_6, test_target_max_6, test_target_max_7]\n",
    "\n",
    "max_absolute_error_values =[max_absolute_error_1, max_absolute_error_2, max_absolute_error_3, max_absolute_error_4, \n",
    "                            max_absolute_error_5, max_absolute_error_6, max_absolute_error_7]\n",
    "\n",
    "max_absolute_error_values_GS =[max_absolute_error_GS_1, max_absolute_error_GS_2, max_absolute_error_GS_3,\n",
    "                               max_absolute_error_GS_4, max_absolute_error_GS_5, max_absolute_error_GS_6,\n",
    "                               max_absolute_error_GS_7]\n",
    "\n",
    "test_target_mean_values = [test_target_mean_1, test_target_mean_2, test_target_mean_3, test_target_mean_4, \n",
    "                           test_target_mean_5, test_target_mean_6, test_target_mean_7]\n",
    "\n",
    "mean_absolute_error_values = [mean_absolute_error_1, mean_absolute_error_2, mean_absolute_error_3, \n",
    "                              mean_absolute_error_4, mean_absolute_error_5, mean_absolute_error_6, \n",
    "                              mean_absolute_error_7]\n",
    "\n",
    "mean_absolute_error_values_GS = [mean_absolute_error_GS_1, mean_absolute_error_GS_2, mean_absolute_error_GS_3, \n",
    "                                 mean_absolute_error_GS_4, mean_absolute_error_GS_5, mean_absolute_error_GS_6, \n",
    "                                 mean_absolute_error_GS_7]\n",
    "\n",
    "accuracy_values = [accuracy_1, accuracy_2, accuracy_3, accuracy_4, accuracy_5, accuracy_6, accuracy_7]\n",
    "\n",
    "accuracy_values_GS = [accuracy_GS_1, accuracy_GS_2, accuracy_GS_3, accuracy_GS_4,\n",
    "                      accuracy_GS_5, accuracy_GS_6, accuracy_GS_7]\n",
    "\n",
    "### Create pandas dataframe using metrics\n",
    "metrics_df = {'Model Number': model_number,\n",
    "              'Test Target Max': test_target_max_values, \n",
    "              'Max Absolute Error': max_absolute_error_values,\n",
    "              'Max Absolute Error w/GS': max_absolute_error_values_GS,\n",
    "              'Test Target Mean': test_target_mean_values,\n",
    "              'Mean Absolute Error': mean_absolute_error_values,\n",
    "              'Mean Absolute Error w/GS': mean_absolute_error_values_GS,\n",
    "              'Accuracy': accuracy_values,\n",
    "              'Accuracy w/GS': accuracy_values_GS}\n",
    "\n",
    "metrics_df = pd.DataFrame(metrics_df)\n",
    "metrics_df\n"
   ]
  },
  {
   "cell_type": "code",
   "execution_count": 137,
   "metadata": {},
   "outputs": [],
   "source": [
    "# Write out a .csv of the performance metrics\n",
    "metrics_df.to_csv('metrics_KNN with PCA.csv', index=False)"
   ]
  },
  {
   "cell_type": "code",
   "execution_count": null,
   "metadata": {},
   "outputs": [],
   "source": []
  }
 ],
 "metadata": {
  "kernelspec": {
   "display_name": "Python 3",
   "language": "python",
   "name": "python3"
  },
  "language_info": {
   "codemirror_mode": {
    "name": "ipython",
    "version": 3
   },
   "file_extension": ".py",
   "mimetype": "text/x-python",
   "name": "python",
   "nbconvert_exporter": "python",
   "pygments_lexer": "ipython3",
   "version": "3.7.0"
  }
 },
 "nbformat": 4,
 "nbformat_minor": 2
}
